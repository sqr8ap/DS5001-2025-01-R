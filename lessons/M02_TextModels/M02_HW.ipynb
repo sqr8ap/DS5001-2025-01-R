{
 "cells": [
  {
   "cell_type": "markdown",
   "id": "fc74ed31-cf01-473f-ab0c-c9c004cd54df",
   "metadata": {},
   "source": [
    "# M02 Homework\n",
    "\n",
    "- Name: Sam Remmey\n",
    "- Net ID: sqr8ap\n",
    "- URL of this file in GitHub:"
   ]
  },
  {
   "cell_type": "code",
   "execution_count": 3,
   "id": "daba1aef-641c-402a-b18c-5fba72a3b57b",
   "metadata": {},
   "outputs": [],
   "source": [
    "import numpy as np\n",
    "import pandas as pd\n",
    "import configparser\n",
    "config = configparser.ConfigParser()"
   ]
  },
  {
   "cell_type": "code",
   "execution_count": 4,
   "id": "25883987-6ebc-4326-ba94-bc9df33a7040",
   "metadata": {},
   "outputs": [],
   "source": [
    "config.read(\"../../../env.ini\")\n",
    "data_home = config['DEFAULT']['data_home']\n",
    "output_dir = config['DEFAULT']['output_dir']"
   ]
  },
  {
   "cell_type": "code",
   "execution_count": 5,
   "id": "ec5d2672-1654-42bd-9108-d096f503869c",
   "metadata": {},
   "outputs": [
    {
     "name": "stdout",
     "output_type": "stream",
     "text": [
      "total 4336\n",
      "-rw-r--r--@ 1 Samantha  staff  1752309 Jan 27 17:42 austen-persuasion.csv\n",
      "drwxr-xr-x@ 8 Samantha  staff      256 Jan 16 08:52 \u001b[34mgutenberg\u001b[m\u001b[m\n",
      "-rw-r--r--@ 1 Samantha  staff   465627 Jan 20 15:27 pg42324.txt\n"
     ]
    }
   ],
   "source": [
    "!ls -l {data_home}"
   ]
  },
  {
   "cell_type": "code",
   "execution_count": 6,
   "id": "b4cb563f-f085-4478-b722-b7291ab407a0",
   "metadata": {},
   "outputs": [],
   "source": [
    "text_file = f\"{data_home}/gutenberg/pg161.txt\"\n",
    "csv_file  = f\"{output_dir}/austen-sense.csv\" # The file we will create"
   ]
  },
  {
   "cell_type": "code",
   "execution_count": 7,
   "id": "28573871-a3e0-443a-b6fc-864714c4aef7",
   "metadata": {},
   "outputs": [],
   "source": [
    "OHCO = ['chap_num', 'para_num', 'sent_num', 'token_num']"
   ]
  },
  {
   "cell_type": "markdown",
   "id": "85f37ed2-bdd5-4b23-8202-88ddc8926eb5",
   "metadata": {},
   "source": [
    "### Import file into a dataframe"
   ]
  },
  {
   "cell_type": "code",
   "execution_count": 9,
   "id": "f602c2a2-da04-418b-b26d-8af62a02df9b",
   "metadata": {},
   "outputs": [],
   "source": [
    "LINES = pd.DataFrame(open(text_file, 'r', encoding='utf-8-sig').readlines(), columns=['line_str'])\n",
    "LINES.index.name = 'line_num'\n",
    "LINES.line_str = LINES.line_str.str.replace(r'\\n+', ' ', regex=True).str.strip()"
   ]
  },
  {
   "cell_type": "code",
   "execution_count": 10,
   "id": "bb334fba-92fe-4e08-b453-1d67bc815fe2",
   "metadata": {},
   "outputs": [
    {
     "data": {
      "text/html": [
       "<div>\n",
       "<style scoped>\n",
       "    .dataframe tbody tr th:only-of-type {\n",
       "        vertical-align: middle;\n",
       "    }\n",
       "\n",
       "    .dataframe tbody tr th {\n",
       "        vertical-align: top;\n",
       "    }\n",
       "\n",
       "    .dataframe thead th {\n",
       "        text-align: right;\n",
       "    }\n",
       "</style>\n",
       "<table border=\"1\" class=\"dataframe\">\n",
       "  <thead>\n",
       "    <tr style=\"text-align: right;\">\n",
       "      <th></th>\n",
       "      <th>line_str</th>\n",
       "    </tr>\n",
       "    <tr>\n",
       "      <th>line_num</th>\n",
       "      <th></th>\n",
       "    </tr>\n",
       "  </thead>\n",
       "  <tbody>\n",
       "    <tr>\n",
       "      <th>12429</th>\n",
       "      <td>revealed, and he was listened to with unexpect...</td>\n",
       "    </tr>\n",
       "    <tr>\n",
       "      <th>8780</th>\n",
       "      <td>suppose by my arguments, and Fanny's entreatie...</td>\n",
       "    </tr>\n",
       "    <tr>\n",
       "      <th>7371</th>\n",
       "      <td></td>\n",
       "    </tr>\n",
       "  </tbody>\n",
       "</table>\n",
       "</div>"
      ],
      "text/plain": [
       "                                                   line_str\n",
       "line_num                                                   \n",
       "12429     revealed, and he was listened to with unexpect...\n",
       "8780      suppose by my arguments, and Fanny's entreatie...\n",
       "7371                                                       "
      ]
     },
     "execution_count": 10,
     "metadata": {},
     "output_type": "execute_result"
    }
   ],
   "source": [
    "LINES.sample(3)"
   ]
  },
  {
   "cell_type": "markdown",
   "id": "f1e91036-3ed9-4eae-a6a4-df478708c993",
   "metadata": {},
   "source": [
    "### Extract title"
   ]
  },
  {
   "cell_type": "code",
   "execution_count": 12,
   "id": "26e469fe-7f21-4f79-be86-cacbdec561c0",
   "metadata": {},
   "outputs": [],
   "source": [
    "title = LINES.loc[0].line_str.replace('The Project Gutenberg EBook of ', '')"
   ]
  },
  {
   "cell_type": "code",
   "execution_count": 13,
   "id": "8ea62941-9261-4908-8369-e78f8e7b920c",
   "metadata": {},
   "outputs": [
    {
     "name": "stdout",
     "output_type": "stream",
     "text": [
      "Sense and Sensibility, by Jane Austen\n"
     ]
    }
   ],
   "source": [
    "print(title)"
   ]
  },
  {
   "cell_type": "markdown",
   "id": "ee2b6468-7656-4aec-af40-0e3c8def8838",
   "metadata": {},
   "source": [
    "### Get rid of front and back matter"
   ]
  },
  {
   "cell_type": "code",
   "execution_count": 15,
   "id": "f2fc0cfc-e9bf-41f8-9397-f936c39a44b2",
   "metadata": {},
   "outputs": [],
   "source": [
    "clip_pats = [\n",
    "    r\"\\*\\*\\*\\s*START OF (?:THE|THIS) PROJECT\",\n",
    "    r\"\\*\\*\\*\\s*END OF (?:THE|THIS) PROJECT\"\n",
    "]"
   ]
  },
  {
   "cell_type": "code",
   "execution_count": 16,
   "id": "a1c056f1-fabb-48da-ae55-80b7d67f3b6e",
   "metadata": {},
   "outputs": [],
   "source": [
    "pat_a = LINES.line_str.str.match(clip_pats[0])\n",
    "pat_b = LINES.line_str.str.match(clip_pats[1])"
   ]
  },
  {
   "cell_type": "code",
   "execution_count": 17,
   "id": "9376c0f2-2307-49d5-b556-b4c41a628d8a",
   "metadata": {},
   "outputs": [],
   "source": [
    "line_a = LINES.loc[pat_a].index[0] + 1\n",
    "line_b = LINES.loc[pat_b].index[0] - 1"
   ]
  },
  {
   "cell_type": "code",
   "execution_count": 18,
   "id": "1d7fee62-26cf-4ca0-ace6-efc8d81d4531",
   "metadata": {},
   "outputs": [
    {
     "data": {
      "text/plain": [
       "(20, 12666)"
      ]
     },
     "execution_count": 18,
     "metadata": {},
     "output_type": "execute_result"
    }
   ],
   "source": [
    "line_a, line_b"
   ]
  },
  {
   "cell_type": "code",
   "execution_count": 19,
   "id": "d52bfcfa-e2fe-493e-a0d8-d70eec16b554",
   "metadata": {},
   "outputs": [],
   "source": [
    "LINES = LINES.loc[line_a : line_b]"
   ]
  },
  {
   "cell_type": "code",
   "execution_count": 20,
   "id": "2a611a90-1130-4457-b800-ded402b1eca2",
   "metadata": {},
   "outputs": [
    {
     "data": {
      "text/html": [
       "<div>\n",
       "<style scoped>\n",
       "    .dataframe tbody tr th:only-of-type {\n",
       "        vertical-align: middle;\n",
       "    }\n",
       "\n",
       "    .dataframe tbody tr th {\n",
       "        vertical-align: top;\n",
       "    }\n",
       "\n",
       "    .dataframe thead th {\n",
       "        text-align: right;\n",
       "    }\n",
       "</style>\n",
       "<table border=\"1\" class=\"dataframe\">\n",
       "  <thead>\n",
       "    <tr style=\"text-align: right;\">\n",
       "      <th></th>\n",
       "      <th>line_str</th>\n",
       "    </tr>\n",
       "    <tr>\n",
       "      <th>line_num</th>\n",
       "      <th></th>\n",
       "    </tr>\n",
       "  </thead>\n",
       "  <tbody>\n",
       "    <tr>\n",
       "      <th>20</th>\n",
       "      <td></td>\n",
       "    </tr>\n",
       "    <tr>\n",
       "      <th>21</th>\n",
       "      <td></td>\n",
       "    </tr>\n",
       "    <tr>\n",
       "      <th>22</th>\n",
       "      <td></td>\n",
       "    </tr>\n",
       "    <tr>\n",
       "      <th>23</th>\n",
       "      <td></td>\n",
       "    </tr>\n",
       "    <tr>\n",
       "      <th>24</th>\n",
       "      <td></td>\n",
       "    </tr>\n",
       "  </tbody>\n",
       "</table>\n",
       "</div>"
      ],
      "text/plain": [
       "         line_str\n",
       "line_num         \n",
       "20               \n",
       "21               \n",
       "22               \n",
       "23               \n",
       "24               "
      ]
     },
     "execution_count": 20,
     "metadata": {},
     "output_type": "execute_result"
    }
   ],
   "source": [
    "LINES.head(5)"
   ]
  },
  {
   "cell_type": "code",
   "execution_count": 21,
   "id": "85bc7c31-fab5-4a29-bba2-38680dde5569",
   "metadata": {},
   "outputs": [
    {
     "data": {
      "text/html": [
       "<div>\n",
       "<style scoped>\n",
       "    .dataframe tbody tr th:only-of-type {\n",
       "        vertical-align: middle;\n",
       "    }\n",
       "\n",
       "    .dataframe tbody tr th {\n",
       "        vertical-align: top;\n",
       "    }\n",
       "\n",
       "    .dataframe thead th {\n",
       "        text-align: right;\n",
       "    }\n",
       "</style>\n",
       "<table border=\"1\" class=\"dataframe\">\n",
       "  <thead>\n",
       "    <tr style=\"text-align: right;\">\n",
       "      <th></th>\n",
       "      <th>line_str</th>\n",
       "    </tr>\n",
       "    <tr>\n",
       "      <th>line_num</th>\n",
       "      <th></th>\n",
       "    </tr>\n",
       "  </thead>\n",
       "  <tbody>\n",
       "    <tr>\n",
       "      <th>12662</th>\n",
       "      <td></td>\n",
       "    </tr>\n",
       "    <tr>\n",
       "      <th>12663</th>\n",
       "      <td></td>\n",
       "    </tr>\n",
       "    <tr>\n",
       "      <th>12664</th>\n",
       "      <td></td>\n",
       "    </tr>\n",
       "    <tr>\n",
       "      <th>12665</th>\n",
       "      <td>End of the Project Gutenberg EBook of Sense an...</td>\n",
       "    </tr>\n",
       "    <tr>\n",
       "      <th>12666</th>\n",
       "      <td></td>\n",
       "    </tr>\n",
       "  </tbody>\n",
       "</table>\n",
       "</div>"
      ],
      "text/plain": [
       "                                                   line_str\n",
       "line_num                                                   \n",
       "12662                                                      \n",
       "12663                                                      \n",
       "12664                                                      \n",
       "12665     End of the Project Gutenberg EBook of Sense an...\n",
       "12666                                                      "
      ]
     },
     "execution_count": 21,
     "metadata": {},
     "output_type": "execute_result"
    }
   ],
   "source": [
    "LINES.tail(5)"
   ]
  },
  {
   "cell_type": "markdown",
   "id": "6330d383-ceb4-4cf0-b9b1-f3c09a13cdfb",
   "metadata": {},
   "source": [
    "### Chunk by chapter"
   ]
  },
  {
   "cell_type": "code",
   "execution_count": 23,
   "id": "2c3d2007-80de-4385-8582-e90fbbe6eca3",
   "metadata": {},
   "outputs": [],
   "source": [
    "chap_pat = r\"^\\s*(?:chapter|letter)\\s+\\d+\""
   ]
  },
  {
   "cell_type": "code",
   "execution_count": 24,
   "id": "88433d70-4b8b-4a5b-b310-a906a7a72ea9",
   "metadata": {},
   "outputs": [],
   "source": [
    "chap_lines = LINES.line_str.str.match(chap_pat, case=False)"
   ]
  },
  {
   "cell_type": "code",
   "execution_count": 25,
   "id": "7dbaf1dd-2827-4807-aaba-838d9f70f770",
   "metadata": {},
   "outputs": [
    {
     "data": {
      "text/html": [
       "<div>\n",
       "<style scoped>\n",
       "    .dataframe tbody tr th:only-of-type {\n",
       "        vertical-align: middle;\n",
       "    }\n",
       "\n",
       "    .dataframe tbody tr th {\n",
       "        vertical-align: top;\n",
       "    }\n",
       "\n",
       "    .dataframe thead th {\n",
       "        text-align: right;\n",
       "    }\n",
       "</style>\n",
       "<table border=\"1\" class=\"dataframe\">\n",
       "  <thead>\n",
       "    <tr style=\"text-align: right;\">\n",
       "      <th></th>\n",
       "      <th>line_str</th>\n",
       "    </tr>\n",
       "    <tr>\n",
       "      <th>line_num</th>\n",
       "      <th></th>\n",
       "    </tr>\n",
       "  </thead>\n",
       "  <tbody>\n",
       "    <tr>\n",
       "      <th>42</th>\n",
       "      <td>CHAPTER 1</td>\n",
       "    </tr>\n",
       "    <tr>\n",
       "      <th>196</th>\n",
       "      <td>CHAPTER 2</td>\n",
       "    </tr>\n",
       "    <tr>\n",
       "      <th>399</th>\n",
       "      <td>CHAPTER 3</td>\n",
       "    </tr>\n",
       "    <tr>\n",
       "      <th>561</th>\n",
       "      <td>CHAPTER 4</td>\n",
       "    </tr>\n",
       "    <tr>\n",
       "      <th>756</th>\n",
       "      <td>CHAPTER 5</td>\n",
       "    </tr>\n",
       "  </tbody>\n",
       "</table>\n",
       "</div>"
      ],
      "text/plain": [
       "           line_str\n",
       "line_num           \n",
       "42        CHAPTER 1\n",
       "196       CHAPTER 2\n",
       "399       CHAPTER 3\n",
       "561       CHAPTER 4\n",
       "756       CHAPTER 5"
      ]
     },
     "execution_count": 25,
     "metadata": {},
     "output_type": "execute_result"
    }
   ],
   "source": [
    "LINES.loc[chap_lines].head()"
   ]
  },
  {
   "cell_type": "code",
   "execution_count": 26,
   "id": "2ab42842-3cba-42c1-9f3f-e9e5e5917de9",
   "metadata": {},
   "outputs": [],
   "source": [
    "LINES.loc[chap_lines, 'chap_num'] = [i+1 for i in range(LINES.loc[chap_lines].shape[0])]"
   ]
  },
  {
   "cell_type": "code",
   "execution_count": 27,
   "id": "ecdf166b-f6ef-4a3c-b39e-a02ed915c3cc",
   "metadata": {},
   "outputs": [
    {
     "data": {
      "text/html": [
       "<div>\n",
       "<style scoped>\n",
       "    .dataframe tbody tr th:only-of-type {\n",
       "        vertical-align: middle;\n",
       "    }\n",
       "\n",
       "    .dataframe tbody tr th {\n",
       "        vertical-align: top;\n",
       "    }\n",
       "\n",
       "    .dataframe thead th {\n",
       "        text-align: right;\n",
       "    }\n",
       "</style>\n",
       "<table border=\"1\" class=\"dataframe\">\n",
       "  <thead>\n",
       "    <tr style=\"text-align: right;\">\n",
       "      <th></th>\n",
       "      <th>line_str</th>\n",
       "      <th>chap_num</th>\n",
       "    </tr>\n",
       "    <tr>\n",
       "      <th>line_num</th>\n",
       "      <th></th>\n",
       "      <th></th>\n",
       "    </tr>\n",
       "  </thead>\n",
       "  <tbody>\n",
       "    <tr>\n",
       "      <th>42</th>\n",
       "      <td>CHAPTER 1</td>\n",
       "      <td>1.0</td>\n",
       "    </tr>\n",
       "    <tr>\n",
       "      <th>196</th>\n",
       "      <td>CHAPTER 2</td>\n",
       "      <td>2.0</td>\n",
       "    </tr>\n",
       "    <tr>\n",
       "      <th>399</th>\n",
       "      <td>CHAPTER 3</td>\n",
       "      <td>3.0</td>\n",
       "    </tr>\n",
       "    <tr>\n",
       "      <th>561</th>\n",
       "      <td>CHAPTER 4</td>\n",
       "      <td>4.0</td>\n",
       "    </tr>\n",
       "    <tr>\n",
       "      <th>756</th>\n",
       "      <td>CHAPTER 5</td>\n",
       "      <td>5.0</td>\n",
       "    </tr>\n",
       "  </tbody>\n",
       "</table>\n",
       "</div>"
      ],
      "text/plain": [
       "           line_str  chap_num\n",
       "line_num                     \n",
       "42        CHAPTER 1       1.0\n",
       "196       CHAPTER 2       2.0\n",
       "399       CHAPTER 3       3.0\n",
       "561       CHAPTER 4       4.0\n",
       "756       CHAPTER 5       5.0"
      ]
     },
     "execution_count": 27,
     "metadata": {},
     "output_type": "execute_result"
    }
   ],
   "source": [
    "LINES.loc[chap_lines].head()"
   ]
  },
  {
   "cell_type": "code",
   "execution_count": 28,
   "id": "ce7ea11c-0f0e-45e8-816f-deb3441aae8e",
   "metadata": {},
   "outputs": [],
   "source": [
    "LINES.chap_num = LINES.chap_num.ffill()"
   ]
  },
  {
   "cell_type": "code",
   "execution_count": 29,
   "id": "f89af3f2-039e-48dc-aac1-c71ebb6c8542",
   "metadata": {},
   "outputs": [
    {
     "data": {
      "text/html": [
       "<div>\n",
       "<style scoped>\n",
       "    .dataframe tbody tr th:only-of-type {\n",
       "        vertical-align: middle;\n",
       "    }\n",
       "\n",
       "    .dataframe tbody tr th {\n",
       "        vertical-align: top;\n",
       "    }\n",
       "\n",
       "    .dataframe thead th {\n",
       "        text-align: right;\n",
       "    }\n",
       "</style>\n",
       "<table border=\"1\" class=\"dataframe\">\n",
       "  <thead>\n",
       "    <tr style=\"text-align: right;\">\n",
       "      <th></th>\n",
       "      <th>line_str</th>\n",
       "      <th>chap_num</th>\n",
       "    </tr>\n",
       "    <tr>\n",
       "      <th>line_num</th>\n",
       "      <th></th>\n",
       "      <th></th>\n",
       "    </tr>\n",
       "  </thead>\n",
       "  <tbody>\n",
       "    <tr>\n",
       "      <th>9678</th>\n",
       "      <td>the moment, without any material loss of happi...</td>\n",
       "      <td>40.0</td>\n",
       "    </tr>\n",
       "    <tr>\n",
       "      <th>3698</th>\n",
       "      <td>place that is so pretty I suppose.\"</td>\n",
       "      <td>20.0</td>\n",
       "    </tr>\n",
       "    <tr>\n",
       "      <th>3135</th>\n",
       "      <td>Edward started--\"Reserved! Am I reserved, Mari...</td>\n",
       "      <td>17.0</td>\n",
       "    </tr>\n",
       "    <tr>\n",
       "      <th>6167</th>\n",
       "      <td>I have been told that you were asked to be of the</td>\n",
       "      <td>29.0</td>\n",
       "    </tr>\n",
       "    <tr>\n",
       "      <th>6688</th>\n",
       "      <td>passionate violence--a reproach, however, so e...</td>\n",
       "      <td>31.0</td>\n",
       "    </tr>\n",
       "  </tbody>\n",
       "</table>\n",
       "</div>"
      ],
      "text/plain": [
       "                                                   line_str  chap_num\n",
       "line_num                                                             \n",
       "9678      the moment, without any material loss of happi...      40.0\n",
       "3698                    place that is so pretty I suppose.\"      20.0\n",
       "3135      Edward started--\"Reserved! Am I reserved, Mari...      17.0\n",
       "6167      I have been told that you were asked to be of the      29.0\n",
       "6688      passionate violence--a reproach, however, so e...      31.0"
      ]
     },
     "execution_count": 29,
     "metadata": {},
     "output_type": "execute_result"
    }
   ],
   "source": [
    "LINES.sample(5)"
   ]
  },
  {
   "cell_type": "code",
   "execution_count": 30,
   "id": "d0b3835f-792b-45c4-842a-a35c04cf7313",
   "metadata": {},
   "outputs": [
    {
     "data": {
      "text/html": [
       "<div>\n",
       "<style scoped>\n",
       "    .dataframe tbody tr th:only-of-type {\n",
       "        vertical-align: middle;\n",
       "    }\n",
       "\n",
       "    .dataframe tbody tr th {\n",
       "        vertical-align: top;\n",
       "    }\n",
       "\n",
       "    .dataframe thead th {\n",
       "        text-align: right;\n",
       "    }\n",
       "</style>\n",
       "<table border=\"1\" class=\"dataframe\">\n",
       "  <thead>\n",
       "    <tr style=\"text-align: right;\">\n",
       "      <th></th>\n",
       "      <th>line_str</th>\n",
       "      <th>chap_num</th>\n",
       "    </tr>\n",
       "    <tr>\n",
       "      <th>line_num</th>\n",
       "      <th></th>\n",
       "      <th></th>\n",
       "    </tr>\n",
       "  </thead>\n",
       "  <tbody>\n",
       "    <tr>\n",
       "      <th>20</th>\n",
       "      <td></td>\n",
       "      <td>NaN</td>\n",
       "    </tr>\n",
       "    <tr>\n",
       "      <th>21</th>\n",
       "      <td></td>\n",
       "      <td>NaN</td>\n",
       "    </tr>\n",
       "    <tr>\n",
       "      <th>22</th>\n",
       "      <td></td>\n",
       "      <td>NaN</td>\n",
       "    </tr>\n",
       "  </tbody>\n",
       "</table>\n",
       "</div>"
      ],
      "text/plain": [
       "         line_str  chap_num\n",
       "line_num                   \n",
       "20                      NaN\n",
       "21                      NaN\n",
       "22                      NaN"
      ]
     },
     "execution_count": 30,
     "metadata": {},
     "output_type": "execute_result"
    }
   ],
   "source": [
    "LINES.head(3)"
   ]
  },
  {
   "cell_type": "code",
   "execution_count": 31,
   "id": "223645cd-8a1a-4544-93b5-a2ed00ed7436",
   "metadata": {},
   "outputs": [],
   "source": [
    "LINES = LINES.dropna(subset=['chap_num']) # Remove everything before Chapter 1\n",
    "LINES = LINES.loc[~chap_lines] # Remove chapter heading lines; their work is done\n",
    "LINES.chap_num = LINES.chap_num.astype('int') # Convert chap_num from float to int"
   ]
  },
  {
   "cell_type": "code",
   "execution_count": 32,
   "id": "d03e1860-41cc-4dc3-9e6a-5ca0a906f491",
   "metadata": {},
   "outputs": [
    {
     "data": {
      "text/html": [
       "<div>\n",
       "<style scoped>\n",
       "    .dataframe tbody tr th:only-of-type {\n",
       "        vertical-align: middle;\n",
       "    }\n",
       "\n",
       "    .dataframe tbody tr th {\n",
       "        vertical-align: top;\n",
       "    }\n",
       "\n",
       "    .dataframe thead th {\n",
       "        text-align: right;\n",
       "    }\n",
       "</style>\n",
       "<table border=\"1\" class=\"dataframe\">\n",
       "  <thead>\n",
       "    <tr style=\"text-align: right;\">\n",
       "      <th></th>\n",
       "      <th>line_str</th>\n",
       "      <th>chap_num</th>\n",
       "    </tr>\n",
       "    <tr>\n",
       "      <th>line_num</th>\n",
       "      <th></th>\n",
       "      <th></th>\n",
       "    </tr>\n",
       "  </thead>\n",
       "  <tbody>\n",
       "    <tr>\n",
       "      <th>4216</th>\n",
       "      <td></td>\n",
       "      <td>22</td>\n",
       "    </tr>\n",
       "    <tr>\n",
       "      <th>11829</th>\n",
       "      <td>persuasion she had been unjust, inattentive, n...</td>\n",
       "      <td>47</td>\n",
       "    </tr>\n",
       "    <tr>\n",
       "      <th>5962</th>\n",
       "      <td>thing, I can tell you, for it has been known a...</td>\n",
       "      <td>29</td>\n",
       "    </tr>\n",
       "  </tbody>\n",
       "</table>\n",
       "</div>"
      ],
      "text/plain": [
       "                                                   line_str  chap_num\n",
       "line_num                                                             \n",
       "4216                                                               22\n",
       "11829     persuasion she had been unjust, inattentive, n...        47\n",
       "5962      thing, I can tell you, for it has been known a...        29"
      ]
     },
     "execution_count": 32,
     "metadata": {},
     "output_type": "execute_result"
    }
   ],
   "source": [
    "LINES.sample(3)"
   ]
  },
  {
   "cell_type": "code",
   "execution_count": 33,
   "id": "4babefce-99e5-4eb2-9c1b-6028d7d1ecfd",
   "metadata": {},
   "outputs": [
    {
     "data": {
      "text/plain": [
       "['chap_num']"
      ]
     },
     "execution_count": 33,
     "metadata": {},
     "output_type": "execute_result"
    }
   ],
   "source": [
    "OHCO[:1]"
   ]
  },
  {
   "cell_type": "code",
   "execution_count": 34,
   "id": "77276208-8121-4553-b712-7f019ef64814",
   "metadata": {},
   "outputs": [],
   "source": [
    "# Make big string for each chapter\n",
    "CHAPS = LINES.groupby(OHCO[:1])\\\n",
    "    .line_str.apply(lambda x: '\\n'.join(x))\\\n",
    "    .to_frame('chap_str')"
   ]
  },
  {
   "cell_type": "code",
   "execution_count": 35,
   "id": "c7879fb2-988c-4a10-b5d9-2bcb25ecf5c4",
   "metadata": {},
   "outputs": [
    {
     "data": {
      "text/html": [
       "<div>\n",
       "<style scoped>\n",
       "    .dataframe tbody tr th:only-of-type {\n",
       "        vertical-align: middle;\n",
       "    }\n",
       "\n",
       "    .dataframe tbody tr th {\n",
       "        vertical-align: top;\n",
       "    }\n",
       "\n",
       "    .dataframe thead th {\n",
       "        text-align: right;\n",
       "    }\n",
       "</style>\n",
       "<table border=\"1\" class=\"dataframe\">\n",
       "  <thead>\n",
       "    <tr style=\"text-align: right;\">\n",
       "      <th></th>\n",
       "      <th>chap_str</th>\n",
       "    </tr>\n",
       "    <tr>\n",
       "      <th>chap_num</th>\n",
       "      <th></th>\n",
       "    </tr>\n",
       "  </thead>\n",
       "  <tbody>\n",
       "    <tr>\n",
       "      <th>1</th>\n",
       "      <td>\\n\\nThe family of Dashwood had long been settl...</td>\n",
       "    </tr>\n",
       "    <tr>\n",
       "      <th>2</th>\n",
       "      <td>\\n\\nMrs. John Dashwood now installed herself m...</td>\n",
       "    </tr>\n",
       "    <tr>\n",
       "      <th>3</th>\n",
       "      <td>\\n\\nMrs. Dashwood remained at Norland several ...</td>\n",
       "    </tr>\n",
       "  </tbody>\n",
       "</table>\n",
       "</div>"
      ],
      "text/plain": [
       "                                                   chap_str\n",
       "chap_num                                                   \n",
       "1         \\n\\nThe family of Dashwood had long been settl...\n",
       "2         \\n\\nMrs. John Dashwood now installed herself m...\n",
       "3         \\n\\nMrs. Dashwood remained at Norland several ..."
      ]
     },
     "execution_count": 35,
     "metadata": {},
     "output_type": "execute_result"
    }
   ],
   "source": [
    "CHAPS.head(3)"
   ]
  },
  {
   "cell_type": "code",
   "execution_count": 36,
   "id": "e1b9382e-ac34-4e63-8656-64ed80d4f865",
   "metadata": {},
   "outputs": [],
   "source": [
    "CHAPS['chap_str'] = CHAPS.chap_str.str.strip()"
   ]
  },
  {
   "cell_type": "markdown",
   "id": "2c9b20a5-2347-4e98-a44e-623de5bb3c5f",
   "metadata": {},
   "source": [
    "### Split chapters into paragraphs"
   ]
  },
  {
   "cell_type": "code",
   "execution_count": 38,
   "id": "30119c92-1630-4698-bec7-53d2a625a91c",
   "metadata": {},
   "outputs": [],
   "source": [
    "para_pat = r'\\n\\n+'"
   ]
  },
  {
   "cell_type": "code",
   "execution_count": 39,
   "id": "8bc44508-d2e9-49ce-8778-4b1ae336d440",
   "metadata": {},
   "outputs": [],
   "source": [
    "PARAS = CHAPS['chap_str'].str.split(para_pat, expand=True).stack()\\\n",
    "    .to_frame('para_str').sort_index()\n",
    "PARAS.index.names = OHCO[:2]"
   ]
  },
  {
   "cell_type": "code",
   "execution_count": 40,
   "id": "14a3bf95-a34e-47f1-a4ed-b2684e4b15a3",
   "metadata": {},
   "outputs": [
    {
     "data": {
      "text/html": [
       "<div>\n",
       "<style scoped>\n",
       "    .dataframe tbody tr th:only-of-type {\n",
       "        vertical-align: middle;\n",
       "    }\n",
       "\n",
       "    .dataframe tbody tr th {\n",
       "        vertical-align: top;\n",
       "    }\n",
       "\n",
       "    .dataframe thead th {\n",
       "        text-align: right;\n",
       "    }\n",
       "</style>\n",
       "<table border=\"1\" class=\"dataframe\">\n",
       "  <thead>\n",
       "    <tr style=\"text-align: right;\">\n",
       "      <th></th>\n",
       "      <th></th>\n",
       "      <th>para_str</th>\n",
       "    </tr>\n",
       "    <tr>\n",
       "      <th>chap_num</th>\n",
       "      <th>para_num</th>\n",
       "      <th></th>\n",
       "    </tr>\n",
       "  </thead>\n",
       "  <tbody>\n",
       "    <tr>\n",
       "      <th rowspan=\"3\" valign=\"top\">1</th>\n",
       "      <th>0</th>\n",
       "      <td>The family of Dashwood had long been settled i...</td>\n",
       "    </tr>\n",
       "    <tr>\n",
       "      <th>1</th>\n",
       "      <td>By a former marriage, Mr. Henry Dashwood had o...</td>\n",
       "    </tr>\n",
       "    <tr>\n",
       "      <th>2</th>\n",
       "      <td>The old gentleman died: his will was read, and...</td>\n",
       "    </tr>\n",
       "  </tbody>\n",
       "</table>\n",
       "</div>"
      ],
      "text/plain": [
       "                                                            para_str\n",
       "chap_num para_num                                                   \n",
       "1        0         The family of Dashwood had long been settled i...\n",
       "         1         By a former marriage, Mr. Henry Dashwood had o...\n",
       "         2         The old gentleman died: his will was read, and..."
      ]
     },
     "execution_count": 40,
     "metadata": {},
     "output_type": "execute_result"
    }
   ],
   "source": [
    "PARAS['para_str'] = PARAS['para_str'].str.replace(r'\\n', ' ', regex=True)\n",
    "PARAS['para_str'] = PARAS['para_str'].str.strip()\n",
    "PARAS = PARAS[~PARAS['para_str'].str.match(r'^\\s*$')] # Remove empty paragraphs\n",
    "\n",
    "PARAS.head(3)"
   ]
  },
  {
   "cell_type": "markdown",
   "id": "79b18f12-4d5a-4ecb-a2f3-506faf29d69b",
   "metadata": {},
   "source": [
    "### Split paragraphs into sentences"
   ]
  },
  {
   "cell_type": "code",
   "execution_count": 42,
   "id": "2356097b-a76a-46b3-b3a3-2ecc9516cba7",
   "metadata": {},
   "outputs": [],
   "source": [
    "sent_pat = r'[.?!;:]+'\n",
    "SENTS = PARAS['para_str'].str.split(sent_pat, expand=True).stack()\\\n",
    "    .to_frame('sent_str')\n",
    "SENTS.index.names = OHCO[:3]"
   ]
  },
  {
   "cell_type": "code",
   "execution_count": 43,
   "id": "3648086f-f954-43a3-9c9a-5691c9558b20",
   "metadata": {},
   "outputs": [],
   "source": [
    "SENTS = SENTS[~SENTS['sent_str'].str.match(r'^\\s*$')] # Remove empty paragraphs\n",
    "SENTS.sent_str = SENTS.sent_str.str.strip() # CRUCIAL TO REMOVE BLANK TOKENS"
   ]
  },
  {
   "cell_type": "code",
   "execution_count": 44,
   "id": "83bd0de1-14b5-4b92-94ce-79f802c44b7f",
   "metadata": {},
   "outputs": [
    {
     "data": {
      "text/html": [
       "<div>\n",
       "<style scoped>\n",
       "    .dataframe tbody tr th:only-of-type {\n",
       "        vertical-align: middle;\n",
       "    }\n",
       "\n",
       "    .dataframe tbody tr th {\n",
       "        vertical-align: top;\n",
       "    }\n",
       "\n",
       "    .dataframe thead th {\n",
       "        text-align: right;\n",
       "    }\n",
       "</style>\n",
       "<table border=\"1\" class=\"dataframe\">\n",
       "  <thead>\n",
       "    <tr style=\"text-align: right;\">\n",
       "      <th></th>\n",
       "      <th></th>\n",
       "      <th></th>\n",
       "      <th>sent_str</th>\n",
       "    </tr>\n",
       "    <tr>\n",
       "      <th>chap_num</th>\n",
       "      <th>para_num</th>\n",
       "      <th>sent_num</th>\n",
       "      <th></th>\n",
       "    </tr>\n",
       "  </thead>\n",
       "  <tbody>\n",
       "    <tr>\n",
       "      <th>21</th>\n",
       "      <th>24</th>\n",
       "      <th>2</th>\n",
       "      <td>\"</td>\n",
       "    </tr>\n",
       "    <tr>\n",
       "      <th>30</th>\n",
       "      <th>29</th>\n",
       "      <th>6</th>\n",
       "      <td>\"</td>\n",
       "    </tr>\n",
       "    <tr>\n",
       "      <th>28</th>\n",
       "      <th>2</th>\n",
       "      <th>1</th>\n",
       "      <td>She soon caught his eye, and he immediately bo...</td>\n",
       "    </tr>\n",
       "  </tbody>\n",
       "</table>\n",
       "</div>"
      ],
      "text/plain": [
       "                                                                     sent_str\n",
       "chap_num para_num sent_num                                                   \n",
       "21       24       2                                                         \"\n",
       "30       29       6                                                         \"\n",
       "28       2        1         She soon caught his eye, and he immediately bo..."
      ]
     },
     "execution_count": 44,
     "metadata": {},
     "output_type": "execute_result"
    }
   ],
   "source": [
    "SENTS.sample(3)"
   ]
  },
  {
   "cell_type": "markdown",
   "id": "3cf53b2a-0999-4218-a15c-9657c8b64fe2",
   "metadata": {},
   "source": [
    "### Split sentences into tokens"
   ]
  },
  {
   "cell_type": "code",
   "execution_count": 46,
   "id": "c60ef223-1dc5-4f4e-a53e-3a799f626fab",
   "metadata": {},
   "outputs": [],
   "source": [
    "token_pat = r\"[\\s',-]+\"\n",
    "TOKENS = SENTS['sent_str'].str.split(token_pat, expand=True).stack()\\\n",
    "    .to_frame('token_str')"
   ]
  },
  {
   "cell_type": "code",
   "execution_count": 47,
   "id": "6931e0ea-791f-426e-bf6c-6a83f591f1db",
   "metadata": {},
   "outputs": [],
   "source": [
    "TOKENS.index.names = OHCO[:4]"
   ]
  },
  {
   "cell_type": "code",
   "execution_count": 48,
   "id": "d591f9b2-eba5-4f30-9eba-e0fe97ada86e",
   "metadata": {},
   "outputs": [
    {
     "data": {
      "text/html": [
       "<div>\n",
       "<style scoped>\n",
       "    .dataframe tbody tr th:only-of-type {\n",
       "        vertical-align: middle;\n",
       "    }\n",
       "\n",
       "    .dataframe tbody tr th {\n",
       "        vertical-align: top;\n",
       "    }\n",
       "\n",
       "    .dataframe thead th {\n",
       "        text-align: right;\n",
       "    }\n",
       "</style>\n",
       "<table border=\"1\" class=\"dataframe\">\n",
       "  <thead>\n",
       "    <tr style=\"text-align: right;\">\n",
       "      <th></th>\n",
       "      <th></th>\n",
       "      <th></th>\n",
       "      <th></th>\n",
       "      <th>token_str</th>\n",
       "    </tr>\n",
       "    <tr>\n",
       "      <th>chap_num</th>\n",
       "      <th>para_num</th>\n",
       "      <th>sent_num</th>\n",
       "      <th>token_num</th>\n",
       "      <th></th>\n",
       "    </tr>\n",
       "  </thead>\n",
       "  <tbody>\n",
       "    <tr>\n",
       "      <th>3</th>\n",
       "      <th>5</th>\n",
       "      <th>10</th>\n",
       "      <th>3</th>\n",
       "      <td>mean</td>\n",
       "    </tr>\n",
       "    <tr>\n",
       "      <th>23</th>\n",
       "      <th>6</th>\n",
       "      <th>8</th>\n",
       "      <th>27</th>\n",
       "      <td>and</td>\n",
       "    </tr>\n",
       "    <tr>\n",
       "      <th>16</th>\n",
       "      <th>22</th>\n",
       "      <th>0</th>\n",
       "      <th>7</th>\n",
       "      <td>great</td>\n",
       "    </tr>\n",
       "  </tbody>\n",
       "</table>\n",
       "</div>"
      ],
      "text/plain": [
       "                                     token_str\n",
       "chap_num para_num sent_num token_num          \n",
       "3        5        10       3              mean\n",
       "23       6        8        27              and\n",
       "16       22       0        7             great"
      ]
     },
     "execution_count": 48,
     "metadata": {},
     "output_type": "execute_result"
    }
   ],
   "source": [
    "TOKENS.sample(3)"
   ]
  },
  {
   "cell_type": "markdown",
   "id": "cb43a12d-b87a-4dcd-9dbd-8be1e3cbd0a0",
   "metadata": {},
   "source": [
    "### Import persuasion file"
   ]
  },
  {
   "cell_type": "code",
   "execution_count": 50,
   "id": "f28a2237-432d-4376-9cc0-589f9c01d9c8",
   "metadata": {},
   "outputs": [],
   "source": [
    "pers = f\"{data_home}/austen-persuasion.csv\"\n",
    "persuasion_tokens = pd.read_csv(pers)"
   ]
  },
  {
   "cell_type": "code",
   "execution_count": 51,
   "id": "20ab8146-072e-4432-a6c5-e091dcca506d",
   "metadata": {},
   "outputs": [
    {
     "data": {
      "text/html": [
       "<div>\n",
       "<style scoped>\n",
       "    .dataframe tbody tr th:only-of-type {\n",
       "        vertical-align: middle;\n",
       "    }\n",
       "\n",
       "    .dataframe tbody tr th {\n",
       "        vertical-align: top;\n",
       "    }\n",
       "\n",
       "    .dataframe thead th {\n",
       "        text-align: right;\n",
       "    }\n",
       "</style>\n",
       "<table border=\"1\" class=\"dataframe\">\n",
       "  <thead>\n",
       "    <tr style=\"text-align: right;\">\n",
       "      <th></th>\n",
       "      <th>chap_num</th>\n",
       "      <th>para_num</th>\n",
       "      <th>sent_num</th>\n",
       "      <th>token_num</th>\n",
       "      <th>token_str</th>\n",
       "      <th>term_str</th>\n",
       "      <th>book_num</th>\n",
       "    </tr>\n",
       "  </thead>\n",
       "  <tbody>\n",
       "    <tr>\n",
       "      <th>0</th>\n",
       "      <td>1</td>\n",
       "      <td>0</td>\n",
       "      <td>0</td>\n",
       "      <td>0</td>\n",
       "      <td>Sir</td>\n",
       "      <td>sir</td>\n",
       "      <td>1</td>\n",
       "    </tr>\n",
       "    <tr>\n",
       "      <th>1</th>\n",
       "      <td>1</td>\n",
       "      <td>0</td>\n",
       "      <td>0</td>\n",
       "      <td>1</td>\n",
       "      <td>Walter</td>\n",
       "      <td>walter</td>\n",
       "      <td>1</td>\n",
       "    </tr>\n",
       "    <tr>\n",
       "      <th>2</th>\n",
       "      <td>1</td>\n",
       "      <td>0</td>\n",
       "      <td>0</td>\n",
       "      <td>2</td>\n",
       "      <td>Elliot</td>\n",
       "      <td>elliot</td>\n",
       "      <td>1</td>\n",
       "    </tr>\n",
       "  </tbody>\n",
       "</table>\n",
       "</div>"
      ],
      "text/plain": [
       "   chap_num  para_num  sent_num  token_num token_str term_str  book_num\n",
       "0         1         0         0          0       Sir      sir         1\n",
       "1         1         0         0          1    Walter   walter         1\n",
       "2         1         0         0          2    Elliot   elliot         1"
      ]
     },
     "execution_count": 51,
     "metadata": {},
     "output_type": "execute_result"
    }
   ],
   "source": [
    "persuasion_tokens['book_num'] = 1\n",
    "persuasion_tokens.head(3)"
   ]
  },
  {
   "cell_type": "code",
   "execution_count": 52,
   "id": "8e5d096d-03ce-417f-b629-c714c5637fa4",
   "metadata": {},
   "outputs": [
    {
     "data": {
      "text/html": [
       "<div>\n",
       "<style scoped>\n",
       "    .dataframe tbody tr th:only-of-type {\n",
       "        vertical-align: middle;\n",
       "    }\n",
       "\n",
       "    .dataframe tbody tr th {\n",
       "        vertical-align: top;\n",
       "    }\n",
       "\n",
       "    .dataframe thead th {\n",
       "        text-align: right;\n",
       "    }\n",
       "</style>\n",
       "<table border=\"1\" class=\"dataframe\">\n",
       "  <thead>\n",
       "    <tr style=\"text-align: right;\">\n",
       "      <th></th>\n",
       "      <th></th>\n",
       "      <th></th>\n",
       "      <th></th>\n",
       "      <th></th>\n",
       "      <th>token_str</th>\n",
       "      <th>term_str</th>\n",
       "    </tr>\n",
       "    <tr>\n",
       "      <th>book_num</th>\n",
       "      <th>chap_num</th>\n",
       "      <th>para_num</th>\n",
       "      <th>sent_num</th>\n",
       "      <th>token_num</th>\n",
       "      <th></th>\n",
       "      <th></th>\n",
       "    </tr>\n",
       "  </thead>\n",
       "  <tbody>\n",
       "    <tr>\n",
       "      <th rowspan=\"3\" valign=\"top\">1</th>\n",
       "      <th rowspan=\"3\" valign=\"top\">1</th>\n",
       "      <th rowspan=\"3\" valign=\"top\">0</th>\n",
       "      <th rowspan=\"3\" valign=\"top\">0</th>\n",
       "      <th>0</th>\n",
       "      <td>Sir</td>\n",
       "      <td>sir</td>\n",
       "    </tr>\n",
       "    <tr>\n",
       "      <th>1</th>\n",
       "      <td>Walter</td>\n",
       "      <td>walter</td>\n",
       "    </tr>\n",
       "    <tr>\n",
       "      <th>2</th>\n",
       "      <td>Elliot</td>\n",
       "      <td>elliot</td>\n",
       "    </tr>\n",
       "  </tbody>\n",
       "</table>\n",
       "</div>"
      ],
      "text/plain": [
       "                                              token_str term_str\n",
       "book_num chap_num para_num sent_num token_num                   \n",
       "1        1        0        0        0               Sir      sir\n",
       "                                    1            Walter   walter\n",
       "                                    2            Elliot   elliot"
      ]
     },
     "execution_count": 52,
     "metadata": {},
     "output_type": "execute_result"
    }
   ],
   "source": [
    "persuasion_tokens = persuasion_tokens.set_index(['book_num','chap_num','para_num','sent_num','token_num'])\n",
    "persuasion_tokens.head(3)"
   ]
  },
  {
   "cell_type": "markdown",
   "id": "24c7f84b-3982-4a84-8351-5f10d4d8d6ee",
   "metadata": {},
   "source": [
    "### Combine into one dataframe of tokens"
   ]
  },
  {
   "cell_type": "code",
   "execution_count": 102,
   "id": "38ccae79-617a-4af4-925d-526cd9ecf068",
   "metadata": {},
   "outputs": [],
   "source": [
    "TOKENS['book_num'] = 2"
   ]
  },
  {
   "cell_type": "code",
   "execution_count": 104,
   "id": "d8888713-236e-48bd-a098-69fb08e0e2b3",
   "metadata": {},
   "outputs": [],
   "source": [
    "TOKENS = TOKENS.set_index(\"book_num\", append=True)"
   ]
  },
  {
   "cell_type": "code",
   "execution_count": 108,
   "id": "c4ec2c8e-65b1-4b66-a5f4-1a8a72c0f73c",
   "metadata": {},
   "outputs": [],
   "source": [
    "TOKENS = TOKENS.reorder_levels([\"book_num\", \"chap_num\", \"para_num\", \"sent_num\", \"token_num\"])"
   ]
  },
  {
   "cell_type": "code",
   "execution_count": 112,
   "id": "844e4a0f-9df9-4e75-b4d6-444dee191f3e",
   "metadata": {},
   "outputs": [
    {
     "data": {
      "text/html": [
       "<div>\n",
       "<style scoped>\n",
       "    .dataframe tbody tr th:only-of-type {\n",
       "        vertical-align: middle;\n",
       "    }\n",
       "\n",
       "    .dataframe tbody tr th {\n",
       "        vertical-align: top;\n",
       "    }\n",
       "\n",
       "    .dataframe thead th {\n",
       "        text-align: right;\n",
       "    }\n",
       "</style>\n",
       "<table border=\"1\" class=\"dataframe\">\n",
       "  <thead>\n",
       "    <tr style=\"text-align: right;\">\n",
       "      <th></th>\n",
       "      <th></th>\n",
       "      <th></th>\n",
       "      <th></th>\n",
       "      <th></th>\n",
       "      <th>token_str</th>\n",
       "    </tr>\n",
       "    <tr>\n",
       "      <th>book_num</th>\n",
       "      <th>chap_num</th>\n",
       "      <th>para_num</th>\n",
       "      <th>sent_num</th>\n",
       "      <th>token_num</th>\n",
       "      <th></th>\n",
       "    </tr>\n",
       "  </thead>\n",
       "  <tbody>\n",
       "    <tr>\n",
       "      <th rowspan=\"3\" valign=\"top\">2</th>\n",
       "      <th rowspan=\"3\" valign=\"top\">1</th>\n",
       "      <th rowspan=\"3\" valign=\"top\">0</th>\n",
       "      <th rowspan=\"3\" valign=\"top\">0</th>\n",
       "      <th>0</th>\n",
       "      <td>The</td>\n",
       "    </tr>\n",
       "    <tr>\n",
       "      <th>1</th>\n",
       "      <td>family</td>\n",
       "    </tr>\n",
       "    <tr>\n",
       "      <th>2</th>\n",
       "      <td>of</td>\n",
       "    </tr>\n",
       "  </tbody>\n",
       "</table>\n",
       "</div>"
      ],
      "text/plain": [
       "                                              token_str\n",
       "book_num chap_num para_num sent_num token_num          \n",
       "2        1        0        0        0               The\n",
       "                                    1            family\n",
       "                                    2                of"
      ]
     },
     "execution_count": 112,
     "metadata": {},
     "output_type": "execute_result"
    }
   ],
   "source": [
    "TOKENS.head(3)"
   ]
  },
  {
   "cell_type": "code",
   "execution_count": 148,
   "id": "86aace59-7cd7-4ca2-a05f-89fc230648d0",
   "metadata": {},
   "outputs": [
    {
     "data": {
      "text/html": [
       "<div>\n",
       "<style scoped>\n",
       "    .dataframe tbody tr th:only-of-type {\n",
       "        vertical-align: middle;\n",
       "    }\n",
       "\n",
       "    .dataframe tbody tr th {\n",
       "        vertical-align: top;\n",
       "    }\n",
       "\n",
       "    .dataframe thead th {\n",
       "        text-align: right;\n",
       "    }\n",
       "</style>\n",
       "<table border=\"1\" class=\"dataframe\">\n",
       "  <thead>\n",
       "    <tr style=\"text-align: right;\">\n",
       "      <th></th>\n",
       "      <th></th>\n",
       "      <th></th>\n",
       "      <th></th>\n",
       "      <th></th>\n",
       "      <th>token_str</th>\n",
       "      <th>term_str</th>\n",
       "    </tr>\n",
       "    <tr>\n",
       "      <th>book_num</th>\n",
       "      <th>chap_num</th>\n",
       "      <th>para_num</th>\n",
       "      <th>sent_num</th>\n",
       "      <th>token_num</th>\n",
       "      <th></th>\n",
       "      <th></th>\n",
       "    </tr>\n",
       "  </thead>\n",
       "  <tbody>\n",
       "    <tr>\n",
       "      <th>2</th>\n",
       "      <th>47</th>\n",
       "      <th>0</th>\n",
       "      <th>2</th>\n",
       "      <th>10</th>\n",
       "      <td>his</td>\n",
       "      <td>NaN</td>\n",
       "    </tr>\n",
       "    <tr>\n",
       "      <th rowspan=\"2\" valign=\"top\">1</th>\n",
       "      <th rowspan=\"2\" valign=\"top\">5</th>\n",
       "      <th>15</th>\n",
       "      <th>2</th>\n",
       "      <th>6</th>\n",
       "      <td>have</td>\n",
       "      <td>have</td>\n",
       "    </tr>\n",
       "    <tr>\n",
       "      <th>19</th>\n",
       "      <th>0</th>\n",
       "      <th>25</th>\n",
       "      <td>appearance</td>\n",
       "      <td>appearance</td>\n",
       "    </tr>\n",
       "    <tr>\n",
       "      <th rowspan=\"2\" valign=\"top\">2</th>\n",
       "      <th>22</th>\n",
       "      <th>10</th>\n",
       "      <th>0</th>\n",
       "      <th>0</th>\n",
       "      <td>\"I</td>\n",
       "      <td>NaN</td>\n",
       "    </tr>\n",
       "    <tr>\n",
       "      <th>31</th>\n",
       "      <th>1</th>\n",
       "      <th>4</th>\n",
       "      <th>18</th>\n",
       "      <td>seclude</td>\n",
       "      <td>NaN</td>\n",
       "    </tr>\n",
       "    <tr>\n",
       "      <th>1</th>\n",
       "      <th>12</th>\n",
       "      <th>28</th>\n",
       "      <th>9</th>\n",
       "      <th>6</th>\n",
       "      <td>rest</td>\n",
       "      <td>rest</td>\n",
       "    </tr>\n",
       "    <tr>\n",
       "      <th rowspan=\"3\" valign=\"top\">2</th>\n",
       "      <th>39</th>\n",
       "      <th>0</th>\n",
       "      <th>4</th>\n",
       "      <th>47</th>\n",
       "      <td>longer</td>\n",
       "      <td>NaN</td>\n",
       "    </tr>\n",
       "    <tr>\n",
       "      <th>24</th>\n",
       "      <th>36</th>\n",
       "      <th>0</th>\n",
       "      <th>1</th>\n",
       "      <td>not</td>\n",
       "      <td>NaN</td>\n",
       "    </tr>\n",
       "    <tr>\n",
       "      <th>6</th>\n",
       "      <th>0</th>\n",
       "      <th>2</th>\n",
       "      <th>0</th>\n",
       "      <td>It</td>\n",
       "      <td>NaN</td>\n",
       "    </tr>\n",
       "    <tr>\n",
       "      <th>1</th>\n",
       "      <th>21</th>\n",
       "      <th>57</th>\n",
       "      <th>0</th>\n",
       "      <th>3</th>\n",
       "      <td>replied</td>\n",
       "      <td>replied</td>\n",
       "    </tr>\n",
       "  </tbody>\n",
       "</table>\n",
       "</div>"
      ],
      "text/plain": [
       "                                                token_str    term_str\n",
       "book_num chap_num para_num sent_num token_num                        \n",
       "2        47       0        2        10                his         NaN\n",
       "1        5        15       2        6                have        have\n",
       "                  19       0        25         appearance  appearance\n",
       "2        22       10       0        0                  \"I         NaN\n",
       "         31       1        4        18            seclude         NaN\n",
       "1        12       28       9        6                rest        rest\n",
       "2        39       0        4        47             longer         NaN\n",
       "         24       36       0        1                 not         NaN\n",
       "         6        0        2        0                  It         NaN\n",
       "1        21       57       0        3             replied     replied"
      ]
     },
     "execution_count": 148,
     "metadata": {},
     "output_type": "execute_result"
    }
   ],
   "source": [
    "combined = pd.concat([persuasion_tokens, TOKENS])\n",
    "combined.sample(10)"
   ]
  },
  {
   "cell_type": "code",
   "execution_count": 150,
   "id": "9b697aad-512b-4f69-8770-81c2c93c4278",
   "metadata": {},
   "outputs": [],
   "source": [
    "# Going to reset the term_str column before extracting a vocabulary\n",
    "\n",
    "combined = combined.drop(columns=['term_str'])"
   ]
  },
  {
   "cell_type": "code",
   "execution_count": 152,
   "id": "d20698c6-2df2-43a2-938c-44fce707a8a6",
   "metadata": {},
   "outputs": [],
   "source": [
    "combined['term_str'] = combined.token_str.replace(r'[\\W_]+', '', regex=True).str.lower()\n",
    "VOCAB = combined.term_str.value_counts().to_frame('n').reset_index().rename(columns={'index':'term_str'})\n",
    "VOCAB.index.name = 'term_id'"
   ]
  },
  {
   "cell_type": "code",
   "execution_count": 154,
   "id": "62b70f66-d62a-4c1a-a7e9-7b160cee040f",
   "metadata": {},
   "outputs": [],
   "source": [
    "VOCAB['length'] = VOCAB['term_str'].str.len()\n",
    "VOCAB = VOCAB.set_index('term_str')"
   ]
  },
  {
   "cell_type": "code",
   "execution_count": 159,
   "id": "7ca5155e-71c2-45a4-bbf7-097c7dc6885a",
   "metadata": {},
   "outputs": [
    {
     "data": {
      "text/html": [
       "<div>\n",
       "<style scoped>\n",
       "    .dataframe tbody tr th:only-of-type {\n",
       "        vertical-align: middle;\n",
       "    }\n",
       "\n",
       "    .dataframe tbody tr th {\n",
       "        vertical-align: top;\n",
       "    }\n",
       "\n",
       "    .dataframe thead th {\n",
       "        text-align: right;\n",
       "    }\n",
       "</style>\n",
       "<table border=\"1\" class=\"dataframe\">\n",
       "  <thead>\n",
       "    <tr style=\"text-align: right;\">\n",
       "      <th></th>\n",
       "      <th>n</th>\n",
       "      <th>length</th>\n",
       "    </tr>\n",
       "    <tr>\n",
       "      <th>term_str</th>\n",
       "      <th></th>\n",
       "      <th></th>\n",
       "    </tr>\n",
       "  </thead>\n",
       "  <tbody>\n",
       "    <tr>\n",
       "      <th>protege</th>\n",
       "      <td>2</td>\n",
       "      <td>7</td>\n",
       "    </tr>\n",
       "    <tr>\n",
       "      <th>highest</th>\n",
       "      <td>13</td>\n",
       "      <td>7</td>\n",
       "    </tr>\n",
       "    <tr>\n",
       "      <th>lasted</th>\n",
       "      <td>8</td>\n",
       "      <td>6</td>\n",
       "    </tr>\n",
       "  </tbody>\n",
       "</table>\n",
       "</div>"
      ],
      "text/plain": [
       "           n  length\n",
       "term_str            \n",
       "protege    2       7\n",
       "highest   13       7\n",
       "lasted     8       6"
      ]
     },
     "execution_count": 159,
     "metadata": {},
     "output_type": "execute_result"
    }
   ],
   "source": [
    "VOCAB.sample(3)"
   ]
  },
  {
   "cell_type": "markdown",
   "id": "0b1ece7c-8c02-48e3-adc2-1ba487b6c927",
   "metadata": {},
   "source": [
    "## QUESTIONS"
   ]
  },
  {
   "cell_type": "markdown",
   "id": "3c9c33d3-2129-41a8-9d5a-66ca6b33c28f",
   "metadata": {},
   "source": [
    "#### 1. How many raw tokens are in the combined data frame?"
   ]
  },
  {
   "cell_type": "code",
   "execution_count": 166,
   "id": "f58f50d8-307f-4cdb-b37a-2bb15380a4b8",
   "metadata": {},
   "outputs": [
    {
     "data": {
      "text/plain": [
       "207896"
      ]
     },
     "execution_count": 166,
     "metadata": {},
     "output_type": "execute_result"
    }
   ],
   "source": [
    "len(combined)"
   ]
  },
  {
   "cell_type": "markdown",
   "id": "432d9b00-4feb-494a-b7df-496939de3052",
   "metadata": {},
   "source": [
    "There are 207,896 raw tokens in the combined dataframe. "
   ]
  },
  {
   "cell_type": "markdown",
   "id": "d2f46573-a891-4228-812a-7102b16d10d6",
   "metadata": {},
   "source": [
    "#### 2. How many distinct terms are there in the combined data frame (i.e. how big is the vocabulary)?"
   ]
  },
  {
   "cell_type": "code",
   "execution_count": 172,
   "id": "c446d584-8557-4527-99c3-d57c47c2463b",
   "metadata": {},
   "outputs": [
    {
     "data": {
      "text/plain": [
       "8239"
      ]
     },
     "execution_count": 172,
     "metadata": {},
     "output_type": "execute_result"
    }
   ],
   "source": [
    "len(VOCAB)"
   ]
  },
  {
   "cell_type": "markdown",
   "id": "4344186f-b0f3-428e-a4b0-2c0419b6fc2f",
   "metadata": {},
   "source": [
    "There are 8,239 distinct terms in the combined dataframe. "
   ]
  },
  {
   "cell_type": "markdown",
   "id": "f098fd62-239e-4362-bf83-97092f608fbe",
   "metadata": {},
   "source": [
    "#### 3. How many more terms does the vocabulary of Sense and Sensibility have than that of Persuasion?"
   ]
  },
  {
   "cell_type": "code",
   "execution_count": 186,
   "id": "1b001899-6bf8-4f5f-bc02-ff39c109c3aa",
   "metadata": {},
   "outputs": [
    {
     "data": {
      "text/plain": [
       "book_num\n",
       "1    5760\n",
       "2    6280\n",
       "Name: term_str, dtype: int64"
      ]
     },
     "execution_count": 186,
     "metadata": {},
     "output_type": "execute_result"
    }
   ],
   "source": [
    "combined.groupby('book_num')['term_str'].nunique()"
   ]
  },
  {
   "cell_type": "code",
   "execution_count": 191,
   "id": "17085c57-cb9f-4dcc-a18b-6449787731a7",
   "metadata": {},
   "outputs": [
    {
     "data": {
      "text/plain": [
       "520"
      ]
     },
     "execution_count": 191,
     "metadata": {},
     "output_type": "execute_result"
    }
   ],
   "source": [
    "6280 - 5760"
   ]
  },
  {
   "cell_type": "markdown",
   "id": "5d30e909-3009-466d-a9e3-9c3933568d65",
   "metadata": {},
   "source": [
    "The vocabulary of Sense and Sensibility has 520 more terms than that of Persuasion. "
   ]
  },
  {
   "cell_type": "markdown",
   "id": "f780c824-e68d-41f9-8588-3b4116d702a5",
   "metadata": {},
   "source": [
    "#### 4. What is the average number of tokens, rounded to an integer, per chapter in the corpus?"
   ]
  },
  {
   "cell_type": "code",
   "execution_count": 198,
   "id": "7c28637e-2127-4647-a02b-126751b3c0ab",
   "metadata": {},
   "outputs": [
    {
     "data": {
      "text/plain": [
       "2809.4054054054054"
      ]
     },
     "execution_count": 198,
     "metadata": {},
     "output_type": "execute_result"
    }
   ],
   "source": [
    "combined.groupby(['book_num','chap_num']).size().mean()"
   ]
  },
  {
   "cell_type": "markdown",
   "id": "a83ffcb3-f441-4971-8018-d24e24b9f3a8",
   "metadata": {},
   "source": [
    "The average number of tokens per chapter in the corpus is approximately 2,809."
   ]
  },
  {
   "cell_type": "markdown",
   "id": "656f457a-a012-452f-9e84-edc564036887",
   "metadata": {},
   "source": [
    "#### 5. What is the average number of tokens, rounded to an integer, per paragraph in the corpus?"
   ]
  },
  {
   "cell_type": "code",
   "execution_count": 201,
   "id": "4662b8cf-7940-4038-b1d3-ada81dbce1c9",
   "metadata": {},
   "outputs": [
    {
     "data": {
      "text/plain": [
       "73.74813763746009"
      ]
     },
     "execution_count": 201,
     "metadata": {},
     "output_type": "execute_result"
    }
   ],
   "source": [
    "combined.groupby(['book_num','chap_num','para_num']).size().mean()"
   ]
  },
  {
   "cell_type": "markdown",
   "id": "b290d3a4-1884-4beb-bd40-2fe4f057111f",
   "metadata": {},
   "source": [
    "The average number of tokens per chapter in the corpus is approximately 74. "
   ]
  }
 ],
 "metadata": {
  "kernelspec": {
   "display_name": "Python 3 (ipykernel)",
   "language": "python",
   "name": "python3"
  },
  "language_info": {
   "codemirror_mode": {
    "name": "ipython",
    "version": 3
   },
   "file_extension": ".py",
   "mimetype": "text/x-python",
   "name": "python",
   "nbconvert_exporter": "python",
   "pygments_lexer": "ipython3",
   "version": "3.11.7"
  }
 },
 "nbformat": 4,
 "nbformat_minor": 5
}
