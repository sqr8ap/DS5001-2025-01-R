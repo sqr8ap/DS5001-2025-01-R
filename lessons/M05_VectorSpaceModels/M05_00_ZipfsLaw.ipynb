{
 "cells": [
  {
   "cell_type": "markdown",
   "id": "d7028e6a-bf48-426c-81e9-5210d0b0224f",
   "metadata": {},
   "source": [
    "# Zipf's Law\n",
    "\n",
    "DS 5001 Text as Data"
   ]
  },
  {
   "cell_type": "markdown",
   "id": "c12a9f5d-b677-47a6-8816-fc0b42b5d9a5",
   "metadata": {},
   "source": [
    "# Set Up"
   ]
  },
  {
   "cell_type": "markdown",
   "id": "0074b0ac-1a96-49cc-8938-5f5eaebd3066",
   "metadata": {},
   "source": [
    "## Import"
   ]
  },
  {
   "cell_type": "code",
   "execution_count": 17,
   "id": "3b5e567d-728f-4e2a-966d-61c37b20df2b",
   "metadata": {
    "tags": []
   },
   "outputs": [],
   "source": [
    "import pandas as pd\n",
    "import numpy as np\n",
    "# import seaborn as sns\n",
    "import plotly_express as px\n",
    "import matplotlib.pyplot as plt"
   ]
  },
  {
   "cell_type": "code",
   "execution_count": 2,
   "id": "04b48aa9-dd32-4758-abe7-eaf9ece85568",
   "metadata": {
    "tags": []
   },
   "outputs": [],
   "source": [
    "# sns.set()"
   ]
  },
  {
   "cell_type": "markdown",
   "id": "4f82f813-1a2f-4cee-88cf-451a9387ea6f",
   "metadata": {},
   "source": [
    "## Config\n",
    "\n",
    "Change this to match the location of your data files."
   ]
  },
  {
   "cell_type": "code",
   "execution_count": 2,
   "id": "1e49aa32-c4a6-4150-a52d-63611486b477",
   "metadata": {
    "tags": []
   },
   "outputs": [],
   "source": [
    "import configparser\n",
    "config = configparser.ConfigParser()\n",
    "config.read(\"../../../env.ini\")\n",
    "data_home = config['DEFAULT']['data_home'] \n",
    "output_dir = config['DEFAULT']['output_dir']\n",
    "data_prefix = 'austen-melville'"
   ]
  },
  {
   "cell_type": "code",
   "execution_count": 10,
   "id": "ba81d565-9cf1-4b66-b364-53a66c286a39",
   "metadata": {},
   "outputs": [
    {
     "name": "stdout",
     "output_type": "stream",
     "text": [
      "ls: /Users/Samantha/Desktop/MSDS/DS5001/output/austen-melville-*.csv: No such file or directory\n"
     ]
    }
   ],
   "source": [
    "!ls {output_dir}/{data_prefix}-*.csv"
   ]
  },
  {
   "cell_type": "code",
   "execution_count": 5,
   "id": "7499ec67-9cac-47b9-ac4f-e6d666f12651",
   "metadata": {
    "tags": []
   },
   "outputs": [],
   "source": [
    "OHCO = ['book_id', 'chap_id', 'para_num', 'sent_num', 'token_num']"
   ]
  },
  {
   "cell_type": "code",
   "execution_count": 6,
   "id": "d73dbb3e-ed01-4c4b-8a73-6e3a957abcf4",
   "metadata": {
    "tags": []
   },
   "outputs": [],
   "source": [
    "SENTS = OHCO[:4]\n",
    "PARAS = OHCO[:3]\n",
    "CHAPS = OHCO[:2]\n",
    "BOOKS = OHCO[:1]"
   ]
  },
  {
   "cell_type": "code",
   "execution_count": 42,
   "id": "3604d384-9b10-4586-b47e-c5d2944b7907",
   "metadata": {
    "tags": []
   },
   "outputs": [],
   "source": [
    "LIB = pd.read_csv(f\"{output_dir}/{data_prefix}-LIB.csv\").set_index(BOOKS)\n",
    "TOKEN = pd.read_csv(f'{output_dir}/{data_prefix}-CORPUS.csv').set_index(OHCO).dropna()\n",
    "VOCAB = pd.read_csv(f'{output_dir}/{data_prefix}-VOCAB.csv').set_index('term_str').dropna()\n",
    "POS_GROUP = pd.read_csv(f'{output_dir}/{data_prefix}-POS_GROUP.csv').set_index('pos_group')"
   ]
  },
  {
   "cell_type": "code",
   "execution_count": 43,
   "id": "afc53cdd-f70c-4de5-9715-ea23342cd028",
   "metadata": {},
   "outputs": [
    {
     "data": {
      "text/html": [
       "<div>\n",
       "<style scoped>\n",
       "    .dataframe tbody tr th:only-of-type {\n",
       "        vertical-align: middle;\n",
       "    }\n",
       "\n",
       "    .dataframe tbody tr th {\n",
       "        vertical-align: top;\n",
       "    }\n",
       "\n",
       "    .dataframe thead th {\n",
       "        text-align: right;\n",
       "    }\n",
       "</style>\n",
       "<table border=\"1\" class=\"dataframe\">\n",
       "  <thead>\n",
       "    <tr style=\"text-align: right;\">\n",
       "      <th></th>\n",
       "      <th></th>\n",
       "      <th></th>\n",
       "      <th></th>\n",
       "      <th></th>\n",
       "      <th>pos_tuple</th>\n",
       "      <th>pos</th>\n",
       "      <th>token_str</th>\n",
       "      <th>term_str</th>\n",
       "      <th>pos_group</th>\n",
       "    </tr>\n",
       "    <tr>\n",
       "      <th>book_id</th>\n",
       "      <th>chap_id</th>\n",
       "      <th>para_num</th>\n",
       "      <th>sent_num</th>\n",
       "      <th>token_num</th>\n",
       "      <th></th>\n",
       "      <th></th>\n",
       "      <th></th>\n",
       "      <th></th>\n",
       "      <th></th>\n",
       "    </tr>\n",
       "  </thead>\n",
       "  <tbody>\n",
       "    <tr>\n",
       "      <th rowspan=\"5\" valign=\"top\">105</th>\n",
       "      <th rowspan=\"5\" valign=\"top\">1</th>\n",
       "      <th rowspan=\"5\" valign=\"top\">1</th>\n",
       "      <th rowspan=\"5\" valign=\"top\">0</th>\n",
       "      <th>0</th>\n",
       "      <td>('Sir', 'NNP')</td>\n",
       "      <td>NNP</td>\n",
       "      <td>Sir</td>\n",
       "      <td>sir</td>\n",
       "      <td>NN</td>\n",
       "    </tr>\n",
       "    <tr>\n",
       "      <th>1</th>\n",
       "      <td>('Walter', 'NNP')</td>\n",
       "      <td>NNP</td>\n",
       "      <td>Walter</td>\n",
       "      <td>walter</td>\n",
       "      <td>NN</td>\n",
       "    </tr>\n",
       "    <tr>\n",
       "      <th>2</th>\n",
       "      <td>('Elliot,', 'NNP')</td>\n",
       "      <td>NNP</td>\n",
       "      <td>Elliot,</td>\n",
       "      <td>elliot</td>\n",
       "      <td>NN</td>\n",
       "    </tr>\n",
       "    <tr>\n",
       "      <th>3</th>\n",
       "      <td>('of', 'IN')</td>\n",
       "      <td>IN</td>\n",
       "      <td>of</td>\n",
       "      <td>of</td>\n",
       "      <td>IN</td>\n",
       "    </tr>\n",
       "    <tr>\n",
       "      <th>4</th>\n",
       "      <td>('Kellynch', 'NNP')</td>\n",
       "      <td>NNP</td>\n",
       "      <td>Kellynch</td>\n",
       "      <td>kellynch</td>\n",
       "      <td>NN</td>\n",
       "    </tr>\n",
       "    <tr>\n",
       "      <th>...</th>\n",
       "      <th>...</th>\n",
       "      <th>...</th>\n",
       "      <th>...</th>\n",
       "      <th>...</th>\n",
       "      <td>...</td>\n",
       "      <td>...</td>\n",
       "      <td>...</td>\n",
       "      <td>...</td>\n",
       "      <td>...</td>\n",
       "    </tr>\n",
       "    <tr>\n",
       "      <th rowspan=\"5\" valign=\"top\">34970</th>\n",
       "      <th rowspan=\"5\" valign=\"top\">114</th>\n",
       "      <th rowspan=\"5\" valign=\"top\">24</th>\n",
       "      <th rowspan=\"5\" valign=\"top\">0</th>\n",
       "      <th>6</th>\n",
       "      <td>('The', 'DT')</td>\n",
       "      <td>DT</td>\n",
       "      <td>The</td>\n",
       "      <td>the</td>\n",
       "      <td>DT</td>\n",
       "    </tr>\n",
       "    <tr>\n",
       "      <th>7</th>\n",
       "      <td>('Ambiguities,', 'NNP')</td>\n",
       "      <td>NNP</td>\n",
       "      <td>Ambiguities,</td>\n",
       "      <td>ambiguities</td>\n",
       "      <td>NN</td>\n",
       "    </tr>\n",
       "    <tr>\n",
       "      <th>8</th>\n",
       "      <td>('by', 'IN')</td>\n",
       "      <td>IN</td>\n",
       "      <td>by</td>\n",
       "      <td>by</td>\n",
       "      <td>IN</td>\n",
       "    </tr>\n",
       "    <tr>\n",
       "      <th>9</th>\n",
       "      <td>('Herman', 'NNP')</td>\n",
       "      <td>NNP</td>\n",
       "      <td>Herman</td>\n",
       "      <td>herman</td>\n",
       "      <td>NN</td>\n",
       "    </tr>\n",
       "    <tr>\n",
       "      <th>10</th>\n",
       "      <td>('Melville', 'NNP')</td>\n",
       "      <td>NNP</td>\n",
       "      <td>Melville</td>\n",
       "      <td>melville</td>\n",
       "      <td>NN</td>\n",
       "    </tr>\n",
       "  </tbody>\n",
       "</table>\n",
       "<p>2058943 rows × 5 columns</p>\n",
       "</div>"
      ],
      "text/plain": [
       "                                                           pos_tuple  pos  \\\n",
       "book_id chap_id para_num sent_num token_num                                 \n",
       "105     1       1        0        0                   ('Sir', 'NNP')  NNP   \n",
       "                                  1                ('Walter', 'NNP')  NNP   \n",
       "                                  2               ('Elliot,', 'NNP')  NNP   \n",
       "                                  3                     ('of', 'IN')   IN   \n",
       "                                  4              ('Kellynch', 'NNP')  NNP   \n",
       "...                                                              ...  ...   \n",
       "34970   114     24       0        6                    ('The', 'DT')   DT   \n",
       "                                  7          ('Ambiguities,', 'NNP')  NNP   \n",
       "                                  8                     ('by', 'IN')   IN   \n",
       "                                  9                ('Herman', 'NNP')  NNP   \n",
       "                                  10             ('Melville', 'NNP')  NNP   \n",
       "\n",
       "                                                token_str     term_str  \\\n",
       "book_id chap_id para_num sent_num token_num                              \n",
       "105     1       1        0        0                   Sir          sir   \n",
       "                                  1                Walter       walter   \n",
       "                                  2               Elliot,       elliot   \n",
       "                                  3                    of           of   \n",
       "                                  4              Kellynch     kellynch   \n",
       "...                                                   ...          ...   \n",
       "34970   114     24       0        6                   The          the   \n",
       "                                  7          Ambiguities,  ambiguities   \n",
       "                                  8                    by           by   \n",
       "                                  9                Herman       herman   \n",
       "                                  10             Melville     melville   \n",
       "\n",
       "                                            pos_group  \n",
       "book_id chap_id para_num sent_num token_num            \n",
       "105     1       1        0        0                NN  \n",
       "                                  1                NN  \n",
       "                                  2                NN  \n",
       "                                  3                IN  \n",
       "                                  4                NN  \n",
       "...                                               ...  \n",
       "34970   114     24       0        6                DT  \n",
       "                                  7                NN  \n",
       "                                  8                IN  \n",
       "                                  9                NN  \n",
       "                                  10               NN  \n",
       "\n",
       "[2058943 rows x 5 columns]"
      ]
     },
     "execution_count": 43,
     "metadata": {},
     "output_type": "execute_result"
    }
   ],
   "source": [
    "TOKEN"
   ]
  },
  {
   "cell_type": "markdown",
   "id": "33f2ef09-8447-4822-90c4-1918c5532cc4",
   "metadata": {},
   "source": [
    "# Zipf's Law"
   ]
  },
  {
   "cell_type": "markdown",
   "id": "a208fc09-4378-4527-9629-7473d2f7259a",
   "metadata": {},
   "source": [
    "Recall the formula Zipf's law $f \\propto \\frac{1}{r} $, and $k =  fr$. \n",
    "\n",
    "We explore our data to see if it matches the formula."
   ]
  },
  {
   "cell_type": "markdown",
   "id": "8b7b0a08-bdda-4c37-b0f1-80ca701190d9",
   "metadata": {},
   "source": [
    "## Add Term Rank to VOCAB\n",
    "\n",
    "First, we compute the rank of each word, which is just its numeric index when inversely sorted by frequency."
   ]
  },
  {
   "cell_type": "code",
   "execution_count": 46,
   "id": "2f1d45e5-f680-4ee9-9e79-bae93722d076",
   "metadata": {
    "tags": []
   },
   "outputs": [],
   "source": [
    "if 'term_rank' not in VOCAB.columns:\n",
    "    VOCAB = VOCAB.sort_values('n', ascending=False).reset_index()\n",
    "    VOCAB.index.name = 'term_rank' \n",
    "    VOCAB = VOCAB.reset_index()\n",
    "    VOCAB = VOCAB.set_index('term_str')\n",
    "    VOCAB['term_rank'] = VOCAB['term_rank'] + 1"
   ]
  },
  {
   "cell_type": "code",
   "execution_count": 48,
   "id": "5a061aa0-deab-4fd3-b8c3-35b3893132b5",
   "metadata": {},
   "outputs": [
    {
     "data": {
      "text/html": [
       "<div>\n",
       "<style scoped>\n",
       "    .dataframe tbody tr th:only-of-type {\n",
       "        vertical-align: middle;\n",
       "    }\n",
       "\n",
       "    .dataframe tbody tr th {\n",
       "        vertical-align: top;\n",
       "    }\n",
       "\n",
       "    .dataframe thead th {\n",
       "        text-align: right;\n",
       "    }\n",
       "</style>\n",
       "<table border=\"1\" class=\"dataframe\">\n",
       "  <thead>\n",
       "    <tr style=\"text-align: right;\">\n",
       "      <th></th>\n",
       "      <th>term_rank</th>\n",
       "      <th>n</th>\n",
       "      <th>n_chars</th>\n",
       "      <th>p</th>\n",
       "      <th>i</th>\n",
       "      <th>max_pos</th>\n",
       "      <th>max_pos_group</th>\n",
       "      <th>n_pos_group</th>\n",
       "      <th>cat_pos_group</th>\n",
       "      <th>n_pos</th>\n",
       "      <th>cat_pos</th>\n",
       "      <th>stop</th>\n",
       "      <th>stem_porter</th>\n",
       "      <th>stem_snowball</th>\n",
       "      <th>stem_lancaster</th>\n",
       "    </tr>\n",
       "    <tr>\n",
       "      <th>term_str</th>\n",
       "      <th></th>\n",
       "      <th></th>\n",
       "      <th></th>\n",
       "      <th></th>\n",
       "      <th></th>\n",
       "      <th></th>\n",
       "      <th></th>\n",
       "      <th></th>\n",
       "      <th></th>\n",
       "      <th></th>\n",
       "      <th></th>\n",
       "      <th></th>\n",
       "      <th></th>\n",
       "      <th></th>\n",
       "      <th></th>\n",
       "    </tr>\n",
       "  </thead>\n",
       "  <tbody>\n",
       "    <tr>\n",
       "      <th>the</th>\n",
       "      <td>1</td>\n",
       "      <td>109921</td>\n",
       "      <td>3</td>\n",
       "      <td>0.053387</td>\n",
       "      <td>4.227375</td>\n",
       "      <td>DT</td>\n",
       "      <td>DT</td>\n",
       "      <td>11</td>\n",
       "      <td>{'IN', 'RB', 'NN', 'PO', 'DT', 'FW', 'MD', 'PR...</td>\n",
       "      <td>17</td>\n",
       "      <td>{'IN', 'PRP', 'NNS', 'JJR', 'RB', 'NN', 'POS',...</td>\n",
       "      <td>1</td>\n",
       "      <td>the</td>\n",
       "      <td>the</td>\n",
       "      <td>the</td>\n",
       "    </tr>\n",
       "    <tr>\n",
       "      <th>of</th>\n",
       "      <td>2</td>\n",
       "      <td>65525</td>\n",
       "      <td>2</td>\n",
       "      <td>0.031824</td>\n",
       "      <td>4.973725</td>\n",
       "      <td>IN</td>\n",
       "      <td>IN</td>\n",
       "      <td>9</td>\n",
       "      <td>{'IN', 'RB', 'NN', 'MD', 'PR', 'VB', 'JJ', 'RP...</td>\n",
       "      <td>15</td>\n",
       "      <td>{'IN', 'PRP', 'NNS', 'VBN', 'RB', 'NN', 'VBZ',...</td>\n",
       "      <td>1</td>\n",
       "      <td>of</td>\n",
       "      <td>of</td>\n",
       "      <td>of</td>\n",
       "    </tr>\n",
       "    <tr>\n",
       "      <th>and</th>\n",
       "      <td>3</td>\n",
       "      <td>62954</td>\n",
       "      <td>3</td>\n",
       "      <td>0.030576</td>\n",
       "      <td>5.031473</td>\n",
       "      <td>CC</td>\n",
       "      <td>CC</td>\n",
       "      <td>11</td>\n",
       "      <td>{'IN', 'LS', 'RB', 'NN', 'CD', 'PO', 'CC', 'MD...</td>\n",
       "      <td>17</td>\n",
       "      <td>{'IN', 'LS', 'NNS', 'VBN', 'RB', 'NN', 'VBZ', ...</td>\n",
       "      <td>1</td>\n",
       "      <td>and</td>\n",
       "      <td>and</td>\n",
       "      <td>and</td>\n",
       "    </tr>\n",
       "    <tr>\n",
       "      <th>to</th>\n",
       "      <td>4</td>\n",
       "      <td>56271</td>\n",
       "      <td>2</td>\n",
       "      <td>0.027330</td>\n",
       "      <td>5.193379</td>\n",
       "      <td>TO</td>\n",
       "      <td>TO</td>\n",
       "      <td>14</td>\n",
       "      <td>{'IN', 'RB', 'NN', 'CD', 'PO', 'CC', 'FW', 'MD...</td>\n",
       "      <td>20</td>\n",
       "      <td>{'NN', 'VBD', 'IN', 'VBN', 'POS', 'FW', 'MD', ...</td>\n",
       "      <td>1</td>\n",
       "      <td>to</td>\n",
       "      <td>to</td>\n",
       "      <td>to</td>\n",
       "    </tr>\n",
       "    <tr>\n",
       "      <th>a</th>\n",
       "      <td>5</td>\n",
       "      <td>44174</td>\n",
       "      <td>1</td>\n",
       "      <td>0.021455</td>\n",
       "      <td>5.542573</td>\n",
       "      <td>DT</td>\n",
       "      <td>DT</td>\n",
       "      <td>8</td>\n",
       "      <td>{'IN', 'RB', 'NN', 'PO', 'DT', 'VB', 'JJ', 'CD'}</td>\n",
       "      <td>12</td>\n",
       "      <td>{'IN', 'NNS', 'RB', 'NN', 'POS', 'VBZ', 'DT', ...</td>\n",
       "      <td>1</td>\n",
       "      <td>a</td>\n",
       "      <td>a</td>\n",
       "      <td>a</td>\n",
       "    </tr>\n",
       "  </tbody>\n",
       "</table>\n",
       "</div>"
      ],
      "text/plain": [
       "          term_rank       n  n_chars         p         i max_pos  \\\n",
       "term_str                                                           \n",
       "the               1  109921        3  0.053387  4.227375      DT   \n",
       "of                2   65525        2  0.031824  4.973725      IN   \n",
       "and               3   62954        3  0.030576  5.031473      CC   \n",
       "to                4   56271        2  0.027330  5.193379      TO   \n",
       "a                 5   44174        1  0.021455  5.542573      DT   \n",
       "\n",
       "         max_pos_group  n_pos_group  \\\n",
       "term_str                              \n",
       "the                 DT           11   \n",
       "of                  IN            9   \n",
       "and                 CC           11   \n",
       "to                  TO           14   \n",
       "a                   DT            8   \n",
       "\n",
       "                                              cat_pos_group  n_pos  \\\n",
       "term_str                                                             \n",
       "the       {'IN', 'RB', 'NN', 'PO', 'DT', 'FW', 'MD', 'PR...     17   \n",
       "of        {'IN', 'RB', 'NN', 'MD', 'PR', 'VB', 'JJ', 'RP...     15   \n",
       "and       {'IN', 'LS', 'RB', 'NN', 'CD', 'PO', 'CC', 'MD...     17   \n",
       "to        {'IN', 'RB', 'NN', 'CD', 'PO', 'CC', 'FW', 'MD...     20   \n",
       "a          {'IN', 'RB', 'NN', 'PO', 'DT', 'VB', 'JJ', 'CD'}     12   \n",
       "\n",
       "                                                    cat_pos  stop stem_porter  \\\n",
       "term_str                                                                        \n",
       "the       {'IN', 'PRP', 'NNS', 'JJR', 'RB', 'NN', 'POS',...     1         the   \n",
       "of        {'IN', 'PRP', 'NNS', 'VBN', 'RB', 'NN', 'VBZ',...     1          of   \n",
       "and       {'IN', 'LS', 'NNS', 'VBN', 'RB', 'NN', 'VBZ', ...     1         and   \n",
       "to        {'NN', 'VBD', 'IN', 'VBN', 'POS', 'FW', 'MD', ...     1          to   \n",
       "a         {'IN', 'NNS', 'RB', 'NN', 'POS', 'VBZ', 'DT', ...     1           a   \n",
       "\n",
       "         stem_snowball stem_lancaster  \n",
       "term_str                               \n",
       "the                the            the  \n",
       "of                  of             of  \n",
       "and                and            and  \n",
       "to                  to             to  \n",
       "a                    a              a  "
      ]
     },
     "execution_count": 48,
     "metadata": {},
     "output_type": "execute_result"
    }
   ],
   "source": [
    "VOCAB.head()"
   ]
  },
  {
   "cell_type": "code",
   "execution_count": 21,
   "id": "49ef042e-a0fa-4d14-a878-a917e7c48043",
   "metadata": {
    "tags": []
   },
   "outputs": [
    {
     "data": {
      "image/png": "[encoded data removed]",
      "text/plain": [
       "<Figure size 640x480 with 1 Axes>"
      ]
     },
     "metadata": {},
     "output_type": "display_data"
    }
   ],
   "source": [
    "VOCAB.plot.scatter('term_rank', 'n', title=\"Rank and Count\");"
   ]
  },
  {
   "cell_type": "code",
   "execution_count": 22,
   "id": "cc45690f-ae2f-4ce4-8d26-72c6ffd8aa69",
   "metadata": {
    "tags": []
   },
   "outputs": [
    {
     "data": {
      "image/png": "[encoded data removed]",
      "text/plain": [
       "<Figure size 640x480 with 1 Axes>"
      ]
     },
     "metadata": {},
     "output_type": "display_data"
    }
   ],
   "source": [
    "VOCAB.plot.scatter('term_rank', 'n', logx=True, logy=True, title=\"Rank and Count; Log x and y\");"
   ]
  },
  {
   "cell_type": "markdown",
   "id": "d9021c64-ef03-42d8-b41e-f52cb2173eb0",
   "metadata": {},
   "source": [
    "## Create Alternate Rank\n",
    "\n",
    "Raw term rank has the problem of arbitrarily assigning rank numbers to terms that have the same count -- essentially terms with the same count are assigned a value based on their alphanumeric sort order. So we come up with a different rank that is a function of term count only."
   ]
  },
  {
   "cell_type": "code",
   "execution_count": 50,
   "id": "ddc70402-3584-4dff-9528-91ddb3c8d4dc",
   "metadata": {
    "tags": []
   },
   "outputs": [],
   "source": [
    "new_rank = VOCAB.n.value_counts()\\\n",
    "    .sort_index(ascending=False).reset_index().reset_index()\\\n",
    "    .rename(columns={'index':'term_rank2', 'count':'nn'})\\\n",
    "    .set_index('n')"
   ]
  },
  {
   "cell_type": "code",
   "execution_count": 51,
   "id": "e1786c21-235d-4859-8adc-258e709274ce",
   "metadata": {
    "tags": []
   },
   "outputs": [],
   "source": [
    "VOCAB['term_rank2'] = VOCAB.n.map(new_rank.term_rank2) + 1"
   ]
  },
  {
   "cell_type": "markdown",
   "id": "2543c64f-278c-408a-93ac-3870ebcb9f3b",
   "metadata": {},
   "source": [
    "# Compare Ranks"
   ]
  },
  {
   "cell_type": "markdown",
   "id": "5a345319-c85b-45ea-a95f-2298d522019d",
   "metadata": {},
   "source": [
    "Note how the two ranks are related: the alternate rank groups more terms as frequency gets smaller."
   ]
  },
  {
   "cell_type": "code",
   "execution_count": 60,
   "id": "7a25f156-7bc9-4f8c-803e-d1972e16fb84",
   "metadata": {
    "tags": []
   },
   "outputs": [
    {
     "data": {
      "image/png": "[encoded data removed]",
      "text/plain": [
       "<Figure size 640x480 with 1 Axes>"
      ]
     },
     "metadata": {},
     "output_type": "display_data"
    }
   ],
   "source": [
    "VOCAB.plot.scatter('term_rank2', 'term_rank', title=\"Rank 2 vs Rank\");"
   ]
  },
  {
   "cell_type": "code",
   "execution_count": 53,
   "id": "d6139771-3595-4999-870e-a7cf029eee94",
   "metadata": {
    "tags": []
   },
   "outputs": [
    {
     "data": {
      "image/png": "[encoded data removed]",
      "text/plain": [
       "<Figure size 1000x1000 with 4 Axes>"
      ]
     },
     "metadata": {},
     "output_type": "display_data"
    }
   ],
   "source": [
    "fig, axes = plt.subplots(nrows=2, ncols=2, figsize=(10,10), sharey=True)\n",
    "VOCAB.plot.scatter('term_rank', 'n', title=\"Rank vs n\", ax=axes[0,0])\n",
    "VOCAB.plot.scatter('term_rank2', 'n', title=\"Rank 2 vs n\", ax=axes[0,1]);\n",
    "VOCAB.plot.scatter('term_rank', 'n', logx=True, logy=True, title=\"Log Rank vs Log n\", ax=axes[1,0])\n",
    "VOCAB.plot.scatter('term_rank2', 'n', logx=True, logy=True, title=\"Log Rank 2 vs Log n\", ax=axes[1,1]);"
   ]
  },
  {
   "cell_type": "markdown",
   "id": "c7949fe3-ffd3-4e43-ac0a-6c1a4331989a",
   "metadata": {},
   "source": [
    "## Compute Zipf's K\n",
    "\n",
    "Now we see if K is linear as it's supposed to be."
   ]
  },
  {
   "cell_type": "code",
   "execution_count": 54,
   "id": "e6789f46-25ae-413f-a735-76418fd7e6c2",
   "metadata": {
    "tags": []
   },
   "outputs": [],
   "source": [
    "VOCAB['zipf_k'] = VOCAB.n * VOCAB.term_rank\n",
    "VOCAB['zipf_k2'] = VOCAB.n * VOCAB.term_rank2"
   ]
  },
  {
   "cell_type": "markdown",
   "id": "32b19307-2df4-44b6-adda-321ec3106893",
   "metadata": {
    "tags": []
   },
   "source": [
    "## Rank and Zipf $k$\n",
    "\n",
    "$k$ is supposed to be constant."
   ]
  },
  {
   "cell_type": "code",
   "execution_count": 90,
   "id": "10e5b37c-5ed6-4657-a855-47efa87a84fe",
   "metadata": {
    "tags": []
   },
   "outputs": [
    {
     "data": {
      "image/png": "[encoded data removed]",
      "text/plain": [
       "<Figure size 1000x500 with 2 Axes>"
      ]
     },
     "metadata": {},
     "output_type": "display_data"
    }
   ],
   "source": [
    "fig, axes = plt.subplots(nrows=1, ncols=2, figsize=(10,5), sharey=True)\n",
    "VOCAB.plot.scatter('term_rank', 'zipf_k', ax=axes[0])\n",
    "VOCAB.plot.scatter('term_rank2', 'zipf_k2', ax=axes[1]);"
   ]
  },
  {
   "cell_type": "markdown",
   "id": "49dc5d8d-f02c-4455-be65-82d1d152435a",
   "metadata": {
    "tags": [],
    "toc-hr-collapsed": false
   },
   "source": [
    "## Demo Rank Index\n",
    "\n",
    "We look at a sample drawn from rank increments to see global patterns in the corpus."
   ]
  },
  {
   "cell_type": "code",
   "execution_count": 91,
   "id": "424f7388-79f9-481e-85e0-fc0522c1e63d",
   "metadata": {
    "tags": []
   },
   "outputs": [],
   "source": [
    "rank_index = [1, 2, 3, 10, 20, 30, 40, 50, 60, 70, 80, 90, 100, 200, 300, 400, 500, 600, 700, 800, 900, 1000, 2000, 3000, 4000, 5000, 6000, 7000, 8000]"
   ]
  },
  {
   "cell_type": "code",
   "execution_count": 92,
   "id": "d5c50998-c1b4-4e56-a4cd-e0aae6e85148",
   "metadata": {
    "tags": []
   },
   "outputs": [],
   "source": [
    "DEMO = VOCAB.loc[VOCAB.term_rank.isin(rank_index)][['max_pos', 'p', 'term_rank', 'term_rank2', 'i', 'zipf_k', 'zipf_k2']]"
   ]
  },
  {
   "cell_type": "code",
   "execution_count": 93,
   "id": "889b7dfc-5269-4543-bff7-10aa2053c198",
   "metadata": {
    "tags": []
   },
   "outputs": [
    {
     "data": {
      "text/html": [
       "<style type=\"text/css\">\n",
       "#T_d5edb_row0_col1, #T_d5edb_row5_col5, #T_d5edb_row5_col6, #T_d5edb_row28_col2, #T_d5edb_row28_col3, #T_d5edb_row28_col4 {\n",
       "  background-color: #1f80b8;\n",
       "  color: #f1f1f1;\n",
       "}\n",
       "#T_d5edb_row0_col2, #T_d5edb_row0_col3, #T_d5edb_row0_col4, #T_d5edb_row0_col5, #T_d5edb_row1_col2, #T_d5edb_row1_col3, #T_d5edb_row2_col2, #T_d5edb_row2_col3, #T_d5edb_row3_col2, #T_d5edb_row4_col2, #T_d5edb_row5_col2, #T_d5edb_row6_col2, #T_d5edb_row15_col1, #T_d5edb_row16_col1, #T_d5edb_row17_col1, #T_d5edb_row18_col1, #T_d5edb_row19_col1, #T_d5edb_row20_col1, #T_d5edb_row21_col1, #T_d5edb_row22_col1, #T_d5edb_row23_col1, #T_d5edb_row24_col1, #T_d5edb_row25_col1, #T_d5edb_row26_col1, #T_d5edb_row27_col1, #T_d5edb_row28_col1, #T_d5edb_row28_col6 {\n",
       "  background-color: #ffffd9;\n",
       "  color: #000000;\n",
       "}\n",
       "#T_d5edb_row0_col6 {\n",
       "  background-color: #cdebb4;\n",
       "  color: #000000;\n",
       "}\n",
       "#T_d5edb_row1_col1 {\n",
       "  background-color: #75c9bd;\n",
       "  color: #000000;\n",
       "}\n",
       "#T_d5edb_row1_col4 {\n",
       "  background-color: #fafdce;\n",
       "  color: #000000;\n",
       "}\n",
       "#T_d5edb_row1_col5, #T_d5edb_row11_col3, #T_d5edb_row20_col2 {\n",
       "  background-color: #f4fbc1;\n",
       "  color: #000000;\n",
       "}\n",
       "#T_d5edb_row1_col6 {\n",
       "  background-color: #b4e2b6;\n",
       "  color: #000000;\n",
       "}\n",
       "#T_d5edb_row2_col1, #T_d5edb_row14_col4 {\n",
       "  background-color: #7cccbb;\n",
       "  color: #000000;\n",
       "}\n",
       "#T_d5edb_row2_col4, #T_d5edb_row6_col1, #T_d5edb_row7_col3, #T_d5edb_row16_col2 {\n",
       "  background-color: #f9fdcc;\n",
       "  color: #000000;\n",
       "}\n",
       "#T_d5edb_row2_col5, #T_d5edb_row19_col6 {\n",
       "  background-color: #b2e1b6;\n",
       "  color: #000000;\n",
       "}\n",
       "#T_d5edb_row2_col6 {\n",
       "  background-color: #69c5be;\n",
       "  color: #000000;\n",
       "}\n",
       "#T_d5edb_row3_col1 {\n",
       "  background-color: #e8f6b1;\n",
       "  color: #000000;\n",
       "}\n",
       "#T_d5edb_row3_col3, #T_d5edb_row7_col2, #T_d5edb_row8_col2, #T_d5edb_row9_col2, #T_d5edb_row10_col2, #T_d5edb_row11_col2, #T_d5edb_row13_col1, #T_d5edb_row14_col1, #T_d5edb_row27_col6 {\n",
       "  background-color: #feffd8;\n",
       "  color: #000000;\n",
       "}\n",
       "#T_d5edb_row3_col4 {\n",
       "  background-color: #eff9b5;\n",
       "  color: #000000;\n",
       "}\n",
       "#T_d5edb_row3_col5, #T_d5edb_row18_col4 {\n",
       "  background-color: #59bfc0;\n",
       "  color: #000000;\n",
       "}\n",
       "#T_d5edb_row3_col6 {\n",
       "  background-color: #3aaec3;\n",
       "  color: #f1f1f1;\n",
       "}\n",
       "#T_d5edb_row4_col1 {\n",
       "  background-color: #f3fabd;\n",
       "  color: #000000;\n",
       "}\n",
       "#T_d5edb_row4_col3, #T_d5edb_row10_col1, #T_d5edb_row11_col1, #T_d5edb_row12_col1, #T_d5edb_row13_col2, #T_d5edb_row26_col6 {\n",
       "  background-color: #fdfed4;\n",
       "  color: #000000;\n",
       "}\n",
       "#T_d5edb_row4_col4 {\n",
       "  background-color: #e5f5b2;\n",
       "  color: #000000;\n",
       "}\n",
       "#T_d5edb_row4_col5, #T_d5edb_row6_col6 {\n",
       "  background-color: #1e88bc;\n",
       "  color: #f1f1f1;\n",
       "}\n",
       "#T_d5edb_row4_col6, #T_d5edb_row25_col3 {\n",
       "  background-color: #1e85ba;\n",
       "  color: #f1f1f1;\n",
       "}\n",
       "#T_d5edb_row5_col1, #T_d5edb_row9_col3 {\n",
       "  background-color: #f7fcc6;\n",
       "  color: #000000;\n",
       "}\n",
       "#T_d5edb_row5_col3, #T_d5edb_row8_col1, #T_d5edb_row14_col2 {\n",
       "  background-color: #fcfed1;\n",
       "  color: #000000;\n",
       "}\n",
       "#T_d5edb_row5_col4, #T_d5edb_row25_col5 {\n",
       "  background-color: #dcf1b2;\n",
       "  color: #000000;\n",
       "}\n",
       "#T_d5edb_row6_col3, #T_d5edb_row7_col1, #T_d5edb_row15_col2 {\n",
       "  background-color: #fafdcf;\n",
       "  color: #000000;\n",
       "}\n",
       "#T_d5edb_row6_col4 {\n",
       "  background-color: #d5efb3;\n",
       "  color: #000000;\n",
       "}\n",
       "#T_d5edb_row6_col5, #T_d5edb_row26_col4 {\n",
       "  background-color: #1d8dbe;\n",
       "  color: #f1f1f1;\n",
       "}\n",
       "#T_d5edb_row7_col4 {\n",
       "  background-color: #cfecb3;\n",
       "  color: #000000;\n",
       "}\n",
       "#T_d5edb_row7_col5, #T_d5edb_row24_col3 {\n",
       "  background-color: #1e8abd;\n",
       "  color: #f1f1f1;\n",
       "}\n",
       "#T_d5edb_row7_col6, #T_d5edb_row27_col4 {\n",
       "  background-color: #1e86bb;\n",
       "  color: #f1f1f1;\n",
       "}\n",
       "#T_d5edb_row8_col3 {\n",
       "  background-color: #f8fcc9;\n",
       "  color: #000000;\n",
       "}\n",
       "#T_d5edb_row8_col4, #T_d5edb_row14_col3 {\n",
       "  background-color: #caeab4;\n",
       "  color: #000000;\n",
       "}\n",
       "#T_d5edb_row8_col5 {\n",
       "  background-color: #289cc1;\n",
       "  color: #f1f1f1;\n",
       "}\n",
       "#T_d5edb_row8_col6, #T_d5edb_row9_col6, #T_d5edb_row25_col4 {\n",
       "  background-color: #2094c0;\n",
       "  color: #f1f1f1;\n",
       "}\n",
       "#T_d5edb_row9_col1 {\n",
       "  background-color: #fcfed3;\n",
       "  color: #000000;\n",
       "}\n",
       "#T_d5edb_row9_col4 {\n",
       "  background-color: #c6e9b4;\n",
       "  color: #000000;\n",
       "}\n",
       "#T_d5edb_row9_col5, #T_d5edb_row27_col2 {\n",
       "  background-color: #299dc1;\n",
       "  color: #f1f1f1;\n",
       "}\n",
       "#T_d5edb_row10_col3, #T_d5edb_row19_col2 {\n",
       "  background-color: #f5fbc4;\n",
       "  color: #000000;\n",
       "}\n",
       "#T_d5edb_row10_col4 {\n",
       "  background-color: #bde5b5;\n",
       "  color: #000000;\n",
       "}\n",
       "#T_d5edb_row10_col5 {\n",
       "  background-color: #3bb0c3;\n",
       "  color: #f1f1f1;\n",
       "}\n",
       "#T_d5edb_row10_col6 {\n",
       "  background-color: #2ca1c2;\n",
       "  color: #f1f1f1;\n",
       "}\n",
       "#T_d5edb_row11_col4 {\n",
       "  background-color: #b9e4b5;\n",
       "  color: #000000;\n",
       "}\n",
       "#T_d5edb_row11_col5 {\n",
       "  background-color: #2fa4c2;\n",
       "  color: #f1f1f1;\n",
       "}\n",
       "#T_d5edb_row11_col6, #T_d5edb_row22_col3 {\n",
       "  background-color: #2498c1;\n",
       "  color: #f1f1f1;\n",
       "}\n",
       "#T_d5edb_row12_col2 {\n",
       "  background-color: #feffd6;\n",
       "  color: #000000;\n",
       "}\n",
       "#T_d5edb_row12_col3, #T_d5edb_row21_col2 {\n",
       "  background-color: #f3fabf;\n",
       "  color: #000000;\n",
       "}\n",
       "#T_d5edb_row12_col4 {\n",
       "  background-color: #b7e3b6;\n",
       "  color: #000000;\n",
       "}\n",
       "#T_d5edb_row12_col5, #T_d5edb_row23_col4 {\n",
       "  background-color: #2da2c2;\n",
       "  color: #f1f1f1;\n",
       "}\n",
       "#T_d5edb_row12_col6 {\n",
       "  background-color: #2397c1;\n",
       "  color: #f1f1f1;\n",
       "}\n",
       "#T_d5edb_row13_col3 {\n",
       "  background-color: #e0f3b2;\n",
       "  color: #000000;\n",
       "}\n",
       "#T_d5edb_row13_col4 {\n",
       "  background-color: #90d4b9;\n",
       "  color: #000000;\n",
       "}\n",
       "#T_d5edb_row13_col5, #T_d5edb_row15_col4 {\n",
       "  background-color: #6fc7bd;\n",
       "  color: #000000;\n",
       "}\n",
       "#T_d5edb_row13_col6 {\n",
       "  background-color: #46b8c3;\n",
       "  color: #f1f1f1;\n",
       "}\n",
       "#T_d5edb_row14_col5, #T_d5edb_row16_col3 {\n",
       "  background-color: #87d0ba;\n",
       "  color: #000000;\n",
       "}\n",
       "#T_d5edb_row14_col6 {\n",
       "  background-color: #63c3bf;\n",
       "  color: #000000;\n",
       "}\n",
       "#T_d5edb_row15_col3, #T_d5edb_row19_col5, #T_d5edb_row20_col5 {\n",
       "  background-color: #a7dcb7;\n",
       "  color: #000000;\n",
       "}\n",
       "#T_d5edb_row15_col5 {\n",
       "  background-color: #9ed9b8;\n",
       "  color: #000000;\n",
       "}\n",
       "#T_d5edb_row15_col6 {\n",
       "  background-color: #78cbbc;\n",
       "  color: #000000;\n",
       "}\n",
       "#T_d5edb_row16_col4 {\n",
       "  background-color: #67c4be;\n",
       "  color: #000000;\n",
       "}\n",
       "#T_d5edb_row16_col5 {\n",
       "  background-color: #a0dab8;\n",
       "  color: #000000;\n",
       "}\n",
       "#T_d5edb_row16_col6 {\n",
       "  background-color: #85cfba;\n",
       "  color: #000000;\n",
       "}\n",
       "#T_d5edb_row17_col2 {\n",
       "  background-color: #f8fcca;\n",
       "  color: #000000;\n",
       "}\n",
       "#T_d5edb_row17_col3 {\n",
       "  background-color: #6dc6be;\n",
       "  color: #000000;\n",
       "}\n",
       "#T_d5edb_row17_col4 {\n",
       "  background-color: #5fc1c0;\n",
       "  color: #000000;\n",
       "}\n",
       "#T_d5edb_row17_col5, #T_d5edb_row18_col5, #T_d5edb_row18_col6, #T_d5edb_row21_col5 {\n",
       "  background-color: #a5dcb7;\n",
       "  color: #000000;\n",
       "}\n",
       "#T_d5edb_row17_col6 {\n",
       "  background-color: #95d5b9;\n",
       "  color: #000000;\n",
       "}\n",
       "#T_d5edb_row18_col2 {\n",
       "  background-color: #f7fcc7;\n",
       "  color: #000000;\n",
       "}\n",
       "#T_d5edb_row18_col3 {\n",
       "  background-color: #5dc0c0;\n",
       "  color: #000000;\n",
       "}\n",
       "#T_d5edb_row19_col3, #T_d5edb_row20_col4 {\n",
       "  background-color: #50bbc2;\n",
       "  color: #000000;\n",
       "}\n",
       "#T_d5edb_row19_col4 {\n",
       "  background-color: #53bdc1;\n",
       "  color: #000000;\n",
       "}\n",
       "#T_d5edb_row20_col3 {\n",
       "  background-color: #44b7c4;\n",
       "  color: #f1f1f1;\n",
       "}\n",
       "#T_d5edb_row20_col6 {\n",
       "  background-color: #c0e6b5;\n",
       "  color: #000000;\n",
       "}\n",
       "#T_d5edb_row21_col3 {\n",
       "  background-color: #3eb3c4;\n",
       "  color: #f1f1f1;\n",
       "}\n",
       "#T_d5edb_row21_col4 {\n",
       "  background-color: #4cbac2;\n",
       "  color: #f1f1f1;\n",
       "}\n",
       "#T_d5edb_row21_col6, #T_d5edb_row23_col5 {\n",
       "  background-color: #c9eab4;\n",
       "  color: #000000;\n",
       "}\n",
       "#T_d5edb_row22_col2 {\n",
       "  background-color: #e1f3b2;\n",
       "  color: #000000;\n",
       "}\n",
       "#T_d5edb_row22_col4 {\n",
       "  background-color: #37acc3;\n",
       "  color: #f1f1f1;\n",
       "}\n",
       "#T_d5edb_row22_col5 {\n",
       "  background-color: #aedfb6;\n",
       "  color: #000000;\n",
       "}\n",
       "#T_d5edb_row22_col6 {\n",
       "  background-color: #edf8b1;\n",
       "  color: #000000;\n",
       "}\n",
       "#T_d5edb_row23_col2 {\n",
       "  background-color: #c8e9b4;\n",
       "  color: #000000;\n",
       "}\n",
       "#T_d5edb_row23_col3 {\n",
       "  background-color: #1d8ebf;\n",
       "  color: #f1f1f1;\n",
       "}\n",
       "#T_d5edb_row23_col6 {\n",
       "  background-color: #f5fbc2;\n",
       "  color: #000000;\n",
       "}\n",
       "#T_d5edb_row24_col2 {\n",
       "  background-color: #97d6b9;\n",
       "  color: #000000;\n",
       "}\n",
       "#T_d5edb_row24_col4 {\n",
       "  background-color: #259ac1;\n",
       "  color: #f1f1f1;\n",
       "}\n",
       "#T_d5edb_row24_col5 {\n",
       "  background-color: #d3eeb3;\n",
       "  color: #000000;\n",
       "}\n",
       "#T_d5edb_row24_col6 {\n",
       "  background-color: #f9fdcb;\n",
       "  color: #000000;\n",
       "}\n",
       "#T_d5edb_row25_col2 {\n",
       "  background-color: #6bc6be;\n",
       "  color: #000000;\n",
       "}\n",
       "#T_d5edb_row25_col6 {\n",
       "  background-color: #fbfdd0;\n",
       "  color: #000000;\n",
       "}\n",
       "#T_d5edb_row26_col2 {\n",
       "  background-color: #42b6c4;\n",
       "  color: #f1f1f1;\n",
       "}\n",
       "#T_d5edb_row26_col3 {\n",
       "  background-color: #1e83ba;\n",
       "  color: #f1f1f1;\n",
       "}\n",
       "#T_d5edb_row26_col5 {\n",
       "  background-color: #e7f6b1;\n",
       "  color: #000000;\n",
       "}\n",
       "#T_d5edb_row27_col3 {\n",
       "  background-color: #1f82b9;\n",
       "  color: #f1f1f1;\n",
       "}\n",
       "#T_d5edb_row27_col5 {\n",
       "  background-color: #eff9b6;\n",
       "  color: #000000;\n",
       "}\n",
       "#T_d5edb_row28_col5 {\n",
       "  background-color: #f6fbc5;\n",
       "  color: #000000;\n",
       "}\n",
       "</style>\n",
       "<table id=\"T_d5edb\">\n",
       "  <thead>\n",
       "    <tr>\n",
       "      <th class=\"blank level0\" >&nbsp;</th>\n",
       "      <th id=\"T_d5edb_level0_col0\" class=\"col_heading level0 col0\" >max_pos</th>\n",
       "      <th id=\"T_d5edb_level0_col1\" class=\"col_heading level0 col1\" >p</th>\n",
       "      <th id=\"T_d5edb_level0_col2\" class=\"col_heading level0 col2\" >term_rank</th>\n",
       "      <th id=\"T_d5edb_level0_col3\" class=\"col_heading level0 col3\" >term_rank2</th>\n",
       "      <th id=\"T_d5edb_level0_col4\" class=\"col_heading level0 col4\" >i</th>\n",
       "      <th id=\"T_d5edb_level0_col5\" class=\"col_heading level0 col5\" >zipf_k</th>\n",
       "      <th id=\"T_d5edb_level0_col6\" class=\"col_heading level0 col6\" >zipf_k2</th>\n",
       "    </tr>\n",
       "    <tr>\n",
       "      <th class=\"index_name level0\" >term_str</th>\n",
       "      <th class=\"blank col0\" >&nbsp;</th>\n",
       "      <th class=\"blank col1\" >&nbsp;</th>\n",
       "      <th class=\"blank col2\" >&nbsp;</th>\n",
       "      <th class=\"blank col3\" >&nbsp;</th>\n",
       "      <th class=\"blank col4\" >&nbsp;</th>\n",
       "      <th class=\"blank col5\" >&nbsp;</th>\n",
       "      <th class=\"blank col6\" >&nbsp;</th>\n",
       "    </tr>\n",
       "  </thead>\n",
       "  <tbody>\n",
       "    <tr>\n",
       "      <th id=\"T_d5edb_level0_row0\" class=\"row_heading level0 row0\" >the</th>\n",
       "      <td id=\"T_d5edb_row0_col0\" class=\"data row0 col0\" >DT</td>\n",
       "      <td id=\"T_d5edb_row0_col1\" class=\"data row0 col1\" >0.053387</td>\n",
       "      <td id=\"T_d5edb_row0_col2\" class=\"data row0 col2\" >1</td>\n",
       "      <td id=\"T_d5edb_row0_col3\" class=\"data row0 col3\" >1</td>\n",
       "      <td id=\"T_d5edb_row0_col4\" class=\"data row0 col4\" >4.227375</td>\n",
       "      <td id=\"T_d5edb_row0_col5\" class=\"data row0 col5\" >109921</td>\n",
       "      <td id=\"T_d5edb_row0_col6\" class=\"data row0 col6\" >109921</td>\n",
       "    </tr>\n",
       "    <tr>\n",
       "      <th id=\"T_d5edb_level0_row1\" class=\"row_heading level0 row1\" >of</th>\n",
       "      <td id=\"T_d5edb_row1_col0\" class=\"data row1 col0\" >IN</td>\n",
       "      <td id=\"T_d5edb_row1_col1\" class=\"data row1 col1\" >0.031824</td>\n",
       "      <td id=\"T_d5edb_row1_col2\" class=\"data row1 col2\" >2</td>\n",
       "      <td id=\"T_d5edb_row1_col3\" class=\"data row1 col3\" >2</td>\n",
       "      <td id=\"T_d5edb_row1_col4\" class=\"data row1 col4\" >4.973725</td>\n",
       "      <td id=\"T_d5edb_row1_col5\" class=\"data row1 col5\" >131050</td>\n",
       "      <td id=\"T_d5edb_row1_col6\" class=\"data row1 col6\" >131050</td>\n",
       "    </tr>\n",
       "    <tr>\n",
       "      <th id=\"T_d5edb_level0_row2\" class=\"row_heading level0 row2\" >and</th>\n",
       "      <td id=\"T_d5edb_row2_col0\" class=\"data row2 col0\" >CC</td>\n",
       "      <td id=\"T_d5edb_row2_col1\" class=\"data row2 col1\" >0.030576</td>\n",
       "      <td id=\"T_d5edb_row2_col2\" class=\"data row2 col2\" >3</td>\n",
       "      <td id=\"T_d5edb_row2_col3\" class=\"data row2 col3\" >3</td>\n",
       "      <td id=\"T_d5edb_row2_col4\" class=\"data row2 col4\" >5.031473</td>\n",
       "      <td id=\"T_d5edb_row2_col5\" class=\"data row2 col5\" >188862</td>\n",
       "      <td id=\"T_d5edb_row2_col6\" class=\"data row2 col6\" >188862</td>\n",
       "    </tr>\n",
       "    <tr>\n",
       "      <th id=\"T_d5edb_level0_row3\" class=\"row_heading level0 row3\" >it</th>\n",
       "      <td id=\"T_d5edb_row3_col0\" class=\"data row3 col0\" >PRP</td>\n",
       "      <td id=\"T_d5edb_row3_col1\" class=\"data row3 col1\" >0.011316</td>\n",
       "      <td id=\"T_d5edb_row3_col2\" class=\"data row3 col2\" >10</td>\n",
       "      <td id=\"T_d5edb_row3_col3\" class=\"data row3 col3\" >10</td>\n",
       "      <td id=\"T_d5edb_row3_col4\" class=\"data row3 col4\" >6.465503</td>\n",
       "      <td id=\"T_d5edb_row3_col5\" class=\"data row3 col5\" >232990</td>\n",
       "      <td id=\"T_d5edb_row3_col6\" class=\"data row3 col6\" >232990</td>\n",
       "    </tr>\n",
       "    <tr>\n",
       "      <th id=\"T_d5edb_level0_row4\" class=\"row_heading level0 row4\" >you</th>\n",
       "      <td id=\"T_d5edb_row4_col0\" class=\"data row4 col0\" >PRP</td>\n",
       "      <td id=\"T_d5edb_row4_col1\" class=\"data row4 col1\" >0.006968</td>\n",
       "      <td id=\"T_d5edb_row4_col2\" class=\"data row4 col2\" >20</td>\n",
       "      <td id=\"T_d5edb_row4_col3\" class=\"data row4 col3\" >20</td>\n",
       "      <td id=\"T_d5edb_row4_col4\" class=\"data row4 col4\" >7.165021</td>\n",
       "      <td id=\"T_d5edb_row4_col5\" class=\"data row4 col5\" >286940</td>\n",
       "      <td id=\"T_d5edb_row4_col6\" class=\"data row4 col6\" >286940</td>\n",
       "    </tr>\n",
       "    <tr>\n",
       "      <th id=\"T_d5edb_level0_row5\" class=\"row_heading level0 row5\" >so</th>\n",
       "      <td id=\"T_d5edb_row5_col0\" class=\"data row5 col0\" >RB</td>\n",
       "      <td id=\"T_d5edb_row5_col1\" class=\"data row5 col1\" >0.004730</td>\n",
       "      <td id=\"T_d5edb_row5_col2\" class=\"data row5 col2\" >30</td>\n",
       "      <td id=\"T_d5edb_row5_col3\" class=\"data row5 col3\" >30</td>\n",
       "      <td id=\"T_d5edb_row5_col4\" class=\"data row5 col4\" >7.724073</td>\n",
       "      <td id=\"T_d5edb_row5_col5\" class=\"data row5 col5\" >292140</td>\n",
       "      <td id=\"T_d5edb_row5_col6\" class=\"data row5 col6\" >292140</td>\n",
       "    </tr>\n",
       "    <tr>\n",
       "      <th id=\"T_d5edb_level0_row6\" class=\"row_heading level0 row6\" >their</th>\n",
       "      <td id=\"T_d5edb_row6_col0\" class=\"data row6 col0\" >PRP$</td>\n",
       "      <td id=\"T_d5edb_row6_col1\" class=\"data row6 col1\" >0.003438</td>\n",
       "      <td id=\"T_d5edb_row6_col2\" class=\"data row6 col2\" >40</td>\n",
       "      <td id=\"T_d5edb_row6_col3\" class=\"data row6 col3\" >40</td>\n",
       "      <td id=\"T_d5edb_row6_col4\" class=\"data row6 col4\" >8.184357</td>\n",
       "      <td id=\"T_d5edb_row6_col5\" class=\"data row6 col5\" >283120</td>\n",
       "      <td id=\"T_d5edb_row6_col6\" class=\"data row6 col6\" >283120</td>\n",
       "    </tr>\n",
       "    <tr>\n",
       "      <th id=\"T_d5edb_level0_row7\" class=\"row_heading level0 row7\" >are</th>\n",
       "      <td id=\"T_d5edb_row7_col0\" class=\"data row7 col0\" >VBP</td>\n",
       "      <td id=\"T_d5edb_row7_col1\" class=\"data row7 col1\" >0.002770</td>\n",
       "      <td id=\"T_d5edb_row7_col2\" class=\"data row7 col2\" >50</td>\n",
       "      <td id=\"T_d5edb_row7_col3\" class=\"data row7 col3\" >50</td>\n",
       "      <td id=\"T_d5edb_row7_col4\" class=\"data row7 col4\" >8.495725</td>\n",
       "      <td id=\"T_d5edb_row7_col5\" class=\"data row7 col5\" >285200</td>\n",
       "      <td id=\"T_d5edb_row7_col6\" class=\"data row7 col6\" >285200</td>\n",
       "    </tr>\n",
       "    <tr>\n",
       "      <th id=\"T_d5edb_level0_row8\" class=\"row_heading level0 row8\" >will</th>\n",
       "      <td id=\"T_d5edb_row8_col0\" class=\"data row8 col0\" >MD</td>\n",
       "      <td id=\"T_d5edb_row8_col1\" class=\"data row8 col1\" >0.002192</td>\n",
       "      <td id=\"T_d5edb_row8_col2\" class=\"data row8 col2\" >60</td>\n",
       "      <td id=\"T_d5edb_row8_col3\" class=\"data row8 col3\" >60</td>\n",
       "      <td id=\"T_d5edb_row8_col4\" class=\"data row8 col4\" >8.833292</td>\n",
       "      <td id=\"T_d5edb_row8_col5\" class=\"data row8 col5\" >270840</td>\n",
       "      <td id=\"T_d5edb_row8_col6\" class=\"data row8 col6\" >270840</td>\n",
       "    </tr>\n",
       "    <tr>\n",
       "      <th id=\"T_d5edb_level0_row9\" class=\"row_heading level0 row9\" >then</th>\n",
       "      <td id=\"T_d5edb_row9_col0\" class=\"data row9 col0\" >RB</td>\n",
       "      <td id=\"T_d5edb_row9_col1\" class=\"data row9 col1\" >0.001874</td>\n",
       "      <td id=\"T_d5edb_row9_col2\" class=\"data row9 col2\" >70</td>\n",
       "      <td id=\"T_d5edb_row9_col3\" class=\"data row9 col3\" >70</td>\n",
       "      <td id=\"T_d5edb_row9_col4\" class=\"data row9 col4\" >9.059846</td>\n",
       "      <td id=\"T_d5edb_row9_col5\" class=\"data row9 col5\" >270060</td>\n",
       "      <td id=\"T_d5edb_row9_col6\" class=\"data row9 col6\" >270060</td>\n",
       "    </tr>\n",
       "    <tr>\n",
       "      <th id=\"T_d5edb_level0_row10\" class=\"row_heading level0 row10\" >its</th>\n",
       "      <td id=\"T_d5edb_row10_col0\" class=\"data row10 col0\" >PRP$</td>\n",
       "      <td id=\"T_d5edb_row10_col1\" class=\"data row10 col1\" >0.001530</td>\n",
       "      <td id=\"T_d5edb_row10_col2\" class=\"data row10 col2\" >80</td>\n",
       "      <td id=\"T_d5edb_row10_col3\" class=\"data row10 col3\" >80</td>\n",
       "      <td id=\"T_d5edb_row10_col4\" class=\"data row10 col4\" >9.351889</td>\n",
       "      <td id=\"T_d5edb_row10_col5\" class=\"data row10 col5\" >252080</td>\n",
       "      <td id=\"T_d5edb_row10_col6\" class=\"data row10 col6\" >252080</td>\n",
       "    </tr>\n",
       "    <tr>\n",
       "      <th id=\"T_d5edb_level0_row11\" class=\"row_heading level0 row11\" >after</th>\n",
       "      <td id=\"T_d5edb_row11_col0\" class=\"data row11 col0\" >IN</td>\n",
       "      <td id=\"T_d5edb_row11_col1\" class=\"data row11 col1\" >0.001423</td>\n",
       "      <td id=\"T_d5edb_row11_col2\" class=\"data row11 col2\" >90</td>\n",
       "      <td id=\"T_d5edb_row11_col3\" class=\"data row11 col3\" >90</td>\n",
       "      <td id=\"T_d5edb_row11_col4\" class=\"data row11 col4\" >9.457290</td>\n",
       "      <td id=\"T_d5edb_row11_col5\" class=\"data row11 col5\" >263610</td>\n",
       "      <td id=\"T_d5edb_row11_col6\" class=\"data row11 col6\" >263610</td>\n",
       "    </tr>\n",
       "    <tr>\n",
       "      <th id=\"T_d5edb_level0_row12\" class=\"row_heading level0 row12\" >mrs</th>\n",
       "      <td id=\"T_d5edb_row12_col0\" class=\"data row12 col0\" >NNP</td>\n",
       "      <td id=\"T_d5edb_row12_col1\" class=\"data row12 col1\" >0.001291</td>\n",
       "      <td id=\"T_d5edb_row12_col2\" class=\"data row12 col2\" >100</td>\n",
       "      <td id=\"T_d5edb_row12_col3\" class=\"data row12 col3\" >100</td>\n",
       "      <td id=\"T_d5edb_row12_col4\" class=\"data row12 col4\" >9.597358</td>\n",
       "      <td id=\"T_d5edb_row12_col5\" class=\"data row12 col5\" >265800</td>\n",
       "      <td id=\"T_d5edb_row12_col6\" class=\"data row12 col6\" >265800</td>\n",
       "    </tr>\n",
       "    <tr>\n",
       "      <th id=\"T_d5edb_level0_row13\" class=\"row_heading level0 row13\" >night</th>\n",
       "      <td id=\"T_d5edb_row13_col0\" class=\"data row13 col0\" >NN</td>\n",
       "      <td id=\"T_d5edb_row13_col1\" class=\"data row13 col1\" >0.000539</td>\n",
       "      <td id=\"T_d5edb_row13_col2\" class=\"data row13 col2\" >200</td>\n",
       "      <td id=\"T_d5edb_row13_col3\" class=\"data row13 col3\" >197</td>\n",
       "      <td id=\"T_d5edb_row13_col4\" class=\"data row13 col4\" >10.857139</td>\n",
       "      <td id=\"T_d5edb_row13_col5\" class=\"data row13 col5\" >222000</td>\n",
       "      <td id=\"T_d5edb_row13_col6\" class=\"data row13 col6\" >218670</td>\n",
       "    </tr>\n",
       "    <tr>\n",
       "      <th id=\"T_d5edb_level0_row14\" class=\"row_heading level0 row14\" >kind</th>\n",
       "      <td id=\"T_d5edb_row14_col0\" class=\"data row14 col0\" >NN</td>\n",
       "      <td id=\"T_d5edb_row14_col1\" class=\"data row14 col1\" >0.000337</td>\n",
       "      <td id=\"T_d5edb_row14_col2\" class=\"data row14 col2\" >300</td>\n",
       "      <td id=\"T_d5edb_row14_col3\" class=\"data row14 col3\" >279</td>\n",
       "      <td id=\"T_d5edb_row14_col4\" class=\"data row14 col4\" >11.534691</td>\n",
       "      <td id=\"T_d5edb_row14_col5\" class=\"data row14 col5\" >208200</td>\n",
       "      <td id=\"T_d5edb_row14_col6\" class=\"data row14 col6\" >193626</td>\n",
       "    </tr>\n",
       "    <tr>\n",
       "      <th id=\"T_d5edb_level0_row15\" class=\"row_heading level0 row15\" >god</th>\n",
       "      <td id=\"T_d5edb_row15_col0\" class=\"data row15 col0\" >NNP</td>\n",
       "      <td id=\"T_d5edb_row15_col1\" class=\"data row15 col1\" >0.000240</td>\n",
       "      <td id=\"T_d5edb_row15_col2\" class=\"data row15 col2\" >400</td>\n",
       "      <td id=\"T_d5edb_row15_col3\" class=\"data row15 col3\" >356</td>\n",
       "      <td id=\"T_d5edb_row15_col4\" class=\"data row15 col4\" >12.025116</td>\n",
       "      <td id=\"T_d5edb_row15_col5\" class=\"data row15 col5\" >197600</td>\n",
       "      <td id=\"T_d5edb_row15_col6\" class=\"data row15 col6\" >175864</td>\n",
       "    </tr>\n",
       "    <tr>\n",
       "      <th id=\"T_d5edb_level0_row16\" class=\"row_heading level0 row16\" >fire</th>\n",
       "      <td id=\"T_d5edb_row16_col0\" class=\"data row16 col0\" >NN</td>\n",
       "      <td id=\"T_d5edb_row16_col1\" class=\"data row16 col1\" >0.000191</td>\n",
       "      <td id=\"T_d5edb_row16_col2\" class=\"data row16 col2\" >500</td>\n",
       "      <td id=\"T_d5edb_row16_col3\" class=\"data row16 col3\" >420</td>\n",
       "      <td id=\"T_d5edb_row16_col4\" class=\"data row16 col4\" >12.355097</td>\n",
       "      <td id=\"T_d5edb_row16_col5\" class=\"data row16 col5\" >196500</td>\n",
       "      <td id=\"T_d5edb_row16_col6\" class=\"data row16 col6\" >165060</td>\n",
       "    </tr>\n",
       "    <tr>\n",
       "      <th id=\"T_d5edb_level0_row17\" class=\"row_heading level0 row17\" >heaven</th>\n",
       "      <td id=\"T_d5edb_row17_col0\" class=\"data row17 col0\" >NN</td>\n",
       "      <td id=\"T_d5edb_row17_col1\" class=\"data row17 col1\" >0.000157</td>\n",
       "      <td id=\"T_d5edb_row17_col2\" class=\"data row17 col2\" >600</td>\n",
       "      <td id=\"T_d5edb_row17_col3\" class=\"data row17 col3\" >475</td>\n",
       "      <td id=\"T_d5edb_row17_col4\" class=\"data row17 col4\" >12.633633</td>\n",
       "      <td id=\"T_d5edb_row17_col5\" class=\"data row17 col5\" >194400</td>\n",
       "      <td id=\"T_d5edb_row17_col6\" class=\"data row17 col6\" >153900</td>\n",
       "    </tr>\n",
       "    <tr>\n",
       "      <th id=\"T_d5edb_level0_row18\" class=\"row_heading level0 row18\" >countenance</th>\n",
       "      <td id=\"T_d5edb_row18_col0\" class=\"data row18 col0\" >NN</td>\n",
       "      <td id=\"T_d5edb_row18_col1\" class=\"data row18 col1\" >0.000135</td>\n",
       "      <td id=\"T_d5edb_row18_col2\" class=\"data row18 col2\" >700</td>\n",
       "      <td id=\"T_d5edb_row18_col3\" class=\"data row18 col3\" >514</td>\n",
       "      <td id=\"T_d5edb_row18_col4\" class=\"data row18 col4\" >12.854542</td>\n",
       "      <td id=\"T_d5edb_row18_col5\" class=\"data row18 col5\" >194600</td>\n",
       "      <td id=\"T_d5edb_row18_col6\" class=\"data row18 col6\" >142892</td>\n",
       "    </tr>\n",
       "    <tr>\n",
       "      <th id=\"T_d5edb_level0_row19\" class=\"row_heading level0 row19\" >seldom</th>\n",
       "      <td id=\"T_d5edb_row19_col0\" class=\"data row19 col0\" >RB</td>\n",
       "      <td id=\"T_d5edb_row19_col1\" class=\"data row19 col1\" >0.000118</td>\n",
       "      <td id=\"T_d5edb_row19_col2\" class=\"data row19 col2\" >800</td>\n",
       "      <td id=\"T_d5edb_row19_col3\" class=\"data row19 col3\" >546</td>\n",
       "      <td id=\"T_d5edb_row19_col4\" class=\"data row19 col4\" >13.054620</td>\n",
       "      <td id=\"T_d5edb_row19_col5\" class=\"data row19 col5\" >193600</td>\n",
       "      <td id=\"T_d5edb_row19_col6\" class=\"data row19 col6\" >132132</td>\n",
       "    </tr>\n",
       "    <tr>\n",
       "      <th id=\"T_d5edb_level0_row20\" class=\"row_heading level0 row20\" >superior</th>\n",
       "      <td id=\"T_d5edb_row20_col0\" class=\"data row20 col0\" >JJ</td>\n",
       "      <td id=\"T_d5edb_row20_col1\" class=\"data row20 col1\" >0.000104</td>\n",
       "      <td id=\"T_d5edb_row20_col2\" class=\"data row20 col2\" >900</td>\n",
       "      <td id=\"T_d5edb_row20_col3\" class=\"data row20 col3\" >573</td>\n",
       "      <td id=\"T_d5edb_row20_col4\" class=\"data row20 col4\" >13.225290</td>\n",
       "      <td id=\"T_d5edb_row20_col5\" class=\"data row20 col5\" >193500</td>\n",
       "      <td id=\"T_d5edb_row20_col6\" class=\"data row20 col6\" >123195</td>\n",
       "    </tr>\n",
       "    <tr>\n",
       "      <th id=\"T_d5edb_level0_row21\" class=\"row_heading level0 row21\" >hearts</th>\n",
       "      <td id=\"T_d5edb_row21_col0\" class=\"data row21 col0\" >NNS</td>\n",
       "      <td id=\"T_d5edb_row21_col1\" class=\"data row21 col1\" >0.000095</td>\n",
       "      <td id=\"T_d5edb_row21_col2\" class=\"data row21 col2\" >1000</td>\n",
       "      <td id=\"T_d5edb_row21_col3\" class=\"data row21 col3\" >592</td>\n",
       "      <td id=\"T_d5edb_row21_col4\" class=\"data row21 col4\" >13.366153</td>\n",
       "      <td id=\"T_d5edb_row21_col5\" class=\"data row21 col5\" >195000</td>\n",
       "      <td id=\"T_d5edb_row21_col6\" class=\"data row21 col6\" >115440</td>\n",
       "    </tr>\n",
       "    <tr>\n",
       "      <th id=\"T_d5edb_level0_row22\" class=\"row_heading level0 row22\" >seeking</th>\n",
       "      <td id=\"T_d5edb_row22_col0\" class=\"data row22 col0\" >VBG</td>\n",
       "      <td id=\"T_d5edb_row22_col1\" class=\"data row22 col1\" >0.000046</td>\n",
       "      <td id=\"T_d5edb_row22_col2\" class=\"data row22 col2\" >2000</td>\n",
       "      <td id=\"T_d5edb_row22_col3\" class=\"data row22 col3\" >692</td>\n",
       "      <td id=\"T_d5edb_row22_col4\" class=\"data row22 col4\" >14.403627</td>\n",
       "      <td id=\"T_d5edb_row22_col5\" class=\"data row22 col5\" >190000</td>\n",
       "      <td id=\"T_d5edb_row22_col6\" class=\"data row22 col6\" >65740</td>\n",
       "    </tr>\n",
       "    <tr>\n",
       "      <th id=\"T_d5edb_level0_row23\" class=\"row_heading level0 row23\" >distinction</th>\n",
       "      <td id=\"T_d5edb_row23_col0\" class=\"data row23 col0\" >NN</td>\n",
       "      <td id=\"T_d5edb_row23_col1\" class=\"data row23 col1\" >0.000029</td>\n",
       "      <td id=\"T_d5edb_row23_col2\" class=\"data row23 col2\" >3000</td>\n",
       "      <td id=\"T_d5edb_row23_col3\" class=\"data row23 col3\" >728</td>\n",
       "      <td id=\"T_d5edb_row23_col4\" class=\"data row23 col4\" >15.090840</td>\n",
       "      <td id=\"T_d5edb_row23_col5\" class=\"data row23 col5\" >177000</td>\n",
       "      <td id=\"T_d5edb_row23_col6\" class=\"data row23 col6\" >42952</td>\n",
       "    </tr>\n",
       "    <tr>\n",
       "      <th id=\"T_d5edb_level0_row24\" class=\"row_heading level0 row24\" >millthorpe</th>\n",
       "      <td id=\"T_d5edb_row24_col0\" class=\"data row24 col0\" >NNP</td>\n",
       "      <td id=\"T_d5edb_row24_col1\" class=\"data row24 col1\" >0.000020</td>\n",
       "      <td id=\"T_d5edb_row24_col2\" class=\"data row24 col2\" >4000</td>\n",
       "      <td id=\"T_d5edb_row24_col3\" class=\"data row24 col3\" >745</td>\n",
       "      <td id=\"T_d5edb_row24_col4\" class=\"data row24 col4\" >15.581166</td>\n",
       "      <td id=\"T_d5edb_row24_col5\" class=\"data row24 col5\" >168000</td>\n",
       "      <td id=\"T_d5edb_row24_col6\" class=\"data row24 col6\" >31290</td>\n",
       "    </tr>\n",
       "    <tr>\n",
       "      <th id=\"T_d5edb_level0_row25\" class=\"row_heading level0 row25\" >maker</th>\n",
       "      <td id=\"T_d5edb_row25_col0\" class=\"data row25 col0\" >NN</td>\n",
       "      <td id=\"T_d5edb_row25_col1\" class=\"data row25 col1\" >0.000016</td>\n",
       "      <td id=\"T_d5edb_row25_col2\" class=\"data row25 col2\" >5000</td>\n",
       "      <td id=\"T_d5edb_row25_col3\" class=\"data row25 col3\" >755</td>\n",
       "      <td id=\"T_d5edb_row25_col4\" class=\"data row25 col4\" >15.973483</td>\n",
       "      <td id=\"T_d5edb_row25_col5\" class=\"data row25 col5\" >160000</td>\n",
       "      <td id=\"T_d5edb_row25_col6\" class=\"data row25 col6\" >24160</td>\n",
       "    </tr>\n",
       "    <tr>\n",
       "      <th id=\"T_d5edb_level0_row26\" class=\"row_heading level0 row26\" >resemble</th>\n",
       "      <td id=\"T_d5edb_row26_col0\" class=\"data row26 col0\" >VB</td>\n",
       "      <td id=\"T_d5edb_row26_col1\" class=\"data row26 col1\" >0.000012</td>\n",
       "      <td id=\"T_d5edb_row26_col2\" class=\"data row26 col2\" >6000</td>\n",
       "      <td id=\"T_d5edb_row26_col3\" class=\"data row26 col3\" >762</td>\n",
       "      <td id=\"T_d5edb_row26_col4\" class=\"data row26 col4\" >16.329627</td>\n",
       "      <td id=\"T_d5edb_row26_col5\" class=\"data row26 col5\" >150000</td>\n",
       "      <td id=\"T_d5edb_row26_col6\" class=\"data row26 col6\" >19050</td>\n",
       "    </tr>\n",
       "    <tr>\n",
       "      <th id=\"T_d5edb_level0_row27\" class=\"row_heading level0 row27\" >infamous</th>\n",
       "      <td id=\"T_d5edb_row27_col0\" class=\"data row27 col0\" >JJ</td>\n",
       "      <td id=\"T_d5edb_row27_col1\" class=\"data row27 col1\" >0.000010</td>\n",
       "      <td id=\"T_d5edb_row27_col2\" class=\"data row27 col2\" >7000</td>\n",
       "      <td id=\"T_d5edb_row27_col3\" class=\"data row27 col3\" >767</td>\n",
       "      <td id=\"T_d5edb_row27_col4\" class=\"data row27 col4\" >16.651555</td>\n",
       "      <td id=\"T_d5edb_row27_col5\" class=\"data row27 col5\" >140000</td>\n",
       "      <td id=\"T_d5edb_row27_col6\" class=\"data row27 col6\" >15340</td>\n",
       "    </tr>\n",
       "    <tr>\n",
       "      <th id=\"T_d5edb_level0_row28\" class=\"row_heading level0 row28\" >homes</th>\n",
       "      <td id=\"T_d5edb_row28_col0\" class=\"data row28 col0\" >NN</td>\n",
       "      <td id=\"T_d5edb_row28_col1\" class=\"data row28 col1\" >0.000008</td>\n",
       "      <td id=\"T_d5edb_row28_col2\" class=\"data row28 col2\" >8000</td>\n",
       "      <td id=\"T_d5edb_row28_col3\" class=\"data row28 col3\" >771</td>\n",
       "      <td id=\"T_d5edb_row28_col4\" class=\"data row28 col4\" >16.973483</td>\n",
       "      <td id=\"T_d5edb_row28_col5\" class=\"data row28 col5\" >128000</td>\n",
       "      <td id=\"T_d5edb_row28_col6\" class=\"data row28 col6\" >12336</td>\n",
       "    </tr>\n",
       "  </tbody>\n",
       "</table>\n"
      ],
      "text/plain": [
       "<pandas.io.formats.style.Styler at 0x7fb35e4bf310>"
      ]
     },
     "execution_count": 93,
     "metadata": {},
     "output_type": "execute_result"
    }
   ],
   "source": [
    "DEMO.style.background_gradient(cmap='YlGnBu', high=.5)"
   ]
  },
  {
   "cell_type": "markdown",
   "id": "e45c4de1-f021-436e-88f0-8d25da394105",
   "metadata": {},
   "source": [
    "## Rank and Information\n",
    "\n",
    "Rank and information appear to be closely related."
   ]
  },
  {
   "cell_type": "code",
   "execution_count": 94,
   "id": "eaad94a6-263d-46d2-ac40-768af2029709",
   "metadata": {
    "tags": []
   },
   "outputs": [
    {
     "data": {
      "image/png": "[encoded data removed]",
      "text/plain": [
       "<Figure size 640x480 with 1 Axes>"
      ]
     },
     "metadata": {},
     "output_type": "display_data"
    }
   ],
   "source": [
    "VOCAB.plot.scatter('term_rank2', 'i');"
   ]
  },
  {
   "cell_type": "markdown",
   "id": "79e7210f-0887-43b7-86a6-a28e19fce1e4",
   "metadata": {},
   "source": [
    "And, log $r$ tracks with $i$."
   ]
  },
  {
   "cell_type": "code",
   "execution_count": 96,
   "id": "3cafd6af-028d-4da0-833b-29efb5310873",
   "metadata": {
    "tags": []
   },
   "outputs": [
    {
     "data": {
      "image/png": "[encoded data removed]",
      "text/plain": [
       "<Figure size 640x480 with 1 Axes>"
      ]
     },
     "metadata": {},
     "output_type": "display_data"
    }
   ],
   "source": [
    "VOCAB.plot.scatter('term_rank', 'i', logx=True, logy=False);"
   ]
  },
  {
   "cell_type": "code",
   "execution_count": 97,
   "id": "8a5adc63-ec1b-4ce3-b211-245709242a13",
   "metadata": {
    "tags": []
   },
   "outputs": [],
   "source": [
    "VOCAB['log_r'] = np.log2(VOCAB.term_rank)"
   ]
  },
  {
   "cell_type": "code",
   "execution_count": 98,
   "id": "f6bf6f26-c822-4b9a-be6f-deaf6a25418c",
   "metadata": {
    "tags": []
   },
   "outputs": [
    {
     "data": {
      "text/html": [
       "<div>\n",
       "<style scoped>\n",
       "    .dataframe tbody tr th:only-of-type {\n",
       "        vertical-align: middle;\n",
       "    }\n",
       "\n",
       "    .dataframe tbody tr th {\n",
       "        vertical-align: top;\n",
       "    }\n",
       "\n",
       "    .dataframe thead th {\n",
       "        text-align: right;\n",
       "    }\n",
       "</style>\n",
       "<table border=\"1\" class=\"dataframe\">\n",
       "  <thead>\n",
       "    <tr style=\"text-align: right;\">\n",
       "      <th></th>\n",
       "      <th>log_r</th>\n",
       "      <th>i</th>\n",
       "    </tr>\n",
       "  </thead>\n",
       "  <tbody>\n",
       "    <tr>\n",
       "      <th>log_r</th>\n",
       "      <td>1.000000</td>\n",
       "      <td>0.981704</td>\n",
       "    </tr>\n",
       "    <tr>\n",
       "      <th>i</th>\n",
       "      <td>0.981704</td>\n",
       "      <td>1.000000</td>\n",
       "    </tr>\n",
       "  </tbody>\n",
       "</table>\n",
       "</div>"
      ],
      "text/plain": [
       "          log_r         i\n",
       "log_r  1.000000  0.981704\n",
       "i      0.981704  1.000000"
      ]
     },
     "execution_count": 98,
     "metadata": {},
     "output_type": "execute_result"
    }
   ],
   "source": [
    "VOCAB[['log_r','i']].corr()"
   ]
  },
  {
   "cell_type": "markdown",
   "id": "ff74a6cb-a9e3-425d-994f-21b36439787d",
   "metadata": {},
   "source": [
    "Also, $i$ vs $r$ provides an example of logistic growth. "
   ]
  },
  {
   "cell_type": "code",
   "execution_count": 99,
   "id": "8e9fbb7b-6114-46ae-a241-48be373446d2",
   "metadata": {
    "tags": []
   },
   "outputs": [
    {
     "data": {
      "image/png": "[encoded data removed]",
      "text/plain": [
       "<Figure size 640x480 with 1 Axes>"
      ]
     },
     "metadata": {},
     "output_type": "display_data"
    }
   ],
   "source": [
    "VOCAB.plot.scatter('i', 'term_rank2', logx=False, logy=False);"
   ]
  },
  {
   "cell_type": "code",
   "execution_count": 100,
   "id": "52fb05e1-3595-4d8a-a903-2edd1758f4d4",
   "metadata": {
    "tags": []
   },
   "outputs": [
    {
     "data": {
      "image/png": "[encoded data removed]",
      "text/plain": [
       "<Figure size 640x480 with 1 Axes>"
      ]
     },
     "metadata": {},
     "output_type": "display_data"
    }
   ],
   "source": [
    "VOCAB.plot.scatter('i', 'term_rank', logx=False, logy=False);"
   ]
  },
  {
   "cell_type": "markdown",
   "id": "a0370a5f-4e9d-4d7b-b70d-7c353e1b16dc",
   "metadata": {},
   "source": [
    "## Observations\n",
    "\n",
    "* Zipf's law sheds light on a basic structure of language -- the division between words that do **grammatical work** and those that do **semantic work**.\n",
    "* Zipf's constant is not borne out by the data. \n",
    "* Zipf's rank order does not group words with the same count; so, we've created an alternate rank based on word count groupings.\n",
    "* Information $i$ may be used as a replacement for rank when exploring corpus level significance trends."
   ]
  },
  {
   "cell_type": "markdown",
   "id": "76713ae7-8147-4e6f-b4bd-37996fb271b4",
   "metadata": {},
   "source": [
    "# Extra: Open vs Closed Words\n",
    "\n",
    "Let's look at the concept of open and closed words.\n",
    "\n",
    "We can do this by compare the number of types (terms) and tokens for each POS."
   ]
  },
  {
   "cell_type": "code",
   "execution_count": 101,
   "id": "1d226d0d-bd2e-4e25-b235-cc806830cdbb",
   "metadata": {
    "tags": []
   },
   "outputs": [],
   "source": [
    "POS_GROUP['n_terms'] = VOCAB.max_pos.value_counts() \n",
    "POS_GROUP['n_tokens'] = VOCAB.groupby('max_pos').n.sum()"
   ]
  },
  {
   "cell_type": "code",
   "execution_count": 105,
   "id": "38c001c1-2705-4d22-95c9-13ac2d0cb4bc",
   "metadata": {
    "tags": []
   },
   "outputs": [],
   "source": [
    "POS_GROUP['type_token_ratio'] = POS_GROUP.n_terms / POS_GROUP.n_tokens"
   ]
  },
  {
   "cell_type": "code",
   "execution_count": 106,
   "id": "5e1b0ba2-7e82-481b-9724-4a4ede85dfb6",
   "metadata": {
    "tags": []
   },
   "outputs": [
    {
     "data": {
      "image/png": "[encoded data removed]",
      "text/plain": [
       "<Figure size 640x480 with 1 Axes>"
      ]
     },
     "metadata": {},
     "output_type": "display_data"
    }
   ],
   "source": [
    "POS_GROUP.type_token_ratio.dropna().sort_values()\\\n",
    "    .plot.bar(logy=True, rot=0, title=\"POS Type /Token Ratios (Log y)\");"
   ]
  },
  {
   "cell_type": "markdown",
   "id": "7c69d791-87de-45dd-84dc-b9658687f0be",
   "metadata": {
    "tags": []
   },
   "source": [
    "We can see in both charts that two groups of words form.\n",
    "\n",
    "| CLASS | TYPE/TOKEN | POS | THRESH |\n",
    "|--|--|--|--|\n",
    "| Open | High | Nouns, Adjectives, Verbs, Adverbs, Foreign Words* | $> 10^{-2}$ |\n",
    "| Closed | Low | Function words | $< 10^{-3}$|\n",
    "\n",
    "\\*Foreigns words are typically nouns."
   ]
  },
  {
   "cell_type": "markdown",
   "id": "5fb59f0f-8a1d-4d71-bdd4-345634c3702c",
   "metadata": {},
   "source": [
    "# Save"
   ]
  },
  {
   "cell_type": "code",
   "execution_count": 107,
   "id": "2e58fa25-0153-454e-83eb-55ccd3c284f4",
   "metadata": {
    "tags": []
   },
   "outputs": [],
   "source": [
    "DEMO.to_csv(f\"{output_dir}/{data_prefix}-DEMO.csv\")\n",
    "VOCAB.to_csv(f\"{output_dir}/{data_prefix}-VOCAB_RANKED.csv\")"
   ]
  }
 ],
 "metadata": {
  "kernelspec": {
   "display_name": "Python 3 (ipykernel)",
   "language": "python",
   "name": "python3"
  },
  "language_info": {
   "codemirror_mode": {
    "name": "ipython",
    "version": 3
   },
   "file_extension": ".py",
   "mimetype": "text/x-python",
   "name": "python",
   "nbconvert_exporter": "python",
   "pygments_lexer": "ipython3",
   "version": "3.11.7"
  }
 },
 "nbformat": 4,
 "nbformat_minor": 5
}
