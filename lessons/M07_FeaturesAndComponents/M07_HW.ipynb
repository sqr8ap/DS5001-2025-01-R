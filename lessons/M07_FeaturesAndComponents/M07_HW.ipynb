{
 "cells": [
  {
   "cell_type": "markdown",
   "id": "0395e836-9c43-403a-9f3d-e4565d83826b",
   "metadata": {},
   "source": [
    "# M07 Homework\n",
    "- Name: Sam Remmey\n",
    "- Net ID: sqr8ap\n",
    "- URL of this file in GitHub: https://github.com/sqr8ap/DS5001-2025-01-R/blob/m07/lessons/M07_FeaturesAndComponents/M07_HW.ipynb\n",
    "\n",
    "Note: for the boxplots, I used plotly px.box, but these don't render in my html, so I also included seaborn versions just for reference and to show I produced plots"
   ]
  },
  {
   "cell_type": "code",
   "execution_count": 225,
   "id": "1f528b9e-be63-46be-94f4-86d70cfedbb8",
   "metadata": {},
   "outputs": [],
   "source": [
    "import pandas as pd\n",
    "import numpy as np\n",
    "from scipy.linalg import norm\n",
    "from scipy.linalg import eigh\n",
    "import plotly_express as px\n",
    "import matplotlib.pyplot as plt\n",
    "import seaborn as sns\n",
    "sns.set(style='ticks')"
   ]
  },
  {
   "cell_type": "code",
   "execution_count": 4,
   "id": "35332b44-eefa-4606-903b-e615c9a4b28d",
   "metadata": {},
   "outputs": [],
   "source": [
    "import configparser\n",
    "config = configparser.ConfigParser()\n",
    "config.read(\"../../../env.ini\")\n",
    "data_home = config['DEFAULT']['data_home']\n",
    "output_dir = config['DEFAULT']['output_dir']\n",
    "local_lib = config['DEFAULT']['local_lib']"
   ]
  },
  {
   "cell_type": "code",
   "execution_count": 160,
   "id": "3111bbea-29e1-4f9f-9179-40707153fe71",
   "metadata": {},
   "outputs": [],
   "source": [
    "# Import data\n",
    "\n",
    "OHCO = ['book_id','chap_id','para_num','sent_num','token_num']\n",
    "\n",
    "LIB = pd.read_csv(f'{data_home}/novels-LIB.csv').set_index('book_id')\n",
    "LIB['title'] = LIB.index\n",
    "LIB.columns = ['genre', 'author', 'title']\n",
    "TOKEN = pd.read_csv(f'{data_home}/novels-CORPUS.csv').set_index(OHCO)"
   ]
  },
  {
   "cell_type": "code",
   "execution_count": 162,
   "id": "e57b4fdb-c4fd-43d6-8e78-6da548a1f81e",
   "metadata": {
    "scrolled": true
   },
   "outputs": [
    {
     "data": {
      "text/html": [
       "<div>\n",
       "<style scoped>\n",
       "    .dataframe tbody tr th:only-of-type {\n",
       "        vertical-align: middle;\n",
       "    }\n",
       "\n",
       "    .dataframe tbody tr th {\n",
       "        vertical-align: top;\n",
       "    }\n",
       "\n",
       "    .dataframe thead th {\n",
       "        text-align: right;\n",
       "    }\n",
       "</style>\n",
       "<table border=\"1\" class=\"dataframe\">\n",
       "  <thead>\n",
       "    <tr style=\"text-align: right;\">\n",
       "      <th></th>\n",
       "      <th></th>\n",
       "      <th></th>\n",
       "      <th></th>\n",
       "      <th></th>\n",
       "      <th>pos</th>\n",
       "      <th>term_str</th>\n",
       "    </tr>\n",
       "    <tr>\n",
       "      <th>book_id</th>\n",
       "      <th>chap_id</th>\n",
       "      <th>para_num</th>\n",
       "      <th>sent_num</th>\n",
       "      <th>token_num</th>\n",
       "      <th></th>\n",
       "      <th></th>\n",
       "    </tr>\n",
       "  </thead>\n",
       "  <tbody>\n",
       "    <tr>\n",
       "      <th>castleofotranto</th>\n",
       "      <th>2</th>\n",
       "      <th>89</th>\n",
       "      <th>0</th>\n",
       "      <th>7</th>\n",
       "      <td>NN</td>\n",
       "      <td>man</td>\n",
       "    </tr>\n",
       "    <tr>\n",
       "      <th>dracula</th>\n",
       "      <th>20</th>\n",
       "      <th>20</th>\n",
       "      <th>0</th>\n",
       "      <th>4</th>\n",
       "      <td>IN</td>\n",
       "      <td>in</td>\n",
       "    </tr>\n",
       "    <tr>\n",
       "      <th>moonstone</th>\n",
       "      <th>50</th>\n",
       "      <th>2</th>\n",
       "      <th>14</th>\n",
       "      <th>13</th>\n",
       "      <td>NN</td>\n",
       "      <td>kind</td>\n",
       "    </tr>\n",
       "  </tbody>\n",
       "</table>\n",
       "</div>"
      ],
      "text/plain": [
       "                                                    pos term_str\n",
       "book_id         chap_id para_num sent_num token_num             \n",
       "castleofotranto 2       89       0        7          NN      man\n",
       "dracula         20      20       0        4          IN       in\n",
       "moonstone       50      2        14       13         NN     kind"
      ]
     },
     "execution_count": 162,
     "metadata": {},
     "output_type": "execute_result"
    }
   ],
   "source": [
    "TOKEN.sample(3)"
   ]
  },
  {
   "cell_type": "code",
   "execution_count": 164,
   "id": "0c203788-13a9-46b8-97fd-115a91d58bfa",
   "metadata": {},
   "outputs": [
    {
     "data": {
      "text/html": [
       "<div>\n",
       "<style scoped>\n",
       "    .dataframe tbody tr th:only-of-type {\n",
       "        vertical-align: middle;\n",
       "    }\n",
       "\n",
       "    .dataframe tbody tr th {\n",
       "        vertical-align: top;\n",
       "    }\n",
       "\n",
       "    .dataframe thead th {\n",
       "        text-align: right;\n",
       "    }\n",
       "</style>\n",
       "<table border=\"1\" class=\"dataframe\">\n",
       "  <thead>\n",
       "    <tr style=\"text-align: right;\">\n",
       "      <th></th>\n",
       "      <th>genre</th>\n",
       "      <th>author</th>\n",
       "      <th>title</th>\n",
       "    </tr>\n",
       "    <tr>\n",
       "      <th>book_id</th>\n",
       "      <th></th>\n",
       "      <th></th>\n",
       "      <th></th>\n",
       "    </tr>\n",
       "  </thead>\n",
       "  <tbody>\n",
       "    <tr>\n",
       "      <th>moonstone</th>\n",
       "      <td>d</td>\n",
       "      <td>collins</td>\n",
       "      <td>moonstone</td>\n",
       "    </tr>\n",
       "    <tr>\n",
       "      <th>christmascarole</th>\n",
       "      <td>g</td>\n",
       "      <td>dickens</td>\n",
       "      <td>christmascarole</td>\n",
       "    </tr>\n",
       "    <tr>\n",
       "      <th>frankenstein</th>\n",
       "      <td>g</td>\n",
       "      <td>shelley</td>\n",
       "      <td>frankenstein</td>\n",
       "    </tr>\n",
       "  </tbody>\n",
       "</table>\n",
       "</div>"
      ],
      "text/plain": [
       "                genre   author            title\n",
       "book_id                                        \n",
       "moonstone           d  collins        moonstone\n",
       "christmascarole     g  dickens  christmascarole\n",
       "frankenstein        g  shelley     frankenstein"
      ]
     },
     "execution_count": 164,
     "metadata": {},
     "output_type": "execute_result"
    }
   ],
   "source": [
    "LIB.sample(3)"
   ]
  },
  {
   "cell_type": "code",
   "execution_count": 166,
   "id": "ed38a76d-e7cf-41e5-ac62-8eb01e2bda1f",
   "metadata": {},
   "outputs": [],
   "source": [
    "# Extract a VOCAB table and add max_pos as a column\n",
    "\n",
    "VOCAB = TOKEN.term_str.value_counts().to_frame('n').sort_index()\n",
    "VOCAB.index.name = 'term_str'\n",
    "VOCAB['n_chars'] = VOCAB.index.str.len()\n",
    "VOCAB['p'] = VOCAB.n / VOCAB.n.sum()\n",
    "VOCAB['i'] = -np.log2(VOCAB.p)\n",
    "VOCAB['max_pos'] = TOKEN[['term_str','pos']].value_counts().unstack(fill_value=0).idxmax(1)"
   ]
  },
  {
   "cell_type": "code",
   "execution_count": 168,
   "id": "73fd40f5-7b3a-40fb-b39e-a35e85f02fea",
   "metadata": {},
   "outputs": [
    {
     "data": {
      "text/html": [
       "<div>\n",
       "<style scoped>\n",
       "    .dataframe tbody tr th:only-of-type {\n",
       "        vertical-align: middle;\n",
       "    }\n",
       "\n",
       "    .dataframe tbody tr th {\n",
       "        vertical-align: top;\n",
       "    }\n",
       "\n",
       "    .dataframe thead th {\n",
       "        text-align: right;\n",
       "    }\n",
       "</style>\n",
       "<table border=\"1\" class=\"dataframe\">\n",
       "  <thead>\n",
       "    <tr style=\"text-align: right;\">\n",
       "      <th></th>\n",
       "      <th>n</th>\n",
       "      <th>n_chars</th>\n",
       "      <th>p</th>\n",
       "      <th>i</th>\n",
       "      <th>max_pos</th>\n",
       "    </tr>\n",
       "    <tr>\n",
       "      <th>term_str</th>\n",
       "      <th></th>\n",
       "      <th></th>\n",
       "      <th></th>\n",
       "      <th></th>\n",
       "      <th></th>\n",
       "    </tr>\n",
       "  </thead>\n",
       "  <tbody>\n",
       "    <tr>\n",
       "      <th>maxim</th>\n",
       "      <td>2</td>\n",
       "      <td>5</td>\n",
       "      <td>1.332965e-06</td>\n",
       "      <td>19.51693</td>\n",
       "      <td>NN</td>\n",
       "    </tr>\n",
       "    <tr>\n",
       "      <th>conform</th>\n",
       "      <td>4</td>\n",
       "      <td>7</td>\n",
       "      <td>2.665929e-06</td>\n",
       "      <td>18.51693</td>\n",
       "      <td>VB</td>\n",
       "    </tr>\n",
       "    <tr>\n",
       "      <th>arbiters</th>\n",
       "      <td>1</td>\n",
       "      <td>8</td>\n",
       "      <td>6.664823e-07</td>\n",
       "      <td>20.51693</td>\n",
       "      <td>NNS</td>\n",
       "    </tr>\n",
       "  </tbody>\n",
       "</table>\n",
       "</div>"
      ],
      "text/plain": [
       "          n  n_chars             p         i max_pos\n",
       "term_str                                            \n",
       "maxim     2        5  1.332965e-06  19.51693      NN\n",
       "conform   4        7  2.665929e-06  18.51693      VB\n",
       "arbiters  1        8  6.664823e-07  20.51693     NNS"
      ]
     },
     "execution_count": 168,
     "metadata": {},
     "output_type": "execute_result"
    }
   ],
   "source": [
    "VOCAB.sample(3)"
   ]
  },
  {
   "cell_type": "code",
   "execution_count": 170,
   "id": "9ddd0660-27e3-4226-9f53-7f6dd29f1209",
   "metadata": {},
   "outputs": [],
   "source": [
    "# Compute TFIDF and VOCAB['dfidf'] for the CORPUS\n",
    "\n",
    "def gen_bow(TOKENS, OHCO_LEVEL='CHAPS'):\n",
    "    '''\n",
    "    This function takes a tokens table and a choice of bag and returns a BOW representation in the form of a document-term count matrix. \n",
    "\n",
    "    Parameters\n",
    "    TOKENS: tokens table; a dataframe\n",
    "    OCHO_LEVEL: choice of bag; a string (either 'BOOKS', 'CHAPS', 'PARAS' or 'SENTS'); defaults to 'CHAPS'\n",
    "\n",
    "    Returns\n",
    "    DTCM: document-term count matrix\n",
    "    '''\n",
    "    OHCO = ['book_id','chap_id','para_num','sent_num','token_num']\n",
    "    bags = dict(\n",
    "        SENTS = OHCO[:4],\n",
    "        PARAS = OHCO[:3],\n",
    "        CHAPS = OHCO[:2],\n",
    "        BOOKS = OHCO[:1])\n",
    "    \n",
    "    BOW = TOKENS.groupby(bags[OHCO_LEVEL]+['term_str']).term_str.count().to_frame('n')\n",
    "    DTCM = BOW.n.unstack(fill_value=0)\n",
    "\n",
    "    return DTCM\n",
    "\n",
    "def gen_tfidf(DTCM, TF_METHOD='sum'):\n",
    "    '''\n",
    "    This function takes a BOW table (DTCM) and type of tf metric and returns the TFIDF/DFIDF values for the BOW. \n",
    "\n",
    "    Parameters\n",
    "    DTCM: BOW table; a dataframe\n",
    "    TF_METHOD: a string; either 'sum', 'max', 'log', 'raw', 'double_norm' or 'binary'; defaults to 'sum'\n",
    "\n",
    "    Returns\n",
    "    TFIDF: a dataframe\n",
    "    DFIDF: a series\n",
    "    '''\n",
    "\n",
    "    tf_norm_k = 0.5\n",
    "    idf_method = 'standard'\n",
    "    gradient_cmap = 'YlGnBu'\n",
    "    tf = {\n",
    "        'sum': (DTCM.T / DTCM.T.sum()).T,\n",
    "        'max': (DTCM.T / DTCM.T.max()).T,\n",
    "        'log': (np.log2(1 + DTCM.T)).T,\n",
    "        'raw':  DTCM,\n",
    "        'double_norm': (DTCM.T / DTCM.T.max()).T,\n",
    "        'binary': DTCM.T.astype('bool').astype('int').T}\n",
    "\n",
    "    TF = tf[TF_METHOD]\n",
    "\n",
    "    DF = DTCM.astype('bool').sum() \n",
    "\n",
    "    N = DTCM.shape[0]   \n",
    "    \n",
    "    IDF = np.log2(N / DF)\n",
    "\n",
    "    TFIDF = TF * IDF\n",
    "    DFIDF = DF * IDF\n",
    "    \n",
    "    return TFIDF, DFIDF"
   ]
  },
  {
   "cell_type": "code",
   "execution_count": 172,
   "id": "cb1c4174-957b-4e61-b131-deba1bb47ba6",
   "metadata": {},
   "outputs": [],
   "source": [
    "my_dtcm = gen_bow(TOKEN) # default bag level is chapter\n",
    "idfs = gen_tfidf(my_dtcm, TF_METHOD = 'max')\n",
    "TFIDF, DFIDF = idfs[0], idfs[1]"
   ]
  },
  {
   "cell_type": "code",
   "execution_count": 174,
   "id": "d753a48b-d097-49c8-9a77-09e322db74ce",
   "metadata": {},
   "outputs": [],
   "source": [
    "VOCAB['dfidf'] = DFIDF.values"
   ]
  },
  {
   "cell_type": "code",
   "execution_count": 176,
   "id": "a271cdee-4b8b-4491-b6b1-2ebb1da28dca",
   "metadata": {},
   "outputs": [
    {
     "data": {
      "text/html": [
       "<div>\n",
       "<style scoped>\n",
       "    .dataframe tbody tr th:only-of-type {\n",
       "        vertical-align: middle;\n",
       "    }\n",
       "\n",
       "    .dataframe tbody tr th {\n",
       "        vertical-align: top;\n",
       "    }\n",
       "\n",
       "    .dataframe thead th {\n",
       "        text-align: right;\n",
       "    }\n",
       "</style>\n",
       "<table border=\"1\" class=\"dataframe\">\n",
       "  <thead>\n",
       "    <tr style=\"text-align: right;\">\n",
       "      <th></th>\n",
       "      <th>n</th>\n",
       "      <th>n_chars</th>\n",
       "      <th>p</th>\n",
       "      <th>i</th>\n",
       "      <th>max_pos</th>\n",
       "      <th>dfidf</th>\n",
       "    </tr>\n",
       "    <tr>\n",
       "      <th>term_str</th>\n",
       "      <th></th>\n",
       "      <th></th>\n",
       "      <th></th>\n",
       "      <th></th>\n",
       "      <th></th>\n",
       "      <th></th>\n",
       "    </tr>\n",
       "  </thead>\n",
       "  <tbody>\n",
       "    <tr>\n",
       "      <th>a</th>\n",
       "      <td>28533</td>\n",
       "      <td>1</td>\n",
       "      <td>0.019017</td>\n",
       "      <td>5.716586</td>\n",
       "      <td>DT</td>\n",
       "      <td>0.000000</td>\n",
       "    </tr>\n",
       "    <tr>\n",
       "      <th>aback</th>\n",
       "      <td>9</td>\n",
       "      <td>5</td>\n",
       "      <td>0.000006</td>\n",
       "      <td>17.347005</td>\n",
       "      <td>NN</td>\n",
       "      <td>46.368028</td>\n",
       "    </tr>\n",
       "    <tr>\n",
       "      <th>abaft</th>\n",
       "      <td>2</td>\n",
       "      <td>5</td>\n",
       "      <td>0.000001</td>\n",
       "      <td>19.516930</td>\n",
       "      <td>IN</td>\n",
       "      <td>8.321928</td>\n",
       "    </tr>\n",
       "    <tr>\n",
       "      <th>abandon</th>\n",
       "      <td>44</td>\n",
       "      <td>7</td>\n",
       "      <td>0.000029</td>\n",
       "      <td>15.057499</td>\n",
       "      <td>VB</td>\n",
       "      <td>98.408049</td>\n",
       "    </tr>\n",
       "    <tr>\n",
       "      <th>abandoned</th>\n",
       "      <td>68</td>\n",
       "      <td>9</td>\n",
       "      <td>0.000045</td>\n",
       "      <td>14.429467</td>\n",
       "      <td>VBN</td>\n",
       "      <td>124.513524</td>\n",
       "    </tr>\n",
       "  </tbody>\n",
       "</table>\n",
       "</div>"
      ],
      "text/plain": [
       "               n  n_chars         p          i max_pos       dfidf\n",
       "term_str                                                          \n",
       "a          28533        1  0.019017   5.716586      DT    0.000000\n",
       "aback          9        5  0.000006  17.347005      NN   46.368028\n",
       "abaft          2        5  0.000001  19.516930      IN    8.321928\n",
       "abandon       44        7  0.000029  15.057499      VB   98.408049\n",
       "abandoned     68        9  0.000045  14.429467     VBN  124.513524"
      ]
     },
     "execution_count": 176,
     "metadata": {},
     "output_type": "execute_result"
    }
   ],
   "source": [
    "VOCAB.head()"
   ]
  },
  {
   "cell_type": "code",
   "execution_count": 178,
   "id": "4ed1049c-ce64-4a9e-9eb6-c5172ca1ab49",
   "metadata": {},
   "outputs": [
    {
     "data": {
      "text/html": [
       "<div>\n",
       "<style scoped>\n",
       "    .dataframe tbody tr th:only-of-type {\n",
       "        vertical-align: middle;\n",
       "    }\n",
       "\n",
       "    .dataframe tbody tr th {\n",
       "        vertical-align: top;\n",
       "    }\n",
       "\n",
       "    .dataframe thead th {\n",
       "        text-align: right;\n",
       "    }\n",
       "</style>\n",
       "<table border=\"1\" class=\"dataframe\">\n",
       "  <thead>\n",
       "    <tr style=\"text-align: right;\">\n",
       "      <th></th>\n",
       "      <th></th>\n",
       "      <th>a</th>\n",
       "      <th>aback</th>\n",
       "      <th>abaft</th>\n",
       "      <th>abandon</th>\n",
       "      <th>abandoned</th>\n",
       "      <th>abandoning</th>\n",
       "      <th>abandons</th>\n",
       "      <th>abasement</th>\n",
       "      <th>abashed</th>\n",
       "      <th>abate</th>\n",
       "      <th>...</th>\n",
       "      <th>zuniga</th>\n",
       "      <th>zusammen</th>\n",
       "      <th>à</th>\n",
       "      <th>æt</th>\n",
       "      <th>ætat</th>\n",
       "      <th>ça</th>\n",
       "      <th>émeutes</th>\n",
       "      <th>genre</th>\n",
       "      <th>author_y</th>\n",
       "      <th>title_y</th>\n",
       "    </tr>\n",
       "    <tr>\n",
       "      <th>book_id</th>\n",
       "      <th>chap_id</th>\n",
       "      <th></th>\n",
       "      <th></th>\n",
       "      <th></th>\n",
       "      <th></th>\n",
       "      <th></th>\n",
       "      <th></th>\n",
       "      <th></th>\n",
       "      <th></th>\n",
       "      <th></th>\n",
       "      <th></th>\n",
       "      <th></th>\n",
       "      <th></th>\n",
       "      <th></th>\n",
       "      <th></th>\n",
       "      <th></th>\n",
       "      <th></th>\n",
       "      <th></th>\n",
       "      <th></th>\n",
       "      <th></th>\n",
       "      <th></th>\n",
       "      <th></th>\n",
       "    </tr>\n",
       "  </thead>\n",
       "  <tbody>\n",
       "    <tr>\n",
       "      <th>frankenstein</th>\n",
       "      <th>31</th>\n",
       "      <td>0.0</td>\n",
       "      <td>0.0</td>\n",
       "      <td>0.0</td>\n",
       "      <td>0.0</td>\n",
       "      <td>0.0</td>\n",
       "      <td>0.0</td>\n",
       "      <td>0.0</td>\n",
       "      <td>0.0</td>\n",
       "      <td>0.0</td>\n",
       "      <td>0.0</td>\n",
       "      <td>...</td>\n",
       "      <td>0.0</td>\n",
       "      <td>0.0</td>\n",
       "      <td>0.0</td>\n",
       "      <td>0.0</td>\n",
       "      <td>0.0</td>\n",
       "      <td>0.0</td>\n",
       "      <td>0.0</td>\n",
       "      <td>g</td>\n",
       "      <td>shelley</td>\n",
       "      <td>frankenstein</td>\n",
       "    </tr>\n",
       "    <tr>\n",
       "      <th>styles</th>\n",
       "      <th>13</th>\n",
       "      <td>0.0</td>\n",
       "      <td>0.0</td>\n",
       "      <td>0.0</td>\n",
       "      <td>0.0</td>\n",
       "      <td>0.0</td>\n",
       "      <td>0.0</td>\n",
       "      <td>0.0</td>\n",
       "      <td>0.0</td>\n",
       "      <td>0.0</td>\n",
       "      <td>0.0</td>\n",
       "      <td>...</td>\n",
       "      <td>0.0</td>\n",
       "      <td>0.0</td>\n",
       "      <td>0.0</td>\n",
       "      <td>0.0</td>\n",
       "      <td>0.0</td>\n",
       "      <td>0.0</td>\n",
       "      <td>0.0</td>\n",
       "      <td>d</td>\n",
       "      <td>christie</td>\n",
       "      <td>styles</td>\n",
       "    </tr>\n",
       "    <tr>\n",
       "      <th>udolpho</th>\n",
       "      <th>21</th>\n",
       "      <td>0.0</td>\n",
       "      <td>0.0</td>\n",
       "      <td>0.0</td>\n",
       "      <td>0.0</td>\n",
       "      <td>0.0</td>\n",
       "      <td>0.0</td>\n",
       "      <td>0.0</td>\n",
       "      <td>0.0</td>\n",
       "      <td>0.0</td>\n",
       "      <td>0.0</td>\n",
       "      <td>...</td>\n",
       "      <td>0.0</td>\n",
       "      <td>0.0</td>\n",
       "      <td>0.0</td>\n",
       "      <td>0.0</td>\n",
       "      <td>0.0</td>\n",
       "      <td>0.0</td>\n",
       "      <td>0.0</td>\n",
       "      <td>g</td>\n",
       "      <td>radcliffe</td>\n",
       "      <td>udolpho</td>\n",
       "    </tr>\n",
       "  </tbody>\n",
       "</table>\n",
       "<p>3 rows × 27399 columns</p>\n",
       "</div>"
      ],
      "text/plain": [
       "                        a  aback  abaft  abandon  abandoned  abandoning  \\\n",
       "book_id      chap_id                                                      \n",
       "frankenstein 31       0.0    0.0    0.0      0.0        0.0         0.0   \n",
       "styles       13       0.0    0.0    0.0      0.0        0.0         0.0   \n",
       "udolpho      21       0.0    0.0    0.0      0.0        0.0         0.0   \n",
       "\n",
       "                      abandons  abasement  abashed  abate  ...  zuniga  \\\n",
       "book_id      chap_id                                       ...           \n",
       "frankenstein 31            0.0        0.0      0.0    0.0  ...     0.0   \n",
       "styles       13            0.0        0.0      0.0    0.0  ...     0.0   \n",
       "udolpho      21            0.0        0.0      0.0    0.0  ...     0.0   \n",
       "\n",
       "                      zusammen    à   æt  ætat   ça  émeutes  genre  \\\n",
       "book_id      chap_id                                                  \n",
       "frankenstein 31            0.0  0.0  0.0   0.0  0.0      0.0      g   \n",
       "styles       13            0.0  0.0  0.0   0.0  0.0      0.0      d   \n",
       "udolpho      21            0.0  0.0  0.0   0.0  0.0      0.0      g   \n",
       "\n",
       "                       author_y       title_y  \n",
       "book_id      chap_id                           \n",
       "frankenstein 31         shelley  frankenstein  \n",
       "styles       13        christie        styles  \n",
       "udolpho      21       radcliffe       udolpho  \n",
       "\n",
       "[3 rows x 27399 columns]"
      ]
     },
     "execution_count": 178,
     "metadata": {},
     "output_type": "execute_result"
    }
   ],
   "source": [
    "# Create a DOC table from the TFIDF index\n",
    "\n",
    "TFIDF_reset = TFIDF.reset_index()\n",
    "DOC = TFIDF_reset.merge(LIB, on='book_id', how='inner')\n",
    "DOC = DOC.set_index(['book_id', 'chap_id'])\n",
    "DOC.sample(3)"
   ]
  },
  {
   "cell_type": "code",
   "execution_count": 180,
   "id": "ab6a2af8-b421-4c1e-9cf3-aa5649c31a0a",
   "metadata": {},
   "outputs": [
    {
     "data": {
      "text/html": [
       "<div>\n",
       "<style scoped>\n",
       "    .dataframe tbody tr th:only-of-type {\n",
       "        vertical-align: middle;\n",
       "    }\n",
       "\n",
       "    .dataframe tbody tr th {\n",
       "        vertical-align: top;\n",
       "    }\n",
       "\n",
       "    .dataframe thead th {\n",
       "        text-align: right;\n",
       "    }\n",
       "</style>\n",
       "<table border=\"1\" class=\"dataframe\">\n",
       "  <thead>\n",
       "    <tr style=\"text-align: right;\">\n",
       "      <th></th>\n",
       "      <th>term_str</th>\n",
       "      <th>yours</th>\n",
       "      <th>reply</th>\n",
       "      <th>order</th>\n",
       "      <th>curiosity</th>\n",
       "      <th>memory</th>\n",
       "      <th>company</th>\n",
       "      <th>feelings</th>\n",
       "      <th>opportunity</th>\n",
       "      <th>book</th>\n",
       "      <th>spirit</th>\n",
       "      <th>...</th>\n",
       "      <th>humanity</th>\n",
       "      <th>rank</th>\n",
       "      <th>contempt</th>\n",
       "      <th>apprehensions</th>\n",
       "      <th>owner</th>\n",
       "      <th>lad</th>\n",
       "      <th>enquiry</th>\n",
       "      <th>bag</th>\n",
       "      <th>investigation</th>\n",
       "      <th>inclination</th>\n",
       "    </tr>\n",
       "    <tr>\n",
       "      <th>book_id</th>\n",
       "      <th>chap_id</th>\n",
       "      <th></th>\n",
       "      <th></th>\n",
       "      <th></th>\n",
       "      <th></th>\n",
       "      <th></th>\n",
       "      <th></th>\n",
       "      <th></th>\n",
       "      <th></th>\n",
       "      <th></th>\n",
       "      <th></th>\n",
       "      <th></th>\n",
       "      <th></th>\n",
       "      <th></th>\n",
       "      <th></th>\n",
       "      <th></th>\n",
       "      <th></th>\n",
       "      <th></th>\n",
       "      <th></th>\n",
       "      <th></th>\n",
       "      <th></th>\n",
       "      <th></th>\n",
       "    </tr>\n",
       "  </thead>\n",
       "  <tbody>\n",
       "    <tr>\n",
       "      <th>pitandpendulum</th>\n",
       "      <th>1</th>\n",
       "      <td>0.0</td>\n",
       "      <td>0.0</td>\n",
       "      <td>0.0</td>\n",
       "      <td>0.003286</td>\n",
       "      <td>0.009775</td>\n",
       "      <td>0.0</td>\n",
       "      <td>0.00000</td>\n",
       "      <td>0.000000</td>\n",
       "      <td>0.0</td>\n",
       "      <td>0.020054</td>\n",
       "      <td>...</td>\n",
       "      <td>0.0</td>\n",
       "      <td>0.000000</td>\n",
       "      <td>0.007289</td>\n",
       "      <td>0.0</td>\n",
       "      <td>0.0</td>\n",
       "      <td>0.0</td>\n",
       "      <td>0.0</td>\n",
       "      <td>0.0</td>\n",
       "      <td>0.0</td>\n",
       "      <td>0.0</td>\n",
       "    </tr>\n",
       "    <tr>\n",
       "      <th>scarlet</th>\n",
       "      <th>12</th>\n",
       "      <td>0.0</td>\n",
       "      <td>0.0</td>\n",
       "      <td>0.0</td>\n",
       "      <td>0.000000</td>\n",
       "      <td>0.006732</td>\n",
       "      <td>0.0</td>\n",
       "      <td>0.00000</td>\n",
       "      <td>0.000000</td>\n",
       "      <td>0.0</td>\n",
       "      <td>0.006905</td>\n",
       "      <td>...</td>\n",
       "      <td>0.0</td>\n",
       "      <td>0.000000</td>\n",
       "      <td>0.000000</td>\n",
       "      <td>0.0</td>\n",
       "      <td>0.0</td>\n",
       "      <td>0.0</td>\n",
       "      <td>0.0</td>\n",
       "      <td>0.0</td>\n",
       "      <td>0.0</td>\n",
       "      <td>0.0</td>\n",
       "    </tr>\n",
       "    <tr>\n",
       "      <th>frankenstein</th>\n",
       "      <th>46</th>\n",
       "      <td>0.0</td>\n",
       "      <td>0.0</td>\n",
       "      <td>0.0</td>\n",
       "      <td>0.000000</td>\n",
       "      <td>0.000000</td>\n",
       "      <td>0.0</td>\n",
       "      <td>0.00998</td>\n",
       "      <td>0.020475</td>\n",
       "      <td>0.0</td>\n",
       "      <td>0.010237</td>\n",
       "      <td>...</td>\n",
       "      <td>0.0</td>\n",
       "      <td>0.044652</td>\n",
       "      <td>0.022326</td>\n",
       "      <td>0.0</td>\n",
       "      <td>0.0</td>\n",
       "      <td>0.0</td>\n",
       "      <td>0.0</td>\n",
       "      <td>0.0</td>\n",
       "      <td>0.0</td>\n",
       "      <td>0.0</td>\n",
       "    </tr>\n",
       "  </tbody>\n",
       "</table>\n",
       "<p>3 rows × 1000 columns</p>\n",
       "</div>"
      ],
      "text/plain": [
       "term_str                yours  reply  order  curiosity    memory  company  \\\n",
       "book_id        chap_id                                                      \n",
       "pitandpendulum 1          0.0    0.0    0.0   0.003286  0.009775      0.0   \n",
       "scarlet        12         0.0    0.0    0.0   0.000000  0.006732      0.0   \n",
       "frankenstein   46         0.0    0.0    0.0   0.000000  0.000000      0.0   \n",
       "\n",
       "term_str                feelings  opportunity  book    spirit  ...  humanity  \\\n",
       "book_id        chap_id                                         ...             \n",
       "pitandpendulum 1         0.00000     0.000000   0.0  0.020054  ...       0.0   \n",
       "scarlet        12        0.00000     0.000000   0.0  0.006905  ...       0.0   \n",
       "frankenstein   46        0.00998     0.020475   0.0  0.010237  ...       0.0   \n",
       "\n",
       "term_str                    rank  contempt  apprehensions  owner  lad  \\\n",
       "book_id        chap_id                                                  \n",
       "pitandpendulum 1        0.000000  0.007289            0.0    0.0  0.0   \n",
       "scarlet        12       0.000000  0.000000            0.0    0.0  0.0   \n",
       "frankenstein   46       0.044652  0.022326            0.0    0.0  0.0   \n",
       "\n",
       "term_str                enquiry  bag  investigation  inclination  \n",
       "book_id        chap_id                                            \n",
       "pitandpendulum 1            0.0  0.0            0.0          0.0  \n",
       "scarlet        12           0.0  0.0            0.0          0.0  \n",
       "frankenstein   46           0.0  0.0            0.0          0.0  \n",
       "\n",
       "[3 rows x 1000 columns]"
      ]
     },
     "execution_count": 180,
     "metadata": {},
     "output_type": "execute_result"
    }
   ],
   "source": [
    "# Create a reduced version of the TFIDF table with only the top 1000 nouns\n",
    "\n",
    "top_nouns = VOCAB[VOCAB['max_pos'].isin(['NN', 'NNS'])].sort_values(by='dfidf', ascending=False).head(1000)\n",
    "\n",
    "TFIDF_reduced = TFIDF[top_nouns.index]\n",
    "TFIDF_reduced.sample(3)"
   ]
  },
  {
   "cell_type": "code",
   "execution_count": 198,
   "id": "10bc4942-9c5c-4ec5-b6f6-2a67c54ea1dc",
   "metadata": {},
   "outputs": [],
   "source": [
    "# Write a function that computes PCA from a given dtcm (TFIDF dataframe)\n",
    "\n",
    "def gen_PCA(X, k, norm_docs=True, center_by_mean=False, center_by_variance=False):\n",
    "    '''\n",
    "    This function takes a document term count matrix as input and returns three dataframes: the term-component matrix, the document-component matrix, and the component information table.\n",
    "\n",
    "    PARAMETERS\n",
    "    X: the input matrix\n",
    "    k: number of components to generate\n",
    "    norm_docs: normalize doc vector lengths; True or False\n",
    "    center_by_mean: True or False\n",
    "    center_by_variance: True or False\n",
    "\n",
    "    RETURNS\n",
    "    LOADINGS: term-component matrix\n",
    "    DCM: document-component matrix\n",
    "    COMPINF: component information table\n",
    "    '''\n",
    "\n",
    "    if norm_docs:\n",
    "        norms = norm(X, 2, axis=1)\n",
    "        norms[norms == 0] = 1  # Avoid division by zero        \n",
    "        X = (X.T / norms).T\n",
    "\n",
    "    X = X.dropna() # remove nulls\n",
    "\n",
    "    if center_by_mean:\n",
    "        X = X - X.mean(axis=0)\n",
    "\n",
    "    if center_by_variance:\n",
    "        X = X / X.std(axis=0)\n",
    "\n",
    "    # Compute covariance or correlation matrix\n",
    "    if center_by_mean and center_by_variance:\n",
    "        COV = np.corrcoef(X.to_numpy(), rowvar=False)  # Correlation matrix\n",
    "        COV = pd.DataFrame(COV, index=X.columns, columns=X.columns)\n",
    "    elif center_by_mean and not center_by_variance:\n",
    "        COV = X.cov()  # Covariance matrix\n",
    "    elif not center_by_mean and center_by_variance:\n",
    "        COV = np.corrcoef(X.to_numpy(), rowvar=False)  # Correlation matrix\n",
    "        COV = pd.DataFrame(COV, index=X.columns, columns=X.columns)\n",
    "    else:\n",
    "        COV = X.T.dot(X) / (X.shape[0] - 1)  # Uncentered covariance\n",
    "\n",
    "    # Decompose the matrix\n",
    "    eig_vals, eig_vecs = eigh(COV)\n",
    "    idx = np.argsort(eig_vals)[::-1]  # Sort eigenvalues in descending order\n",
    "    eig_vals = eig_vals[idx]\n",
    "    eig_vecs = eig_vecs[:, idx]\n",
    "\n",
    "    # Convert eigen data to dataframes\n",
    "    EIG_VEC = pd.DataFrame(eig_vecs, index=COV.index, columns=COV.index)\n",
    "    EIG_VAL = pd.DataFrame(eig_vals, index=COV.index, columns=['eig_val'])\n",
    "    EIG_VAL.index.name = 'term_str'\n",
    "\n",
    "    # Combine eigenvalues and eigenvectors\n",
    "    EIG_PAIRS = EIG_VAL.join(EIG_VEC.T)\n",
    "\n",
    "    EIG_PAIRS['exp_var'] = np.round((EIG_PAIRS.eig_val / EIG_PAIRS.eig_val.sum()) * 100, 2)\n",
    "\n",
    "    # Pick top k components (COMPS)\n",
    "    COMPS = EIG_PAIRS.sort_values('exp_var', ascending=False).head(k).reset_index(drop=True)\n",
    "    COMPS.index.name = 'comp_id'\n",
    "    COMPS.index = [\"PC{}\".format(i) for i in COMPS.index.tolist()]\n",
    "    COMPS.index.name = 'pc_id'\n",
    "\n",
    "    # See projected components onto vocabulary (LOADINGS)\n",
    "    LOADINGS = COMPS[COV.index].T\n",
    "    LOADINGS.index.name = 'term_str'\n",
    "\n",
    "    # Component information table?\n",
    "    top_terms = []\n",
    "    for i in range(k):\n",
    "        for j in [0, 1]:\n",
    "            comp_str = ' '.join(LOADINGS.sort_values(f'PC{i}', ascending=bool(j)).head(k).index.to_list())\n",
    "            top_terms.append((f\"PC{i}\", j, comp_str))\n",
    "    COMP_GLOSS = pd.DataFrame(top_terms).set_index([0,1]).unstack()\n",
    "    COMP_GLOSS.index.name = 'comp_id'\n",
    "    COMP_GLOSS.columns = COMP_GLOSS.columns.droplevel(0) \n",
    "    COMP_GLOSS = COMP_GLOSS.rename(columns={0:'pos', 1:'neg'})\n",
    "    COMPINF = COMP_GLOSS\n",
    "\n",
    "    # Project docs onto components\n",
    "    DCM = X.dot(LOADINGS)\n",
    "    DCM = DCM.join(LIB[['genre','author','title']], on='book_id')\n",
    "    DCM['doc'] = DCM.apply(lambda x: f\"{x['title']} {str(x.name[1]).zfill(2)}\", 1)\n",
    "\n",
    "    return LOADINGS, DCM, COMPINF"
   ]
  },
  {
   "cell_type": "code",
   "execution_count": 204,
   "id": "08495c10-f565-49ae-b7e5-427c92dfab03",
   "metadata": {},
   "outputs": [],
   "source": [
    "# Compute PCA from the feature-reduced TFIDF table using your function\n",
    "\n",
    "loadings, dcm, compinf = gen_PCA(X=TFIDF_reduced, k=10, norm_docs=True, center_by_mean=False, center_by_variance=False)"
   ]
  },
  {
   "cell_type": "markdown",
   "id": "07e564fa-30e3-4cf3-b312-127c5d2c4d01",
   "metadata": {},
   "source": [
    "## Questions"
   ]
  },
  {
   "cell_type": "markdown",
   "id": "f85bc3b0-18a1-4017-89ba-aca97bf82ad2",
   "metadata": {},
   "source": [
    "#### 1. Looking at the documents plotted against the first principle component (PC), which genre has the more narrow range, i.e. distance between the minimum and maximum values? This can be seen using a box plot."
   ]
  },
  {
   "cell_type": "code",
   "execution_count": 293,
   "id": "122c9830-773d-4b8c-8083-05792491364a",
   "metadata": {},
   "outputs": [
    {
     "data": {
      "application/vnd.plotly.v1+json": {
       "config": {
        "plotlyServerURL": "https://plot.ly"
       },
       "data": [
        {
         "alignmentgroup": "True",
         "hovertemplate": "genre=%{x}<br>PC0=%{y}<extra></extra>",
         "legendgroup": "",
         "marker": {
          "color": "#636efa"
         },
         "name": "",
         "notched": false,
         "offsetgroup": "",
         "orientation": "v",
         "showlegend": false,
         "type": "box",
         "x": [
          "d",
          "d",
          "d",
          "d",
          "d",
          "d",
          "d",
          "d",
          "d",
          "d",
          "d",
          "d",
          "d",
          "d",
          "d",
          "d",
          "d",
          "d",
          "d",
          "d",
          "d",
          "d",
          "d",
          "d",
          "d",
          "d",
          "d",
          "g",
          "g",
          "g",
          "g",
          "g",
          "g",
          "g",
          "g",
          "g",
          "g",
          "g",
          "g",
          "g",
          "g",
          "g",
          "g",
          "g",
          "g",
          "g",
          "g",
          "g",
          "g",
          "g",
          "g",
          "g",
          "g",
          "g",
          "g",
          "g",
          "g",
          "g",
          "g",
          "g",
          "g",
          "g",
          "g",
          "g",
          "g",
          "g",
          "g",
          "g",
          "g",
          "g",
          "g",
          "g",
          "g",
          "g",
          "g",
          "g",
          "g",
          "g",
          "g",
          "g",
          "g",
          "g",
          "g",
          "g",
          "g",
          "g",
          "g",
          "g",
          "g",
          "g",
          "g",
          "g",
          "d",
          "g",
          "g",
          "g",
          "g",
          "g",
          "g",
          "g",
          "g",
          "g",
          "g",
          "g",
          "g",
          "d",
          "d",
          "d",
          "d",
          "d",
          "d",
          "d",
          "d",
          "d",
          "d",
          "d",
          "d",
          "d",
          "d",
          "d",
          "d",
          "d",
          "d",
          "d",
          "d",
          "d",
          "d",
          "d",
          "d",
          "d",
          "d",
          "d",
          "d",
          "d",
          "d",
          "d",
          "d",
          "d",
          "d",
          "d",
          "d",
          "d",
          "d",
          "d",
          "d",
          "d",
          "d",
          "d",
          "d",
          "d",
          "d",
          "g",
          "g",
          "g",
          "g",
          "g",
          "g",
          "g",
          "g",
          "g",
          "g",
          "g",
          "g",
          "g",
          "g",
          "g",
          "g",
          "g",
          "g",
          "g",
          "g",
          "g",
          "g",
          "g",
          "g",
          "g",
          "g",
          "g",
          "g",
          "g",
          "g",
          "g",
          "g",
          "g",
          "g",
          "g",
          "g",
          "g",
          "g",
          "g",
          "g",
          "g",
          "g",
          "g",
          "d",
          "d",
          "d",
          "d",
          "d",
          "d",
          "d",
          "d",
          "d",
          "d",
          "d",
          "d",
          "d",
          "d",
          "d",
          "d",
          "d",
          "d",
          "d",
          "d",
          "d",
          "d",
          "d",
          "d",
          "d",
          "d",
          "d",
          "d",
          "d",
          "d",
          "d",
          "d",
          "d",
          "d",
          "d",
          "d",
          "d",
          "d",
          "d",
          "d",
          "d",
          "d",
          "d",
          "d",
          "d",
          "d",
          "d",
          "d",
          "d",
          "d",
          "d",
          "d",
          "d",
          "d",
          "d",
          "d",
          "d",
          "d",
          "d",
          "d",
          "d",
          "d",
          "d",
          "d",
          "d",
          "d",
          "d",
          "d",
          "g",
          "g",
          "g",
          "g",
          "g",
          "g",
          "g",
          "g",
          "g",
          "g",
          "g",
          "g",
          "g",
          "g",
          "g",
          "g",
          "g",
          "g",
          "g",
          "g",
          "g",
          "g",
          "g",
          "g",
          "g",
          "g",
          "g",
          "g",
          "g",
          "g",
          "g",
          "g",
          "g",
          "g",
          "g",
          "g",
          "g",
          "g",
          "g",
          "g",
          "g",
          "g",
          "g",
          "g",
          "g",
          "g",
          "g",
          "g",
          "g",
          "g",
          "g",
          "g",
          "g",
          "g",
          "g",
          "g",
          "g",
          "g"
         ],
         "x0": " ",
         "xaxis": "x",
         "y": [
          -0.5447571063696566,
          -0.493523941012625,
          -0.4963947458506288,
          -0.4953140158247196,
          -0.4862643362082725,
          -0.5166474756805642,
          -0.3861973261906373,
          -0.5597020138130571,
          -0.4920207691644873,
          -0.5315587948542383,
          -0.5194348533302596,
          -0.5340685848724298,
          -0.30049236372073596,
          -0.4017540299100117,
          -0.34671409858905433,
          -0.3070181183413753,
          -0.332116087615874,
          -0.423734490168928,
          -0.4600394707580216,
          -0.4004289149443305,
          -0.43220101908975744,
          -0.3965234824418286,
          -0.4613640915789522,
          -0.4073770747842048,
          -0.4549076378250424,
          -0.37369997912746056,
          -0.4332725781883404,
          -0.45103010197329946,
          -0.4951407892935652,
          -0.4576739204967496,
          -0.46495723576789005,
          -0.3486971347206721,
          -0.4267389864140886,
          -0.4451613851461604,
          -0.42106712310404626,
          -0.40183096263818674,
          -0.3164552997562078,
          -0.374869497111029,
          -0.4285936601324591,
          -0.46003598491824327,
          -0.43602415655861154,
          -0.36349062985606584,
          -0.41718562872678805,
          -0.3166909774822556,
          -0.4741194283701303,
          -0.4636056617537826,
          -0.3847725521370233,
          -0.412892002570856,
          -0.4741756671157844,
          -0.4798764771136954,
          -0.430046943441091,
          -0.41826230043293666,
          -0.38253457352950265,
          -0.449902726742331,
          -0.47989437822042225,
          -0.40179714758304097,
          -0.4405150418228526,
          -0.3977779603403041,
          -0.43289574279687393,
          -0.4573044186904865,
          -0.4304104203209973,
          -0.40160421656028866,
          -0.35779647218757693,
          -0.41070545621864984,
          -0.3089655620144677,
          -0.29123813570142204,
          -0.1457143011492899,
          -0.3513722689544445,
          -0.3649883193419629,
          -0.3422327644007662,
          -0.2778162275255405,
          -0.29460314541454513,
          -0.3569433654172739,
          -0.37944960465081357,
          -0.40551488677973935,
          -0.33002217848073556,
          -0.3743613136236762,
          -0.3037456629950618,
          -0.2824718114203654,
          -0.30910202142279286,
          -0.3153989331782392,
          -0.31096812826214887,
          -0.36729198699322774,
          -0.35421056061171907,
          -0.2723770694782822,
          -0.41092269024521255,
          -0.35898171992363137,
          -0.364130738062749,
          -0.3939910252012868,
          -0.4041928641538377,
          -0.37057497386315685,
          -0.4455729270323239,
          -0.420210870436857,
          -0.47973300867274726,
          -0.49066530172677747,
          -0.543115321299183,
          -0.6027051158288925,
          -0.5341816880814603,
          -0.5177420747176469,
          -0.48447060499569766,
          -0.470902513995001,
          -0.5746658006379338,
          -0.48015915921371743,
          -0.539027076216344,
          -0.390701149258793,
          -0.2559966730440209,
          -0.2431362467054725,
          -0.33484420576328644,
          -0.2993022778144983,
          -0.3651791037570833,
          -0.42283922259724216,
          -0.3895600870753877,
          -0.3413133883153061,
          -0.43607258333354393,
          -0.3908369807557294,
          -0.40710143941958843,
          -0.43271511305990584,
          -0.399297413795152,
          -0.3102496675993257,
          -0.34956983742519365,
          -0.43128378381624044,
          -0.413339405001921,
          -0.3611060380219729,
          -0.34883058427263836,
          -0.26478996145977796,
          -0.30070731794855915,
          -0.3563530205694782,
          -0.414704065237135,
          -0.4588268747866243,
          -0.46174529587187996,
          -0.3892171650995666,
          -0.3833923729457933,
          -0.32830067158124926,
          -0.38434320464792093,
          -0.18338858977509293,
          -0.4130368189502073,
          -0.44986290417272934,
          -0.37602257618730883,
          -0.2715309668261749,
          -0.3958387687141228,
          -0.37690782179481547,
          -0.38986571967680494,
          -0.3241252146217356,
          -0.4584041713421583,
          -0.4275192045601035,
          -0.426338964254252,
          -0.3850599314321844,
          -0.4065544333619822,
          -0.3978625067438755,
          -0.5300198309850646,
          -0.5072042922390758,
          -0.30191530947689704,
          -0.31107927675316116,
          -0.2861124136912965,
          -0.29553883445906776,
          -0.265112146351347,
          -0.27431675063880506,
          -0.337683878622605,
          -0.36017930958859035,
          -0.3816630860074108,
          -0.3989981861685639,
          -0.368926896964449,
          -0.3170103475007113,
          -0.3571054959598535,
          -0.38974257319689487,
          -0.4432293665257568,
          -0.3375440033601751,
          -0.30004885278385174,
          -0.3091376292513667,
          -0.23127597754574747,
          -0.41183700051932703,
          -0.38033149376387254,
          -0.424442189495703,
          -0.346722027903304,
          -0.39197380060188425,
          -0.3956120571022334,
          -0.3918905307310241,
          -0.26783983677071166,
          -0.4324885231967165,
          -0.417996248747379,
          -0.38856566154889427,
          -0.26281487409413307,
          -0.44477067028741046,
          -0.4288954890129002,
          -0.44800158226779363,
          -0.5061254005667593,
          -0.4311131950513485,
          -0.40832313311829044,
          -0.45904529137615185,
          -0.41797086009823214,
          -0.43590399793048107,
          -0.24586274544805053,
          -0.35702299945847454,
          -0.27383275250651584,
          -0.4839308242920193,
          -0.3517528998340762,
          -0.3848398302492426,
          -0.4237117497460902,
          -0.3216974373699924,
          -0.36245302652577915,
          -0.3939952692645461,
          -0.39942999276157304,
          -0.3550813886054936,
          -0.3128606202292612,
          -0.3019323829545012,
          -0.411370035752041,
          -0.35701910447374685,
          -0.37328002216752176,
          -0.3376171574858482,
          -0.2951267237833891,
          -0.3618781372333273,
          -0.2919469518770773,
          -0.35638490471876993,
          -0.31139716261387096,
          -0.322708868150126,
          -0.302656802076721,
          -0.3096640277507394,
          -0.3714942793419925,
          -0.34407692748493046,
          -0.33827804847460513,
          -0.43619121343248357,
          -0.33184608937489857,
          -0.285764240318714,
          -0.3438545521661889,
          -0.35475321405174853,
          -0.39990456782806594,
          -0.3853983778454956,
          -0.34014776905365757,
          -0.2967949029164787,
          -0.33365834985148796,
          -0.31491130024072156,
          -0.2989396764715272,
          -0.3283574998042828,
          -0.41046365330613477,
          -0.3123683764925753,
          -0.3695500410045185,
          -0.22589517271024817,
          -0.33559123679608394,
          -0.34785506631310303,
          -0.3093522191235382,
          -0.40816127045109574,
          -0.38963537219114763,
          -0.34603015083365884,
          -0.38996893831684176,
          -0.36564006881748584,
          -0.382758173338838,
          -0.2986875059594254,
          -0.28752163322265134,
          -0.47774680193340374,
          -0.4162914216374922,
          -0.3280863848865513,
          -0.32747182100099315,
          -0.37962407152494526,
          -0.4497913231132216,
          -0.3564009882391723,
          -0.32774945019695434,
          -0.42681877204590324,
          -0.36021429928344617,
          -0.39787970179136,
          -0.3022586493919041,
          -0.3180985586290661,
          -0.3734105919625812,
          -0.4908342545493099,
          -0.44637247521402484,
          -0.37510691271922925,
          -0.4138426584691306,
          -0.37953386266736644,
          -0.4483864843310017,
          -0.4346355347067419,
          -0.49031797114730485,
          -0.35728423828020817,
          -0.4798115509654272,
          -0.36319765043034025,
          -0.47528880416152286,
          -0.48640955909011574,
          -0.3977923990606691,
          -0.3544586637745969,
          -0.5659006007728661,
          -0.4144898119385415,
          -0.44498252531350657,
          -0.5476151642835144,
          -0.48839358341851635,
          -0.3189433413502235,
          -0.4732967409680038,
          -0.47605604916245403,
          -0.4162945059902265,
          -0.40194342909740116,
          -0.4093753733683638,
          -0.3822556026461038,
          -0.46269785067710567,
          -0.3489470623673316,
          -0.49156059337297964,
          -0.47009116243827187,
          -0.38158143519289767,
          -0.4533218608898174,
          -0.5052168121596823,
          -0.3954199987953104,
          -0.39438571966320934,
          -0.33858301614229974,
          -0.5207529040700443,
          -0.3180211881673517,
          -0.22904088995505398,
          -0.4123115871405588,
          -0.3796517081945578,
          -0.3895841371028231,
          -0.4567364760942464,
          -0.4157183001338238,
          -0.3170423068431681,
          -0.40358727119125165,
          -0.42751109784446734,
          -0.33609947205642765,
          -0.47376868836621666,
          -0.39621047159097866,
          -0.40754406431763057,
          -0.3278033627836757,
          -0.4772493461296622,
          -0.4490200626206322,
          -0.3751885321884856,
          -0.2933411006428895,
          -0.45321004987535995
         ],
         "y0": " ",
         "yaxis": "y"
        }
       ],
       "layout": {
        "autosize": true,
        "boxmode": "group",
        "legend": {
         "tracegroupgap": 0
        },
        "margin": {
         "t": 60
        },
        "template": {
         "data": {
          "bar": [
           {
            "error_x": {
             "color": "#2a3f5f"
            },
            "error_y": {
             "color": "#2a3f5f"
            },
            "marker": {
             "line": {
              "color": "#E5ECF6",
              "width": 0.5
             },
             "pattern": {
              "fillmode": "overlay",
              "size": 10,
              "solidity": 0.2
             }
            },
            "type": "bar"
           }
          ],
          "barpolar": [
           {
            "marker": {
             "line": {
              "color": "#E5ECF6",
              "width": 0.5
             },
             "pattern": {
              "fillmode": "overlay",
              "size": 10,
              "solidity": 0.2
             }
            },
            "type": "barpolar"
           }
          ],
          "carpet": [
           {
            "aaxis": {
             "endlinecolor": "#2a3f5f",
             "gridcolor": "white",
             "linecolor": "white",
             "minorgridcolor": "white",
             "startlinecolor": "#2a3f5f"
            },
            "baxis": {
             "endlinecolor": "#2a3f5f",
             "gridcolor": "white",
             "linecolor": "white",
             "minorgridcolor": "white",
             "startlinecolor": "#2a3f5f"
            },
            "type": "carpet"
           }
          ],
          "choropleth": [
           {
            "colorbar": {
             "outlinewidth": 0,
             "ticks": ""
            },
            "type": "choropleth"
           }
          ],
          "contour": [
           {
            "colorbar": {
             "outlinewidth": 0,
             "ticks": ""
            },
            "colorscale": [
             [
              0,
              "#0d0887"
             ],
             [
              0.1111111111111111,
              "#46039f"
             ],
             [
              0.2222222222222222,
              "#7201a8"
             ],
             [
              0.3333333333333333,
              "#9c179e"
             ],
             [
              0.4444444444444444,
              "#bd3786"
             ],
             [
              0.5555555555555556,
              "#d8576b"
             ],
             [
              0.6666666666666666,
              "#ed7953"
             ],
             [
              0.7777777777777778,
              "#fb9f3a"
             ],
             [
              0.8888888888888888,
              "#fdca26"
             ],
             [
              1,
              "#f0f921"
             ]
            ],
            "type": "contour"
           }
          ],
          "contourcarpet": [
           {
            "colorbar": {
             "outlinewidth": 0,
             "ticks": ""
            },
            "type": "contourcarpet"
           }
          ],
          "heatmap": [
           {
            "colorbar": {
             "outlinewidth": 0,
             "ticks": ""
            },
            "colorscale": [
             [
              0,
              "#0d0887"
             ],
             [
              0.1111111111111111,
              "#46039f"
             ],
             [
              0.2222222222222222,
              "#7201a8"
             ],
             [
              0.3333333333333333,
              "#9c179e"
             ],
             [
              0.4444444444444444,
              "#bd3786"
             ],
             [
              0.5555555555555556,
              "#d8576b"
             ],
             [
              0.6666666666666666,
              "#ed7953"
             ],
             [
              0.7777777777777778,
              "#fb9f3a"
             ],
             [
              0.8888888888888888,
              "#fdca26"
             ],
             [
              1,
              "#f0f921"
             ]
            ],
            "type": "heatmap"
           }
          ],
          "heatmapgl": [
           {
            "colorbar": {
             "outlinewidth": 0,
             "ticks": ""
            },
            "colorscale": [
             [
              0,
              "#0d0887"
             ],
             [
              0.1111111111111111,
              "#46039f"
             ],
             [
              0.2222222222222222,
              "#7201a8"
             ],
             [
              0.3333333333333333,
              "#9c179e"
             ],
             [
              0.4444444444444444,
              "#bd3786"
             ],
             [
              0.5555555555555556,
              "#d8576b"
             ],
             [
              0.6666666666666666,
              "#ed7953"
             ],
             [
              0.7777777777777778,
              "#fb9f3a"
             ],
             [
              0.8888888888888888,
              "#fdca26"
             ],
             [
              1,
              "#f0f921"
             ]
            ],
            "type": "heatmapgl"
           }
          ],
          "histogram": [
           {
            "marker": {
             "pattern": {
              "fillmode": "overlay",
              "size": 10,
              "solidity": 0.2
             }
            },
            "type": "histogram"
           }
          ],
          "histogram2d": [
           {
            "colorbar": {
             "outlinewidth": 0,
             "ticks": ""
            },
            "colorscale": [
             [
              0,
              "#0d0887"
             ],
             [
              0.1111111111111111,
              "#46039f"
             ],
             [
              0.2222222222222222,
              "#7201a8"
             ],
             [
              0.3333333333333333,
              "#9c179e"
             ],
             [
              0.4444444444444444,
              "#bd3786"
             ],
             [
              0.5555555555555556,
              "#d8576b"
             ],
             [
              0.6666666666666666,
              "#ed7953"
             ],
             [
              0.7777777777777778,
              "#fb9f3a"
             ],
             [
              0.8888888888888888,
              "#fdca26"
             ],
             [
              1,
              "#f0f921"
             ]
            ],
            "type": "histogram2d"
           }
          ],
          "histogram2dcontour": [
           {
            "colorbar": {
             "outlinewidth": 0,
             "ticks": ""
            },
            "colorscale": [
             [
              0,
              "#0d0887"
             ],
             [
              0.1111111111111111,
              "#46039f"
             ],
             [
              0.2222222222222222,
              "#7201a8"
             ],
             [
              0.3333333333333333,
              "#9c179e"
             ],
             [
              0.4444444444444444,
              "#bd3786"
             ],
             [
              0.5555555555555556,
              "#d8576b"
             ],
             [
              0.6666666666666666,
              "#ed7953"
             ],
             [
              0.7777777777777778,
              "#fb9f3a"
             ],
             [
              0.8888888888888888,
              "#fdca26"
             ],
             [
              1,
              "#f0f921"
             ]
            ],
            "type": "histogram2dcontour"
           }
          ],
          "mesh3d": [
           {
            "colorbar": {
             "outlinewidth": 0,
             "ticks": ""
            },
            "type": "mesh3d"
           }
          ],
          "parcoords": [
           {
            "line": {
             "colorbar": {
              "outlinewidth": 0,
              "ticks": ""
             }
            },
            "type": "parcoords"
           }
          ],
          "pie": [
           {
            "automargin": true,
            "type": "pie"
           }
          ],
          "scatter": [
           {
            "fillpattern": {
             "fillmode": "overlay",
             "size": 10,
             "solidity": 0.2
            },
            "type": "scatter"
           }
          ],
          "scatter3d": [
           {
            "line": {
             "colorbar": {
              "outlinewidth": 0,
              "ticks": ""
             }
            },
            "marker": {
             "colorbar": {
              "outlinewidth": 0,
              "ticks": ""
             }
            },
            "type": "scatter3d"
           }
          ],
          "scattercarpet": [
           {
            "marker": {
             "colorbar": {
              "outlinewidth": 0,
              "ticks": ""
             }
            },
            "type": "scattercarpet"
           }
          ],
          "scattergeo": [
           {
            "marker": {
             "colorbar": {
              "outlinewidth": 0,
              "ticks": ""
             }
            },
            "type": "scattergeo"
           }
          ],
          "scattergl": [
           {
            "marker": {
             "colorbar": {
              "outlinewidth": 0,
              "ticks": ""
             }
            },
            "type": "scattergl"
           }
          ],
          "scattermapbox": [
           {
            "marker": {
             "colorbar": {
              "outlinewidth": 0,
              "ticks": ""
             }
            },
            "type": "scattermapbox"
           }
          ],
          "scatterpolar": [
           {
            "marker": {
             "colorbar": {
              "outlinewidth": 0,
              "ticks": ""
             }
            },
            "type": "scatterpolar"
           }
          ],
          "scatterpolargl": [
           {
            "marker": {
             "colorbar": {
              "outlinewidth": 0,
              "ticks": ""
             }
            },
            "type": "scatterpolargl"
           }
          ],
          "scatterternary": [
           {
            "marker": {
             "colorbar": {
              "outlinewidth": 0,
              "ticks": ""
             }
            },
            "type": "scatterternary"
           }
          ],
          "surface": [
           {
            "colorbar": {
             "outlinewidth": 0,
             "ticks": ""
            },
            "colorscale": [
             [
              0,
              "#0d0887"
             ],
             [
              0.1111111111111111,
              "#46039f"
             ],
             [
              0.2222222222222222,
              "#7201a8"
             ],
             [
              0.3333333333333333,
              "#9c179e"
             ],
             [
              0.4444444444444444,
              "#bd3786"
             ],
             [
              0.5555555555555556,
              "#d8576b"
             ],
             [
              0.6666666666666666,
              "#ed7953"
             ],
             [
              0.7777777777777778,
              "#fb9f3a"
             ],
             [
              0.8888888888888888,
              "#fdca26"
             ],
             [
              1,
              "#f0f921"
             ]
            ],
            "type": "surface"
           }
          ],
          "table": [
           {
            "cells": {
             "fill": {
              "color": "#EBF0F8"
             },
             "line": {
              "color": "white"
             }
            },
            "header": {
             "fill": {
              "color": "#C8D4E3"
             },
             "line": {
              "color": "white"
             }
            },
            "type": "table"
           }
          ]
         },
         "layout": {
          "annotationdefaults": {
           "arrowcolor": "#2a3f5f",
           "arrowhead": 0,
           "arrowwidth": 1
          },
          "autotypenumbers": "strict",
          "coloraxis": {
           "colorbar": {
            "outlinewidth": 0,
            "ticks": ""
           }
          },
          "colorscale": {
           "diverging": [
            [
             0,
             "#8e0152"
            ],
            [
             0.1,
             "#c51b7d"
            ],
            [
             0.2,
             "#de77ae"
            ],
            [
             0.3,
             "#f1b6da"
            ],
            [
             0.4,
             "#fde0ef"
            ],
            [
             0.5,
             "#f7f7f7"
            ],
            [
             0.6,
             "#e6f5d0"
            ],
            [
             0.7,
             "#b8e186"
            ],
            [
             0.8,
             "#7fbc41"
            ],
            [
             0.9,
             "#4d9221"
            ],
            [
             1,
             "#276419"
            ]
           ],
           "sequential": [
            [
             0,
             "#0d0887"
            ],
            [
             0.1111111111111111,
             "#46039f"
            ],
            [
             0.2222222222222222,
             "#7201a8"
            ],
            [
             0.3333333333333333,
             "#9c179e"
            ],
            [
             0.4444444444444444,
             "#bd3786"
            ],
            [
             0.5555555555555556,
             "#d8576b"
            ],
            [
             0.6666666666666666,
             "#ed7953"
            ],
            [
             0.7777777777777778,
             "#fb9f3a"
            ],
            [
             0.8888888888888888,
             "#fdca26"
            ],
            [
             1,
             "#f0f921"
            ]
           ],
           "sequentialminus": [
            [
             0,
             "#0d0887"
            ],
            [
             0.1111111111111111,
             "#46039f"
            ],
            [
             0.2222222222222222,
             "#7201a8"
            ],
            [
             0.3333333333333333,
             "#9c179e"
            ],
            [
             0.4444444444444444,
             "#bd3786"
            ],
            [
             0.5555555555555556,
             "#d8576b"
            ],
            [
             0.6666666666666666,
             "#ed7953"
            ],
            [
             0.7777777777777778,
             "#fb9f3a"
            ],
            [
             0.8888888888888888,
             "#fdca26"
            ],
            [
             1,
             "#f0f921"
            ]
           ]
          },
          "colorway": [
           "#636efa",
           "#EF553B",
           "#00cc96",
           "#ab63fa",
           "#FFA15A",
           "#19d3f3",
           "#FF6692",
           "#B6E880",
           "#FF97FF",
           "#FECB52"
          ],
          "font": {
           "color": "#2a3f5f"
          },
          "geo": {
           "bgcolor": "white",
           "lakecolor": "white",
           "landcolor": "#E5ECF6",
           "showlakes": true,
           "showland": true,
           "subunitcolor": "white"
          },
          "hoverlabel": {
           "align": "left"
          },
          "hovermode": "closest",
          "mapbox": {
           "style": "light"
          },
          "paper_bgcolor": "white",
          "plot_bgcolor": "#E5ECF6",
          "polar": {
           "angularaxis": {
            "gridcolor": "white",
            "linecolor": "white",
            "ticks": ""
           },
           "bgcolor": "#E5ECF6",
           "radialaxis": {
            "gridcolor": "white",
            "linecolor": "white",
            "ticks": ""
           }
          },
          "scene": {
           "xaxis": {
            "backgroundcolor": "#E5ECF6",
            "gridcolor": "white",
            "gridwidth": 2,
            "linecolor": "white",
            "showbackground": true,
            "ticks": "",
            "zerolinecolor": "white"
           },
           "yaxis": {
            "backgroundcolor": "#E5ECF6",
            "gridcolor": "white",
            "gridwidth": 2,
            "linecolor": "white",
            "showbackground": true,
            "ticks": "",
            "zerolinecolor": "white"
           },
           "zaxis": {
            "backgroundcolor": "#E5ECF6",
            "gridcolor": "white",
            "gridwidth": 2,
            "linecolor": "white",
            "showbackground": true,
            "ticks": "",
            "zerolinecolor": "white"
           }
          },
          "shapedefaults": {
           "line": {
            "color": "#2a3f5f"
           }
          },
          "ternary": {
           "aaxis": {
            "gridcolor": "white",
            "linecolor": "white",
            "ticks": ""
           },
           "baxis": {
            "gridcolor": "white",
            "linecolor": "white",
            "ticks": ""
           },
           "bgcolor": "#E5ECF6",
           "caxis": {
            "gridcolor": "white",
            "linecolor": "white",
            "ticks": ""
           }
          },
          "title": {
           "x": 0.05
          },
          "xaxis": {
           "automargin": true,
           "gridcolor": "white",
           "linecolor": "white",
           "ticks": "",
           "title": {
            "standoff": 15
           },
           "zerolinecolor": "white",
           "zerolinewidth": 2
          },
          "yaxis": {
           "automargin": true,
           "gridcolor": "white",
           "linecolor": "white",
           "ticks": "",
           "title": {
            "standoff": 15
           },
           "zerolinecolor": "white",
           "zerolinewidth": 2
          }
         }
        },
        "xaxis": {
         "anchor": "y",
         "autorange": true,
         "domain": [
          0,
          1
         ],
         "range": [
          -0.5,
          1.5
         ],
         "title": {
          "text": "genre"
         },
         "type": "category"
        },
        "yaxis": {
         "anchor": "x",
         "autorange": true,
         "domain": [
          0,
          1
         ],
         "range": [
          -0.6280934944222037,
          -0.12032592255597865
         ],
         "title": {
          "text": "PC0"
         },
         "type": "linear"
        }
       }
      },
      "image/png": "[encoded data removed]",
      "text/html": [
       "<div>                            <div id=\"aef74f7d-152e-4fec-a204-a0e385d4eaf9\" class=\"plotly-graph-div\" style=\"height:525px; width:100%;\"></div>            <script type=\"text/javascript\">                require([\"plotly\"], function(Plotly) {                    window.PLOTLYENV=window.PLOTLYENV || {};                                    if (document.getElementById(\"aef74f7d-152e-4fec-a204-a0e385d4eaf9\")) {                    Plotly.newPlot(                        \"aef74f7d-152e-4fec-a204-a0e385d4eaf9\",                        [{\"alignmentgroup\":\"True\",\"hovertemplate\":\"genre=%{x}<br>PC0=%{y}<extra></extra>\",\"legendgroup\":\"\",\"marker\":{\"color\":\"#636efa\"},\"name\":\"\",\"notched\":false,\"offsetgroup\":\"\",\"orientation\":\"v\",\"showlegend\":false,\"x\":[\"d\",\"d\",\"d\",\"d\",\"d\",\"d\",\"d\",\"d\",\"d\",\"d\",\"d\",\"d\",\"d\",\"d\",\"d\",\"d\",\"d\",\"d\",\"d\",\"d\",\"d\",\"d\",\"d\",\"d\",\"d\",\"d\",\"d\",\"g\",\"g\",\"g\",\"g\",\"g\",\"g\",\"g\",\"g\",\"g\",\"g\",\"g\",\"g\",\"g\",\"g\",\"g\",\"g\",\"g\",\"g\",\"g\",\"g\",\"g\",\"g\",\"g\",\"g\",\"g\",\"g\",\"g\",\"g\",\"g\",\"g\",\"g\",\"g\",\"g\",\"g\",\"g\",\"g\",\"g\",\"g\",\"g\",\"g\",\"g\",\"g\",\"g\",\"g\",\"g\",\"g\",\"g\",\"g\",\"g\",\"g\",\"g\",\"g\",\"g\",\"g\",\"g\",\"g\",\"g\",\"g\",\"g\",\"g\",\"g\",\"g\",\"g\",\"g\",\"g\",\"d\",\"g\",\"g\",\"g\",\"g\",\"g\",\"g\",\"g\",\"g\",\"g\",\"g\",\"g\",\"g\",\"d\",\"d\",\"d\",\"d\",\"d\",\"d\",\"d\",\"d\",\"d\",\"d\",\"d\",\"d\",\"d\",\"d\",\"d\",\"d\",\"d\",\"d\",\"d\",\"d\",\"d\",\"d\",\"d\",\"d\",\"d\",\"d\",\"d\",\"d\",\"d\",\"d\",\"d\",\"d\",\"d\",\"d\",\"d\",\"d\",\"d\",\"d\",\"d\",\"d\",\"d\",\"d\",\"d\",\"d\",\"d\",\"d\",\"g\",\"g\",\"g\",\"g\",\"g\",\"g\",\"g\",\"g\",\"g\",\"g\",\"g\",\"g\",\"g\",\"g\",\"g\",\"g\",\"g\",\"g\",\"g\",\"g\",\"g\",\"g\",\"g\",\"g\",\"g\",\"g\",\"g\",\"g\",\"g\",\"g\",\"g\",\"g\",\"g\",\"g\",\"g\",\"g\",\"g\",\"g\",\"g\",\"g\",\"g\",\"g\",\"g\",\"d\",\"d\",\"d\",\"d\",\"d\",\"d\",\"d\",\"d\",\"d\",\"d\",\"d\",\"d\",\"d\",\"d\",\"d\",\"d\",\"d\",\"d\",\"d\",\"d\",\"d\",\"d\",\"d\",\"d\",\"d\",\"d\",\"d\",\"d\",\"d\",\"d\",\"d\",\"d\",\"d\",\"d\",\"d\",\"d\",\"d\",\"d\",\"d\",\"d\",\"d\",\"d\",\"d\",\"d\",\"d\",\"d\",\"d\",\"d\",\"d\",\"d\",\"d\",\"d\",\"d\",\"d\",\"d\",\"d\",\"d\",\"d\",\"d\",\"d\",\"d\",\"d\",\"d\",\"d\",\"d\",\"d\",\"d\",\"d\",\"g\",\"g\",\"g\",\"g\",\"g\",\"g\",\"g\",\"g\",\"g\",\"g\",\"g\",\"g\",\"g\",\"g\",\"g\",\"g\",\"g\",\"g\",\"g\",\"g\",\"g\",\"g\",\"g\",\"g\",\"g\",\"g\",\"g\",\"g\",\"g\",\"g\",\"g\",\"g\",\"g\",\"g\",\"g\",\"g\",\"g\",\"g\",\"g\",\"g\",\"g\",\"g\",\"g\",\"g\",\"g\",\"g\",\"g\",\"g\",\"g\",\"g\",\"g\",\"g\",\"g\",\"g\",\"g\",\"g\",\"g\",\"g\"],\"x0\":\" \",\"xaxis\":\"x\",\"y\":[-0.5447571063696566,-0.493523941012625,-0.4963947458506288,-0.4953140158247196,-0.4862643362082725,-0.5166474756805642,-0.3861973261906373,-0.5597020138130571,-0.4920207691644873,-0.5315587948542383,-0.5194348533302596,-0.5340685848724298,-0.30049236372073596,-0.4017540299100117,-0.34671409858905433,-0.3070181183413753,-0.332116087615874,-0.423734490168928,-0.4600394707580216,-0.4004289149443305,-0.43220101908975744,-0.3965234824418286,-0.4613640915789522,-0.4073770747842048,-0.4549076378250424,-0.37369997912746056,-0.4332725781883404,-0.45103010197329946,-0.4951407892935652,-0.4576739204967496,-0.46495723576789005,-0.3486971347206721,-0.4267389864140886,-0.4451613851461604,-0.42106712310404626,-0.40183096263818674,-0.3164552997562078,-0.374869497111029,-0.4285936601324591,-0.46003598491824327,-0.43602415655861154,-0.36349062985606584,-0.41718562872678805,-0.3166909774822556,-0.4741194283701303,-0.4636056617537826,-0.3847725521370233,-0.412892002570856,-0.4741756671157844,-0.4798764771136954,-0.430046943441091,-0.41826230043293666,-0.38253457352950265,-0.449902726742331,-0.47989437822042225,-0.40179714758304097,-0.4405150418228526,-0.3977779603403041,-0.43289574279687393,-0.4573044186904865,-0.4304104203209973,-0.40160421656028866,-0.35779647218757693,-0.41070545621864984,-0.3089655620144677,-0.29123813570142204,-0.1457143011492899,-0.3513722689544445,-0.3649883193419629,-0.3422327644007662,-0.2778162275255405,-0.29460314541454513,-0.3569433654172739,-0.37944960465081357,-0.40551488677973935,-0.33002217848073556,-0.3743613136236762,-0.3037456629950618,-0.2824718114203654,-0.30910202142279286,-0.3153989331782392,-0.31096812826214887,-0.36729198699322774,-0.35421056061171907,-0.2723770694782822,-0.41092269024521255,-0.35898171992363137,-0.364130738062749,-0.3939910252012868,-0.4041928641538377,-0.37057497386315685,-0.4455729270323239,-0.420210870436857,-0.47973300867274726,-0.49066530172677747,-0.543115321299183,-0.6027051158288925,-0.5341816880814603,-0.5177420747176469,-0.48447060499569766,-0.470902513995001,-0.5746658006379338,-0.48015915921371743,-0.539027076216344,-0.390701149258793,-0.2559966730440209,-0.2431362467054725,-0.33484420576328644,-0.2993022778144983,-0.3651791037570833,-0.42283922259724216,-0.3895600870753877,-0.3413133883153061,-0.43607258333354393,-0.3908369807557294,-0.40710143941958843,-0.43271511305990584,-0.399297413795152,-0.3102496675993257,-0.34956983742519365,-0.43128378381624044,-0.413339405001921,-0.3611060380219729,-0.34883058427263836,-0.26478996145977796,-0.30070731794855915,-0.3563530205694782,-0.414704065237135,-0.4588268747866243,-0.46174529587187996,-0.3892171650995666,-0.3833923729457933,-0.32830067158124926,-0.38434320464792093,-0.18338858977509293,-0.4130368189502073,-0.44986290417272934,-0.37602257618730883,-0.2715309668261749,-0.3958387687141228,-0.37690782179481547,-0.38986571967680494,-0.3241252146217356,-0.4584041713421583,-0.4275192045601035,-0.426338964254252,-0.3850599314321844,-0.4065544333619822,-0.3978625067438755,-0.5300198309850646,-0.5072042922390758,-0.30191530947689704,-0.31107927675316116,-0.2861124136912965,-0.29553883445906776,-0.265112146351347,-0.27431675063880506,-0.337683878622605,-0.36017930958859035,-0.3816630860074108,-0.3989981861685639,-0.368926896964449,-0.3170103475007113,-0.3571054959598535,-0.38974257319689487,-0.4432293665257568,-0.3375440033601751,-0.30004885278385174,-0.3091376292513667,-0.23127597754574747,-0.41183700051932703,-0.38033149376387254,-0.424442189495703,-0.346722027903304,-0.39197380060188425,-0.3956120571022334,-0.3918905307310241,-0.26783983677071166,-0.4324885231967165,-0.417996248747379,-0.38856566154889427,-0.26281487409413307,-0.44477067028741046,-0.4288954890129002,-0.44800158226779363,-0.5061254005667593,-0.4311131950513485,-0.40832313311829044,-0.45904529137615185,-0.41797086009823214,-0.43590399793048107,-0.24586274544805053,-0.35702299945847454,-0.27383275250651584,-0.4839308242920193,-0.3517528998340762,-0.3848398302492426,-0.4237117497460902,-0.3216974373699924,-0.36245302652577915,-0.3939952692645461,-0.39942999276157304,-0.3550813886054936,-0.3128606202292612,-0.3019323829545012,-0.411370035752041,-0.35701910447374685,-0.37328002216752176,-0.3376171574858482,-0.2951267237833891,-0.3618781372333273,-0.2919469518770773,-0.35638490471876993,-0.31139716261387096,-0.322708868150126,-0.302656802076721,-0.3096640277507394,-0.3714942793419925,-0.34407692748493046,-0.33827804847460513,-0.43619121343248357,-0.33184608937489857,-0.285764240318714,-0.3438545521661889,-0.35475321405174853,-0.39990456782806594,-0.3853983778454956,-0.34014776905365757,-0.2967949029164787,-0.33365834985148796,-0.31491130024072156,-0.2989396764715272,-0.3283574998042828,-0.41046365330613477,-0.3123683764925753,-0.3695500410045185,-0.22589517271024817,-0.33559123679608394,-0.34785506631310303,-0.3093522191235382,-0.40816127045109574,-0.38963537219114763,-0.34603015083365884,-0.38996893831684176,-0.36564006881748584,-0.382758173338838,-0.2986875059594254,-0.28752163322265134,-0.47774680193340374,-0.4162914216374922,-0.3280863848865513,-0.32747182100099315,-0.37962407152494526,-0.4497913231132216,-0.3564009882391723,-0.32774945019695434,-0.42681877204590324,-0.36021429928344617,-0.39787970179136,-0.3022586493919041,-0.3180985586290661,-0.3734105919625812,-0.4908342545493099,-0.44637247521402484,-0.37510691271922925,-0.4138426584691306,-0.37953386266736644,-0.4483864843310017,-0.4346355347067419,-0.49031797114730485,-0.35728423828020817,-0.4798115509654272,-0.36319765043034025,-0.47528880416152286,-0.48640955909011574,-0.3977923990606691,-0.3544586637745969,-0.5659006007728661,-0.4144898119385415,-0.44498252531350657,-0.5476151642835144,-0.48839358341851635,-0.3189433413502235,-0.4732967409680038,-0.47605604916245403,-0.4162945059902265,-0.40194342909740116,-0.4093753733683638,-0.3822556026461038,-0.46269785067710567,-0.3489470623673316,-0.49156059337297964,-0.47009116243827187,-0.38158143519289767,-0.4533218608898174,-0.5052168121596823,-0.3954199987953104,-0.39438571966320934,-0.33858301614229974,-0.5207529040700443,-0.3180211881673517,-0.22904088995505398,-0.4123115871405588,-0.3796517081945578,-0.3895841371028231,-0.4567364760942464,-0.4157183001338238,-0.3170423068431681,-0.40358727119125165,-0.42751109784446734,-0.33609947205642765,-0.47376868836621666,-0.39621047159097866,-0.40754406431763057,-0.3278033627836757,-0.4772493461296622,-0.4490200626206322,-0.3751885321884856,-0.2933411006428895,-0.45321004987535995],\"y0\":\" \",\"yaxis\":\"y\",\"type\":\"box\"}],                        {\"template\":{\"data\":{\"histogram2dcontour\":[{\"type\":\"histogram2dcontour\",\"colorbar\":{\"outlinewidth\":0,\"ticks\":\"\"},\"colorscale\":[[0.0,\"#0d0887\"],[0.1111111111111111,\"#46039f\"],[0.2222222222222222,\"#7201a8\"],[0.3333333333333333,\"#9c179e\"],[0.4444444444444444,\"#bd3786\"],[0.5555555555555556,\"#d8576b\"],[0.6666666666666666,\"#ed7953\"],[0.7777777777777778,\"#fb9f3a\"],[0.8888888888888888,\"#fdca26\"],[1.0,\"#f0f921\"]]}],\"choropleth\":[{\"type\":\"choropleth\",\"colorbar\":{\"outlinewidth\":0,\"ticks\":\"\"}}],\"histogram2d\":[{\"type\":\"histogram2d\",\"colorbar\":{\"outlinewidth\":0,\"ticks\":\"\"},\"colorscale\":[[0.0,\"#0d0887\"],[0.1111111111111111,\"#46039f\"],[0.2222222222222222,\"#7201a8\"],[0.3333333333333333,\"#9c179e\"],[0.4444444444444444,\"#bd3786\"],[0.5555555555555556,\"#d8576b\"],[0.6666666666666666,\"#ed7953\"],[0.7777777777777778,\"#fb9f3a\"],[0.8888888888888888,\"#fdca26\"],[1.0,\"#f0f921\"]]}],\"heatmap\":[{\"type\":\"heatmap\",\"colorbar\":{\"outlinewidth\":0,\"ticks\":\"\"},\"colorscale\":[[0.0,\"#0d0887\"],[0.1111111111111111,\"#46039f\"],[0.2222222222222222,\"#7201a8\"],[0.3333333333333333,\"#9c179e\"],[0.4444444444444444,\"#bd3786\"],[0.5555555555555556,\"#d8576b\"],[0.6666666666666666,\"#ed7953\"],[0.7777777777777778,\"#fb9f3a\"],[0.8888888888888888,\"#fdca26\"],[1.0,\"#f0f921\"]]}],\"heatmapgl\":[{\"type\":\"heatmapgl\",\"colorbar\":{\"outlinewidth\":0,\"ticks\":\"\"},\"colorscale\":[[0.0,\"#0d0887\"],[0.1111111111111111,\"#46039f\"],[0.2222222222222222,\"#7201a8\"],[0.3333333333333333,\"#9c179e\"],[0.4444444444444444,\"#bd3786\"],[0.5555555555555556,\"#d8576b\"],[0.6666666666666666,\"#ed7953\"],[0.7777777777777778,\"#fb9f3a\"],[0.8888888888888888,\"#fdca26\"],[1.0,\"#f0f921\"]]}],\"contourcarpet\":[{\"type\":\"contourcarpet\",\"colorbar\":{\"outlinewidth\":0,\"ticks\":\"\"}}],\"contour\":[{\"type\":\"contour\",\"colorbar\":{\"outlinewidth\":0,\"ticks\":\"\"},\"colorscale\":[[0.0,\"#0d0887\"],[0.1111111111111111,\"#46039f\"],[0.2222222222222222,\"#7201a8\"],[0.3333333333333333,\"#9c179e\"],[0.4444444444444444,\"#bd3786\"],[0.5555555555555556,\"#d8576b\"],[0.6666666666666666,\"#ed7953\"],[0.7777777777777778,\"#fb9f3a\"],[0.8888888888888888,\"#fdca26\"],[1.0,\"#f0f921\"]]}],\"surface\":[{\"type\":\"surface\",\"colorbar\":{\"outlinewidth\":0,\"ticks\":\"\"},\"colorscale\":[[0.0,\"#0d0887\"],[0.1111111111111111,\"#46039f\"],[0.2222222222222222,\"#7201a8\"],[0.3333333333333333,\"#9c179e\"],[0.4444444444444444,\"#bd3786\"],[0.5555555555555556,\"#d8576b\"],[0.6666666666666666,\"#ed7953\"],[0.7777777777777778,\"#fb9f3a\"],[0.8888888888888888,\"#fdca26\"],[1.0,\"#f0f921\"]]}],\"mesh3d\":[{\"type\":\"mesh3d\",\"colorbar\":{\"outlinewidth\":0,\"ticks\":\"\"}}],\"scatter\":[{\"fillpattern\":{\"fillmode\":\"overlay\",\"size\":10,\"solidity\":0.2},\"type\":\"scatter\"}],\"parcoords\":[{\"type\":\"parcoords\",\"line\":{\"colorbar\":{\"outlinewidth\":0,\"ticks\":\"\"}}}],\"scatterpolargl\":[{\"type\":\"scatterpolargl\",\"marker\":{\"colorbar\":{\"outlinewidth\":0,\"ticks\":\"\"}}}],\"bar\":[{\"error_x\":{\"color\":\"#2a3f5f\"},\"error_y\":{\"color\":\"#2a3f5f\"},\"marker\":{\"line\":{\"color\":\"#E5ECF6\",\"width\":0.5},\"pattern\":{\"fillmode\":\"overlay\",\"size\":10,\"solidity\":0.2}},\"type\":\"bar\"}],\"scattergeo\":[{\"type\":\"scattergeo\",\"marker\":{\"colorbar\":{\"outlinewidth\":0,\"ticks\":\"\"}}}],\"scatterpolar\":[{\"type\":\"scatterpolar\",\"marker\":{\"colorbar\":{\"outlinewidth\":0,\"ticks\":\"\"}}}],\"histogram\":[{\"marker\":{\"pattern\":{\"fillmode\":\"overlay\",\"size\":10,\"solidity\":0.2}},\"type\":\"histogram\"}],\"scattergl\":[{\"type\":\"scattergl\",\"marker\":{\"colorbar\":{\"outlinewidth\":0,\"ticks\":\"\"}}}],\"scatter3d\":[{\"type\":\"scatter3d\",\"line\":{\"colorbar\":{\"outlinewidth\":0,\"ticks\":\"\"}},\"marker\":{\"colorbar\":{\"outlinewidth\":0,\"ticks\":\"\"}}}],\"scattermapbox\":[{\"type\":\"scattermapbox\",\"marker\":{\"colorbar\":{\"outlinewidth\":0,\"ticks\":\"\"}}}],\"scatterternary\":[{\"type\":\"scatterternary\",\"marker\":{\"colorbar\":{\"outlinewidth\":0,\"ticks\":\"\"}}}],\"scattercarpet\":[{\"type\":\"scattercarpet\",\"marker\":{\"colorbar\":{\"outlinewidth\":0,\"ticks\":\"\"}}}],\"carpet\":[{\"aaxis\":{\"endlinecolor\":\"#2a3f5f\",\"gridcolor\":\"white\",\"linecolor\":\"white\",\"minorgridcolor\":\"white\",\"startlinecolor\":\"#2a3f5f\"},\"baxis\":{\"endlinecolor\":\"#2a3f5f\",\"gridcolor\":\"white\",\"linecolor\":\"white\",\"minorgridcolor\":\"white\",\"startlinecolor\":\"#2a3f5f\"},\"type\":\"carpet\"}],\"table\":[{\"cells\":{\"fill\":{\"color\":\"#EBF0F8\"},\"line\":{\"color\":\"white\"}},\"header\":{\"fill\":{\"color\":\"#C8D4E3\"},\"line\":{\"color\":\"white\"}},\"type\":\"table\"}],\"barpolar\":[{\"marker\":{\"line\":{\"color\":\"#E5ECF6\",\"width\":0.5},\"pattern\":{\"fillmode\":\"overlay\",\"size\":10,\"solidity\":0.2}},\"type\":\"barpolar\"}],\"pie\":[{\"automargin\":true,\"type\":\"pie\"}]},\"layout\":{\"autotypenumbers\":\"strict\",\"colorway\":[\"#636efa\",\"#EF553B\",\"#00cc96\",\"#ab63fa\",\"#FFA15A\",\"#19d3f3\",\"#FF6692\",\"#B6E880\",\"#FF97FF\",\"#FECB52\"],\"font\":{\"color\":\"#2a3f5f\"},\"hovermode\":\"closest\",\"hoverlabel\":{\"align\":\"left\"},\"paper_bgcolor\":\"white\",\"plot_bgcolor\":\"#E5ECF6\",\"polar\":{\"bgcolor\":\"#E5ECF6\",\"angularaxis\":{\"gridcolor\":\"white\",\"linecolor\":\"white\",\"ticks\":\"\"},\"radialaxis\":{\"gridcolor\":\"white\",\"linecolor\":\"white\",\"ticks\":\"\"}},\"ternary\":{\"bgcolor\":\"#E5ECF6\",\"aaxis\":{\"gridcolor\":\"white\",\"linecolor\":\"white\",\"ticks\":\"\"},\"baxis\":{\"gridcolor\":\"white\",\"linecolor\":\"white\",\"ticks\":\"\"},\"caxis\":{\"gridcolor\":\"white\",\"linecolor\":\"white\",\"ticks\":\"\"}},\"coloraxis\":{\"colorbar\":{\"outlinewidth\":0,\"ticks\":\"\"}},\"colorscale\":{\"sequential\":[[0.0,\"#0d0887\"],[0.1111111111111111,\"#46039f\"],[0.2222222222222222,\"#7201a8\"],[0.3333333333333333,\"#9c179e\"],[0.4444444444444444,\"#bd3786\"],[0.5555555555555556,\"#d8576b\"],[0.6666666666666666,\"#ed7953\"],[0.7777777777777778,\"#fb9f3a\"],[0.8888888888888888,\"#fdca26\"],[1.0,\"#f0f921\"]],\"sequentialminus\":[[0.0,\"#0d0887\"],[0.1111111111111111,\"#46039f\"],[0.2222222222222222,\"#7201a8\"],[0.3333333333333333,\"#9c179e\"],[0.4444444444444444,\"#bd3786\"],[0.5555555555555556,\"#d8576b\"],[0.6666666666666666,\"#ed7953\"],[0.7777777777777778,\"#fb9f3a\"],[0.8888888888888888,\"#fdca26\"],[1.0,\"#f0f921\"]],\"diverging\":[[0,\"#8e0152\"],[0.1,\"#c51b7d\"],[0.2,\"#de77ae\"],[0.3,\"#f1b6da\"],[0.4,\"#fde0ef\"],[0.5,\"#f7f7f7\"],[0.6,\"#e6f5d0\"],[0.7,\"#b8e186\"],[0.8,\"#7fbc41\"],[0.9,\"#4d9221\"],[1,\"#276419\"]]},\"xaxis\":{\"gridcolor\":\"white\",\"linecolor\":\"white\",\"ticks\":\"\",\"title\":{\"standoff\":15},\"zerolinecolor\":\"white\",\"automargin\":true,\"zerolinewidth\":2},\"yaxis\":{\"gridcolor\":\"white\",\"linecolor\":\"white\",\"ticks\":\"\",\"title\":{\"standoff\":15},\"zerolinecolor\":\"white\",\"automargin\":true,\"zerolinewidth\":2},\"scene\":{\"xaxis\":{\"backgroundcolor\":\"#E5ECF6\",\"gridcolor\":\"white\",\"linecolor\":\"white\",\"showbackground\":true,\"ticks\":\"\",\"zerolinecolor\":\"white\",\"gridwidth\":2},\"yaxis\":{\"backgroundcolor\":\"#E5ECF6\",\"gridcolor\":\"white\",\"linecolor\":\"white\",\"showbackground\":true,\"ticks\":\"\",\"zerolinecolor\":\"white\",\"gridwidth\":2},\"zaxis\":{\"backgroundcolor\":\"#E5ECF6\",\"gridcolor\":\"white\",\"linecolor\":\"white\",\"showbackground\":true,\"ticks\":\"\",\"zerolinecolor\":\"white\",\"gridwidth\":2}},\"shapedefaults\":{\"line\":{\"color\":\"#2a3f5f\"}},\"annotationdefaults\":{\"arrowcolor\":\"#2a3f5f\",\"arrowhead\":0,\"arrowwidth\":1},\"geo\":{\"bgcolor\":\"white\",\"landcolor\":\"#E5ECF6\",\"subunitcolor\":\"white\",\"showland\":true,\"showlakes\":true,\"lakecolor\":\"white\"},\"title\":{\"x\":0.05},\"mapbox\":{\"style\":\"light\"}}},\"xaxis\":{\"anchor\":\"y\",\"domain\":[0.0,1.0],\"title\":{\"text\":\"genre\"}},\"yaxis\":{\"anchor\":\"x\",\"domain\":[0.0,1.0],\"title\":{\"text\":\"PC0\"}},\"legend\":{\"tracegroupgap\":0},\"margin\":{\"t\":60},\"boxmode\":\"group\"},                        {\"responsive\": true}                    ).then(function(){\n",
       "                            \n",
       "var gd = document.getElementById('aef74f7d-152e-4fec-a204-a0e385d4eaf9');\n",
       "var x = new MutationObserver(function (mutations, observer) {{\n",
       "        var display = window.getComputedStyle(gd).display;\n",
       "        if (!display || display === 'none') {{\n",
       "            console.log([gd, 'removed!']);\n",
       "            Plotly.purge(gd);\n",
       "            observer.disconnect();\n",
       "        }}\n",
       "}});\n",
       "\n",
       "// Listen for the removal of the full notebook cells\n",
       "var notebookContainer = gd.closest('#notebook-container');\n",
       "if (notebookContainer) {{\n",
       "    x.observe(notebookContainer, {childList: true});\n",
       "}}\n",
       "\n",
       "// Listen for the clearing of the current output cell\n",
       "var outputEl = gd.closest('.output');\n",
       "if (outputEl) {{\n",
       "    x.observe(outputEl, {childList: true});\n",
       "}}\n",
       "\n",
       "                        })                };                });            </script>        </div>"
      ]
     },
     "metadata": {},
     "output_type": "display_data"
    }
   ],
   "source": [
    "px.box(dcm, x='genre', y='PC0')"
   ]
  },
  {
   "cell_type": "code",
   "execution_count": 331,
   "id": "7c440ae5-05a9-4265-baec-bbf5ddd76a7e",
   "metadata": {},
   "outputs": [
    {
     "data": {
      "text/plain": [
       "<Axes: xlabel='genre', ylabel='PC0'>"
      ]
     },
     "execution_count": 331,
     "metadata": {},
     "output_type": "execute_result"
    },
    {
     "data": {
      "image/png": "[encoded data removed]",
      "text/plain": [
       "<Figure size 640x480 with 1 Axes>"
      ]
     },
     "metadata": {},
     "output_type": "display_data"
    }
   ],
   "source": [
    "sns.boxplot(dcm, x='genre', y='PC0')"
   ]
  },
  {
   "cell_type": "markdown",
   "id": "75e0c81b-73d6-497b-984a-0578ec2fa9bd",
   "metadata": {},
   "source": [
    "**Genre d** has a more narrow range. "
   ]
  },
  {
   "cell_type": "markdown",
   "id": "53857b1d-e7c9-4f0c-8da2-e44184f961c0",
   "metadata": {},
   "source": [
    "#### 2. Looking at the documents plotted against the first PC, which author has the highest absolute value, in terms of both mean and range? In other words, which author is farthest from 0? Again, the box plots of each author are useful here."
   ]
  },
  {
   "cell_type": "code",
   "execution_count": 319,
   "id": "71d03c7c-1ae3-46ef-89dd-4bd90e6f60be",
   "metadata": {},
   "outputs": [
    {
     "data": {
      "application/vnd.plotly.v1+json": {
       "config": {
        "plotlyServerURL": "https://plot.ly"
       },
       "data": [
        {
         "alignmentgroup": "True",
         "hovertemplate": "<b>%{hovertext}</b><br><br>author=%{x}<br>PC0=%{y}<extra></extra>",
         "hovertext": [
          "doyle",
          "doyle",
          "doyle",
          "doyle",
          "doyle",
          "doyle",
          "doyle",
          "doyle",
          "doyle",
          "doyle",
          "doyle",
          "doyle",
          "doyle",
          "doyle",
          "doyle",
          "doyle",
          "doyle",
          "doyle",
          "doyle",
          "doyle",
          "doyle",
          "doyle",
          "doyle",
          "doyle",
          "doyle",
          "doyle",
          "doyle",
          "walpole",
          "walpole",
          "walpole",
          "walpole",
          "walpole",
          "dickens",
          "dickens",
          "dickens",
          "dickens",
          "dickens",
          "stoker",
          "stoker",
          "stoker",
          "stoker",
          "stoker",
          "stoker",
          "stoker",
          "stoker",
          "stoker",
          "stoker",
          "stoker",
          "stoker",
          "stoker",
          "stoker",
          "stoker",
          "stoker",
          "stoker",
          "stoker",
          "stoker",
          "stoker",
          "stoker",
          "stoker",
          "stoker",
          "stoker",
          "stoker",
          "stoker",
          "stoker",
          "shelley",
          "shelley",
          "shelley",
          "shelley",
          "shelley",
          "shelley",
          "shelley",
          "shelley",
          "shelley",
          "shelley",
          "shelley",
          "shelley",
          "shelley",
          "shelley",
          "shelley",
          "shelley",
          "shelley",
          "shelley",
          "shelley",
          "shelley",
          "shelley",
          "shelley",
          "shelley",
          "shelley",
          "shelley",
          "shelley",
          "shelley",
          "shelley",
          "poe",
          "lewis",
          "lewis",
          "lewis",
          "lewis",
          "lewis",
          "lewis",
          "lewis",
          "lewis",
          "lewis",
          "lewis",
          "lewis",
          "lewis",
          "collins",
          "collins",
          "collins",
          "collins",
          "collins",
          "collins",
          "collins",
          "collins",
          "collins",
          "collins",
          "collins",
          "collins",
          "collins",
          "collins",
          "collins",
          "collins",
          "collins",
          "collins",
          "collins",
          "collins",
          "collins",
          "collins",
          "collins",
          "collins",
          "collins",
          "collins",
          "collins",
          "collins",
          "collins",
          "collins",
          "collins",
          "collins",
          "collins",
          "collins",
          "collins",
          "collins",
          "collins",
          "collins",
          "collins",
          "collins",
          "collins",
          "collins",
          "collins",
          "collins",
          "collins",
          "collins",
          "austen",
          "austen",
          "austen",
          "austen",
          "austen",
          "austen",
          "austen",
          "austen",
          "austen",
          "austen",
          "austen",
          "austen",
          "austen",
          "austen",
          "austen",
          "austen",
          "austen",
          "austen",
          "austen",
          "austen",
          "austen",
          "austen",
          "austen",
          "austen",
          "austen",
          "austen",
          "austen",
          "austen",
          "austen",
          "austen",
          "austen",
          "reeve",
          "reeve",
          "reeve",
          "reeve",
          "reeve",
          "reeve",
          "reeve",
          "reeve",
          "reeve",
          "reeve",
          "poe",
          "poe",
          "poe",
          "doyle",
          "doyle",
          "doyle",
          "doyle",
          "doyle",
          "doyle",
          "doyle",
          "doyle",
          "doyle",
          "doyle",
          "doyle",
          "doyle",
          "doyle",
          "doyle",
          "christie",
          "christie",
          "christie",
          "christie",
          "christie",
          "christie",
          "christie",
          "christie",
          "christie",
          "christie",
          "christie",
          "christie",
          "christie",
          "christie",
          "christie",
          "christie",
          "christie",
          "christie",
          "christie",
          "christie",
          "christie",
          "christie",
          "christie",
          "christie",
          "christie",
          "christie",
          "christie",
          "christie",
          "doyle",
          "doyle",
          "doyle",
          "doyle",
          "doyle",
          "doyle",
          "doyle",
          "doyle",
          "doyle",
          "doyle",
          "doyle",
          "doyle",
          "christie",
          "christie",
          "christie",
          "christie",
          "christie",
          "christie",
          "christie",
          "christie",
          "christie",
          "christie",
          "christie",
          "christie",
          "christie",
          "radcliffe",
          "radcliffe",
          "radcliffe",
          "radcliffe",
          "radcliffe",
          "radcliffe",
          "radcliffe",
          "radcliffe",
          "radcliffe",
          "radcliffe",
          "radcliffe",
          "radcliffe",
          "radcliffe",
          "radcliffe",
          "radcliffe",
          "radcliffe",
          "radcliffe",
          "radcliffe",
          "radcliffe",
          "radcliffe",
          "radcliffe",
          "radcliffe",
          "radcliffe",
          "radcliffe",
          "radcliffe",
          "radcliffe",
          "radcliffe",
          "radcliffe",
          "radcliffe",
          "radcliffe",
          "radcliffe",
          "radcliffe",
          "radcliffe",
          "radcliffe",
          "radcliffe",
          "radcliffe",
          "radcliffe",
          "radcliffe",
          "radcliffe",
          "radcliffe",
          "radcliffe",
          "radcliffe",
          "radcliffe",
          "radcliffe",
          "radcliffe",
          "radcliffe",
          "radcliffe",
          "radcliffe",
          "radcliffe",
          "radcliffe",
          "radcliffe",
          "radcliffe",
          "radcliffe",
          "radcliffe",
          "radcliffe",
          "radcliffe",
          "radcliffe",
          "poe"
         ],
         "legendgroup": "",
         "marker": {
          "color": "#636efa"
         },
         "name": "",
         "notched": false,
         "offsetgroup": "",
         "orientation": "v",
         "showlegend": false,
         "type": "box",
         "x": [
          "doyle",
          "doyle",
          "doyle",
          "doyle",
          "doyle",
          "doyle",
          "doyle",
          "doyle",
          "doyle",
          "doyle",
          "doyle",
          "doyle",
          "doyle",
          "doyle",
          "doyle",
          "doyle",
          "doyle",
          "doyle",
          "doyle",
          "doyle",
          "doyle",
          "doyle",
          "doyle",
          "doyle",
          "doyle",
          "doyle",
          "doyle",
          "walpole",
          "walpole",
          "walpole",
          "walpole",
          "walpole",
          "dickens",
          "dickens",
          "dickens",
          "dickens",
          "dickens",
          "stoker",
          "stoker",
          "stoker",
          "stoker",
          "stoker",
          "stoker",
          "stoker",
          "stoker",
          "stoker",
          "stoker",
          "stoker",
          "stoker",
          "stoker",
          "stoker",
          "stoker",
          "stoker",
          "stoker",
          "stoker",
          "stoker",
          "stoker",
          "stoker",
          "stoker",
          "stoker",
          "stoker",
          "stoker",
          "stoker",
          "stoker",
          "shelley",
          "shelley",
          "shelley",
          "shelley",
          "shelley",
          "shelley",
          "shelley",
          "shelley",
          "shelley",
          "shelley",
          "shelley",
          "shelley",
          "shelley",
          "shelley",
          "shelley",
          "shelley",
          "shelley",
          "shelley",
          "shelley",
          "shelley",
          "shelley",
          "shelley",
          "shelley",
          "shelley",
          "shelley",
          "shelley",
          "shelley",
          "shelley",
          "poe",
          "lewis",
          "lewis",
          "lewis",
          "lewis",
          "lewis",
          "lewis",
          "lewis",
          "lewis",
          "lewis",
          "lewis",
          "lewis",
          "lewis",
          "collins",
          "collins",
          "collins",
          "collins",
          "collins",
          "collins",
          "collins",
          "collins",
          "collins",
          "collins",
          "collins",
          "collins",
          "collins",
          "collins",
          "collins",
          "collins",
          "collins",
          "collins",
          "collins",
          "collins",
          "collins",
          "collins",
          "collins",
          "collins",
          "collins",
          "collins",
          "collins",
          "collins",
          "collins",
          "collins",
          "collins",
          "collins",
          "collins",
          "collins",
          "collins",
          "collins",
          "collins",
          "collins",
          "collins",
          "collins",
          "collins",
          "collins",
          "collins",
          "collins",
          "collins",
          "collins",
          "austen",
          "austen",
          "austen",
          "austen",
          "austen",
          "austen",
          "austen",
          "austen",
          "austen",
          "austen",
          "austen",
          "austen",
          "austen",
          "austen",
          "austen",
          "austen",
          "austen",
          "austen",
          "austen",
          "austen",
          "austen",
          "austen",
          "austen",
          "austen",
          "austen",
          "austen",
          "austen",
          "austen",
          "austen",
          "austen",
          "austen",
          "reeve",
          "reeve",
          "reeve",
          "reeve",
          "reeve",
          "reeve",
          "reeve",
          "reeve",
          "reeve",
          "reeve",
          "poe",
          "poe",
          "poe",
          "doyle",
          "doyle",
          "doyle",
          "doyle",
          "doyle",
          "doyle",
          "doyle",
          "doyle",
          "doyle",
          "doyle",
          "doyle",
          "doyle",
          "doyle",
          "doyle",
          "christie",
          "christie",
          "christie",
          "christie",
          "christie",
          "christie",
          "christie",
          "christie",
          "christie",
          "christie",
          "christie",
          "christie",
          "christie",
          "christie",
          "christie",
          "christie",
          "christie",
          "christie",
          "christie",
          "christie",
          "christie",
          "christie",
          "christie",
          "christie",
          "christie",
          "christie",
          "christie",
          "christie",
          "doyle",
          "doyle",
          "doyle",
          "doyle",
          "doyle",
          "doyle",
          "doyle",
          "doyle",
          "doyle",
          "doyle",
          "doyle",
          "doyle",
          "christie",
          "christie",
          "christie",
          "christie",
          "christie",
          "christie",
          "christie",
          "christie",
          "christie",
          "christie",
          "christie",
          "christie",
          "christie",
          "radcliffe",
          "radcliffe",
          "radcliffe",
          "radcliffe",
          "radcliffe",
          "radcliffe",
          "radcliffe",
          "radcliffe",
          "radcliffe",
          "radcliffe",
          "radcliffe",
          "radcliffe",
          "radcliffe",
          "radcliffe",
          "radcliffe",
          "radcliffe",
          "radcliffe",
          "radcliffe",
          "radcliffe",
          "radcliffe",
          "radcliffe",
          "radcliffe",
          "radcliffe",
          "radcliffe",
          "radcliffe",
          "radcliffe",
          "radcliffe",
          "radcliffe",
          "radcliffe",
          "radcliffe",
          "radcliffe",
          "radcliffe",
          "radcliffe",
          "radcliffe",
          "radcliffe",
          "radcliffe",
          "radcliffe",
          "radcliffe",
          "radcliffe",
          "radcliffe",
          "radcliffe",
          "radcliffe",
          "radcliffe",
          "radcliffe",
          "radcliffe",
          "radcliffe",
          "radcliffe",
          "radcliffe",
          "radcliffe",
          "radcliffe",
          "radcliffe",
          "radcliffe",
          "radcliffe",
          "radcliffe",
          "radcliffe",
          "radcliffe",
          "radcliffe",
          "poe"
         ],
         "x0": " ",
         "xaxis": "x",
         "y": [
          -0.5447571063696566,
          -0.493523941012625,
          -0.4963947458506288,
          -0.4953140158247196,
          -0.4862643362082725,
          -0.5166474756805642,
          -0.3861973261906373,
          -0.5597020138130571,
          -0.4920207691644873,
          -0.5315587948542383,
          -0.5194348533302596,
          -0.5340685848724298,
          -0.30049236372073596,
          -0.4017540299100117,
          -0.34671409858905433,
          -0.3070181183413753,
          -0.332116087615874,
          -0.423734490168928,
          -0.4600394707580216,
          -0.4004289149443305,
          -0.43220101908975744,
          -0.3965234824418286,
          -0.4613640915789522,
          -0.4073770747842048,
          -0.4549076378250424,
          -0.37369997912746056,
          -0.4332725781883404,
          -0.45103010197329946,
          -0.4951407892935652,
          -0.4576739204967496,
          -0.46495723576789005,
          -0.3486971347206721,
          -0.4267389864140886,
          -0.4451613851461604,
          -0.42106712310404626,
          -0.40183096263818674,
          -0.3164552997562078,
          -0.374869497111029,
          -0.4285936601324591,
          -0.46003598491824327,
          -0.43602415655861154,
          -0.36349062985606584,
          -0.41718562872678805,
          -0.3166909774822556,
          -0.4741194283701303,
          -0.4636056617537826,
          -0.3847725521370233,
          -0.412892002570856,
          -0.4741756671157844,
          -0.4798764771136954,
          -0.430046943441091,
          -0.41826230043293666,
          -0.38253457352950265,
          -0.449902726742331,
          -0.47989437822042225,
          -0.40179714758304097,
          -0.4405150418228526,
          -0.3977779603403041,
          -0.43289574279687393,
          -0.4573044186904865,
          -0.4304104203209973,
          -0.40160421656028866,
          -0.35779647218757693,
          -0.41070545621864984,
          -0.3089655620144677,
          -0.29123813570142204,
          -0.1457143011492899,
          -0.3513722689544445,
          -0.3649883193419629,
          -0.3422327644007662,
          -0.2778162275255405,
          -0.29460314541454513,
          -0.3569433654172739,
          -0.37944960465081357,
          -0.40551488677973935,
          -0.33002217848073556,
          -0.3743613136236762,
          -0.3037456629950618,
          -0.2824718114203654,
          -0.30910202142279286,
          -0.3153989331782392,
          -0.31096812826214887,
          -0.36729198699322774,
          -0.35421056061171907,
          -0.2723770694782822,
          -0.41092269024521255,
          -0.35898171992363137,
          -0.364130738062749,
          -0.3939910252012868,
          -0.4041928641538377,
          -0.37057497386315685,
          -0.4455729270323239,
          -0.420210870436857,
          -0.47973300867274726,
          -0.49066530172677747,
          -0.543115321299183,
          -0.6027051158288925,
          -0.5341816880814603,
          -0.5177420747176469,
          -0.48447060499569766,
          -0.470902513995001,
          -0.5746658006379338,
          -0.48015915921371743,
          -0.539027076216344,
          -0.390701149258793,
          -0.2559966730440209,
          -0.2431362467054725,
          -0.33484420576328644,
          -0.2993022778144983,
          -0.3651791037570833,
          -0.42283922259724216,
          -0.3895600870753877,
          -0.3413133883153061,
          -0.43607258333354393,
          -0.3908369807557294,
          -0.40710143941958843,
          -0.43271511305990584,
          -0.399297413795152,
          -0.3102496675993257,
          -0.34956983742519365,
          -0.43128378381624044,
          -0.413339405001921,
          -0.3611060380219729,
          -0.34883058427263836,
          -0.26478996145977796,
          -0.30070731794855915,
          -0.3563530205694782,
          -0.414704065237135,
          -0.4588268747866243,
          -0.46174529587187996,
          -0.3892171650995666,
          -0.3833923729457933,
          -0.32830067158124926,
          -0.38434320464792093,
          -0.18338858977509293,
          -0.4130368189502073,
          -0.44986290417272934,
          -0.37602257618730883,
          -0.2715309668261749,
          -0.3958387687141228,
          -0.37690782179481547,
          -0.38986571967680494,
          -0.3241252146217356,
          -0.4584041713421583,
          -0.4275192045601035,
          -0.426338964254252,
          -0.3850599314321844,
          -0.4065544333619822,
          -0.3978625067438755,
          -0.5300198309850646,
          -0.5072042922390758,
          -0.30191530947689704,
          -0.31107927675316116,
          -0.2861124136912965,
          -0.29553883445906776,
          -0.265112146351347,
          -0.27431675063880506,
          -0.337683878622605,
          -0.36017930958859035,
          -0.3816630860074108,
          -0.3989981861685639,
          -0.368926896964449,
          -0.3170103475007113,
          -0.3571054959598535,
          -0.38974257319689487,
          -0.4432293665257568,
          -0.3375440033601751,
          -0.30004885278385174,
          -0.3091376292513667,
          -0.23127597754574747,
          -0.41183700051932703,
          -0.38033149376387254,
          -0.424442189495703,
          -0.346722027903304,
          -0.39197380060188425,
          -0.3956120571022334,
          -0.3918905307310241,
          -0.26783983677071166,
          -0.4324885231967165,
          -0.417996248747379,
          -0.38856566154889427,
          -0.26281487409413307,
          -0.44477067028741046,
          -0.4288954890129002,
          -0.44800158226779363,
          -0.5061254005667593,
          -0.4311131950513485,
          -0.40832313311829044,
          -0.45904529137615185,
          -0.41797086009823214,
          -0.43590399793048107,
          -0.24586274544805053,
          -0.35702299945847454,
          -0.27383275250651584,
          -0.4839308242920193,
          -0.3517528998340762,
          -0.3848398302492426,
          -0.4237117497460902,
          -0.3216974373699924,
          -0.36245302652577915,
          -0.3939952692645461,
          -0.39942999276157304,
          -0.3550813886054936,
          -0.3128606202292612,
          -0.3019323829545012,
          -0.411370035752041,
          -0.35701910447374685,
          -0.37328002216752176,
          -0.3376171574858482,
          -0.2951267237833891,
          -0.3618781372333273,
          -0.2919469518770773,
          -0.35638490471876993,
          -0.31139716261387096,
          -0.322708868150126,
          -0.302656802076721,
          -0.3096640277507394,
          -0.3714942793419925,
          -0.34407692748493046,
          -0.33827804847460513,
          -0.43619121343248357,
          -0.33184608937489857,
          -0.285764240318714,
          -0.3438545521661889,
          -0.35475321405174853,
          -0.39990456782806594,
          -0.3853983778454956,
          -0.34014776905365757,
          -0.2967949029164787,
          -0.33365834985148796,
          -0.31491130024072156,
          -0.2989396764715272,
          -0.3283574998042828,
          -0.41046365330613477,
          -0.3123683764925753,
          -0.3695500410045185,
          -0.22589517271024817,
          -0.33559123679608394,
          -0.34785506631310303,
          -0.3093522191235382,
          -0.40816127045109574,
          -0.38963537219114763,
          -0.34603015083365884,
          -0.38996893831684176,
          -0.36564006881748584,
          -0.382758173338838,
          -0.2986875059594254,
          -0.28752163322265134,
          -0.47774680193340374,
          -0.4162914216374922,
          -0.3280863848865513,
          -0.32747182100099315,
          -0.37962407152494526,
          -0.4497913231132216,
          -0.3564009882391723,
          -0.32774945019695434,
          -0.42681877204590324,
          -0.36021429928344617,
          -0.39787970179136,
          -0.3022586493919041,
          -0.3180985586290661,
          -0.3734105919625812,
          -0.4908342545493099,
          -0.44637247521402484,
          -0.37510691271922925,
          -0.4138426584691306,
          -0.37953386266736644,
          -0.4483864843310017,
          -0.4346355347067419,
          -0.49031797114730485,
          -0.35728423828020817,
          -0.4798115509654272,
          -0.36319765043034025,
          -0.47528880416152286,
          -0.48640955909011574,
          -0.3977923990606691,
          -0.3544586637745969,
          -0.5659006007728661,
          -0.4144898119385415,
          -0.44498252531350657,
          -0.5476151642835144,
          -0.48839358341851635,
          -0.3189433413502235,
          -0.4732967409680038,
          -0.47605604916245403,
          -0.4162945059902265,
          -0.40194342909740116,
          -0.4093753733683638,
          -0.3822556026461038,
          -0.46269785067710567,
          -0.3489470623673316,
          -0.49156059337297964,
          -0.47009116243827187,
          -0.38158143519289767,
          -0.4533218608898174,
          -0.5052168121596823,
          -0.3954199987953104,
          -0.39438571966320934,
          -0.33858301614229974,
          -0.5207529040700443,
          -0.3180211881673517,
          -0.22904088995505398,
          -0.4123115871405588,
          -0.3796517081945578,
          -0.3895841371028231,
          -0.4567364760942464,
          -0.4157183001338238,
          -0.3170423068431681,
          -0.40358727119125165,
          -0.42751109784446734,
          -0.33609947205642765,
          -0.47376868836621666,
          -0.39621047159097866,
          -0.40754406431763057,
          -0.3278033627836757,
          -0.4772493461296622,
          -0.4490200626206322,
          -0.3751885321884856,
          -0.2933411006428895,
          -0.45321004987535995
         ],
         "y0": " ",
         "yaxis": "y"
        }
       ],
       "layout": {
        "autosize": true,
        "boxmode": "group",
        "legend": {
         "tracegroupgap": 0
        },
        "margin": {
         "t": 60
        },
        "template": {
         "data": {
          "bar": [
           {
            "error_x": {
             "color": "#2a3f5f"
            },
            "error_y": {
             "color": "#2a3f5f"
            },
            "marker": {
             "line": {
              "color": "#E5ECF6",
              "width": 0.5
             },
             "pattern": {
              "fillmode": "overlay",
              "size": 10,
              "solidity": 0.2
             }
            },
            "type": "bar"
           }
          ],
          "barpolar": [
           {
            "marker": {
             "line": {
              "color": "#E5ECF6",
              "width": 0.5
             },
             "pattern": {
              "fillmode": "overlay",
              "size": 10,
              "solidity": 0.2
             }
            },
            "type": "barpolar"
           }
          ],
          "carpet": [
           {
            "aaxis": {
             "endlinecolor": "#2a3f5f",
             "gridcolor": "white",
             "linecolor": "white",
             "minorgridcolor": "white",
             "startlinecolor": "#2a3f5f"
            },
            "baxis": {
             "endlinecolor": "#2a3f5f",
             "gridcolor": "white",
             "linecolor": "white",
             "minorgridcolor": "white",
             "startlinecolor": "#2a3f5f"
            },
            "type": "carpet"
           }
          ],
          "choropleth": [
           {
            "colorbar": {
             "outlinewidth": 0,
             "ticks": ""
            },
            "type": "choropleth"
           }
          ],
          "contour": [
           {
            "colorbar": {
             "outlinewidth": 0,
             "ticks": ""
            },
            "colorscale": [
             [
              0,
              "#0d0887"
             ],
             [
              0.1111111111111111,
              "#46039f"
             ],
             [
              0.2222222222222222,
              "#7201a8"
             ],
             [
              0.3333333333333333,
              "#9c179e"
             ],
             [
              0.4444444444444444,
              "#bd3786"
             ],
             [
              0.5555555555555556,
              "#d8576b"
             ],
             [
              0.6666666666666666,
              "#ed7953"
             ],
             [
              0.7777777777777778,
              "#fb9f3a"
             ],
             [
              0.8888888888888888,
              "#fdca26"
             ],
             [
              1,
              "#f0f921"
             ]
            ],
            "type": "contour"
           }
          ],
          "contourcarpet": [
           {
            "colorbar": {
             "outlinewidth": 0,
             "ticks": ""
            },
            "type": "contourcarpet"
           }
          ],
          "heatmap": [
           {
            "colorbar": {
             "outlinewidth": 0,
             "ticks": ""
            },
            "colorscale": [
             [
              0,
              "#0d0887"
             ],
             [
              0.1111111111111111,
              "#46039f"
             ],
             [
              0.2222222222222222,
              "#7201a8"
             ],
             [
              0.3333333333333333,
              "#9c179e"
             ],
             [
              0.4444444444444444,
              "#bd3786"
             ],
             [
              0.5555555555555556,
              "#d8576b"
             ],
             [
              0.6666666666666666,
              "#ed7953"
             ],
             [
              0.7777777777777778,
              "#fb9f3a"
             ],
             [
              0.8888888888888888,
              "#fdca26"
             ],
             [
              1,
              "#f0f921"
             ]
            ],
            "type": "heatmap"
           }
          ],
          "heatmapgl": [
           {
            "colorbar": {
             "outlinewidth": 0,
             "ticks": ""
            },
            "colorscale": [
             [
              0,
              "#0d0887"
             ],
             [
              0.1111111111111111,
              "#46039f"
             ],
             [
              0.2222222222222222,
              "#7201a8"
             ],
             [
              0.3333333333333333,
              "#9c179e"
             ],
             [
              0.4444444444444444,
              "#bd3786"
             ],
             [
              0.5555555555555556,
              "#d8576b"
             ],
             [
              0.6666666666666666,
              "#ed7953"
             ],
             [
              0.7777777777777778,
              "#fb9f3a"
             ],
             [
              0.8888888888888888,
              "#fdca26"
             ],
             [
              1,
              "#f0f921"
             ]
            ],
            "type": "heatmapgl"
           }
          ],
          "histogram": [
           {
            "marker": {
             "pattern": {
              "fillmode": "overlay",
              "size": 10,
              "solidity": 0.2
             }
            },
            "type": "histogram"
           }
          ],
          "histogram2d": [
           {
            "colorbar": {
             "outlinewidth": 0,
             "ticks": ""
            },
            "colorscale": [
             [
              0,
              "#0d0887"
             ],
             [
              0.1111111111111111,
              "#46039f"
             ],
             [
              0.2222222222222222,
              "#7201a8"
             ],
             [
              0.3333333333333333,
              "#9c179e"
             ],
             [
              0.4444444444444444,
              "#bd3786"
             ],
             [
              0.5555555555555556,
              "#d8576b"
             ],
             [
              0.6666666666666666,
              "#ed7953"
             ],
             [
              0.7777777777777778,
              "#fb9f3a"
             ],
             [
              0.8888888888888888,
              "#fdca26"
             ],
             [
              1,
              "#f0f921"
             ]
            ],
            "type": "histogram2d"
           }
          ],
          "histogram2dcontour": [
           {
            "colorbar": {
             "outlinewidth": 0,
             "ticks": ""
            },
            "colorscale": [
             [
              0,
              "#0d0887"
             ],
             [
              0.1111111111111111,
              "#46039f"
             ],
             [
              0.2222222222222222,
              "#7201a8"
             ],
             [
              0.3333333333333333,
              "#9c179e"
             ],
             [
              0.4444444444444444,
              "#bd3786"
             ],
             [
              0.5555555555555556,
              "#d8576b"
             ],
             [
              0.6666666666666666,
              "#ed7953"
             ],
             [
              0.7777777777777778,
              "#fb9f3a"
             ],
             [
              0.8888888888888888,
              "#fdca26"
             ],
             [
              1,
              "#f0f921"
             ]
            ],
            "type": "histogram2dcontour"
           }
          ],
          "mesh3d": [
           {
            "colorbar": {
             "outlinewidth": 0,
             "ticks": ""
            },
            "type": "mesh3d"
           }
          ],
          "parcoords": [
           {
            "line": {
             "colorbar": {
              "outlinewidth": 0,
              "ticks": ""
             }
            },
            "type": "parcoords"
           }
          ],
          "pie": [
           {
            "automargin": true,
            "type": "pie"
           }
          ],
          "scatter": [
           {
            "fillpattern": {
             "fillmode": "overlay",
             "size": 10,
             "solidity": 0.2
            },
            "type": "scatter"
           }
          ],
          "scatter3d": [
           {
            "line": {
             "colorbar": {
              "outlinewidth": 0,
              "ticks": ""
             }
            },
            "marker": {
             "colorbar": {
              "outlinewidth": 0,
              "ticks": ""
             }
            },
            "type": "scatter3d"
           }
          ],
          "scattercarpet": [
           {
            "marker": {
             "colorbar": {
              "outlinewidth": 0,
              "ticks": ""
             }
            },
            "type": "scattercarpet"
           }
          ],
          "scattergeo": [
           {
            "marker": {
             "colorbar": {
              "outlinewidth": 0,
              "ticks": ""
             }
            },
            "type": "scattergeo"
           }
          ],
          "scattergl": [
           {
            "marker": {
             "colorbar": {
              "outlinewidth": 0,
              "ticks": ""
             }
            },
            "type": "scattergl"
           }
          ],
          "scattermapbox": [
           {
            "marker": {
             "colorbar": {
              "outlinewidth": 0,
              "ticks": ""
             }
            },
            "type": "scattermapbox"
           }
          ],
          "scatterpolar": [
           {
            "marker": {
             "colorbar": {
              "outlinewidth": 0,
              "ticks": ""
             }
            },
            "type": "scatterpolar"
           }
          ],
          "scatterpolargl": [
           {
            "marker": {
             "colorbar": {
              "outlinewidth": 0,
              "ticks": ""
             }
            },
            "type": "scatterpolargl"
           }
          ],
          "scatterternary": [
           {
            "marker": {
             "colorbar": {
              "outlinewidth": 0,
              "ticks": ""
             }
            },
            "type": "scatterternary"
           }
          ],
          "surface": [
           {
            "colorbar": {
             "outlinewidth": 0,
             "ticks": ""
            },
            "colorscale": [
             [
              0,
              "#0d0887"
             ],
             [
              0.1111111111111111,
              "#46039f"
             ],
             [
              0.2222222222222222,
              "#7201a8"
             ],
             [
              0.3333333333333333,
              "#9c179e"
             ],
             [
              0.4444444444444444,
              "#bd3786"
             ],
             [
              0.5555555555555556,
              "#d8576b"
             ],
             [
              0.6666666666666666,
              "#ed7953"
             ],
             [
              0.7777777777777778,
              "#fb9f3a"
             ],
             [
              0.8888888888888888,
              "#fdca26"
             ],
             [
              1,
              "#f0f921"
             ]
            ],
            "type": "surface"
           }
          ],
          "table": [
           {
            "cells": {
             "fill": {
              "color": "#EBF0F8"
             },
             "line": {
              "color": "white"
             }
            },
            "header": {
             "fill": {
              "color": "#C8D4E3"
             },
             "line": {
              "color": "white"
             }
            },
            "type": "table"
           }
          ]
         },
         "layout": {
          "annotationdefaults": {
           "arrowcolor": "#2a3f5f",
           "arrowhead": 0,
           "arrowwidth": 1
          },
          "autotypenumbers": "strict",
          "coloraxis": {
           "colorbar": {
            "outlinewidth": 0,
            "ticks": ""
           }
          },
          "colorscale": {
           "diverging": [
            [
             0,
             "#8e0152"
            ],
            [
             0.1,
             "#c51b7d"
            ],
            [
             0.2,
             "#de77ae"
            ],
            [
             0.3,
             "#f1b6da"
            ],
            [
             0.4,
             "#fde0ef"
            ],
            [
             0.5,
             "#f7f7f7"
            ],
            [
             0.6,
             "#e6f5d0"
            ],
            [
             0.7,
             "#b8e186"
            ],
            [
             0.8,
             "#7fbc41"
            ],
            [
             0.9,
             "#4d9221"
            ],
            [
             1,
             "#276419"
            ]
           ],
           "sequential": [
            [
             0,
             "#0d0887"
            ],
            [
             0.1111111111111111,
             "#46039f"
            ],
            [
             0.2222222222222222,
             "#7201a8"
            ],
            [
             0.3333333333333333,
             "#9c179e"
            ],
            [
             0.4444444444444444,
             "#bd3786"
            ],
            [
             0.5555555555555556,
             "#d8576b"
            ],
            [
             0.6666666666666666,
             "#ed7953"
            ],
            [
             0.7777777777777778,
             "#fb9f3a"
            ],
            [
             0.8888888888888888,
             "#fdca26"
            ],
            [
             1,
             "#f0f921"
            ]
           ],
           "sequentialminus": [
            [
             0,
             "#0d0887"
            ],
            [
             0.1111111111111111,
             "#46039f"
            ],
            [
             0.2222222222222222,
             "#7201a8"
            ],
            [
             0.3333333333333333,
             "#9c179e"
            ],
            [
             0.4444444444444444,
             "#bd3786"
            ],
            [
             0.5555555555555556,
             "#d8576b"
            ],
            [
             0.6666666666666666,
             "#ed7953"
            ],
            [
             0.7777777777777778,
             "#fb9f3a"
            ],
            [
             0.8888888888888888,
             "#fdca26"
            ],
            [
             1,
             "#f0f921"
            ]
           ]
          },
          "colorway": [
           "#636efa",
           "#EF553B",
           "#00cc96",
           "#ab63fa",
           "#FFA15A",
           "#19d3f3",
           "#FF6692",
           "#B6E880",
           "#FF97FF",
           "#FECB52"
          ],
          "font": {
           "color": "#2a3f5f"
          },
          "geo": {
           "bgcolor": "white",
           "lakecolor": "white",
           "landcolor": "#E5ECF6",
           "showlakes": true,
           "showland": true,
           "subunitcolor": "white"
          },
          "hoverlabel": {
           "align": "left"
          },
          "hovermode": "closest",
          "mapbox": {
           "style": "light"
          },
          "paper_bgcolor": "white",
          "plot_bgcolor": "#E5ECF6",
          "polar": {
           "angularaxis": {
            "gridcolor": "white",
            "linecolor": "white",
            "ticks": ""
           },
           "bgcolor": "#E5ECF6",
           "radialaxis": {
            "gridcolor": "white",
            "linecolor": "white",
            "ticks": ""
           }
          },
          "scene": {
           "xaxis": {
            "backgroundcolor": "#E5ECF6",
            "gridcolor": "white",
            "gridwidth": 2,
            "linecolor": "white",
            "showbackground": true,
            "ticks": "",
            "zerolinecolor": "white"
           },
           "yaxis": {
            "backgroundcolor": "#E5ECF6",
            "gridcolor": "white",
            "gridwidth": 2,
            "linecolor": "white",
            "showbackground": true,
            "ticks": "",
            "zerolinecolor": "white"
           },
           "zaxis": {
            "backgroundcolor": "#E5ECF6",
            "gridcolor": "white",
            "gridwidth": 2,
            "linecolor": "white",
            "showbackground": true,
            "ticks": "",
            "zerolinecolor": "white"
           }
          },
          "shapedefaults": {
           "line": {
            "color": "#2a3f5f"
           }
          },
          "ternary": {
           "aaxis": {
            "gridcolor": "white",
            "linecolor": "white",
            "ticks": ""
           },
           "baxis": {
            "gridcolor": "white",
            "linecolor": "white",
            "ticks": ""
           },
           "bgcolor": "#E5ECF6",
           "caxis": {
            "gridcolor": "white",
            "linecolor": "white",
            "ticks": ""
           }
          },
          "title": {
           "x": 0.05
          },
          "xaxis": {
           "automargin": true,
           "gridcolor": "white",
           "linecolor": "white",
           "ticks": "",
           "title": {
            "standoff": 15
           },
           "zerolinecolor": "white",
           "zerolinewidth": 2
          },
          "yaxis": {
           "automargin": true,
           "gridcolor": "white",
           "linecolor": "white",
           "ticks": "",
           "title": {
            "standoff": 15
           },
           "zerolinecolor": "white",
           "zerolinewidth": 2
          }
         }
        },
        "xaxis": {
         "anchor": "y",
         "autorange": true,
         "domain": [
          0,
          1
         ],
         "range": [
          -0.5,
          11.5
         ],
         "title": {
          "text": "author"
         },
         "type": "category"
        },
        "yaxis": {
         "anchor": "x",
         "autorange": true,
         "domain": [
          0,
          1
         ],
         "range": [
          -0.6280934944222037,
          -0.12032592255597865
         ],
         "title": {
          "text": "PC0"
         },
         "type": "linear"
        }
       }
      },
      "image/png": "[encoded data removed]",
      "text/html": [
       "<div>                            <div id=\"3ec97021-38db-438c-8b6e-397e5d1818f3\" class=\"plotly-graph-div\" style=\"height:525px; width:100%;\"></div>            <script type=\"text/javascript\">                require([\"plotly\"], function(Plotly) {                    window.PLOTLYENV=window.PLOTLYENV || {};                                    if (document.getElementById(\"3ec97021-38db-438c-8b6e-397e5d1818f3\")) {                    Plotly.newPlot(                        \"3ec97021-38db-438c-8b6e-397e5d1818f3\",                        [{\"alignmentgroup\":\"True\",\"hovertemplate\":\"<b>%{hovertext}</b><br><br>author=%{x}<br>PC0=%{y}<extra></extra>\",\"hovertext\":[\"doyle\",\"doyle\",\"doyle\",\"doyle\",\"doyle\",\"doyle\",\"doyle\",\"doyle\",\"doyle\",\"doyle\",\"doyle\",\"doyle\",\"doyle\",\"doyle\",\"doyle\",\"doyle\",\"doyle\",\"doyle\",\"doyle\",\"doyle\",\"doyle\",\"doyle\",\"doyle\",\"doyle\",\"doyle\",\"doyle\",\"doyle\",\"walpole\",\"walpole\",\"walpole\",\"walpole\",\"walpole\",\"dickens\",\"dickens\",\"dickens\",\"dickens\",\"dickens\",\"stoker\",\"stoker\",\"stoker\",\"stoker\",\"stoker\",\"stoker\",\"stoker\",\"stoker\",\"stoker\",\"stoker\",\"stoker\",\"stoker\",\"stoker\",\"stoker\",\"stoker\",\"stoker\",\"stoker\",\"stoker\",\"stoker\",\"stoker\",\"stoker\",\"stoker\",\"stoker\",\"stoker\",\"stoker\",\"stoker\",\"stoker\",\"shelley\",\"shelley\",\"shelley\",\"shelley\",\"shelley\",\"shelley\",\"shelley\",\"shelley\",\"shelley\",\"shelley\",\"shelley\",\"shelley\",\"shelley\",\"shelley\",\"shelley\",\"shelley\",\"shelley\",\"shelley\",\"shelley\",\"shelley\",\"shelley\",\"shelley\",\"shelley\",\"shelley\",\"shelley\",\"shelley\",\"shelley\",\"shelley\",\"poe\",\"lewis\",\"lewis\",\"lewis\",\"lewis\",\"lewis\",\"lewis\",\"lewis\",\"lewis\",\"lewis\",\"lewis\",\"lewis\",\"lewis\",\"collins\",\"collins\",\"collins\",\"collins\",\"collins\",\"collins\",\"collins\",\"collins\",\"collins\",\"collins\",\"collins\",\"collins\",\"collins\",\"collins\",\"collins\",\"collins\",\"collins\",\"collins\",\"collins\",\"collins\",\"collins\",\"collins\",\"collins\",\"collins\",\"collins\",\"collins\",\"collins\",\"collins\",\"collins\",\"collins\",\"collins\",\"collins\",\"collins\",\"collins\",\"collins\",\"collins\",\"collins\",\"collins\",\"collins\",\"collins\",\"collins\",\"collins\",\"collins\",\"collins\",\"collins\",\"collins\",\"austen\",\"austen\",\"austen\",\"austen\",\"austen\",\"austen\",\"austen\",\"austen\",\"austen\",\"austen\",\"austen\",\"austen\",\"austen\",\"austen\",\"austen\",\"austen\",\"austen\",\"austen\",\"austen\",\"austen\",\"austen\",\"austen\",\"austen\",\"austen\",\"austen\",\"austen\",\"austen\",\"austen\",\"austen\",\"austen\",\"austen\",\"reeve\",\"reeve\",\"reeve\",\"reeve\",\"reeve\",\"reeve\",\"reeve\",\"reeve\",\"reeve\",\"reeve\",\"poe\",\"poe\",\"poe\",\"doyle\",\"doyle\",\"doyle\",\"doyle\",\"doyle\",\"doyle\",\"doyle\",\"doyle\",\"doyle\",\"doyle\",\"doyle\",\"doyle\",\"doyle\",\"doyle\",\"christie\",\"christie\",\"christie\",\"christie\",\"christie\",\"christie\",\"christie\",\"christie\",\"christie\",\"christie\",\"christie\",\"christie\",\"christie\",\"christie\",\"christie\",\"christie\",\"christie\",\"christie\",\"christie\",\"christie\",\"christie\",\"christie\",\"christie\",\"christie\",\"christie\",\"christie\",\"christie\",\"christie\",\"doyle\",\"doyle\",\"doyle\",\"doyle\",\"doyle\",\"doyle\",\"doyle\",\"doyle\",\"doyle\",\"doyle\",\"doyle\",\"doyle\",\"christie\",\"christie\",\"christie\",\"christie\",\"christie\",\"christie\",\"christie\",\"christie\",\"christie\",\"christie\",\"christie\",\"christie\",\"christie\",\"radcliffe\",\"radcliffe\",\"radcliffe\",\"radcliffe\",\"radcliffe\",\"radcliffe\",\"radcliffe\",\"radcliffe\",\"radcliffe\",\"radcliffe\",\"radcliffe\",\"radcliffe\",\"radcliffe\",\"radcliffe\",\"radcliffe\",\"radcliffe\",\"radcliffe\",\"radcliffe\",\"radcliffe\",\"radcliffe\",\"radcliffe\",\"radcliffe\",\"radcliffe\",\"radcliffe\",\"radcliffe\",\"radcliffe\",\"radcliffe\",\"radcliffe\",\"radcliffe\",\"radcliffe\",\"radcliffe\",\"radcliffe\",\"radcliffe\",\"radcliffe\",\"radcliffe\",\"radcliffe\",\"radcliffe\",\"radcliffe\",\"radcliffe\",\"radcliffe\",\"radcliffe\",\"radcliffe\",\"radcliffe\",\"radcliffe\",\"radcliffe\",\"radcliffe\",\"radcliffe\",\"radcliffe\",\"radcliffe\",\"radcliffe\",\"radcliffe\",\"radcliffe\",\"radcliffe\",\"radcliffe\",\"radcliffe\",\"radcliffe\",\"radcliffe\",\"poe\"],\"legendgroup\":\"\",\"marker\":{\"color\":\"#636efa\"},\"name\":\"\",\"notched\":false,\"offsetgroup\":\"\",\"orientation\":\"v\",\"showlegend\":false,\"x\":[\"doyle\",\"doyle\",\"doyle\",\"doyle\",\"doyle\",\"doyle\",\"doyle\",\"doyle\",\"doyle\",\"doyle\",\"doyle\",\"doyle\",\"doyle\",\"doyle\",\"doyle\",\"doyle\",\"doyle\",\"doyle\",\"doyle\",\"doyle\",\"doyle\",\"doyle\",\"doyle\",\"doyle\",\"doyle\",\"doyle\",\"doyle\",\"walpole\",\"walpole\",\"walpole\",\"walpole\",\"walpole\",\"dickens\",\"dickens\",\"dickens\",\"dickens\",\"dickens\",\"stoker\",\"stoker\",\"stoker\",\"stoker\",\"stoker\",\"stoker\",\"stoker\",\"stoker\",\"stoker\",\"stoker\",\"stoker\",\"stoker\",\"stoker\",\"stoker\",\"stoker\",\"stoker\",\"stoker\",\"stoker\",\"stoker\",\"stoker\",\"stoker\",\"stoker\",\"stoker\",\"stoker\",\"stoker\",\"stoker\",\"stoker\",\"shelley\",\"shelley\",\"shelley\",\"shelley\",\"shelley\",\"shelley\",\"shelley\",\"shelley\",\"shelley\",\"shelley\",\"shelley\",\"shelley\",\"shelley\",\"shelley\",\"shelley\",\"shelley\",\"shelley\",\"shelley\",\"shelley\",\"shelley\",\"shelley\",\"shelley\",\"shelley\",\"shelley\",\"shelley\",\"shelley\",\"shelley\",\"shelley\",\"poe\",\"lewis\",\"lewis\",\"lewis\",\"lewis\",\"lewis\",\"lewis\",\"lewis\",\"lewis\",\"lewis\",\"lewis\",\"lewis\",\"lewis\",\"collins\",\"collins\",\"collins\",\"collins\",\"collins\",\"collins\",\"collins\",\"collins\",\"collins\",\"collins\",\"collins\",\"collins\",\"collins\",\"collins\",\"collins\",\"collins\",\"collins\",\"collins\",\"collins\",\"collins\",\"collins\",\"collins\",\"collins\",\"collins\",\"collins\",\"collins\",\"collins\",\"collins\",\"collins\",\"collins\",\"collins\",\"collins\",\"collins\",\"collins\",\"collins\",\"collins\",\"collins\",\"collins\",\"collins\",\"collins\",\"collins\",\"collins\",\"collins\",\"collins\",\"collins\",\"collins\",\"austen\",\"austen\",\"austen\",\"austen\",\"austen\",\"austen\",\"austen\",\"austen\",\"austen\",\"austen\",\"austen\",\"austen\",\"austen\",\"austen\",\"austen\",\"austen\",\"austen\",\"austen\",\"austen\",\"austen\",\"austen\",\"austen\",\"austen\",\"austen\",\"austen\",\"austen\",\"austen\",\"austen\",\"austen\",\"austen\",\"austen\",\"reeve\",\"reeve\",\"reeve\",\"reeve\",\"reeve\",\"reeve\",\"reeve\",\"reeve\",\"reeve\",\"reeve\",\"poe\",\"poe\",\"poe\",\"doyle\",\"doyle\",\"doyle\",\"doyle\",\"doyle\",\"doyle\",\"doyle\",\"doyle\",\"doyle\",\"doyle\",\"doyle\",\"doyle\",\"doyle\",\"doyle\",\"christie\",\"christie\",\"christie\",\"christie\",\"christie\",\"christie\",\"christie\",\"christie\",\"christie\",\"christie\",\"christie\",\"christie\",\"christie\",\"christie\",\"christie\",\"christie\",\"christie\",\"christie\",\"christie\",\"christie\",\"christie\",\"christie\",\"christie\",\"christie\",\"christie\",\"christie\",\"christie\",\"christie\",\"doyle\",\"doyle\",\"doyle\",\"doyle\",\"doyle\",\"doyle\",\"doyle\",\"doyle\",\"doyle\",\"doyle\",\"doyle\",\"doyle\",\"christie\",\"christie\",\"christie\",\"christie\",\"christie\",\"christie\",\"christie\",\"christie\",\"christie\",\"christie\",\"christie\",\"christie\",\"christie\",\"radcliffe\",\"radcliffe\",\"radcliffe\",\"radcliffe\",\"radcliffe\",\"radcliffe\",\"radcliffe\",\"radcliffe\",\"radcliffe\",\"radcliffe\",\"radcliffe\",\"radcliffe\",\"radcliffe\",\"radcliffe\",\"radcliffe\",\"radcliffe\",\"radcliffe\",\"radcliffe\",\"radcliffe\",\"radcliffe\",\"radcliffe\",\"radcliffe\",\"radcliffe\",\"radcliffe\",\"radcliffe\",\"radcliffe\",\"radcliffe\",\"radcliffe\",\"radcliffe\",\"radcliffe\",\"radcliffe\",\"radcliffe\",\"radcliffe\",\"radcliffe\",\"radcliffe\",\"radcliffe\",\"radcliffe\",\"radcliffe\",\"radcliffe\",\"radcliffe\",\"radcliffe\",\"radcliffe\",\"radcliffe\",\"radcliffe\",\"radcliffe\",\"radcliffe\",\"radcliffe\",\"radcliffe\",\"radcliffe\",\"radcliffe\",\"radcliffe\",\"radcliffe\",\"radcliffe\",\"radcliffe\",\"radcliffe\",\"radcliffe\",\"radcliffe\",\"poe\"],\"x0\":\" \",\"xaxis\":\"x\",\"y\":[-0.5447571063696566,-0.493523941012625,-0.4963947458506288,-0.4953140158247196,-0.4862643362082725,-0.5166474756805642,-0.3861973261906373,-0.5597020138130571,-0.4920207691644873,-0.5315587948542383,-0.5194348533302596,-0.5340685848724298,-0.30049236372073596,-0.4017540299100117,-0.34671409858905433,-0.3070181183413753,-0.332116087615874,-0.423734490168928,-0.4600394707580216,-0.4004289149443305,-0.43220101908975744,-0.3965234824418286,-0.4613640915789522,-0.4073770747842048,-0.4549076378250424,-0.37369997912746056,-0.4332725781883404,-0.45103010197329946,-0.4951407892935652,-0.4576739204967496,-0.46495723576789005,-0.3486971347206721,-0.4267389864140886,-0.4451613851461604,-0.42106712310404626,-0.40183096263818674,-0.3164552997562078,-0.374869497111029,-0.4285936601324591,-0.46003598491824327,-0.43602415655861154,-0.36349062985606584,-0.41718562872678805,-0.3166909774822556,-0.4741194283701303,-0.4636056617537826,-0.3847725521370233,-0.412892002570856,-0.4741756671157844,-0.4798764771136954,-0.430046943441091,-0.41826230043293666,-0.38253457352950265,-0.449902726742331,-0.47989437822042225,-0.40179714758304097,-0.4405150418228526,-0.3977779603403041,-0.43289574279687393,-0.4573044186904865,-0.4304104203209973,-0.40160421656028866,-0.35779647218757693,-0.41070545621864984,-0.3089655620144677,-0.29123813570142204,-0.1457143011492899,-0.3513722689544445,-0.3649883193419629,-0.3422327644007662,-0.2778162275255405,-0.29460314541454513,-0.3569433654172739,-0.37944960465081357,-0.40551488677973935,-0.33002217848073556,-0.3743613136236762,-0.3037456629950618,-0.2824718114203654,-0.30910202142279286,-0.3153989331782392,-0.31096812826214887,-0.36729198699322774,-0.35421056061171907,-0.2723770694782822,-0.41092269024521255,-0.35898171992363137,-0.364130738062749,-0.3939910252012868,-0.4041928641538377,-0.37057497386315685,-0.4455729270323239,-0.420210870436857,-0.47973300867274726,-0.49066530172677747,-0.543115321299183,-0.6027051158288925,-0.5341816880814603,-0.5177420747176469,-0.48447060499569766,-0.470902513995001,-0.5746658006379338,-0.48015915921371743,-0.539027076216344,-0.390701149258793,-0.2559966730440209,-0.2431362467054725,-0.33484420576328644,-0.2993022778144983,-0.3651791037570833,-0.42283922259724216,-0.3895600870753877,-0.3413133883153061,-0.43607258333354393,-0.3908369807557294,-0.40710143941958843,-0.43271511305990584,-0.399297413795152,-0.3102496675993257,-0.34956983742519365,-0.43128378381624044,-0.413339405001921,-0.3611060380219729,-0.34883058427263836,-0.26478996145977796,-0.30070731794855915,-0.3563530205694782,-0.414704065237135,-0.4588268747866243,-0.46174529587187996,-0.3892171650995666,-0.3833923729457933,-0.32830067158124926,-0.38434320464792093,-0.18338858977509293,-0.4130368189502073,-0.44986290417272934,-0.37602257618730883,-0.2715309668261749,-0.3958387687141228,-0.37690782179481547,-0.38986571967680494,-0.3241252146217356,-0.4584041713421583,-0.4275192045601035,-0.426338964254252,-0.3850599314321844,-0.4065544333619822,-0.3978625067438755,-0.5300198309850646,-0.5072042922390758,-0.30191530947689704,-0.31107927675316116,-0.2861124136912965,-0.29553883445906776,-0.265112146351347,-0.27431675063880506,-0.337683878622605,-0.36017930958859035,-0.3816630860074108,-0.3989981861685639,-0.368926896964449,-0.3170103475007113,-0.3571054959598535,-0.38974257319689487,-0.4432293665257568,-0.3375440033601751,-0.30004885278385174,-0.3091376292513667,-0.23127597754574747,-0.41183700051932703,-0.38033149376387254,-0.424442189495703,-0.346722027903304,-0.39197380060188425,-0.3956120571022334,-0.3918905307310241,-0.26783983677071166,-0.4324885231967165,-0.417996248747379,-0.38856566154889427,-0.26281487409413307,-0.44477067028741046,-0.4288954890129002,-0.44800158226779363,-0.5061254005667593,-0.4311131950513485,-0.40832313311829044,-0.45904529137615185,-0.41797086009823214,-0.43590399793048107,-0.24586274544805053,-0.35702299945847454,-0.27383275250651584,-0.4839308242920193,-0.3517528998340762,-0.3848398302492426,-0.4237117497460902,-0.3216974373699924,-0.36245302652577915,-0.3939952692645461,-0.39942999276157304,-0.3550813886054936,-0.3128606202292612,-0.3019323829545012,-0.411370035752041,-0.35701910447374685,-0.37328002216752176,-0.3376171574858482,-0.2951267237833891,-0.3618781372333273,-0.2919469518770773,-0.35638490471876993,-0.31139716261387096,-0.322708868150126,-0.302656802076721,-0.3096640277507394,-0.3714942793419925,-0.34407692748493046,-0.33827804847460513,-0.43619121343248357,-0.33184608937489857,-0.285764240318714,-0.3438545521661889,-0.35475321405174853,-0.39990456782806594,-0.3853983778454956,-0.34014776905365757,-0.2967949029164787,-0.33365834985148796,-0.31491130024072156,-0.2989396764715272,-0.3283574998042828,-0.41046365330613477,-0.3123683764925753,-0.3695500410045185,-0.22589517271024817,-0.33559123679608394,-0.34785506631310303,-0.3093522191235382,-0.40816127045109574,-0.38963537219114763,-0.34603015083365884,-0.38996893831684176,-0.36564006881748584,-0.382758173338838,-0.2986875059594254,-0.28752163322265134,-0.47774680193340374,-0.4162914216374922,-0.3280863848865513,-0.32747182100099315,-0.37962407152494526,-0.4497913231132216,-0.3564009882391723,-0.32774945019695434,-0.42681877204590324,-0.36021429928344617,-0.39787970179136,-0.3022586493919041,-0.3180985586290661,-0.3734105919625812,-0.4908342545493099,-0.44637247521402484,-0.37510691271922925,-0.4138426584691306,-0.37953386266736644,-0.4483864843310017,-0.4346355347067419,-0.49031797114730485,-0.35728423828020817,-0.4798115509654272,-0.36319765043034025,-0.47528880416152286,-0.48640955909011574,-0.3977923990606691,-0.3544586637745969,-0.5659006007728661,-0.4144898119385415,-0.44498252531350657,-0.5476151642835144,-0.48839358341851635,-0.3189433413502235,-0.4732967409680038,-0.47605604916245403,-0.4162945059902265,-0.40194342909740116,-0.4093753733683638,-0.3822556026461038,-0.46269785067710567,-0.3489470623673316,-0.49156059337297964,-0.47009116243827187,-0.38158143519289767,-0.4533218608898174,-0.5052168121596823,-0.3954199987953104,-0.39438571966320934,-0.33858301614229974,-0.5207529040700443,-0.3180211881673517,-0.22904088995505398,-0.4123115871405588,-0.3796517081945578,-0.3895841371028231,-0.4567364760942464,-0.4157183001338238,-0.3170423068431681,-0.40358727119125165,-0.42751109784446734,-0.33609947205642765,-0.47376868836621666,-0.39621047159097866,-0.40754406431763057,-0.3278033627836757,-0.4772493461296622,-0.4490200626206322,-0.3751885321884856,-0.2933411006428895,-0.45321004987535995],\"y0\":\" \",\"yaxis\":\"y\",\"type\":\"box\"}],                        {\"template\":{\"data\":{\"histogram2dcontour\":[{\"type\":\"histogram2dcontour\",\"colorbar\":{\"outlinewidth\":0,\"ticks\":\"\"},\"colorscale\":[[0.0,\"#0d0887\"],[0.1111111111111111,\"#46039f\"],[0.2222222222222222,\"#7201a8\"],[0.3333333333333333,\"#9c179e\"],[0.4444444444444444,\"#bd3786\"],[0.5555555555555556,\"#d8576b\"],[0.6666666666666666,\"#ed7953\"],[0.7777777777777778,\"#fb9f3a\"],[0.8888888888888888,\"#fdca26\"],[1.0,\"#f0f921\"]]}],\"choropleth\":[{\"type\":\"choropleth\",\"colorbar\":{\"outlinewidth\":0,\"ticks\":\"\"}}],\"histogram2d\":[{\"type\":\"histogram2d\",\"colorbar\":{\"outlinewidth\":0,\"ticks\":\"\"},\"colorscale\":[[0.0,\"#0d0887\"],[0.1111111111111111,\"#46039f\"],[0.2222222222222222,\"#7201a8\"],[0.3333333333333333,\"#9c179e\"],[0.4444444444444444,\"#bd3786\"],[0.5555555555555556,\"#d8576b\"],[0.6666666666666666,\"#ed7953\"],[0.7777777777777778,\"#fb9f3a\"],[0.8888888888888888,\"#fdca26\"],[1.0,\"#f0f921\"]]}],\"heatmap\":[{\"type\":\"heatmap\",\"colorbar\":{\"outlinewidth\":0,\"ticks\":\"\"},\"colorscale\":[[0.0,\"#0d0887\"],[0.1111111111111111,\"#46039f\"],[0.2222222222222222,\"#7201a8\"],[0.3333333333333333,\"#9c179e\"],[0.4444444444444444,\"#bd3786\"],[0.5555555555555556,\"#d8576b\"],[0.6666666666666666,\"#ed7953\"],[0.7777777777777778,\"#fb9f3a\"],[0.8888888888888888,\"#fdca26\"],[1.0,\"#f0f921\"]]}],\"heatmapgl\":[{\"type\":\"heatmapgl\",\"colorbar\":{\"outlinewidth\":0,\"ticks\":\"\"},\"colorscale\":[[0.0,\"#0d0887\"],[0.1111111111111111,\"#46039f\"],[0.2222222222222222,\"#7201a8\"],[0.3333333333333333,\"#9c179e\"],[0.4444444444444444,\"#bd3786\"],[0.5555555555555556,\"#d8576b\"],[0.6666666666666666,\"#ed7953\"],[0.7777777777777778,\"#fb9f3a\"],[0.8888888888888888,\"#fdca26\"],[1.0,\"#f0f921\"]]}],\"contourcarpet\":[{\"type\":\"contourcarpet\",\"colorbar\":{\"outlinewidth\":0,\"ticks\":\"\"}}],\"contour\":[{\"type\":\"contour\",\"colorbar\":{\"outlinewidth\":0,\"ticks\":\"\"},\"colorscale\":[[0.0,\"#0d0887\"],[0.1111111111111111,\"#46039f\"],[0.2222222222222222,\"#7201a8\"],[0.3333333333333333,\"#9c179e\"],[0.4444444444444444,\"#bd3786\"],[0.5555555555555556,\"#d8576b\"],[0.6666666666666666,\"#ed7953\"],[0.7777777777777778,\"#fb9f3a\"],[0.8888888888888888,\"#fdca26\"],[1.0,\"#f0f921\"]]}],\"surface\":[{\"type\":\"surface\",\"colorbar\":{\"outlinewidth\":0,\"ticks\":\"\"},\"colorscale\":[[0.0,\"#0d0887\"],[0.1111111111111111,\"#46039f\"],[0.2222222222222222,\"#7201a8\"],[0.3333333333333333,\"#9c179e\"],[0.4444444444444444,\"#bd3786\"],[0.5555555555555556,\"#d8576b\"],[0.6666666666666666,\"#ed7953\"],[0.7777777777777778,\"#fb9f3a\"],[0.8888888888888888,\"#fdca26\"],[1.0,\"#f0f921\"]]}],\"mesh3d\":[{\"type\":\"mesh3d\",\"colorbar\":{\"outlinewidth\":0,\"ticks\":\"\"}}],\"scatter\":[{\"fillpattern\":{\"fillmode\":\"overlay\",\"size\":10,\"solidity\":0.2},\"type\":\"scatter\"}],\"parcoords\":[{\"type\":\"parcoords\",\"line\":{\"colorbar\":{\"outlinewidth\":0,\"ticks\":\"\"}}}],\"scatterpolargl\":[{\"type\":\"scatterpolargl\",\"marker\":{\"colorbar\":{\"outlinewidth\":0,\"ticks\":\"\"}}}],\"bar\":[{\"error_x\":{\"color\":\"#2a3f5f\"},\"error_y\":{\"color\":\"#2a3f5f\"},\"marker\":{\"line\":{\"color\":\"#E5ECF6\",\"width\":0.5},\"pattern\":{\"fillmode\":\"overlay\",\"size\":10,\"solidity\":0.2}},\"type\":\"bar\"}],\"scattergeo\":[{\"type\":\"scattergeo\",\"marker\":{\"colorbar\":{\"outlinewidth\":0,\"ticks\":\"\"}}}],\"scatterpolar\":[{\"type\":\"scatterpolar\",\"marker\":{\"colorbar\":{\"outlinewidth\":0,\"ticks\":\"\"}}}],\"histogram\":[{\"marker\":{\"pattern\":{\"fillmode\":\"overlay\",\"size\":10,\"solidity\":0.2}},\"type\":\"histogram\"}],\"scattergl\":[{\"type\":\"scattergl\",\"marker\":{\"colorbar\":{\"outlinewidth\":0,\"ticks\":\"\"}}}],\"scatter3d\":[{\"type\":\"scatter3d\",\"line\":{\"colorbar\":{\"outlinewidth\":0,\"ticks\":\"\"}},\"marker\":{\"colorbar\":{\"outlinewidth\":0,\"ticks\":\"\"}}}],\"scattermapbox\":[{\"type\":\"scattermapbox\",\"marker\":{\"colorbar\":{\"outlinewidth\":0,\"ticks\":\"\"}}}],\"scatterternary\":[{\"type\":\"scatterternary\",\"marker\":{\"colorbar\":{\"outlinewidth\":0,\"ticks\":\"\"}}}],\"scattercarpet\":[{\"type\":\"scattercarpet\",\"marker\":{\"colorbar\":{\"outlinewidth\":0,\"ticks\":\"\"}}}],\"carpet\":[{\"aaxis\":{\"endlinecolor\":\"#2a3f5f\",\"gridcolor\":\"white\",\"linecolor\":\"white\",\"minorgridcolor\":\"white\",\"startlinecolor\":\"#2a3f5f\"},\"baxis\":{\"endlinecolor\":\"#2a3f5f\",\"gridcolor\":\"white\",\"linecolor\":\"white\",\"minorgridcolor\":\"white\",\"startlinecolor\":\"#2a3f5f\"},\"type\":\"carpet\"}],\"table\":[{\"cells\":{\"fill\":{\"color\":\"#EBF0F8\"},\"line\":{\"color\":\"white\"}},\"header\":{\"fill\":{\"color\":\"#C8D4E3\"},\"line\":{\"color\":\"white\"}},\"type\":\"table\"}],\"barpolar\":[{\"marker\":{\"line\":{\"color\":\"#E5ECF6\",\"width\":0.5},\"pattern\":{\"fillmode\":\"overlay\",\"size\":10,\"solidity\":0.2}},\"type\":\"barpolar\"}],\"pie\":[{\"automargin\":true,\"type\":\"pie\"}]},\"layout\":{\"autotypenumbers\":\"strict\",\"colorway\":[\"#636efa\",\"#EF553B\",\"#00cc96\",\"#ab63fa\",\"#FFA15A\",\"#19d3f3\",\"#FF6692\",\"#B6E880\",\"#FF97FF\",\"#FECB52\"],\"font\":{\"color\":\"#2a3f5f\"},\"hovermode\":\"closest\",\"hoverlabel\":{\"align\":\"left\"},\"paper_bgcolor\":\"white\",\"plot_bgcolor\":\"#E5ECF6\",\"polar\":{\"bgcolor\":\"#E5ECF6\",\"angularaxis\":{\"gridcolor\":\"white\",\"linecolor\":\"white\",\"ticks\":\"\"},\"radialaxis\":{\"gridcolor\":\"white\",\"linecolor\":\"white\",\"ticks\":\"\"}},\"ternary\":{\"bgcolor\":\"#E5ECF6\",\"aaxis\":{\"gridcolor\":\"white\",\"linecolor\":\"white\",\"ticks\":\"\"},\"baxis\":{\"gridcolor\":\"white\",\"linecolor\":\"white\",\"ticks\":\"\"},\"caxis\":{\"gridcolor\":\"white\",\"linecolor\":\"white\",\"ticks\":\"\"}},\"coloraxis\":{\"colorbar\":{\"outlinewidth\":0,\"ticks\":\"\"}},\"colorscale\":{\"sequential\":[[0.0,\"#0d0887\"],[0.1111111111111111,\"#46039f\"],[0.2222222222222222,\"#7201a8\"],[0.3333333333333333,\"#9c179e\"],[0.4444444444444444,\"#bd3786\"],[0.5555555555555556,\"#d8576b\"],[0.6666666666666666,\"#ed7953\"],[0.7777777777777778,\"#fb9f3a\"],[0.8888888888888888,\"#fdca26\"],[1.0,\"#f0f921\"]],\"sequentialminus\":[[0.0,\"#0d0887\"],[0.1111111111111111,\"#46039f\"],[0.2222222222222222,\"#7201a8\"],[0.3333333333333333,\"#9c179e\"],[0.4444444444444444,\"#bd3786\"],[0.5555555555555556,\"#d8576b\"],[0.6666666666666666,\"#ed7953\"],[0.7777777777777778,\"#fb9f3a\"],[0.8888888888888888,\"#fdca26\"],[1.0,\"#f0f921\"]],\"diverging\":[[0,\"#8e0152\"],[0.1,\"#c51b7d\"],[0.2,\"#de77ae\"],[0.3,\"#f1b6da\"],[0.4,\"#fde0ef\"],[0.5,\"#f7f7f7\"],[0.6,\"#e6f5d0\"],[0.7,\"#b8e186\"],[0.8,\"#7fbc41\"],[0.9,\"#4d9221\"],[1,\"#276419\"]]},\"xaxis\":{\"gridcolor\":\"white\",\"linecolor\":\"white\",\"ticks\":\"\",\"title\":{\"standoff\":15},\"zerolinecolor\":\"white\",\"automargin\":true,\"zerolinewidth\":2},\"yaxis\":{\"gridcolor\":\"white\",\"linecolor\":\"white\",\"ticks\":\"\",\"title\":{\"standoff\":15},\"zerolinecolor\":\"white\",\"automargin\":true,\"zerolinewidth\":2},\"scene\":{\"xaxis\":{\"backgroundcolor\":\"#E5ECF6\",\"gridcolor\":\"white\",\"linecolor\":\"white\",\"showbackground\":true,\"ticks\":\"\",\"zerolinecolor\":\"white\",\"gridwidth\":2},\"yaxis\":{\"backgroundcolor\":\"#E5ECF6\",\"gridcolor\":\"white\",\"linecolor\":\"white\",\"showbackground\":true,\"ticks\":\"\",\"zerolinecolor\":\"white\",\"gridwidth\":2},\"zaxis\":{\"backgroundcolor\":\"#E5ECF6\",\"gridcolor\":\"white\",\"linecolor\":\"white\",\"showbackground\":true,\"ticks\":\"\",\"zerolinecolor\":\"white\",\"gridwidth\":2}},\"shapedefaults\":{\"line\":{\"color\":\"#2a3f5f\"}},\"annotationdefaults\":{\"arrowcolor\":\"#2a3f5f\",\"arrowhead\":0,\"arrowwidth\":1},\"geo\":{\"bgcolor\":\"white\",\"landcolor\":\"#E5ECF6\",\"subunitcolor\":\"white\",\"showland\":true,\"showlakes\":true,\"lakecolor\":\"white\"},\"title\":{\"x\":0.05},\"mapbox\":{\"style\":\"light\"}}},\"xaxis\":{\"anchor\":\"y\",\"domain\":[0.0,1.0],\"title\":{\"text\":\"author\"}},\"yaxis\":{\"anchor\":\"x\",\"domain\":[0.0,1.0],\"title\":{\"text\":\"PC0\"}},\"legend\":{\"tracegroupgap\":0},\"margin\":{\"t\":60},\"boxmode\":\"group\"},                        {\"responsive\": true}                    ).then(function(){\n",
       "                            \n",
       "var gd = document.getElementById('3ec97021-38db-438c-8b6e-397e5d1818f3');\n",
       "var x = new MutationObserver(function (mutations, observer) {{\n",
       "        var display = window.getComputedStyle(gd).display;\n",
       "        if (!display || display === 'none') {{\n",
       "            console.log([gd, 'removed!']);\n",
       "            Plotly.purge(gd);\n",
       "            observer.disconnect();\n",
       "        }}\n",
       "}});\n",
       "\n",
       "// Listen for the removal of the full notebook cells\n",
       "var notebookContainer = gd.closest('#notebook-container');\n",
       "if (notebookContainer) {{\n",
       "    x.observe(notebookContainer, {childList: true});\n",
       "}}\n",
       "\n",
       "// Listen for the clearing of the current output cell\n",
       "var outputEl = gd.closest('.output');\n",
       "if (outputEl) {{\n",
       "    x.observe(outputEl, {childList: true});\n",
       "}}\n",
       "\n",
       "                        })                };                });            </script>        </div>"
      ]
     },
     "metadata": {},
     "output_type": "display_data"
    }
   ],
   "source": [
    "px.box(dcm, x='author', y='PC0', hover_name='author')"
   ]
  },
  {
   "cell_type": "code",
   "execution_count": 327,
   "id": "7846827f-ce80-4af8-b4d2-1af8cef2f40f",
   "metadata": {},
   "outputs": [
    {
     "data": {
      "text/plain": [
       "(array([ 0,  1,  2,  3,  4,  5,  6,  7,  8,  9, 10, 11]),\n",
       " [Text(0, 0, 'doyle'),\n",
       "  Text(1, 0, 'walpole'),\n",
       "  Text(2, 0, 'dickens'),\n",
       "  Text(3, 0, 'stoker'),\n",
       "  Text(4, 0, 'shelley'),\n",
       "  Text(5, 0, 'poe'),\n",
       "  Text(6, 0, 'lewis'),\n",
       "  Text(7, 0, 'collins'),\n",
       "  Text(8, 0, 'austen'),\n",
       "  Text(9, 0, 'reeve'),\n",
       "  Text(10, 0, 'christie'),\n",
       "  Text(11, 0, 'radcliffe')])"
      ]
     },
     "execution_count": 327,
     "metadata": {},
     "output_type": "execute_result"
    },
    {
     "data": {
      "image/png": "[encoded data removed]",
      "text/plain": [
       "<Figure size 640x480 with 1 Axes>"
      ]
     },
     "metadata": {},
     "output_type": "display_data"
    }
   ],
   "source": [
    "sns.boxplot(dcm, x='author', y='PC0')\n",
    "plt.xticks(rotation=45)"
   ]
  },
  {
   "cell_type": "markdown",
   "id": "2806de65-1631-41c4-b166-862ca066862f",
   "metadata": {},
   "source": [
    "**Lewis** is farthest from 0. "
   ]
  },
  {
   "cell_type": "markdown",
   "id": "2fc13a48-93c3-4d98-8376-0690e7c7281a",
   "metadata": {},
   "source": [
    "#### 3. In the third PC, which author has, by far, the maximum range?"
   ]
  },
  {
   "cell_type": "code",
   "execution_count": 315,
   "id": "72afa621-56cb-416f-b3f5-8833c1c6e2a7",
   "metadata": {},
   "outputs": [
    {
     "data": {
      "application/vnd.plotly.v1+json": {
       "config": {
        "plotlyServerURL": "https://plot.ly"
       },
       "data": [
        {
         "alignmentgroup": "True",
         "hovertemplate": "author=%{x}<br>PC2=%{y}<extra></extra>",
         "legendgroup": "",
         "marker": {
          "color": "#636efa"
         },
         "name": "",
         "notched": false,
         "offsetgroup": "",
         "orientation": "v",
         "showlegend": false,
         "type": "box",
         "x": [
          "doyle",
          "doyle",
          "doyle",
          "doyle",
          "doyle",
          "doyle",
          "doyle",
          "doyle",
          "doyle",
          "doyle",
          "doyle",
          "doyle",
          "doyle",
          "doyle",
          "doyle",
          "doyle",
          "doyle",
          "doyle",
          "doyle",
          "doyle",
          "doyle",
          "doyle",
          "doyle",
          "doyle",
          "doyle",
          "doyle",
          "doyle",
          "walpole",
          "walpole",
          "walpole",
          "walpole",
          "walpole",
          "dickens",
          "dickens",
          "dickens",
          "dickens",
          "dickens",
          "stoker",
          "stoker",
          "stoker",
          "stoker",
          "stoker",
          "stoker",
          "stoker",
          "stoker",
          "stoker",
          "stoker",
          "stoker",
          "stoker",
          "stoker",
          "stoker",
          "stoker",
          "stoker",
          "stoker",
          "stoker",
          "stoker",
          "stoker",
          "stoker",
          "stoker",
          "stoker",
          "stoker",
          "stoker",
          "stoker",
          "stoker",
          "shelley",
          "shelley",
          "shelley",
          "shelley",
          "shelley",
          "shelley",
          "shelley",
          "shelley",
          "shelley",
          "shelley",
          "shelley",
          "shelley",
          "shelley",
          "shelley",
          "shelley",
          "shelley",
          "shelley",
          "shelley",
          "shelley",
          "shelley",
          "shelley",
          "shelley",
          "shelley",
          "shelley",
          "shelley",
          "shelley",
          "shelley",
          "shelley",
          "poe",
          "lewis",
          "lewis",
          "lewis",
          "lewis",
          "lewis",
          "lewis",
          "lewis",
          "lewis",
          "lewis",
          "lewis",
          "lewis",
          "lewis",
          "collins",
          "collins",
          "collins",
          "collins",
          "collins",
          "collins",
          "collins",
          "collins",
          "collins",
          "collins",
          "collins",
          "collins",
          "collins",
          "collins",
          "collins",
          "collins",
          "collins",
          "collins",
          "collins",
          "collins",
          "collins",
          "collins",
          "collins",
          "collins",
          "collins",
          "collins",
          "collins",
          "collins",
          "collins",
          "collins",
          "collins",
          "collins",
          "collins",
          "collins",
          "collins",
          "collins",
          "collins",
          "collins",
          "collins",
          "collins",
          "collins",
          "collins",
          "collins",
          "collins",
          "collins",
          "collins",
          "austen",
          "austen",
          "austen",
          "austen",
          "austen",
          "austen",
          "austen",
          "austen",
          "austen",
          "austen",
          "austen",
          "austen",
          "austen",
          "austen",
          "austen",
          "austen",
          "austen",
          "austen",
          "austen",
          "austen",
          "austen",
          "austen",
          "austen",
          "austen",
          "austen",
          "austen",
          "austen",
          "austen",
          "austen",
          "austen",
          "austen",
          "reeve",
          "reeve",
          "reeve",
          "reeve",
          "reeve",
          "reeve",
          "reeve",
          "reeve",
          "reeve",
          "reeve",
          "poe",
          "poe",
          "poe",
          "doyle",
          "doyle",
          "doyle",
          "doyle",
          "doyle",
          "doyle",
          "doyle",
          "doyle",
          "doyle",
          "doyle",
          "doyle",
          "doyle",
          "doyle",
          "doyle",
          "christie",
          "christie",
          "christie",
          "christie",
          "christie",
          "christie",
          "christie",
          "christie",
          "christie",
          "christie",
          "christie",
          "christie",
          "christie",
          "christie",
          "christie",
          "christie",
          "christie",
          "christie",
          "christie",
          "christie",
          "christie",
          "christie",
          "christie",
          "christie",
          "christie",
          "christie",
          "christie",
          "christie",
          "doyle",
          "doyle",
          "doyle",
          "doyle",
          "doyle",
          "doyle",
          "doyle",
          "doyle",
          "doyle",
          "doyle",
          "doyle",
          "doyle",
          "christie",
          "christie",
          "christie",
          "christie",
          "christie",
          "christie",
          "christie",
          "christie",
          "christie",
          "christie",
          "christie",
          "christie",
          "christie",
          "radcliffe",
          "radcliffe",
          "radcliffe",
          "radcliffe",
          "radcliffe",
          "radcliffe",
          "radcliffe",
          "radcliffe",
          "radcliffe",
          "radcliffe",
          "radcliffe",
          "radcliffe",
          "radcliffe",
          "radcliffe",
          "radcliffe",
          "radcliffe",
          "radcliffe",
          "radcliffe",
          "radcliffe",
          "radcliffe",
          "radcliffe",
          "radcliffe",
          "radcliffe",
          "radcliffe",
          "radcliffe",
          "radcliffe",
          "radcliffe",
          "radcliffe",
          "radcliffe",
          "radcliffe",
          "radcliffe",
          "radcliffe",
          "radcliffe",
          "radcliffe",
          "radcliffe",
          "radcliffe",
          "radcliffe",
          "radcliffe",
          "radcliffe",
          "radcliffe",
          "radcliffe",
          "radcliffe",
          "radcliffe",
          "radcliffe",
          "radcliffe",
          "radcliffe",
          "radcliffe",
          "radcliffe",
          "radcliffe",
          "radcliffe",
          "radcliffe",
          "radcliffe",
          "radcliffe",
          "radcliffe",
          "radcliffe",
          "radcliffe",
          "radcliffe",
          "poe"
         ],
         "x0": " ",
         "xaxis": "x",
         "y": [
          0.032377694062924525,
          0.07041337872833434,
          -0.07879686754842512,
          -0.03001699145329713,
          0.045298218436501655,
          0.17547454716478794,
          0.04741285523999339,
          0.08264520304022793,
          0.15496057774014177,
          -0.1120531216902304,
          -0.02820034136165343,
          0.02769977668486439,
          0.005066331694618188,
          -0.0101957858278285,
          0.05369959826846581,
          0.012171276834238309,
          -0.0219114741873579,
          0.19918068100748393,
          0.039130589088018655,
          0.007969059014865222,
          0.11277117566524948,
          0.06833116273912873,
          -0.03260425304761707,
          0.1065205982015974,
          -0.009096742387316281,
          0.24491486843671978,
          -0.07252078633327944,
          -0.013864983929661664,
          -0.17645395136086683,
          -0.0906114351523642,
          -0.19812514891441285,
          -0.07225870607904933,
          0.08604803248229405,
          0.03792783887487495,
          0.025904582647852174,
          0.03417679603642405,
          0.014160533918237886,
          0.3183884616225584,
          0.1940573506142262,
          0.19354331547541165,
          0.2386179819014121,
          -0.014210857384375594,
          0.15779960899862608,
          0.27020514824395,
          0.16737495082292897,
          -0.006068168747925394,
          0.14061522035511625,
          0.1493009337679014,
          0.1396869544890786,
          -0.006849181165801694,
          0.02361520585304987,
          0.14816873801760666,
          0.2016822459976012,
          -0.00709158746165426,
          0.04363787096303577,
          0.21719408160013987,
          0.08355297514708163,
          0.23283600086092188,
          0.14918328412769788,
          0.1804767164380427,
          0.15211841586653985,
          0.1391588282333525,
          0.22959430839966735,
          0.32347779019831413,
          0.0018251577729411599,
          -0.1711140102931883,
          -0.06040523971005981,
          0.0020355860300146945,
          -0.25217673902922016,
          -0.023169556930372447,
          -0.0798880280055167,
          3.045967189222419e-05,
          0.019618140638164246,
          -0.1842921520110466,
          -0.008534871548258924,
          -0.11565196433848707,
          0.04868941816126818,
          0.19979426460534816,
          0.1488288072255503,
          -0.006642843516725193,
          -0.04203778932999595,
          -0.18847323128243612,
          -0.035084022396797525,
          0.1461785786824618,
          0.026330150588665186,
          0.04386753491657204,
          0.06482615571873306,
          0.1888262061356819,
          0.04571521179328225,
          -0.09878160699506336,
          0.11285555870646377,
          0.060941729784082514,
          0.027172965458440616,
          -0.1695397885949974,
          -0.17766398664902916,
          -0.12049543637275587,
          -0.09921157798765767,
          -0.2541575016563161,
          -0.16516551458812892,
          -0.07983716280278269,
          -0.11236648032429623,
          -0.13525772075039258,
          0.019267088181030526,
          -0.10105166760513093,
          0.061071956520159044,
          -0.013785008887610008,
          -0.12877787291177845,
          -0.18818318541609352,
          -0.0935889485637684,
          -0.04232627949247808,
          -0.23589363864877316,
          -0.17100922931357254,
          -0.008997103464802706,
          -0.16288458854312987,
          -0.12330305517279949,
          -0.0946111456142926,
          -0.11645970053032745,
          -0.11668306087382438,
          -0.177552970446345,
          -0.08944373355300012,
          0.03509631120353209,
          -0.12820624521069676,
          -0.07716563827785378,
          -0.07142948988299816,
          0.15708352433652378,
          -0.18167852816682545,
          -0.21692681810184067,
          -0.19956962456188682,
          -0.20206216062931104,
          -0.1878264159492059,
          -0.14577223551916307,
          -0.19949396663466962,
          -0.10016546395365941,
          -0.1706170529717953,
          -0.14175017931367145,
          -0.2559249906266719,
          -0.2693107344912831,
          -0.255059691726186,
          -0.13562060734841977,
          -0.16200178670380044,
          -0.15363643577265135,
          -0.10788433256334018,
          0.029680932709438047,
          -0.12609086829651228,
          -0.18747622335391578,
          -0.1603697143248876,
          -0.07176807926855618,
          -0.13363110275068582,
          -0.08903205162306801,
          -0.09153042128103703,
          -0.045370524742443144,
          -0.18192573935576714,
          -0.18452989325007996,
          -0.17380299444780545,
          -0.2062101830346084,
          -0.17203012911105092,
          -0.11076998608506848,
          -0.13221101696711432,
          -0.2492698872715313,
          -0.12513425985400226,
          -0.25195807299444684,
          -0.018267311367767148,
          -0.1371872782798937,
          -0.27203881149773884,
          -0.19810218106184152,
          -0.3208419026476429,
          -0.32197461835321806,
          -0.1917241124985081,
          -0.27344507304758414,
          -0.26836642976125435,
          0.04263636351065252,
          0.0900495323119454,
          -0.11025728834028771,
          0.013501251077820645,
          -0.05876972197726092,
          -0.31919191672615715,
          -0.1947562281701865,
          -0.2243735754547039,
          -0.17916810680730105,
          -0.210151686207609,
          -0.33483093874689585,
          -0.2688550306125622,
          -0.1964261928501697,
          -0.26260298760084044,
          -0.11985767447924728,
          -0.178947878433413,
          -0.1623737754784299,
          -0.2843013989455845,
          -0.23606728760991738,
          -0.3074221110263269,
          -0.3088696975809973,
          -0.12043744597128145,
          0.15093335887508197,
          0.1628948961754518,
          0.05888850774867596,
          0.07026272301537753,
          0.02747128842257479,
          0.14461930427354203,
          0.14597493103730988,
          0.13111092808986358,
          0.006391093583906826,
          0.11881224749550892,
          0.2044084901708107,
          0.07583718745870299,
          -0.017039043287546084,
          0.1461164662090214,
          0.2375449938706573,
          0.1424557612717704,
          0.0545393151950037,
          -0.03473222809671438,
          0.06818404520943572,
          0.10669713253749182,
          0.03395731418490824,
          -0.016610744757122656,
          0.07787243530612616,
          0.11720437535938744,
          0.07275159571230708,
          0.047615393346070366,
          0.03074003486058254,
          0.14100283891332938,
          0.10910013968941557,
          0.13890799230820391,
          0.034938078936913745,
          0.07337633904024621,
          0.09628539883433453,
          0.1741692212768225,
          0.12846970978386757,
          0.08152488408274981,
          0.10998841590934214,
          0.05876141218909651,
          0.019036884557857812,
          0.06902620248388527,
          0.10555771509793102,
          0.12617708427112304,
          0.06908374654413253,
          0.03038325360538454,
          0.06215381247222555,
          -0.01508980183613249,
          -0.10024822678842167,
          0.07343958844610399,
          -0.07454548834736954,
          0.17852715502384017,
          0.12846499925584082,
          0.18178196334240154,
          0.1588088959753707,
          0.04981237866018669,
          0.21921154781309693,
          0.10569731559227694,
          0.1320981276625541,
          -0.005410665809940646,
          0.03869888909967698,
          0.13170204465662858,
          0.09963430291590344,
          0.0236692869823696,
          0.025193057640119164,
          0.047667134372279575,
          -0.0057560976617847155,
          0.07503277548156921,
          0.016252526274418626,
          -0.019119018150057378,
          0.010233665139025822,
          -0.06451124521213725,
          0.13515689866316277,
          -0.04834027172394848,
          0.26261705513496325,
          0.3078994342995325,
          0.18057687914269066,
          0.17987337652655053,
          -0.01733301580476774,
          0.08716082235090403,
          -0.00892532009220073,
          -0.050012715206760615,
          -0.07855193433301463,
          -0.18927612306929145,
          -0.09801610951812352,
          0.28025643225512054,
          0.284274399865328,
          -0.021362006195338318,
          -0.1741356551057578,
          0.2805422834030866,
          0.1773069455644144,
          -0.07457699522757959,
          -0.08227879790249801,
          0.08914323553808892,
          0.1281790120386883,
          0.08371306113210653,
          0.14998296731920896,
          0.1975400893760019,
          0.11914075312340978,
          0.11536447183390638,
          0.20971672379303247,
          0.0553106274215575,
          0.2723926241125264,
          0.2479702438203572,
          0.28740869271847885,
          0.25737252082747364,
          0.20992073850690457,
          0.34705781682363257,
          -0.03826353432890946,
          -0.12996141675005368,
          -0.13131319536827726,
          -0.11852968287635435,
          0.054486190751272374,
          0.13558432431333486,
          0.25038506726922527,
          0.1478594691271837,
          0.020328083815630154,
          -0.07155451747729934,
          -0.1992873897371687,
          0.036027616171310034,
          -0.01925687357779832,
          0.3650701341869297,
          0.01277542952004269,
          0.08785593202533834,
          0.0921850199753951,
          -0.13327108062416,
          -0.18794534625362586,
          0.15077047347695083,
          0.020556930560933624,
          0.11717490392748071
         ],
         "y0": " ",
         "yaxis": "y"
        }
       ],
       "layout": {
        "autosize": true,
        "boxmode": "group",
        "legend": {
         "tracegroupgap": 0
        },
        "margin": {
         "t": 60
        },
        "template": {
         "data": {
          "bar": [
           {
            "error_x": {
             "color": "#2a3f5f"
            },
            "error_y": {
             "color": "#2a3f5f"
            },
            "marker": {
             "line": {
              "color": "#E5ECF6",
              "width": 0.5
             },
             "pattern": {
              "fillmode": "overlay",
              "size": 10,
              "solidity": 0.2
             }
            },
            "type": "bar"
           }
          ],
          "barpolar": [
           {
            "marker": {
             "line": {
              "color": "#E5ECF6",
              "width": 0.5
             },
             "pattern": {
              "fillmode": "overlay",
              "size": 10,
              "solidity": 0.2
             }
            },
            "type": "barpolar"
           }
          ],
          "carpet": [
           {
            "aaxis": {
             "endlinecolor": "#2a3f5f",
             "gridcolor": "white",
             "linecolor": "white",
             "minorgridcolor": "white",
             "startlinecolor": "#2a3f5f"
            },
            "baxis": {
             "endlinecolor": "#2a3f5f",
             "gridcolor": "white",
             "linecolor": "white",
             "minorgridcolor": "white",
             "startlinecolor": "#2a3f5f"
            },
            "type": "carpet"
           }
          ],
          "choropleth": [
           {
            "colorbar": {
             "outlinewidth": 0,
             "ticks": ""
            },
            "type": "choropleth"
           }
          ],
          "contour": [
           {
            "colorbar": {
             "outlinewidth": 0,
             "ticks": ""
            },
            "colorscale": [
             [
              0,
              "#0d0887"
             ],
             [
              0.1111111111111111,
              "#46039f"
             ],
             [
              0.2222222222222222,
              "#7201a8"
             ],
             [
              0.3333333333333333,
              "#9c179e"
             ],
             [
              0.4444444444444444,
              "#bd3786"
             ],
             [
              0.5555555555555556,
              "#d8576b"
             ],
             [
              0.6666666666666666,
              "#ed7953"
             ],
             [
              0.7777777777777778,
              "#fb9f3a"
             ],
             [
              0.8888888888888888,
              "#fdca26"
             ],
             [
              1,
              "#f0f921"
             ]
            ],
            "type": "contour"
           }
          ],
          "contourcarpet": [
           {
            "colorbar": {
             "outlinewidth": 0,
             "ticks": ""
            },
            "type": "contourcarpet"
           }
          ],
          "heatmap": [
           {
            "colorbar": {
             "outlinewidth": 0,
             "ticks": ""
            },
            "colorscale": [
             [
              0,
              "#0d0887"
             ],
             [
              0.1111111111111111,
              "#46039f"
             ],
             [
              0.2222222222222222,
              "#7201a8"
             ],
             [
              0.3333333333333333,
              "#9c179e"
             ],
             [
              0.4444444444444444,
              "#bd3786"
             ],
             [
              0.5555555555555556,
              "#d8576b"
             ],
             [
              0.6666666666666666,
              "#ed7953"
             ],
             [
              0.7777777777777778,
              "#fb9f3a"
             ],
             [
              0.8888888888888888,
              "#fdca26"
             ],
             [
              1,
              "#f0f921"
             ]
            ],
            "type": "heatmap"
           }
          ],
          "heatmapgl": [
           {
            "colorbar": {
             "outlinewidth": 0,
             "ticks": ""
            },
            "colorscale": [
             [
              0,
              "#0d0887"
             ],
             [
              0.1111111111111111,
              "#46039f"
             ],
             [
              0.2222222222222222,
              "#7201a8"
             ],
             [
              0.3333333333333333,
              "#9c179e"
             ],
             [
              0.4444444444444444,
              "#bd3786"
             ],
             [
              0.5555555555555556,
              "#d8576b"
             ],
             [
              0.6666666666666666,
              "#ed7953"
             ],
             [
              0.7777777777777778,
              "#fb9f3a"
             ],
             [
              0.8888888888888888,
              "#fdca26"
             ],
             [
              1,
              "#f0f921"
             ]
            ],
            "type": "heatmapgl"
           }
          ],
          "histogram": [
           {
            "marker": {
             "pattern": {
              "fillmode": "overlay",
              "size": 10,
              "solidity": 0.2
             }
            },
            "type": "histogram"
           }
          ],
          "histogram2d": [
           {
            "colorbar": {
             "outlinewidth": 0,
             "ticks": ""
            },
            "colorscale": [
             [
              0,
              "#0d0887"
             ],
             [
              0.1111111111111111,
              "#46039f"
             ],
             [
              0.2222222222222222,
              "#7201a8"
             ],
             [
              0.3333333333333333,
              "#9c179e"
             ],
             [
              0.4444444444444444,
              "#bd3786"
             ],
             [
              0.5555555555555556,
              "#d8576b"
             ],
             [
              0.6666666666666666,
              "#ed7953"
             ],
             [
              0.7777777777777778,
              "#fb9f3a"
             ],
             [
              0.8888888888888888,
              "#fdca26"
             ],
             [
              1,
              "#f0f921"
             ]
            ],
            "type": "histogram2d"
           }
          ],
          "histogram2dcontour": [
           {
            "colorbar": {
             "outlinewidth": 0,
             "ticks": ""
            },
            "colorscale": [
             [
              0,
              "#0d0887"
             ],
             [
              0.1111111111111111,
              "#46039f"
             ],
             [
              0.2222222222222222,
              "#7201a8"
             ],
             [
              0.3333333333333333,
              "#9c179e"
             ],
             [
              0.4444444444444444,
              "#bd3786"
             ],
             [
              0.5555555555555556,
              "#d8576b"
             ],
             [
              0.6666666666666666,
              "#ed7953"
             ],
             [
              0.7777777777777778,
              "#fb9f3a"
             ],
             [
              0.8888888888888888,
              "#fdca26"
             ],
             [
              1,
              "#f0f921"
             ]
            ],
            "type": "histogram2dcontour"
           }
          ],
          "mesh3d": [
           {
            "colorbar": {
             "outlinewidth": 0,
             "ticks": ""
            },
            "type": "mesh3d"
           }
          ],
          "parcoords": [
           {
            "line": {
             "colorbar": {
              "outlinewidth": 0,
              "ticks": ""
             }
            },
            "type": "parcoords"
           }
          ],
          "pie": [
           {
            "automargin": true,
            "type": "pie"
           }
          ],
          "scatter": [
           {
            "fillpattern": {
             "fillmode": "overlay",
             "size": 10,
             "solidity": 0.2
            },
            "type": "scatter"
           }
          ],
          "scatter3d": [
           {
            "line": {
             "colorbar": {
              "outlinewidth": 0,
              "ticks": ""
             }
            },
            "marker": {
             "colorbar": {
              "outlinewidth": 0,
              "ticks": ""
             }
            },
            "type": "scatter3d"
           }
          ],
          "scattercarpet": [
           {
            "marker": {
             "colorbar": {
              "outlinewidth": 0,
              "ticks": ""
             }
            },
            "type": "scattercarpet"
           }
          ],
          "scattergeo": [
           {
            "marker": {
             "colorbar": {
              "outlinewidth": 0,
              "ticks": ""
             }
            },
            "type": "scattergeo"
           }
          ],
          "scattergl": [
           {
            "marker": {
             "colorbar": {
              "outlinewidth": 0,
              "ticks": ""
             }
            },
            "type": "scattergl"
           }
          ],
          "scattermapbox": [
           {
            "marker": {
             "colorbar": {
              "outlinewidth": 0,
              "ticks": ""
             }
            },
            "type": "scattermapbox"
           }
          ],
          "scatterpolar": [
           {
            "marker": {
             "colorbar": {
              "outlinewidth": 0,
              "ticks": ""
             }
            },
            "type": "scatterpolar"
           }
          ],
          "scatterpolargl": [
           {
            "marker": {
             "colorbar": {
              "outlinewidth": 0,
              "ticks": ""
             }
            },
            "type": "scatterpolargl"
           }
          ],
          "scatterternary": [
           {
            "marker": {
             "colorbar": {
              "outlinewidth": 0,
              "ticks": ""
             }
            },
            "type": "scatterternary"
           }
          ],
          "surface": [
           {
            "colorbar": {
             "outlinewidth": 0,
             "ticks": ""
            },
            "colorscale": [
             [
              0,
              "#0d0887"
             ],
             [
              0.1111111111111111,
              "#46039f"
             ],
             [
              0.2222222222222222,
              "#7201a8"
             ],
             [
              0.3333333333333333,
              "#9c179e"
             ],
             [
              0.4444444444444444,
              "#bd3786"
             ],
             [
              0.5555555555555556,
              "#d8576b"
             ],
             [
              0.6666666666666666,
              "#ed7953"
             ],
             [
              0.7777777777777778,
              "#fb9f3a"
             ],
             [
              0.8888888888888888,
              "#fdca26"
             ],
             [
              1,
              "#f0f921"
             ]
            ],
            "type": "surface"
           }
          ],
          "table": [
           {
            "cells": {
             "fill": {
              "color": "#EBF0F8"
             },
             "line": {
              "color": "white"
             }
            },
            "header": {
             "fill": {
              "color": "#C8D4E3"
             },
             "line": {
              "color": "white"
             }
            },
            "type": "table"
           }
          ]
         },
         "layout": {
          "annotationdefaults": {
           "arrowcolor": "#2a3f5f",
           "arrowhead": 0,
           "arrowwidth": 1
          },
          "autotypenumbers": "strict",
          "coloraxis": {
           "colorbar": {
            "outlinewidth": 0,
            "ticks": ""
           }
          },
          "colorscale": {
           "diverging": [
            [
             0,
             "#8e0152"
            ],
            [
             0.1,
             "#c51b7d"
            ],
            [
             0.2,
             "#de77ae"
            ],
            [
             0.3,
             "#f1b6da"
            ],
            [
             0.4,
             "#fde0ef"
            ],
            [
             0.5,
             "#f7f7f7"
            ],
            [
             0.6,
             "#e6f5d0"
            ],
            [
             0.7,
             "#b8e186"
            ],
            [
             0.8,
             "#7fbc41"
            ],
            [
             0.9,
             "#4d9221"
            ],
            [
             1,
             "#276419"
            ]
           ],
           "sequential": [
            [
             0,
             "#0d0887"
            ],
            [
             0.1111111111111111,
             "#46039f"
            ],
            [
             0.2222222222222222,
             "#7201a8"
            ],
            [
             0.3333333333333333,
             "#9c179e"
            ],
            [
             0.4444444444444444,
             "#bd3786"
            ],
            [
             0.5555555555555556,
             "#d8576b"
            ],
            [
             0.6666666666666666,
             "#ed7953"
            ],
            [
             0.7777777777777778,
             "#fb9f3a"
            ],
            [
             0.8888888888888888,
             "#fdca26"
            ],
            [
             1,
             "#f0f921"
            ]
           ],
           "sequentialminus": [
            [
             0,
             "#0d0887"
            ],
            [
             0.1111111111111111,
             "#46039f"
            ],
            [
             0.2222222222222222,
             "#7201a8"
            ],
            [
             0.3333333333333333,
             "#9c179e"
            ],
            [
             0.4444444444444444,
             "#bd3786"
            ],
            [
             0.5555555555555556,
             "#d8576b"
            ],
            [
             0.6666666666666666,
             "#ed7953"
            ],
            [
             0.7777777777777778,
             "#fb9f3a"
            ],
            [
             0.8888888888888888,
             "#fdca26"
            ],
            [
             1,
             "#f0f921"
            ]
           ]
          },
          "colorway": [
           "#636efa",
           "#EF553B",
           "#00cc96",
           "#ab63fa",
           "#FFA15A",
           "#19d3f3",
           "#FF6692",
           "#B6E880",
           "#FF97FF",
           "#FECB52"
          ],
          "font": {
           "color": "#2a3f5f"
          },
          "geo": {
           "bgcolor": "white",
           "lakecolor": "white",
           "landcolor": "#E5ECF6",
           "showlakes": true,
           "showland": true,
           "subunitcolor": "white"
          },
          "hoverlabel": {
           "align": "left"
          },
          "hovermode": "closest",
          "mapbox": {
           "style": "light"
          },
          "paper_bgcolor": "white",
          "plot_bgcolor": "#E5ECF6",
          "polar": {
           "angularaxis": {
            "gridcolor": "white",
            "linecolor": "white",
            "ticks": ""
           },
           "bgcolor": "#E5ECF6",
           "radialaxis": {
            "gridcolor": "white",
            "linecolor": "white",
            "ticks": ""
           }
          },
          "scene": {
           "xaxis": {
            "backgroundcolor": "#E5ECF6",
            "gridcolor": "white",
            "gridwidth": 2,
            "linecolor": "white",
            "showbackground": true,
            "ticks": "",
            "zerolinecolor": "white"
           },
           "yaxis": {
            "backgroundcolor": "#E5ECF6",
            "gridcolor": "white",
            "gridwidth": 2,
            "linecolor": "white",
            "showbackground": true,
            "ticks": "",
            "zerolinecolor": "white"
           },
           "zaxis": {
            "backgroundcolor": "#E5ECF6",
            "gridcolor": "white",
            "gridwidth": 2,
            "linecolor": "white",
            "showbackground": true,
            "ticks": "",
            "zerolinecolor": "white"
           }
          },
          "shapedefaults": {
           "line": {
            "color": "#2a3f5f"
           }
          },
          "ternary": {
           "aaxis": {
            "gridcolor": "white",
            "linecolor": "white",
            "ticks": ""
           },
           "baxis": {
            "gridcolor": "white",
            "linecolor": "white",
            "ticks": ""
           },
           "bgcolor": "#E5ECF6",
           "caxis": {
            "gridcolor": "white",
            "linecolor": "white",
            "ticks": ""
           }
          },
          "title": {
           "x": 0.05
          },
          "xaxis": {
           "automargin": true,
           "gridcolor": "white",
           "linecolor": "white",
           "ticks": "",
           "title": {
            "standoff": 15
           },
           "zerolinecolor": "white",
           "zerolinewidth": 2
          },
          "yaxis": {
           "automargin": true,
           "gridcolor": "white",
           "linecolor": "white",
           "ticks": "",
           "title": {
            "standoff": 15
           },
           "zerolinecolor": "white",
           "zerolinewidth": 2
          }
         }
        },
        "xaxis": {
         "anchor": "y",
         "autorange": true,
         "domain": [
          0,
          1
         ],
         "range": [
          -0.5,
          11.5
         ],
         "title": {
          "text": "author"
         },
         "type": "category"
        },
        "yaxis": {
         "anchor": "x",
         "autorange": true,
         "domain": [
          0,
          1
         ],
         "range": [
          -0.37371433168766394,
          0.4039535271276978
         ],
         "title": {
          "text": "PC2"
         },
         "type": "linear"
        }
       }
      },
      "image/png": "[encoded data removed]",
      "text/html": [
       "<div>                            <div id=\"b6833bd8-6d0c-4ee6-bb47-9122570e40ac\" class=\"plotly-graph-div\" style=\"height:525px; width:100%;\"></div>            <script type=\"text/javascript\">                require([\"plotly\"], function(Plotly) {                    window.PLOTLYENV=window.PLOTLYENV || {};                                    if (document.getElementById(\"b6833bd8-6d0c-4ee6-bb47-9122570e40ac\")) {                    Plotly.newPlot(                        \"b6833bd8-6d0c-4ee6-bb47-9122570e40ac\",                        [{\"alignmentgroup\":\"True\",\"hovertemplate\":\"author=%{x}<br>PC2=%{y}<extra></extra>\",\"legendgroup\":\"\",\"marker\":{\"color\":\"#636efa\"},\"name\":\"\",\"notched\":false,\"offsetgroup\":\"\",\"orientation\":\"v\",\"showlegend\":false,\"x\":[\"doyle\",\"doyle\",\"doyle\",\"doyle\",\"doyle\",\"doyle\",\"doyle\",\"doyle\",\"doyle\",\"doyle\",\"doyle\",\"doyle\",\"doyle\",\"doyle\",\"doyle\",\"doyle\",\"doyle\",\"doyle\",\"doyle\",\"doyle\",\"doyle\",\"doyle\",\"doyle\",\"doyle\",\"doyle\",\"doyle\",\"doyle\",\"walpole\",\"walpole\",\"walpole\",\"walpole\",\"walpole\",\"dickens\",\"dickens\",\"dickens\",\"dickens\",\"dickens\",\"stoker\",\"stoker\",\"stoker\",\"stoker\",\"stoker\",\"stoker\",\"stoker\",\"stoker\",\"stoker\",\"stoker\",\"stoker\",\"stoker\",\"stoker\",\"stoker\",\"stoker\",\"stoker\",\"stoker\",\"stoker\",\"stoker\",\"stoker\",\"stoker\",\"stoker\",\"stoker\",\"stoker\",\"stoker\",\"stoker\",\"stoker\",\"shelley\",\"shelley\",\"shelley\",\"shelley\",\"shelley\",\"shelley\",\"shelley\",\"shelley\",\"shelley\",\"shelley\",\"shelley\",\"shelley\",\"shelley\",\"shelley\",\"shelley\",\"shelley\",\"shelley\",\"shelley\",\"shelley\",\"shelley\",\"shelley\",\"shelley\",\"shelley\",\"shelley\",\"shelley\",\"shelley\",\"shelley\",\"shelley\",\"poe\",\"lewis\",\"lewis\",\"lewis\",\"lewis\",\"lewis\",\"lewis\",\"lewis\",\"lewis\",\"lewis\",\"lewis\",\"lewis\",\"lewis\",\"collins\",\"collins\",\"collins\",\"collins\",\"collins\",\"collins\",\"collins\",\"collins\",\"collins\",\"collins\",\"collins\",\"collins\",\"collins\",\"collins\",\"collins\",\"collins\",\"collins\",\"collins\",\"collins\",\"collins\",\"collins\",\"collins\",\"collins\",\"collins\",\"collins\",\"collins\",\"collins\",\"collins\",\"collins\",\"collins\",\"collins\",\"collins\",\"collins\",\"collins\",\"collins\",\"collins\",\"collins\",\"collins\",\"collins\",\"collins\",\"collins\",\"collins\",\"collins\",\"collins\",\"collins\",\"collins\",\"austen\",\"austen\",\"austen\",\"austen\",\"austen\",\"austen\",\"austen\",\"austen\",\"austen\",\"austen\",\"austen\",\"austen\",\"austen\",\"austen\",\"austen\",\"austen\",\"austen\",\"austen\",\"austen\",\"austen\",\"austen\",\"austen\",\"austen\",\"austen\",\"austen\",\"austen\",\"austen\",\"austen\",\"austen\",\"austen\",\"austen\",\"reeve\",\"reeve\",\"reeve\",\"reeve\",\"reeve\",\"reeve\",\"reeve\",\"reeve\",\"reeve\",\"reeve\",\"poe\",\"poe\",\"poe\",\"doyle\",\"doyle\",\"doyle\",\"doyle\",\"doyle\",\"doyle\",\"doyle\",\"doyle\",\"doyle\",\"doyle\",\"doyle\",\"doyle\",\"doyle\",\"doyle\",\"christie\",\"christie\",\"christie\",\"christie\",\"christie\",\"christie\",\"christie\",\"christie\",\"christie\",\"christie\",\"christie\",\"christie\",\"christie\",\"christie\",\"christie\",\"christie\",\"christie\",\"christie\",\"christie\",\"christie\",\"christie\",\"christie\",\"christie\",\"christie\",\"christie\",\"christie\",\"christie\",\"christie\",\"doyle\",\"doyle\",\"doyle\",\"doyle\",\"doyle\",\"doyle\",\"doyle\",\"doyle\",\"doyle\",\"doyle\",\"doyle\",\"doyle\",\"christie\",\"christie\",\"christie\",\"christie\",\"christie\",\"christie\",\"christie\",\"christie\",\"christie\",\"christie\",\"christie\",\"christie\",\"christie\",\"radcliffe\",\"radcliffe\",\"radcliffe\",\"radcliffe\",\"radcliffe\",\"radcliffe\",\"radcliffe\",\"radcliffe\",\"radcliffe\",\"radcliffe\",\"radcliffe\",\"radcliffe\",\"radcliffe\",\"radcliffe\",\"radcliffe\",\"radcliffe\",\"radcliffe\",\"radcliffe\",\"radcliffe\",\"radcliffe\",\"radcliffe\",\"radcliffe\",\"radcliffe\",\"radcliffe\",\"radcliffe\",\"radcliffe\",\"radcliffe\",\"radcliffe\",\"radcliffe\",\"radcliffe\",\"radcliffe\",\"radcliffe\",\"radcliffe\",\"radcliffe\",\"radcliffe\",\"radcliffe\",\"radcliffe\",\"radcliffe\",\"radcliffe\",\"radcliffe\",\"radcliffe\",\"radcliffe\",\"radcliffe\",\"radcliffe\",\"radcliffe\",\"radcliffe\",\"radcliffe\",\"radcliffe\",\"radcliffe\",\"radcliffe\",\"radcliffe\",\"radcliffe\",\"radcliffe\",\"radcliffe\",\"radcliffe\",\"radcliffe\",\"radcliffe\",\"poe\"],\"x0\":\" \",\"xaxis\":\"x\",\"y\":[0.032377694062924525,0.07041337872833434,-0.07879686754842512,-0.03001699145329713,0.045298218436501655,0.17547454716478794,0.04741285523999339,0.08264520304022793,0.15496057774014177,-0.1120531216902304,-0.02820034136165343,0.02769977668486439,0.005066331694618188,-0.0101957858278285,0.05369959826846581,0.012171276834238309,-0.0219114741873579,0.19918068100748393,0.039130589088018655,0.007969059014865222,0.11277117566524948,0.06833116273912873,-0.03260425304761707,0.1065205982015974,-0.009096742387316281,0.24491486843671978,-0.07252078633327944,-0.013864983929661664,-0.17645395136086683,-0.0906114351523642,-0.19812514891441285,-0.07225870607904933,0.08604803248229405,0.03792783887487495,0.025904582647852174,0.03417679603642405,0.014160533918237886,0.3183884616225584,0.1940573506142262,0.19354331547541165,0.2386179819014121,-0.014210857384375594,0.15779960899862608,0.27020514824395,0.16737495082292897,-0.006068168747925394,0.14061522035511625,0.1493009337679014,0.1396869544890786,-0.006849181165801694,0.02361520585304987,0.14816873801760666,0.2016822459976012,-0.00709158746165426,0.04363787096303577,0.21719408160013987,0.08355297514708163,0.23283600086092188,0.14918328412769788,0.1804767164380427,0.15211841586653985,0.1391588282333525,0.22959430839966735,0.32347779019831413,0.0018251577729411599,-0.1711140102931883,-0.06040523971005981,0.0020355860300146945,-0.25217673902922016,-0.023169556930372447,-0.0798880280055167,3.045967189222419e-05,0.019618140638164246,-0.1842921520110466,-0.008534871548258924,-0.11565196433848707,0.04868941816126818,0.19979426460534816,0.1488288072255503,-0.006642843516725193,-0.04203778932999595,-0.18847323128243612,-0.035084022396797525,0.1461785786824618,0.026330150588665186,0.04386753491657204,0.06482615571873306,0.1888262061356819,0.04571521179328225,-0.09878160699506336,0.11285555870646377,0.060941729784082514,0.027172965458440616,-0.1695397885949974,-0.17766398664902916,-0.12049543637275587,-0.09921157798765767,-0.2541575016563161,-0.16516551458812892,-0.07983716280278269,-0.11236648032429623,-0.13525772075039258,0.019267088181030526,-0.10105166760513093,0.061071956520159044,-0.013785008887610008,-0.12877787291177845,-0.18818318541609352,-0.0935889485637684,-0.04232627949247808,-0.23589363864877316,-0.17100922931357254,-0.008997103464802706,-0.16288458854312987,-0.12330305517279949,-0.0946111456142926,-0.11645970053032745,-0.11668306087382438,-0.177552970446345,-0.08944373355300012,0.03509631120353209,-0.12820624521069676,-0.07716563827785378,-0.07142948988299816,0.15708352433652378,-0.18167852816682545,-0.21692681810184067,-0.19956962456188682,-0.20206216062931104,-0.1878264159492059,-0.14577223551916307,-0.19949396663466962,-0.10016546395365941,-0.1706170529717953,-0.14175017931367145,-0.2559249906266719,-0.2693107344912831,-0.255059691726186,-0.13562060734841977,-0.16200178670380044,-0.15363643577265135,-0.10788433256334018,0.029680932709438047,-0.12609086829651228,-0.18747622335391578,-0.1603697143248876,-0.07176807926855618,-0.13363110275068582,-0.08903205162306801,-0.09153042128103703,-0.045370524742443144,-0.18192573935576714,-0.18452989325007996,-0.17380299444780545,-0.2062101830346084,-0.17203012911105092,-0.11076998608506848,-0.13221101696711432,-0.2492698872715313,-0.12513425985400226,-0.25195807299444684,-0.018267311367767148,-0.1371872782798937,-0.27203881149773884,-0.19810218106184152,-0.3208419026476429,-0.32197461835321806,-0.1917241124985081,-0.27344507304758414,-0.26836642976125435,0.04263636351065252,0.0900495323119454,-0.11025728834028771,0.013501251077820645,-0.05876972197726092,-0.31919191672615715,-0.1947562281701865,-0.2243735754547039,-0.17916810680730105,-0.210151686207609,-0.33483093874689585,-0.2688550306125622,-0.1964261928501697,-0.26260298760084044,-0.11985767447924728,-0.178947878433413,-0.1623737754784299,-0.2843013989455845,-0.23606728760991738,-0.3074221110263269,-0.3088696975809973,-0.12043744597128145,0.15093335887508197,0.1628948961754518,0.05888850774867596,0.07026272301537753,0.02747128842257479,0.14461930427354203,0.14597493103730988,0.13111092808986358,0.006391093583906826,0.11881224749550892,0.2044084901708107,0.07583718745870299,-0.017039043287546084,0.1461164662090214,0.2375449938706573,0.1424557612717704,0.0545393151950037,-0.03473222809671438,0.06818404520943572,0.10669713253749182,0.03395731418490824,-0.016610744757122656,0.07787243530612616,0.11720437535938744,0.07275159571230708,0.047615393346070366,0.03074003486058254,0.14100283891332938,0.10910013968941557,0.13890799230820391,0.034938078936913745,0.07337633904024621,0.09628539883433453,0.1741692212768225,0.12846970978386757,0.08152488408274981,0.10998841590934214,0.05876141218909651,0.019036884557857812,0.06902620248388527,0.10555771509793102,0.12617708427112304,0.06908374654413253,0.03038325360538454,0.06215381247222555,-0.01508980183613249,-0.10024822678842167,0.07343958844610399,-0.07454548834736954,0.17852715502384017,0.12846499925584082,0.18178196334240154,0.1588088959753707,0.04981237866018669,0.21921154781309693,0.10569731559227694,0.1320981276625541,-0.005410665809940646,0.03869888909967698,0.13170204465662858,0.09963430291590344,0.0236692869823696,0.025193057640119164,0.047667134372279575,-0.0057560976617847155,0.07503277548156921,0.016252526274418626,-0.019119018150057378,0.010233665139025822,-0.06451124521213725,0.13515689866316277,-0.04834027172394848,0.26261705513496325,0.3078994342995325,0.18057687914269066,0.17987337652655053,-0.01733301580476774,0.08716082235090403,-0.00892532009220073,-0.050012715206760615,-0.07855193433301463,-0.18927612306929145,-0.09801610951812352,0.28025643225512054,0.284274399865328,-0.021362006195338318,-0.1741356551057578,0.2805422834030866,0.1773069455644144,-0.07457699522757959,-0.08227879790249801,0.08914323553808892,0.1281790120386883,0.08371306113210653,0.14998296731920896,0.1975400893760019,0.11914075312340978,0.11536447183390638,0.20971672379303247,0.0553106274215575,0.2723926241125264,0.2479702438203572,0.28740869271847885,0.25737252082747364,0.20992073850690457,0.34705781682363257,-0.03826353432890946,-0.12996141675005368,-0.13131319536827726,-0.11852968287635435,0.054486190751272374,0.13558432431333486,0.25038506726922527,0.1478594691271837,0.020328083815630154,-0.07155451747729934,-0.1992873897371687,0.036027616171310034,-0.01925687357779832,0.3650701341869297,0.01277542952004269,0.08785593202533834,0.0921850199753951,-0.13327108062416,-0.18794534625362586,0.15077047347695083,0.020556930560933624,0.11717490392748071],\"y0\":\" \",\"yaxis\":\"y\",\"type\":\"box\"}],                        {\"template\":{\"data\":{\"histogram2dcontour\":[{\"type\":\"histogram2dcontour\",\"colorbar\":{\"outlinewidth\":0,\"ticks\":\"\"},\"colorscale\":[[0.0,\"#0d0887\"],[0.1111111111111111,\"#46039f\"],[0.2222222222222222,\"#7201a8\"],[0.3333333333333333,\"#9c179e\"],[0.4444444444444444,\"#bd3786\"],[0.5555555555555556,\"#d8576b\"],[0.6666666666666666,\"#ed7953\"],[0.7777777777777778,\"#fb9f3a\"],[0.8888888888888888,\"#fdca26\"],[1.0,\"#f0f921\"]]}],\"choropleth\":[{\"type\":\"choropleth\",\"colorbar\":{\"outlinewidth\":0,\"ticks\":\"\"}}],\"histogram2d\":[{\"type\":\"histogram2d\",\"colorbar\":{\"outlinewidth\":0,\"ticks\":\"\"},\"colorscale\":[[0.0,\"#0d0887\"],[0.1111111111111111,\"#46039f\"],[0.2222222222222222,\"#7201a8\"],[0.3333333333333333,\"#9c179e\"],[0.4444444444444444,\"#bd3786\"],[0.5555555555555556,\"#d8576b\"],[0.6666666666666666,\"#ed7953\"],[0.7777777777777778,\"#fb9f3a\"],[0.8888888888888888,\"#fdca26\"],[1.0,\"#f0f921\"]]}],\"heatmap\":[{\"type\":\"heatmap\",\"colorbar\":{\"outlinewidth\":0,\"ticks\":\"\"},\"colorscale\":[[0.0,\"#0d0887\"],[0.1111111111111111,\"#46039f\"],[0.2222222222222222,\"#7201a8\"],[0.3333333333333333,\"#9c179e\"],[0.4444444444444444,\"#bd3786\"],[0.5555555555555556,\"#d8576b\"],[0.6666666666666666,\"#ed7953\"],[0.7777777777777778,\"#fb9f3a\"],[0.8888888888888888,\"#fdca26\"],[1.0,\"#f0f921\"]]}],\"heatmapgl\":[{\"type\":\"heatmapgl\",\"colorbar\":{\"outlinewidth\":0,\"ticks\":\"\"},\"colorscale\":[[0.0,\"#0d0887\"],[0.1111111111111111,\"#46039f\"],[0.2222222222222222,\"#7201a8\"],[0.3333333333333333,\"#9c179e\"],[0.4444444444444444,\"#bd3786\"],[0.5555555555555556,\"#d8576b\"],[0.6666666666666666,\"#ed7953\"],[0.7777777777777778,\"#fb9f3a\"],[0.8888888888888888,\"#fdca26\"],[1.0,\"#f0f921\"]]}],\"contourcarpet\":[{\"type\":\"contourcarpet\",\"colorbar\":{\"outlinewidth\":0,\"ticks\":\"\"}}],\"contour\":[{\"type\":\"contour\",\"colorbar\":{\"outlinewidth\":0,\"ticks\":\"\"},\"colorscale\":[[0.0,\"#0d0887\"],[0.1111111111111111,\"#46039f\"],[0.2222222222222222,\"#7201a8\"],[0.3333333333333333,\"#9c179e\"],[0.4444444444444444,\"#bd3786\"],[0.5555555555555556,\"#d8576b\"],[0.6666666666666666,\"#ed7953\"],[0.7777777777777778,\"#fb9f3a\"],[0.8888888888888888,\"#fdca26\"],[1.0,\"#f0f921\"]]}],\"surface\":[{\"type\":\"surface\",\"colorbar\":{\"outlinewidth\":0,\"ticks\":\"\"},\"colorscale\":[[0.0,\"#0d0887\"],[0.1111111111111111,\"#46039f\"],[0.2222222222222222,\"#7201a8\"],[0.3333333333333333,\"#9c179e\"],[0.4444444444444444,\"#bd3786\"],[0.5555555555555556,\"#d8576b\"],[0.6666666666666666,\"#ed7953\"],[0.7777777777777778,\"#fb9f3a\"],[0.8888888888888888,\"#fdca26\"],[1.0,\"#f0f921\"]]}],\"mesh3d\":[{\"type\":\"mesh3d\",\"colorbar\":{\"outlinewidth\":0,\"ticks\":\"\"}}],\"scatter\":[{\"fillpattern\":{\"fillmode\":\"overlay\",\"size\":10,\"solidity\":0.2},\"type\":\"scatter\"}],\"parcoords\":[{\"type\":\"parcoords\",\"line\":{\"colorbar\":{\"outlinewidth\":0,\"ticks\":\"\"}}}],\"scatterpolargl\":[{\"type\":\"scatterpolargl\",\"marker\":{\"colorbar\":{\"outlinewidth\":0,\"ticks\":\"\"}}}],\"bar\":[{\"error_x\":{\"color\":\"#2a3f5f\"},\"error_y\":{\"color\":\"#2a3f5f\"},\"marker\":{\"line\":{\"color\":\"#E5ECF6\",\"width\":0.5},\"pattern\":{\"fillmode\":\"overlay\",\"size\":10,\"solidity\":0.2}},\"type\":\"bar\"}],\"scattergeo\":[{\"type\":\"scattergeo\",\"marker\":{\"colorbar\":{\"outlinewidth\":0,\"ticks\":\"\"}}}],\"scatterpolar\":[{\"type\":\"scatterpolar\",\"marker\":{\"colorbar\":{\"outlinewidth\":0,\"ticks\":\"\"}}}],\"histogram\":[{\"marker\":{\"pattern\":{\"fillmode\":\"overlay\",\"size\":10,\"solidity\":0.2}},\"type\":\"histogram\"}],\"scattergl\":[{\"type\":\"scattergl\",\"marker\":{\"colorbar\":{\"outlinewidth\":0,\"ticks\":\"\"}}}],\"scatter3d\":[{\"type\":\"scatter3d\",\"line\":{\"colorbar\":{\"outlinewidth\":0,\"ticks\":\"\"}},\"marker\":{\"colorbar\":{\"outlinewidth\":0,\"ticks\":\"\"}}}],\"scattermapbox\":[{\"type\":\"scattermapbox\",\"marker\":{\"colorbar\":{\"outlinewidth\":0,\"ticks\":\"\"}}}],\"scatterternary\":[{\"type\":\"scatterternary\",\"marker\":{\"colorbar\":{\"outlinewidth\":0,\"ticks\":\"\"}}}],\"scattercarpet\":[{\"type\":\"scattercarpet\",\"marker\":{\"colorbar\":{\"outlinewidth\":0,\"ticks\":\"\"}}}],\"carpet\":[{\"aaxis\":{\"endlinecolor\":\"#2a3f5f\",\"gridcolor\":\"white\",\"linecolor\":\"white\",\"minorgridcolor\":\"white\",\"startlinecolor\":\"#2a3f5f\"},\"baxis\":{\"endlinecolor\":\"#2a3f5f\",\"gridcolor\":\"white\",\"linecolor\":\"white\",\"minorgridcolor\":\"white\",\"startlinecolor\":\"#2a3f5f\"},\"type\":\"carpet\"}],\"table\":[{\"cells\":{\"fill\":{\"color\":\"#EBF0F8\"},\"line\":{\"color\":\"white\"}},\"header\":{\"fill\":{\"color\":\"#C8D4E3\"},\"line\":{\"color\":\"white\"}},\"type\":\"table\"}],\"barpolar\":[{\"marker\":{\"line\":{\"color\":\"#E5ECF6\",\"width\":0.5},\"pattern\":{\"fillmode\":\"overlay\",\"size\":10,\"solidity\":0.2}},\"type\":\"barpolar\"}],\"pie\":[{\"automargin\":true,\"type\":\"pie\"}]},\"layout\":{\"autotypenumbers\":\"strict\",\"colorway\":[\"#636efa\",\"#EF553B\",\"#00cc96\",\"#ab63fa\",\"#FFA15A\",\"#19d3f3\",\"#FF6692\",\"#B6E880\",\"#FF97FF\",\"#FECB52\"],\"font\":{\"color\":\"#2a3f5f\"},\"hovermode\":\"closest\",\"hoverlabel\":{\"align\":\"left\"},\"paper_bgcolor\":\"white\",\"plot_bgcolor\":\"#E5ECF6\",\"polar\":{\"bgcolor\":\"#E5ECF6\",\"angularaxis\":{\"gridcolor\":\"white\",\"linecolor\":\"white\",\"ticks\":\"\"},\"radialaxis\":{\"gridcolor\":\"white\",\"linecolor\":\"white\",\"ticks\":\"\"}},\"ternary\":{\"bgcolor\":\"#E5ECF6\",\"aaxis\":{\"gridcolor\":\"white\",\"linecolor\":\"white\",\"ticks\":\"\"},\"baxis\":{\"gridcolor\":\"white\",\"linecolor\":\"white\",\"ticks\":\"\"},\"caxis\":{\"gridcolor\":\"white\",\"linecolor\":\"white\",\"ticks\":\"\"}},\"coloraxis\":{\"colorbar\":{\"outlinewidth\":0,\"ticks\":\"\"}},\"colorscale\":{\"sequential\":[[0.0,\"#0d0887\"],[0.1111111111111111,\"#46039f\"],[0.2222222222222222,\"#7201a8\"],[0.3333333333333333,\"#9c179e\"],[0.4444444444444444,\"#bd3786\"],[0.5555555555555556,\"#d8576b\"],[0.6666666666666666,\"#ed7953\"],[0.7777777777777778,\"#fb9f3a\"],[0.8888888888888888,\"#fdca26\"],[1.0,\"#f0f921\"]],\"sequentialminus\":[[0.0,\"#0d0887\"],[0.1111111111111111,\"#46039f\"],[0.2222222222222222,\"#7201a8\"],[0.3333333333333333,\"#9c179e\"],[0.4444444444444444,\"#bd3786\"],[0.5555555555555556,\"#d8576b\"],[0.6666666666666666,\"#ed7953\"],[0.7777777777777778,\"#fb9f3a\"],[0.8888888888888888,\"#fdca26\"],[1.0,\"#f0f921\"]],\"diverging\":[[0,\"#8e0152\"],[0.1,\"#c51b7d\"],[0.2,\"#de77ae\"],[0.3,\"#f1b6da\"],[0.4,\"#fde0ef\"],[0.5,\"#f7f7f7\"],[0.6,\"#e6f5d0\"],[0.7,\"#b8e186\"],[0.8,\"#7fbc41\"],[0.9,\"#4d9221\"],[1,\"#276419\"]]},\"xaxis\":{\"gridcolor\":\"white\",\"linecolor\":\"white\",\"ticks\":\"\",\"title\":{\"standoff\":15},\"zerolinecolor\":\"white\",\"automargin\":true,\"zerolinewidth\":2},\"yaxis\":{\"gridcolor\":\"white\",\"linecolor\":\"white\",\"ticks\":\"\",\"title\":{\"standoff\":15},\"zerolinecolor\":\"white\",\"automargin\":true,\"zerolinewidth\":2},\"scene\":{\"xaxis\":{\"backgroundcolor\":\"#E5ECF6\",\"gridcolor\":\"white\",\"linecolor\":\"white\",\"showbackground\":true,\"ticks\":\"\",\"zerolinecolor\":\"white\",\"gridwidth\":2},\"yaxis\":{\"backgroundcolor\":\"#E5ECF6\",\"gridcolor\":\"white\",\"linecolor\":\"white\",\"showbackground\":true,\"ticks\":\"\",\"zerolinecolor\":\"white\",\"gridwidth\":2},\"zaxis\":{\"backgroundcolor\":\"#E5ECF6\",\"gridcolor\":\"white\",\"linecolor\":\"white\",\"showbackground\":true,\"ticks\":\"\",\"zerolinecolor\":\"white\",\"gridwidth\":2}},\"shapedefaults\":{\"line\":{\"color\":\"#2a3f5f\"}},\"annotationdefaults\":{\"arrowcolor\":\"#2a3f5f\",\"arrowhead\":0,\"arrowwidth\":1},\"geo\":{\"bgcolor\":\"white\",\"landcolor\":\"#E5ECF6\",\"subunitcolor\":\"white\",\"showland\":true,\"showlakes\":true,\"lakecolor\":\"white\"},\"title\":{\"x\":0.05},\"mapbox\":{\"style\":\"light\"}}},\"xaxis\":{\"anchor\":\"y\",\"domain\":[0.0,1.0],\"title\":{\"text\":\"author\"}},\"yaxis\":{\"anchor\":\"x\",\"domain\":[0.0,1.0],\"title\":{\"text\":\"PC2\"}},\"legend\":{\"tracegroupgap\":0},\"margin\":{\"t\":60},\"boxmode\":\"group\"},                        {\"responsive\": true}                    ).then(function(){\n",
       "                            \n",
       "var gd = document.getElementById('b6833bd8-6d0c-4ee6-bb47-9122570e40ac');\n",
       "var x = new MutationObserver(function (mutations, observer) {{\n",
       "        var display = window.getComputedStyle(gd).display;\n",
       "        if (!display || display === 'none') {{\n",
       "            console.log([gd, 'removed!']);\n",
       "            Plotly.purge(gd);\n",
       "            observer.disconnect();\n",
       "        }}\n",
       "}});\n",
       "\n",
       "// Listen for the removal of the full notebook cells\n",
       "var notebookContainer = gd.closest('#notebook-container');\n",
       "if (notebookContainer) {{\n",
       "    x.observe(notebookContainer, {childList: true});\n",
       "}}\n",
       "\n",
       "// Listen for the clearing of the current output cell\n",
       "var outputEl = gd.closest('.output');\n",
       "if (outputEl) {{\n",
       "    x.observe(outputEl, {childList: true});\n",
       "}}\n",
       "\n",
       "                        })                };                });            </script>        </div>"
      ]
     },
     "metadata": {},
     "output_type": "display_data"
    }
   ],
   "source": [
    "px.box(dcm, x='author', y='PC2') # PC0 is first, PC1 is second, PC2 is third"
   ]
  },
  {
   "cell_type": "code",
   "execution_count": 325,
   "id": "3ba8216d-7052-4da4-87b8-bab6791eb0f5",
   "metadata": {},
   "outputs": [
    {
     "data": {
      "text/plain": [
       "(array([ 0,  1,  2,  3,  4,  5,  6,  7,  8,  9, 10, 11]),\n",
       " [Text(0, 0, 'doyle'),\n",
       "  Text(1, 0, 'walpole'),\n",
       "  Text(2, 0, 'dickens'),\n",
       "  Text(3, 0, 'stoker'),\n",
       "  Text(4, 0, 'shelley'),\n",
       "  Text(5, 0, 'poe'),\n",
       "  Text(6, 0, 'lewis'),\n",
       "  Text(7, 0, 'collins'),\n",
       "  Text(8, 0, 'austen'),\n",
       "  Text(9, 0, 'reeve'),\n",
       "  Text(10, 0, 'christie'),\n",
       "  Text(11, 0, 'radcliffe')])"
      ]
     },
     "execution_count": 325,
     "metadata": {},
     "output_type": "execute_result"
    },
    {
     "data": {
      "image/png": "[encoded data removed]",
      "text/plain": [
       "<Figure size 640x480 with 1 Axes>"
      ]
     },
     "metadata": {},
     "output_type": "display_data"
    }
   ],
   "source": [
    "sns.boxplot(dcm, x='author', y='PC2')\n",
    "plt.xticks(rotation=45)"
   ]
  },
  {
   "cell_type": "markdown",
   "id": "618ce77c-aa0e-4ce7-91ff-62e1df57cd9d",
   "metadata": {},
   "source": [
    "**Radcliffe** has the maximum range. "
   ]
  },
  {
   "cell_type": "markdown",
   "id": "def0dc1c-0434-4184-82d2-40f7f805237e",
   "metadata": {},
   "source": [
    "#### 4. Looking at the loadings for the second PC, how would you characterize the opposition, based on the top three words at each pole?"
   ]
  },
  {
   "cell_type": "code",
   "execution_count": 261,
   "id": "af775bc0-c336-4daf-a3a5-bcbd9225c1d6",
   "metadata": {},
   "outputs": [],
   "source": [
    "top_terms_sk= {}\n",
    "\n",
    "data = []\n",
    "for i in range(10):\n",
    "    for j in [0, 1]:\n",
    "        data.append((f\"PC{i}\", j, ' '.join(loadings.sort_values(f'PC{i}', ascending=bool(j)).head(10).index.to_list())))\n",
    "\n",
    "comp_strs = pd.DataFrame(data)\n",
    "comp_strs.columns =  ['pc', 'pole', 'top_terms']\n",
    "comp_strs = comp_strs.set_index(['pc', 'pole'])"
   ]
  },
  {
   "cell_type": "code",
   "execution_count": 263,
   "id": "880e1f02-1278-45cb-8110-256bd9aafd93",
   "metadata": {},
   "outputs": [
    {
     "data": {
      "text/html": [
       "<div>\n",
       "<style scoped>\n",
       "    .dataframe tbody tr th:only-of-type {\n",
       "        vertical-align: middle;\n",
       "    }\n",
       "\n",
       "    .dataframe tbody tr th {\n",
       "        vertical-align: top;\n",
       "    }\n",
       "\n",
       "    .dataframe thead th {\n",
       "        text-align: right;\n",
       "    }\n",
       "</style>\n",
       "<table border=\"1\" class=\"dataframe\">\n",
       "  <thead>\n",
       "    <tr style=\"text-align: right;\">\n",
       "      <th></th>\n",
       "      <th></th>\n",
       "      <th>top_terms</th>\n",
       "    </tr>\n",
       "    <tr>\n",
       "      <th>pc</th>\n",
       "      <th>pole</th>\n",
       "      <th></th>\n",
       "    </tr>\n",
       "  </thead>\n",
       "  <tbody>\n",
       "    <tr>\n",
       "      <th rowspan=\"2\" valign=\"top\">PC0</th>\n",
       "      <th>0</th>\n",
       "      <td>humanity rank variety mixture apprehensions hi...</td>\n",
       "    </tr>\n",
       "    <tr>\n",
       "      <th>1</th>\n",
       "      <td>castle lady letter aunt chateau father oh cham...</td>\n",
       "    </tr>\n",
       "    <tr>\n",
       "      <th rowspan=\"2\" valign=\"top\">PC1</th>\n",
       "      <th>0</th>\n",
       "      <td>thats youre shes cab girl lawyer police doctor...</td>\n",
       "    </tr>\n",
       "    <tr>\n",
       "      <th>1</th>\n",
       "      <td>chateau castle chamber woods convent apartment...</td>\n",
       "    </tr>\n",
       "    <tr>\n",
       "      <th rowspan=\"2\" valign=\"top\">PC2</th>\n",
       "      <th>0</th>\n",
       "      <td>mountains woods sea rocks whilst road castle m...</td>\n",
       "    </tr>\n",
       "    <tr>\n",
       "      <th>1</th>\n",
       "      <td>brother engagement father son sister letter da...</td>\n",
       "    </tr>\n",
       "    <tr>\n",
       "      <th rowspan=\"2\" valign=\"top\">PC3</th>\n",
       "      <th>0</th>\n",
       "      <td>castle aunt chamber apartment servants corrido...</td>\n",
       "    </tr>\n",
       "    <tr>\n",
       "      <th>1</th>\n",
       "      <td>cottage chateau sea mountains feelings misery ...</td>\n",
       "    </tr>\n",
       "    <tr>\n",
       "      <th rowspan=\"2\" valign=\"top\">PC4</th>\n",
       "      <th>0</th>\n",
       "      <td>chateau thats youre woods shes aunt lawyer gir...</td>\n",
       "    </tr>\n",
       "    <tr>\n",
       "      <th>1</th>\n",
       "      <td>castle blood whilst sleep child monster horror...</td>\n",
       "    </tr>\n",
       "    <tr>\n",
       "      <th rowspan=\"2\" valign=\"top\">PC5</th>\n",
       "      <th>0</th>\n",
       "      <td>thats youre shes guess youve girl oh thoughtfu...</td>\n",
       "    </tr>\n",
       "    <tr>\n",
       "      <th>1</th>\n",
       "      <td>cab chateau dog inquiry police case letter mat...</td>\n",
       "    </tr>\n",
       "    <tr>\n",
       "      <th rowspan=\"2\" valign=\"top\">PC6</th>\n",
       "      <th>0</th>\n",
       "      <td>chateau convent coffee cab crime bed key blood...</td>\n",
       "    </tr>\n",
       "    <tr>\n",
       "      <th>1</th>\n",
       "      <td>mountains castle aunt rocks horses girl sea mo...</td>\n",
       "    </tr>\n",
       "    <tr>\n",
       "      <th rowspan=\"2\" valign=\"top\">PC7</th>\n",
       "      <th>0</th>\n",
       "      <td>aunt whilst sleep aunts mistress patient bag l...</td>\n",
       "    </tr>\n",
       "    <tr>\n",
       "      <th>1</th>\n",
       "      <td>brother castle cab son horse road thats father...</td>\n",
       "    </tr>\n",
       "    <tr>\n",
       "      <th rowspan=\"2\" valign=\"top\">PC8</th>\n",
       "      <th>0</th>\n",
       "      <td>aunt evidence murderer cab murder misery crime...</td>\n",
       "    </tr>\n",
       "    <tr>\n",
       "      <th>1</th>\n",
       "      <td>chateau whilst sleep bed women rooms lady till...</td>\n",
       "    </tr>\n",
       "    <tr>\n",
       "      <th rowspan=\"2\" valign=\"top\">PC9</th>\n",
       "      <th>0</th>\n",
       "      <td>cottage mistress servants lady convent ladys s...</td>\n",
       "    </tr>\n",
       "    <tr>\n",
       "      <th>1</th>\n",
       "      <td>aunt brother acquaintance engagement brothers ...</td>\n",
       "    </tr>\n",
       "  </tbody>\n",
       "</table>\n",
       "</div>"
      ],
      "text/plain": [
       "                                                  top_terms\n",
       "pc  pole                                                   \n",
       "PC0 0     humanity rank variety mixture apprehensions hi...\n",
       "    1     castle lady letter aunt chateau father oh cham...\n",
       "PC1 0     thats youre shes cab girl lawyer police doctor...\n",
       "    1     chateau castle chamber woods convent apartment...\n",
       "PC2 0     mountains woods sea rocks whilst road castle m...\n",
       "    1     brother engagement father son sister letter da...\n",
       "PC3 0     castle aunt chamber apartment servants corrido...\n",
       "    1     cottage chateau sea mountains feelings misery ...\n",
       "PC4 0     chateau thats youre woods shes aunt lawyer gir...\n",
       "    1     castle blood whilst sleep child monster horror...\n",
       "PC5 0     thats youre shes guess youve girl oh thoughtfu...\n",
       "    1     cab chateau dog inquiry police case letter mat...\n",
       "PC6 0     chateau convent coffee cab crime bed key blood...\n",
       "    1     mountains castle aunt rocks horses girl sea mo...\n",
       "PC7 0     aunt whilst sleep aunts mistress patient bag l...\n",
       "    1     brother castle cab son horse road thats father...\n",
       "PC8 0     aunt evidence murderer cab murder misery crime...\n",
       "    1     chateau whilst sleep bed women rooms lady till...\n",
       "PC9 0     cottage mistress servants lady convent ladys s...\n",
       "    1     aunt brother acquaintance engagement brothers ..."
      ]
     },
     "execution_count": 263,
     "metadata": {},
     "output_type": "execute_result"
    }
   ],
   "source": [
    "comp_strs"
   ]
  },
  {
   "cell_type": "code",
   "execution_count": 285,
   "id": "25439d20-419f-4b5b-9024-9a8bb069a12c",
   "metadata": {},
   "outputs": [
    {
     "data": {
      "text/html": [
       "<div>\n",
       "<style scoped>\n",
       "    .dataframe tbody tr th:only-of-type {\n",
       "        vertical-align: middle;\n",
       "    }\n",
       "\n",
       "    .dataframe tbody tr th {\n",
       "        vertical-align: top;\n",
       "    }\n",
       "\n",
       "    .dataframe thead th {\n",
       "        text-align: right;\n",
       "    }\n",
       "</style>\n",
       "<table border=\"1\" class=\"dataframe\">\n",
       "  <thead>\n",
       "    <tr style=\"text-align: right;\">\n",
       "      <th>1</th>\n",
       "      <th>pos</th>\n",
       "      <th>neg</th>\n",
       "    </tr>\n",
       "    <tr>\n",
       "      <th>comp_id</th>\n",
       "      <th></th>\n",
       "      <th></th>\n",
       "    </tr>\n",
       "  </thead>\n",
       "  <tbody>\n",
       "    <tr>\n",
       "      <th>PC0</th>\n",
       "      <td>humanity rank variety mixture apprehensions hi...</td>\n",
       "      <td>castle lady letter aunt chateau father oh cham...</td>\n",
       "    </tr>\n",
       "    <tr>\n",
       "      <th>PC1</th>\n",
       "      <td>thats youre shes cab girl lawyer police doctor...</td>\n",
       "      <td>chateau castle chamber woods convent apartment...</td>\n",
       "    </tr>\n",
       "    <tr>\n",
       "      <th>PC2</th>\n",
       "      <td>mountains woods sea rocks whilst road castle m...</td>\n",
       "      <td>brother engagement father son sister letter da...</td>\n",
       "    </tr>\n",
       "    <tr>\n",
       "      <th>PC3</th>\n",
       "      <td>castle aunt chamber apartment servants corrido...</td>\n",
       "      <td>cottage chateau sea mountains feelings misery ...</td>\n",
       "    </tr>\n",
       "    <tr>\n",
       "      <th>PC4</th>\n",
       "      <td>chateau thats youre woods shes aunt lawyer gir...</td>\n",
       "      <td>castle blood whilst sleep child monster horror...</td>\n",
       "    </tr>\n",
       "    <tr>\n",
       "      <th>PC5</th>\n",
       "      <td>thats youre shes guess youve girl oh thoughtfu...</td>\n",
       "      <td>cab chateau dog inquiry police case letter mat...</td>\n",
       "    </tr>\n",
       "    <tr>\n",
       "      <th>PC6</th>\n",
       "      <td>chateau convent coffee cab crime bed key blood...</td>\n",
       "      <td>mountains castle aunt rocks horses girl sea mo...</td>\n",
       "    </tr>\n",
       "    <tr>\n",
       "      <th>PC7</th>\n",
       "      <td>aunt whilst sleep aunts mistress patient bag l...</td>\n",
       "      <td>brother castle cab son horse road thats father...</td>\n",
       "    </tr>\n",
       "    <tr>\n",
       "      <th>PC8</th>\n",
       "      <td>aunt evidence murderer cab murder misery crime...</td>\n",
       "      <td>chateau whilst sleep bed women rooms lady till...</td>\n",
       "    </tr>\n",
       "    <tr>\n",
       "      <th>PC9</th>\n",
       "      <td>cottage mistress servants lady convent ladys s...</td>\n",
       "      <td>aunt brother acquaintance engagement brothers ...</td>\n",
       "    </tr>\n",
       "  </tbody>\n",
       "</table>\n",
       "</div>"
      ],
      "text/plain": [
       "1                                                      pos  \\\n",
       "comp_id                                                      \n",
       "PC0      humanity rank variety mixture apprehensions hi...   \n",
       "PC1      thats youre shes cab girl lawyer police doctor...   \n",
       "PC2      mountains woods sea rocks whilst road castle m...   \n",
       "PC3      castle aunt chamber apartment servants corrido...   \n",
       "PC4      chateau thats youre woods shes aunt lawyer gir...   \n",
       "PC5      thats youre shes guess youve girl oh thoughtfu...   \n",
       "PC6      chateau convent coffee cab crime bed key blood...   \n",
       "PC7      aunt whilst sleep aunts mistress patient bag l...   \n",
       "PC8      aunt evidence murderer cab murder misery crime...   \n",
       "PC9      cottage mistress servants lady convent ladys s...   \n",
       "\n",
       "1                                                      neg  \n",
       "comp_id                                                     \n",
       "PC0      castle lady letter aunt chateau father oh cham...  \n",
       "PC1      chateau castle chamber woods convent apartment...  \n",
       "PC2      brother engagement father son sister letter da...  \n",
       "PC3      cottage chateau sea mountains feelings misery ...  \n",
       "PC4      castle blood whilst sleep child monster horror...  \n",
       "PC5      cab chateau dog inquiry police case letter mat...  \n",
       "PC6      mountains castle aunt rocks horses girl sea mo...  \n",
       "PC7      brother castle cab son horse road thats father...  \n",
       "PC8      chateau whilst sleep bed women rooms lady till...  \n",
       "PC9      aunt brother acquaintance engagement brothers ...  "
      ]
     },
     "execution_count": 285,
     "metadata": {},
     "output_type": "execute_result"
    }
   ],
   "source": [
    "# or just look at compinf\n",
    "compinf"
   ]
  },
  {
   "cell_type": "markdown",
   "id": "ebb6b2f3-8052-4654-952e-6b83f95b0a88",
   "metadata": {},
   "source": [
    "The top three words at pole 0 for the second principal component are \"thats,\" \"youre,\" and \"shes,\" whereas the top three words at pole 1 for the same component are \"chateau,\" \"castle,\" and \"chamber.\" The words at pole 1 seem to suggest an association with historical/medieval fiction, whereas the words at pole 0 do not suggest an obvious theme/genre, though they are all stop words. "
   ]
  },
  {
   "cell_type": "markdown",
   "id": "7810c507-1560-40c8-9316-bc2b458c16dd",
   "metadata": {},
   "source": [
    "#### 5. Recompute the principle components with center_by_variance set to True. This will change the words that appear at the extremes of the first PC. Does this change your interpretation in the previous question?"
   ]
  },
  {
   "cell_type": "code",
   "execution_count": 266,
   "id": "34b3e398-be55-49d0-a90c-acfd1550030e",
   "metadata": {},
   "outputs": [],
   "source": [
    "loadings2, dcm2, compinf2 = gen_PCA(X=TFIDF_reduced, k=10, norm_docs=True, center_by_mean=False, center_by_variance=True)"
   ]
  },
  {
   "cell_type": "code",
   "execution_count": 272,
   "id": "6d3987ba-6aaa-4b15-83dc-db3db3b9cae4",
   "metadata": {},
   "outputs": [],
   "source": [
    "top_terms_sk= {}\n",
    "\n",
    "data = []\n",
    "for i in range(10):\n",
    "    for j in [0, 1]:\n",
    "        data.append((f\"PC{i}\", j, ' '.join(loadings2.sort_values(f'PC{i}', ascending=bool(j)).head(10).index.to_list())))\n",
    "\n",
    "comp_strs = pd.DataFrame(data)\n",
    "comp_strs.columns =  ['pc', 'pole', 'top_terms']\n",
    "comp_strs = comp_strs.set_index(['pc', 'pole'])"
   ]
  },
  {
   "cell_type": "code",
   "execution_count": 274,
   "id": "8df22092-2f77-449c-8754-d76f5e63c0ce",
   "metadata": {},
   "outputs": [
    {
     "data": {
      "text/html": [
       "<div>\n",
       "<style scoped>\n",
       "    .dataframe tbody tr th:only-of-type {\n",
       "        vertical-align: middle;\n",
       "    }\n",
       "\n",
       "    .dataframe tbody tr th {\n",
       "        vertical-align: top;\n",
       "    }\n",
       "\n",
       "    .dataframe thead th {\n",
       "        text-align: right;\n",
       "    }\n",
       "</style>\n",
       "<table border=\"1\" class=\"dataframe\">\n",
       "  <thead>\n",
       "    <tr style=\"text-align: right;\">\n",
       "      <th></th>\n",
       "      <th></th>\n",
       "      <th>top_terms</th>\n",
       "    </tr>\n",
       "    <tr>\n",
       "      <th>pc</th>\n",
       "      <th>pole</th>\n",
       "      <th></th>\n",
       "    </tr>\n",
       "  </thead>\n",
       "  <tbody>\n",
       "    <tr>\n",
       "      <th rowspan=\"2\" valign=\"top\">PC0</th>\n",
       "      <th>0</th>\n",
       "      <td>countenance length melancholy scene sufferings...</td>\n",
       "    </tr>\n",
       "    <tr>\n",
       "      <th>1</th>\n",
       "      <td>matter anything course case yes sort thats wor...</td>\n",
       "    </tr>\n",
       "    <tr>\n",
       "      <th rowspan=\"2\" valign=\"top\">PC1</th>\n",
       "      <th>0</th>\n",
       "      <td>light sound darkness sun teeth clouds wall fea...</td>\n",
       "    </tr>\n",
       "    <tr>\n",
       "      <th>1</th>\n",
       "      <td>family honour conduct opinion engagement fortu...</td>\n",
       "    </tr>\n",
       "    <tr>\n",
       "      <th rowspan=\"2\" valign=\"top\">PC2</th>\n",
       "      <th>0</th>\n",
       "      <td>woods twilight landscape shade gay chateau gra...</td>\n",
       "    </tr>\n",
       "    <tr>\n",
       "      <th>1</th>\n",
       "      <td>bosom cause power blood shame soul fear aid de...</td>\n",
       "    </tr>\n",
       "    <tr>\n",
       "      <th rowspan=\"2\" valign=\"top\">PC3</th>\n",
       "      <th>0</th>\n",
       "      <td>feelings creatures sensations monster misery t...</td>\n",
       "    </tr>\n",
       "    <tr>\n",
       "      <th>1</th>\n",
       "      <td>person chamber stair lamp case circumstances s...</td>\n",
       "    </tr>\n",
       "    <tr>\n",
       "      <th rowspan=\"2\" valign=\"top\">PC4</th>\n",
       "      <th>0</th>\n",
       "      <td>thoughtfully thats youre somehow youve oh sigh...</td>\n",
       "    </tr>\n",
       "    <tr>\n",
       "      <th>1</th>\n",
       "      <td>country companion companions nature progress s...</td>\n",
       "    </tr>\n",
       "    <tr>\n",
       "      <th rowspan=\"2\" valign=\"top\">PC5</th>\n",
       "      <th>0</th>\n",
       "      <td>crime idea anyone existence murder thoughtfull...</td>\n",
       "    </tr>\n",
       "    <tr>\n",
       "      <th>1</th>\n",
       "      <td>rest till sleep ladies things women people pat...</td>\n",
       "    </tr>\n",
       "    <tr>\n",
       "      <th rowspan=\"2\" valign=\"top\">PC6</th>\n",
       "      <th>0</th>\n",
       "      <td>experience misery position interval interview ...</td>\n",
       "    </tr>\n",
       "    <tr>\n",
       "      <th>1</th>\n",
       "      <td>acquaintance friendship minutes lamp brother h...</td>\n",
       "    </tr>\n",
       "    <tr>\n",
       "      <th rowspan=\"2\" valign=\"top\">PC7</th>\n",
       "      <th>0</th>\n",
       "      <td>home habit indeed study delicacy importance na...</td>\n",
       "    </tr>\n",
       "    <tr>\n",
       "      <th>1</th>\n",
       "      <td>servants castle hither justice rage lady apart...</td>\n",
       "    </tr>\n",
       "    <tr>\n",
       "      <th rowspan=\"2\" valign=\"top\">PC8</th>\n",
       "      <th>0</th>\n",
       "      <td>affairs hereafter son mans master title estate...</td>\n",
       "    </tr>\n",
       "    <tr>\n",
       "      <th>1</th>\n",
       "      <td>vain feelings anybody creature ladies horror l...</td>\n",
       "    </tr>\n",
       "    <tr>\n",
       "      <th rowspan=\"2\" valign=\"top\">PC9</th>\n",
       "      <th>0</th>\n",
       "      <td>bosom shade mother air virtue sentiments lands...</td>\n",
       "    </tr>\n",
       "    <tr>\n",
       "      <th>1</th>\n",
       "      <td>expectation castle apartment brother alarm ind...</td>\n",
       "    </tr>\n",
       "  </tbody>\n",
       "</table>\n",
       "</div>"
      ],
      "text/plain": [
       "                                                  top_terms\n",
       "pc  pole                                                   \n",
       "PC0 0     countenance length melancholy scene sufferings...\n",
       "    1     matter anything course case yes sort thats wor...\n",
       "PC1 0     light sound darkness sun teeth clouds wall fea...\n",
       "    1     family honour conduct opinion engagement fortu...\n",
       "PC2 0     woods twilight landscape shade gay chateau gra...\n",
       "    1     bosom cause power blood shame soul fear aid de...\n",
       "PC3 0     feelings creatures sensations monster misery t...\n",
       "    1     person chamber stair lamp case circumstances s...\n",
       "PC4 0     thoughtfully thats youre somehow youve oh sigh...\n",
       "    1     country companion companions nature progress s...\n",
       "PC5 0     crime idea anyone existence murder thoughtfull...\n",
       "    1     rest till sleep ladies things women people pat...\n",
       "PC6 0     experience misery position interval interview ...\n",
       "    1     acquaintance friendship minutes lamp brother h...\n",
       "PC7 0     home habit indeed study delicacy importance na...\n",
       "    1     servants castle hither justice rage lady apart...\n",
       "PC8 0     affairs hereafter son mans master title estate...\n",
       "    1     vain feelings anybody creature ladies horror l...\n",
       "PC9 0     bosom shade mother air virtue sentiments lands...\n",
       "    1     expectation castle apartment brother alarm ind..."
      ]
     },
     "execution_count": 274,
     "metadata": {},
     "output_type": "execute_result"
    }
   ],
   "source": [
    "comp_strs"
   ]
  },
  {
   "cell_type": "code",
   "execution_count": 289,
   "id": "3923fd49-d3c2-470e-82af-6c4de8c32e6c",
   "metadata": {},
   "outputs": [
    {
     "data": {
      "text/html": [
       "<div>\n",
       "<style scoped>\n",
       "    .dataframe tbody tr th:only-of-type {\n",
       "        vertical-align: middle;\n",
       "    }\n",
       "\n",
       "    .dataframe tbody tr th {\n",
       "        vertical-align: top;\n",
       "    }\n",
       "\n",
       "    .dataframe thead th {\n",
       "        text-align: right;\n",
       "    }\n",
       "</style>\n",
       "<table border=\"1\" class=\"dataframe\">\n",
       "  <thead>\n",
       "    <tr style=\"text-align: right;\">\n",
       "      <th>1</th>\n",
       "      <th>pos</th>\n",
       "      <th>neg</th>\n",
       "    </tr>\n",
       "    <tr>\n",
       "      <th>comp_id</th>\n",
       "      <th></th>\n",
       "      <th></th>\n",
       "    </tr>\n",
       "  </thead>\n",
       "  <tbody>\n",
       "    <tr>\n",
       "      <th>PC0</th>\n",
       "      <td>countenance length melancholy scene sufferings...</td>\n",
       "      <td>matter anything course case yes sort thats wor...</td>\n",
       "    </tr>\n",
       "    <tr>\n",
       "      <th>PC1</th>\n",
       "      <td>light sound darkness sun teeth clouds wall fea...</td>\n",
       "      <td>family honour conduct opinion engagement fortu...</td>\n",
       "    </tr>\n",
       "    <tr>\n",
       "      <th>PC2</th>\n",
       "      <td>woods twilight landscape shade gay chateau gra...</td>\n",
       "      <td>bosom cause power blood shame soul fear aid de...</td>\n",
       "    </tr>\n",
       "    <tr>\n",
       "      <th>PC3</th>\n",
       "      <td>feelings creatures sensations monster misery t...</td>\n",
       "      <td>person chamber stair lamp case circumstances s...</td>\n",
       "    </tr>\n",
       "    <tr>\n",
       "      <th>PC4</th>\n",
       "      <td>thoughtfully thats youre somehow youve oh sigh...</td>\n",
       "      <td>country companion companions nature progress s...</td>\n",
       "    </tr>\n",
       "    <tr>\n",
       "      <th>PC5</th>\n",
       "      <td>crime idea anyone existence murder thoughtfull...</td>\n",
       "      <td>rest till sleep ladies things women people pat...</td>\n",
       "    </tr>\n",
       "    <tr>\n",
       "      <th>PC6</th>\n",
       "      <td>experience misery position interval interview ...</td>\n",
       "      <td>acquaintance friendship minutes lamp brother h...</td>\n",
       "    </tr>\n",
       "    <tr>\n",
       "      <th>PC7</th>\n",
       "      <td>home habit indeed study delicacy importance na...</td>\n",
       "      <td>servants castle hither justice rage lady apart...</td>\n",
       "    </tr>\n",
       "    <tr>\n",
       "      <th>PC8</th>\n",
       "      <td>affairs hereafter son mans master title estate...</td>\n",
       "      <td>vain feelings anybody creature ladies horror l...</td>\n",
       "    </tr>\n",
       "    <tr>\n",
       "      <th>PC9</th>\n",
       "      <td>bosom shade mother air virtue sentiments lands...</td>\n",
       "      <td>expectation castle apartment brother alarm ind...</td>\n",
       "    </tr>\n",
       "  </tbody>\n",
       "</table>\n",
       "</div>"
      ],
      "text/plain": [
       "1                                                      pos  \\\n",
       "comp_id                                                      \n",
       "PC0      countenance length melancholy scene sufferings...   \n",
       "PC1      light sound darkness sun teeth clouds wall fea...   \n",
       "PC2      woods twilight landscape shade gay chateau gra...   \n",
       "PC3      feelings creatures sensations monster misery t...   \n",
       "PC4      thoughtfully thats youre somehow youve oh sigh...   \n",
       "PC5      crime idea anyone existence murder thoughtfull...   \n",
       "PC6      experience misery position interval interview ...   \n",
       "PC7      home habit indeed study delicacy importance na...   \n",
       "PC8      affairs hereafter son mans master title estate...   \n",
       "PC9      bosom shade mother air virtue sentiments lands...   \n",
       "\n",
       "1                                                      neg  \n",
       "comp_id                                                     \n",
       "PC0      matter anything course case yes sort thats wor...  \n",
       "PC1      family honour conduct opinion engagement fortu...  \n",
       "PC2      bosom cause power blood shame soul fear aid de...  \n",
       "PC3      person chamber stair lamp case circumstances s...  \n",
       "PC4      country companion companions nature progress s...  \n",
       "PC5      rest till sleep ladies things women people pat...  \n",
       "PC6      acquaintance friendship minutes lamp brother h...  \n",
       "PC7      servants castle hither justice rage lady apart...  \n",
       "PC8      vain feelings anybody creature ladies horror l...  \n",
       "PC9      expectation castle apartment brother alarm ind...  "
      ]
     },
     "execution_count": 289,
     "metadata": {},
     "output_type": "execute_result"
    }
   ],
   "source": [
    "compinf2"
   ]
  },
  {
   "cell_type": "markdown",
   "id": "89537c2a-9fef-4864-8722-837b0ae097cb",
   "metadata": {},
   "source": [
    "Yes, setting center_by_variance to True changes my interpretation. Now, the words at pole 0 are \"light,\" \"sound,\" and \"darkness,\" and the words at pole 1 are \"family,\" \"honour,\" and \"conduct.\" These words suggest a distinction between environmental, sensory terms and social, interpersonal terms. The terms at pole 0 seem more likely to be from gothic texts, whereas the terms at pole 1 seem more likely to be from detective texts. "
   ]
  }
 ],
 "metadata": {
  "kernelspec": {
   "display_name": "Python 3 (ipykernel)",
   "language": "python",
   "name": "python3"
  },
  "language_info": {
   "codemirror_mode": {
    "name": "ipython",
    "version": 3
   },
   "file_extension": ".py",
   "mimetype": "text/x-python",
   "name": "python",
   "nbconvert_exporter": "python",
   "pygments_lexer": "ipython3",
   "version": "3.11.7"
  }
 },
 "nbformat": 4,
 "nbformat_minor": 5
}
