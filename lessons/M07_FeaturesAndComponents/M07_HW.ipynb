{
 "cells": [
  {
   "cell_type": "markdown",
   "id": "0395e836-9c43-403a-9f3d-e4565d83826b",
   "metadata": {},
   "source": [
    "# M07 Homework\n",
    "- Name: Sam Remmey\n",
    "- Net ID: sqr8ap\n",
    "- URL of this file in GitHub: "
   ]
  },
  {
   "cell_type": "code",
   "execution_count": 2,
   "id": "1f528b9e-be63-46be-94f4-86d70cfedbb8",
   "metadata": {},
   "outputs": [],
   "source": [
    "import pandas as pd\n",
    "import numpy as np\n",
    "from scipy.linalg import norm\n",
    "import plotly_express as px\n",
    "import seaborn as sns\n",
    "sns.set(style='ticks')"
   ]
  },
  {
   "cell_type": "code",
   "execution_count": 4,
   "id": "35332b44-eefa-4606-903b-e615c9a4b28d",
   "metadata": {},
   "outputs": [],
   "source": [
    "import configparser\n",
    "config = configparser.ConfigParser()\n",
    "config.read(\"../../../env.ini\")\n",
    "data_home = config['DEFAULT']['data_home']\n",
    "output_dir = config['DEFAULT']['output_dir']\n",
    "local_lib = config['DEFAULT']['local_lib']"
   ]
  },
  {
   "cell_type": "code",
   "execution_count": 16,
   "id": "3111bbea-29e1-4f9f-9179-40707153fe71",
   "metadata": {},
   "outputs": [],
   "source": [
    "# Import data\n",
    "\n",
    "OHCO = ['book_id','chap_id','para_num','sent_num','token_num']\n",
    "\n",
    "LIB = pd.read_csv(f'{data_home}/novels-LIB.csv').set_index('book_id')\n",
    "TOKEN = pd.read_csv(f'{data_home}/novels-CORPUS.csv').set_index(OHCO)"
   ]
  },
  {
   "cell_type": "code",
   "execution_count": 20,
   "id": "e57b4fdb-c4fd-43d6-8e78-6da548a1f81e",
   "metadata": {},
   "outputs": [
    {
     "data": {
      "text/html": [
       "<div>\n",
       "<style scoped>\n",
       "    .dataframe tbody tr th:only-of-type {\n",
       "        vertical-align: middle;\n",
       "    }\n",
       "\n",
       "    .dataframe tbody tr th {\n",
       "        vertical-align: top;\n",
       "    }\n",
       "\n",
       "    .dataframe thead th {\n",
       "        text-align: right;\n",
       "    }\n",
       "</style>\n",
       "<table border=\"1\" class=\"dataframe\">\n",
       "  <thead>\n",
       "    <tr style=\"text-align: right;\">\n",
       "      <th></th>\n",
       "      <th></th>\n",
       "      <th></th>\n",
       "      <th></th>\n",
       "      <th></th>\n",
       "      <th>pos</th>\n",
       "      <th>term_str</th>\n",
       "    </tr>\n",
       "    <tr>\n",
       "      <th>book_id</th>\n",
       "      <th>chap_id</th>\n",
       "      <th>para_num</th>\n",
       "      <th>sent_num</th>\n",
       "      <th>token_num</th>\n",
       "      <th></th>\n",
       "      <th></th>\n",
       "    </tr>\n",
       "  </thead>\n",
       "  <tbody>\n",
       "    <tr>\n",
       "      <th>moonstone</th>\n",
       "      <th>77</th>\n",
       "      <th>7</th>\n",
       "      <th>2</th>\n",
       "      <th>7</th>\n",
       "      <td>PRP</td>\n",
       "      <td>himself</td>\n",
       "    </tr>\n",
       "    <tr>\n",
       "      <th>signoffour</th>\n",
       "      <th>8</th>\n",
       "      <th>73</th>\n",
       "      <th>0</th>\n",
       "      <th>1</th>\n",
       "      <td>PRP</td>\n",
       "      <td>i</td>\n",
       "    </tr>\n",
       "    <tr>\n",
       "      <th>udolpho</th>\n",
       "      <th>13</th>\n",
       "      <th>50</th>\n",
       "      <th>0</th>\n",
       "      <th>31</th>\n",
       "      <td>TO</td>\n",
       "      <td>to</td>\n",
       "    </tr>\n",
       "  </tbody>\n",
       "</table>\n",
       "</div>"
      ],
      "text/plain": [
       "                                                pos term_str\n",
       "book_id    chap_id para_num sent_num token_num              \n",
       "moonstone  77      7        2        7          PRP  himself\n",
       "signoffour 8       73       0        1          PRP        i\n",
       "udolpho    13      50       0        31          TO       to"
      ]
     },
     "execution_count": 20,
     "metadata": {},
     "output_type": "execute_result"
    }
   ],
   "source": [
    "TOKEN.sample(3)"
   ]
  },
  {
   "cell_type": "code",
   "execution_count": 22,
   "id": "0c203788-13a9-46b8-97fd-115a91d58bfa",
   "metadata": {},
   "outputs": [
    {
     "data": {
      "text/html": [
       "<div>\n",
       "<style scoped>\n",
       "    .dataframe tbody tr th:only-of-type {\n",
       "        vertical-align: middle;\n",
       "    }\n",
       "\n",
       "    .dataframe tbody tr th {\n",
       "        vertical-align: top;\n",
       "    }\n",
       "\n",
       "    .dataframe thead th {\n",
       "        text-align: right;\n",
       "    }\n",
       "</style>\n",
       "<table border=\"1\" class=\"dataframe\">\n",
       "  <thead>\n",
       "    <tr style=\"text-align: right;\">\n",
       "      <th></th>\n",
       "      <th>genre_id</th>\n",
       "      <th>author_id</th>\n",
       "    </tr>\n",
       "    <tr>\n",
       "      <th>book_id</th>\n",
       "      <th></th>\n",
       "      <th></th>\n",
       "    </tr>\n",
       "  </thead>\n",
       "  <tbody>\n",
       "    <tr>\n",
       "      <th>scarlet</th>\n",
       "      <td>d</td>\n",
       "      <td>doyle</td>\n",
       "    </tr>\n",
       "    <tr>\n",
       "      <th>secretadversary</th>\n",
       "      <td>d</td>\n",
       "      <td>christie</td>\n",
       "    </tr>\n",
       "    <tr>\n",
       "      <th>styles</th>\n",
       "      <td>d</td>\n",
       "      <td>christie</td>\n",
       "    </tr>\n",
       "  </tbody>\n",
       "</table>\n",
       "</div>"
      ],
      "text/plain": [
       "                genre_id author_id\n",
       "book_id                           \n",
       "scarlet                d     doyle\n",
       "secretadversary        d  christie\n",
       "styles                 d  christie"
      ]
     },
     "execution_count": 22,
     "metadata": {},
     "output_type": "execute_result"
    }
   ],
   "source": [
    "LIB.sample(3)"
   ]
  },
  {
   "cell_type": "code",
   "execution_count": 26,
   "id": "ed38a76d-e7cf-41e5-ac62-8eb01e2bda1f",
   "metadata": {},
   "outputs": [],
   "source": [
    "# Extract a VOCAB table and add max_pos as a column\n",
    "\n",
    "VOCAB = TOKEN.term_str.value_counts().to_frame('n').sort_index()\n",
    "VOCAB.index.name = 'term_str'\n",
    "VOCAB['n_chars'] = VOCAB.index.str.len()\n",
    "VOCAB['p'] = VOCAB.n / VOCAB.n.sum()\n",
    "VOCAB['i'] = -np.log2(VOCAB.p)\n",
    "VOCAB['max_pos'] = TOKEN[['term_str','pos']].value_counts().unstack(fill_value=0).idxmax(1)"
   ]
  },
  {
   "cell_type": "code",
   "execution_count": 34,
   "id": "73fd40f5-7b3a-40fb-b39e-a35e85f02fea",
   "metadata": {},
   "outputs": [
    {
     "data": {
      "text/html": [
       "<div>\n",
       "<style scoped>\n",
       "    .dataframe tbody tr th:only-of-type {\n",
       "        vertical-align: middle;\n",
       "    }\n",
       "\n",
       "    .dataframe tbody tr th {\n",
       "        vertical-align: top;\n",
       "    }\n",
       "\n",
       "    .dataframe thead th {\n",
       "        text-align: right;\n",
       "    }\n",
       "</style>\n",
       "<table border=\"1\" class=\"dataframe\">\n",
       "  <thead>\n",
       "    <tr style=\"text-align: right;\">\n",
       "      <th></th>\n",
       "      <th>n</th>\n",
       "      <th>n_chars</th>\n",
       "      <th>p</th>\n",
       "      <th>i</th>\n",
       "      <th>max_pos</th>\n",
       "    </tr>\n",
       "    <tr>\n",
       "      <th>term_str</th>\n",
       "      <th></th>\n",
       "      <th></th>\n",
       "      <th></th>\n",
       "      <th></th>\n",
       "      <th></th>\n",
       "    </tr>\n",
       "  </thead>\n",
       "  <tbody>\n",
       "    <tr>\n",
       "      <th>pealing</th>\n",
       "      <td>1</td>\n",
       "      <td>7</td>\n",
       "      <td>6.664823e-07</td>\n",
       "      <td>20.516930</td>\n",
       "      <td>VBG</td>\n",
       "    </tr>\n",
       "    <tr>\n",
       "      <th>gilt</th>\n",
       "      <td>1</td>\n",
       "      <td>4</td>\n",
       "      <td>6.664823e-07</td>\n",
       "      <td>20.516930</td>\n",
       "      <td>NN</td>\n",
       "    </tr>\n",
       "    <tr>\n",
       "      <th>cheer</th>\n",
       "      <td>35</td>\n",
       "      <td>5</td>\n",
       "      <td>2.332688e-05</td>\n",
       "      <td>15.387647</td>\n",
       "      <td>VB</td>\n",
       "    </tr>\n",
       "  </tbody>\n",
       "</table>\n",
       "</div>"
      ],
      "text/plain": [
       "           n  n_chars             p          i max_pos\n",
       "term_str                                              \n",
       "pealing    1        7  6.664823e-07  20.516930     VBG\n",
       "gilt       1        4  6.664823e-07  20.516930      NN\n",
       "cheer     35        5  2.332688e-05  15.387647      VB"
      ]
     },
     "execution_count": 34,
     "metadata": {},
     "output_type": "execute_result"
    }
   ],
   "source": [
    "VOCAB.sample(3)"
   ]
  },
  {
   "cell_type": "code",
   "execution_count": null,
   "id": "9ddd0660-27e3-4226-9f53-7f6dd29f1209",
   "metadata": {},
   "outputs": [],
   "source": [
    "# Compute TFIDF and VOCAB['dfidf'] for the CORPUS\n",
    "\n"
   ]
  }
 ],
 "metadata": {
  "kernelspec": {
   "display_name": "Python 3 (ipykernel)",
   "language": "python",
   "name": "python3"
  },
  "language_info": {
   "codemirror_mode": {
    "name": "ipython",
    "version": 3
   },
   "file_extension": ".py",
   "mimetype": "text/x-python",
   "name": "python",
   "nbconvert_exporter": "python",
   "pygments_lexer": "ipython3",
   "version": "3.11.7"
  }
 },
 "nbformat": 4,
 "nbformat_minor": 5
}
