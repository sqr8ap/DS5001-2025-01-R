{
 "cells": [
  {
   "cell_type": "markdown",
   "id": "3cc2ae1f-9bad-4977-a75f-617583a30d71",
   "metadata": {},
   "source": [
    "# M03 Homework\n",
    "\n",
    "- Name: Sam Remmey\n",
    "- Net ID: sqr8ap\n",
    "- URL of this file in GitHub: https://github.com/sqr8ap/DS5001-2025-01-R/blob/m03/lessons/M03_LanguageModels/M03_HW.ipynb\n",
    "\n",
    "Note: I parsed the text manually before realizing that the textimporter file contains a method for doing that"
   ]
  },
  {
   "cell_type": "code",
   "execution_count": 4,
   "id": "2d3ce603-1aba-4017-bbf3-5cc57915fa0a",
   "metadata": {},
   "outputs": [
    {
     "name": "stdout",
     "output_type": "stream",
     "text": [
      "total 4336\n",
      "-rw-r--r--@ 1 Samantha  staff  1752309 Jan 27 17:42 austen-persuasion.csv\n",
      "drwxr-xr-x@ 8 Samantha  staff      256 Jan 16 08:52 \u001b[34mgutenberg\u001b[m\u001b[m\n",
      "-rw-r--r--@ 1 Samantha  staff   465627 Jan 20 15:27 pg42324.txt\n"
     ]
    }
   ],
   "source": [
    "import numpy as np\n",
    "import pandas as pd\n",
    "import configparser\n",
    "config = configparser.ConfigParser()\n",
    "\n",
    "config.read(\"../../../env.ini\")\n",
    "data_home = config['DEFAULT']['data_home']\n",
    "output_dir = config['DEFAULT']['output_dir']\n",
    "\n",
    "!ls -l {data_home}"
   ]
  },
  {
   "cell_type": "code",
   "execution_count": 23,
   "id": "5f3104c6-6b06-4938-b576-680d522e1196",
   "metadata": {},
   "outputs": [],
   "source": [
    "import sys\n",
    "import os\n",
    "\n",
    "module_path = \"/Users/Samantha/Desktop/MSDS/DS5001/repo/lessons/lib\"\n",
    "\n",
    "if module_path not in sys.path:\n",
    "    sys.path.append(module_path)\n",
    "\n",
    "import textimporter"
   ]
  },
  {
   "cell_type": "markdown",
   "id": "f7054436-5817-4b32-88ab-aadf1855ba82",
   "metadata": {},
   "source": [
    "## Parse the text to generate TOKENS and VOCAB tables."
   ]
  },
  {
   "cell_type": "code",
   "execution_count": 167,
   "id": "11c6a829-3658-4384-aec6-ee2e7689e475",
   "metadata": {},
   "outputs": [],
   "source": [
    "OHCO = ['chap_num', 'para_num', 'sent_num', 'token_num']"
   ]
  },
  {
   "cell_type": "code",
   "execution_count": 26,
   "id": "90307e6a-f722-47a0-a3f6-e9d98bbe43d5",
   "metadata": {},
   "outputs": [],
   "source": [
    "text_file = f\"{data_home}/pg42324.txt\""
   ]
  },
  {
   "cell_type": "code",
   "execution_count": 28,
   "id": "dbe10f91-15c3-43a7-92b6-d77278ead989",
   "metadata": {},
   "outputs": [],
   "source": [
    "LINES = pd.DataFrame(open(text_file, 'r', encoding='utf-8-sig').readlines(), columns=['line_str'])\n",
    "LINES.index.name = 'line_num'\n",
    "LINES.line_str = LINES.line_str.str.replace(r'\\n+', ' ', regex=True).str.strip()"
   ]
  },
  {
   "cell_type": "code",
   "execution_count": 48,
   "id": "8d0979f3-c8b6-4087-a469-54e6c7f3cfd7",
   "metadata": {},
   "outputs": [],
   "source": [
    "clip_pats = [\n",
    "    r\"^PREFACE\\b\",  # Match a line that starts with \"PREFACE\"\n",
    "    r\"^THE END\\.$\"  # Match a line that contains exactly \"THE END.\"\n",
    "]\n",
    "\n",
    "pat_a = LINES.line_str.str.match(clip_pats[0])\n",
    "pat_b = LINES.line_str.str.match(clip_pats[1])"
   ]
  },
  {
   "cell_type": "code",
   "execution_count": 66,
   "id": "4b26a415-6a26-4e2a-aa43-d4ac0ef73929",
   "metadata": {},
   "outputs": [],
   "source": [
    "line_a = LINES.loc[pat_a].index[0] # first line of story ('PREFACE')\n",
    "line_b = LINES.loc[pat_b].index[0] + 1 # last line of story ('THE END.')"
   ]
  },
  {
   "cell_type": "code",
   "execution_count": 68,
   "id": "947bd34d-613b-47bd-91c4-3522ccbb00b7",
   "metadata": {},
   "outputs": [
    {
     "name": "stdout",
     "output_type": "stream",
     "text": [
      "          line_str\n",
      "line_num          \n",
      "271       PREFACE.\n",
      "272               \n",
      "          line_str\n",
      "line_num          \n",
      "7655      THE END.\n",
      "7656              \n"
     ]
    }
   ],
   "source": [
    "LINES = LINES.loc[line_a : line_b]\n",
    "print(LINES.head(2))\n",
    "print(LINES.tail(2))"
   ]
  },
  {
   "cell_type": "code",
   "execution_count": 74,
   "id": "7f6b4323-ec77-4cf4-b206-ef3eb0f386d8",
   "metadata": {},
   "outputs": [
    {
     "data": {
      "text/html": [
       "<div>\n",
       "<style scoped>\n",
       "    .dataframe tbody tr th:only-of-type {\n",
       "        vertical-align: middle;\n",
       "    }\n",
       "\n",
       "    .dataframe tbody tr th {\n",
       "        vertical-align: top;\n",
       "    }\n",
       "\n",
       "    .dataframe thead th {\n",
       "        text-align: right;\n",
       "    }\n",
       "</style>\n",
       "<table border=\"1\" class=\"dataframe\">\n",
       "  <thead>\n",
       "    <tr style=\"text-align: right;\">\n",
       "      <th></th>\n",
       "      <th>line_str</th>\n",
       "    </tr>\n",
       "    <tr>\n",
       "      <th>line_num</th>\n",
       "      <th></th>\n",
       "    </tr>\n",
       "  </thead>\n",
       "  <tbody>\n",
       "    <tr>\n",
       "      <th>271</th>\n",
       "      <td>PREFACE.</td>\n",
       "    </tr>\n",
       "    <tr>\n",
       "      <th>343</th>\n",
       "      <td>LETTER I.</td>\n",
       "    </tr>\n",
       "    <tr>\n",
       "      <th>467</th>\n",
       "      <td>LETTER II.</td>\n",
       "    </tr>\n",
       "  </tbody>\n",
       "</table>\n",
       "</div>"
      ],
      "text/plain": [
       "            line_str\n",
       "line_num            \n",
       "271         PREFACE.\n",
       "343        LETTER I.\n",
       "467       LETTER II."
      ]
     },
     "execution_count": 74,
     "metadata": {},
     "output_type": "execute_result"
    }
   ],
   "source": [
    "## Chunk by chapter\n",
    "\n",
    "chap_pat = r\"^\\s*(?:PREFACE|chapter\\s+[IVXLCDM]+|letter\\s+[IVXLCDM]+)\"\n",
    "\n",
    "chap_lines = LINES.line_str.str.match(chap_pat, case=False)\n",
    "\n",
    "LINES.loc[chap_lines].head(3)"
   ]
  },
  {
   "cell_type": "code",
   "execution_count": 78,
   "id": "19cfe672-b455-41df-b34c-f8086fdd21e8",
   "metadata": {},
   "outputs": [],
   "source": [
    "LINES.loc[chap_lines, 'chap_num'] = [i+1 for i in range(LINES.loc[chap_lines].shape[0])]"
   ]
  },
  {
   "cell_type": "code",
   "execution_count": 80,
   "id": "079eb7e3-feca-44b5-aab9-6a986ab61ee5",
   "metadata": {},
   "outputs": [
    {
     "data": {
      "text/html": [
       "<div>\n",
       "<style scoped>\n",
       "    .dataframe tbody tr th:only-of-type {\n",
       "        vertical-align: middle;\n",
       "    }\n",
       "\n",
       "    .dataframe tbody tr th {\n",
       "        vertical-align: top;\n",
       "    }\n",
       "\n",
       "    .dataframe thead th {\n",
       "        text-align: right;\n",
       "    }\n",
       "</style>\n",
       "<table border=\"1\" class=\"dataframe\">\n",
       "  <thead>\n",
       "    <tr style=\"text-align: right;\">\n",
       "      <th></th>\n",
       "      <th>line_str</th>\n",
       "      <th>chap_num</th>\n",
       "    </tr>\n",
       "    <tr>\n",
       "      <th>line_num</th>\n",
       "      <th></th>\n",
       "      <th></th>\n",
       "    </tr>\n",
       "  </thead>\n",
       "  <tbody>\n",
       "    <tr>\n",
       "      <th>271</th>\n",
       "      <td>PREFACE.</td>\n",
       "      <td>1.0</td>\n",
       "    </tr>\n",
       "    <tr>\n",
       "      <th>343</th>\n",
       "      <td>LETTER I.</td>\n",
       "      <td>2.0</td>\n",
       "    </tr>\n",
       "    <tr>\n",
       "      <th>467</th>\n",
       "      <td>LETTER II.</td>\n",
       "      <td>3.0</td>\n",
       "    </tr>\n",
       "    <tr>\n",
       "      <th>594</th>\n",
       "      <td>LETTER III.</td>\n",
       "      <td>4.0</td>\n",
       "    </tr>\n",
       "    <tr>\n",
       "      <th>636</th>\n",
       "      <td>LETTER IV.</td>\n",
       "      <td>5.0</td>\n",
       "    </tr>\n",
       "  </tbody>\n",
       "</table>\n",
       "</div>"
      ],
      "text/plain": [
       "             line_str  chap_num\n",
       "line_num                       \n",
       "271          PREFACE.       1.0\n",
       "343         LETTER I.       2.0\n",
       "467        LETTER II.       3.0\n",
       "594       LETTER III.       4.0\n",
       "636        LETTER IV.       5.0"
      ]
     },
     "execution_count": 80,
     "metadata": {},
     "output_type": "execute_result"
    }
   ],
   "source": [
    "LINES.loc[chap_lines].head()"
   ]
  },
  {
   "cell_type": "code",
   "execution_count": 85,
   "id": "23620e5c-d040-414a-b737-a6e9b3de2168",
   "metadata": {},
   "outputs": [
    {
     "name": "stderr",
     "output_type": "stream",
     "text": [
      "/var/folders/13/9xyr4p8x2kq9msv1m8ysrjq00000gn/T/ipykernel_44039/3599576442.py:1: SettingWithCopyWarning: \n",
      "A value is trying to be set on a copy of a slice from a DataFrame.\n",
      "Try using .loc[row_indexer,col_indexer] = value instead\n",
      "\n",
      "See the caveats in the documentation: https://pandas.pydata.org/pandas-docs/stable/user_guide/indexing.html#returning-a-view-versus-a-copy\n",
      "  LINES.chap_num = LINES.chap_num.ffill()\n"
     ]
    }
   ],
   "source": [
    "LINES.chap_num = LINES.chap_num.ffill()"
   ]
  },
  {
   "cell_type": "code",
   "execution_count": 99,
   "id": "31dd5c29-d24f-42e6-939a-787c90f76fe1",
   "metadata": {},
   "outputs": [
    {
     "data": {
      "text/html": [
       "<div>\n",
       "<style scoped>\n",
       "    .dataframe tbody tr th:only-of-type {\n",
       "        vertical-align: middle;\n",
       "    }\n",
       "\n",
       "    .dataframe tbody tr th {\n",
       "        vertical-align: top;\n",
       "    }\n",
       "\n",
       "    .dataframe thead th {\n",
       "        text-align: right;\n",
       "    }\n",
       "</style>\n",
       "<table border=\"1\" class=\"dataframe\">\n",
       "  <thead>\n",
       "    <tr style=\"text-align: right;\">\n",
       "      <th></th>\n",
       "      <th>line_str</th>\n",
       "      <th>chap_num</th>\n",
       "    </tr>\n",
       "    <tr>\n",
       "      <th>line_num</th>\n",
       "      <th></th>\n",
       "      <th></th>\n",
       "    </tr>\n",
       "  </thead>\n",
       "  <tbody>\n",
       "    <tr>\n",
       "      <th>2515</th>\n",
       "      <td>discover what I knew of the murderer, and caus...</td>\n",
       "      <td>12</td>\n",
       "    </tr>\n",
       "    <tr>\n",
       "      <th>6810</th>\n",
       "      <td>accuse, and for whose seizure and punishment I...</td>\n",
       "      <td>28</td>\n",
       "    </tr>\n",
       "    <tr>\n",
       "      <th>1867</th>\n",
       "      <td>view. I did not dare return to the apartment w...</td>\n",
       "      <td>10</td>\n",
       "    </tr>\n",
       "  </tbody>\n",
       "</table>\n",
       "</div>"
      ],
      "text/plain": [
       "                                                   line_str  chap_num\n",
       "line_num                                                             \n",
       "2515      discover what I knew of the murderer, and caus...        12\n",
       "6810      accuse, and for whose seizure and punishment I...        28\n",
       "1867      view. I did not dare return to the apartment w...        10"
      ]
     },
     "execution_count": 99,
     "metadata": {},
     "output_type": "execute_result"
    }
   ],
   "source": [
    "LINES.sample(3)"
   ]
  },
  {
   "cell_type": "code",
   "execution_count": 95,
   "id": "d014ae86-538b-4261-8f72-a1fc8e55278c",
   "metadata": {},
   "outputs": [],
   "source": [
    "LINES = LINES.loc[~chap_lines] # Remove chapter heading lines; their work is done\n",
    "LINES.chap_num = LINES.chap_num.astype('int') # Convert chap_num from float to int"
   ]
  },
  {
   "cell_type": "code",
   "execution_count": 97,
   "id": "507584f3-acbc-4ffd-b61b-e5a8cf1df294",
   "metadata": {},
   "outputs": [
    {
     "data": {
      "text/html": [
       "<div>\n",
       "<style scoped>\n",
       "    .dataframe tbody tr th:only-of-type {\n",
       "        vertical-align: middle;\n",
       "    }\n",
       "\n",
       "    .dataframe tbody tr th {\n",
       "        vertical-align: top;\n",
       "    }\n",
       "\n",
       "    .dataframe thead th {\n",
       "        text-align: right;\n",
       "    }\n",
       "</style>\n",
       "<table border=\"1\" class=\"dataframe\">\n",
       "  <thead>\n",
       "    <tr style=\"text-align: right;\">\n",
       "      <th></th>\n",
       "      <th>line_str</th>\n",
       "      <th>chap_num</th>\n",
       "    </tr>\n",
       "    <tr>\n",
       "      <th>line_num</th>\n",
       "      <th></th>\n",
       "      <th></th>\n",
       "    </tr>\n",
       "  </thead>\n",
       "  <tbody>\n",
       "    <tr>\n",
       "      <th>3101</th>\n",
       "      <td>exercise and by change of place, some relief f...</td>\n",
       "      <td>14</td>\n",
       "    </tr>\n",
       "    <tr>\n",
       "      <th>4555</th>\n",
       "      <td>\"Cursed, cursed creator! Why did I live? Why, ...</td>\n",
       "      <td>21</td>\n",
       "    </tr>\n",
       "    <tr>\n",
       "      <th>2252</th>\n",
       "      <td>always been my favourite companion in the ramb...</td>\n",
       "      <td>11</td>\n",
       "    </tr>\n",
       "  </tbody>\n",
       "</table>\n",
       "</div>"
      ],
      "text/plain": [
       "                                                   line_str  chap_num\n",
       "line_num                                                             \n",
       "3101      exercise and by change of place, some relief f...        14\n",
       "4555      \"Cursed, cursed creator! Why did I live? Why, ...        21\n",
       "2252      always been my favourite companion in the ramb...        11"
      ]
     },
     "execution_count": 97,
     "metadata": {},
     "output_type": "execute_result"
    }
   ],
   "source": [
    "LINES.sample(3)"
   ]
  },
  {
   "cell_type": "code",
   "execution_count": 105,
   "id": "56d0367c-40d7-4201-9364-c23d6c35ea00",
   "metadata": {},
   "outputs": [
    {
     "data": {
      "text/plain": [
       "['chap_num']"
      ]
     },
     "execution_count": 105,
     "metadata": {},
     "output_type": "execute_result"
    }
   ],
   "source": [
    "OHCO[:1]"
   ]
  },
  {
   "cell_type": "code",
   "execution_count": 107,
   "id": "774831c3-808b-411f-bc57-74d2bd3cf1e2",
   "metadata": {},
   "outputs": [],
   "source": [
    "# Make big string for each chapter\n",
    "CHAPS = LINES.groupby(OHCO[:1])\\\n",
    "    .line_str.apply(lambda x: '\\n'.join(x))\\\n",
    "    .to_frame('chap_str')"
   ]
  },
  {
   "cell_type": "code",
   "execution_count": 109,
   "id": "9a3856d9-ebb5-4839-a344-78a06ce67b17",
   "metadata": {},
   "outputs": [
    {
     "data": {
      "text/html": [
       "<div>\n",
       "<style scoped>\n",
       "    .dataframe tbody tr th:only-of-type {\n",
       "        vertical-align: middle;\n",
       "    }\n",
       "\n",
       "    .dataframe tbody tr th {\n",
       "        vertical-align: top;\n",
       "    }\n",
       "\n",
       "    .dataframe thead th {\n",
       "        text-align: right;\n",
       "    }\n",
       "</style>\n",
       "<table border=\"1\" class=\"dataframe\">\n",
       "  <thead>\n",
       "    <tr style=\"text-align: right;\">\n",
       "      <th></th>\n",
       "      <th>chap_str</th>\n",
       "    </tr>\n",
       "    <tr>\n",
       "      <th>chap_num</th>\n",
       "      <th></th>\n",
       "    </tr>\n",
       "  </thead>\n",
       "  <tbody>\n",
       "    <tr>\n",
       "      <th>1</th>\n",
       "      <td>\\n\\nThe event on which this fiction is founded...</td>\n",
       "    </tr>\n",
       "    <tr>\n",
       "      <th>2</th>\n",
       "      <td>\\n\\n_To Mrs. Saville, England._\\n\\nSt. Petersb...</td>\n",
       "    </tr>\n",
       "    <tr>\n",
       "      <th>3</th>\n",
       "      <td>\\n\\n_To Mrs. Saville, England._\\n\\nArchangel, ...</td>\n",
       "    </tr>\n",
       "  </tbody>\n",
       "</table>\n",
       "</div>"
      ],
      "text/plain": [
       "                                                   chap_str\n",
       "chap_num                                                   \n",
       "1         \\n\\nThe event on which this fiction is founded...\n",
       "2         \\n\\n_To Mrs. Saville, England._\\n\\nSt. Petersb...\n",
       "3         \\n\\n_To Mrs. Saville, England._\\n\\nArchangel, ..."
      ]
     },
     "execution_count": 109,
     "metadata": {},
     "output_type": "execute_result"
    }
   ],
   "source": [
    "CHAPS.head(3)"
   ]
  },
  {
   "cell_type": "code",
   "execution_count": 111,
   "id": "29419b3c-2f55-40fd-95f1-8c3eb7300cce",
   "metadata": {},
   "outputs": [],
   "source": [
    "CHAPS['chap_str'] = CHAPS.chap_str.str.strip()"
   ]
  },
  {
   "cell_type": "code",
   "execution_count": 113,
   "id": "0bf5b911-8c54-487d-85f4-427d632b86a4",
   "metadata": {},
   "outputs": [],
   "source": [
    "## Split chapters into paragraphs\n",
    "\n",
    "para_pat = r'\\n\\n+'"
   ]
  },
  {
   "cell_type": "code",
   "execution_count": 115,
   "id": "b6ccc7cd-cbbf-4f6f-b7df-d545ee24300a",
   "metadata": {},
   "outputs": [],
   "source": [
    "PARAS = CHAPS['chap_str'].str.split(para_pat, expand=True).stack()\\\n",
    "    .to_frame('para_str').sort_index()\n",
    "PARAS.index.names = OHCO[:2]"
   ]
  },
  {
   "cell_type": "code",
   "execution_count": 117,
   "id": "62af8cd0-2397-43c4-8039-59ba5e2875a2",
   "metadata": {},
   "outputs": [
    {
     "data": {
      "text/html": [
       "<div>\n",
       "<style scoped>\n",
       "    .dataframe tbody tr th:only-of-type {\n",
       "        vertical-align: middle;\n",
       "    }\n",
       "\n",
       "    .dataframe tbody tr th {\n",
       "        vertical-align: top;\n",
       "    }\n",
       "\n",
       "    .dataframe thead th {\n",
       "        text-align: right;\n",
       "    }\n",
       "</style>\n",
       "<table border=\"1\" class=\"dataframe\">\n",
       "  <thead>\n",
       "    <tr style=\"text-align: right;\">\n",
       "      <th></th>\n",
       "      <th></th>\n",
       "      <th>para_str</th>\n",
       "    </tr>\n",
       "    <tr>\n",
       "      <th>chap_num</th>\n",
       "      <th>para_num</th>\n",
       "      <th></th>\n",
       "    </tr>\n",
       "  </thead>\n",
       "  <tbody>\n",
       "    <tr>\n",
       "      <th rowspan=\"3\" valign=\"top\">1</th>\n",
       "      <th>0</th>\n",
       "      <td>The event on which this fiction is founded, ha...</td>\n",
       "    </tr>\n",
       "    <tr>\n",
       "      <th>1</th>\n",
       "      <td>I have thus endeavoured to preserve the truth ...</td>\n",
       "    </tr>\n",
       "    <tr>\n",
       "      <th>2</th>\n",
       "      <td>The circumstance on which my story rests was s...</td>\n",
       "    </tr>\n",
       "  </tbody>\n",
       "</table>\n",
       "</div>"
      ],
      "text/plain": [
       "                                                            para_str\n",
       "chap_num para_num                                                   \n",
       "1        0         The event on which this fiction is founded, ha...\n",
       "         1         I have thus endeavoured to preserve the truth ...\n",
       "         2         The circumstance on which my story rests was s..."
      ]
     },
     "execution_count": 117,
     "metadata": {},
     "output_type": "execute_result"
    }
   ],
   "source": [
    "PARAS['para_str'] = PARAS['para_str'].str.replace(r'\\n', ' ', regex=True)\n",
    "PARAS['para_str'] = PARAS['para_str'].str.strip()\n",
    "PARAS = PARAS[~PARAS['para_str'].str.match(r'^\\s*$')] # Remove empty paragraphs\n",
    "\n",
    "PARAS.head(3)"
   ]
  },
  {
   "cell_type": "code",
   "execution_count": 119,
   "id": "6cd74c0a-a2a6-47cb-86a8-6acfe98877aa",
   "metadata": {},
   "outputs": [],
   "source": [
    "## Split paragraphs into sentences\n",
    "\n",
    "sent_pat = r'[.?!;:]+'\n",
    "SENTS = PARAS['para_str'].str.split(sent_pat, expand=True).stack()\\\n",
    "    .to_frame('sent_str')\n",
    "SENTS.index.names = OHCO[:3]"
   ]
  },
  {
   "cell_type": "code",
   "execution_count": 121,
   "id": "821c63fc-9f52-44fb-83d2-a3a1a2d476dd",
   "metadata": {},
   "outputs": [],
   "source": [
    "SENTS = SENTS[~SENTS['sent_str'].str.match(r'^\\s*$')] # Remove empty paragraphs\n",
    "SENTS.sent_str = SENTS.sent_str.str.strip() # CRUCIAL TO REMOVE BLANK TOKENS"
   ]
  },
  {
   "cell_type": "code",
   "execution_count": 123,
   "id": "c27a58a2-d720-4261-ae78-d3c6979535df",
   "metadata": {},
   "outputs": [
    {
     "data": {
      "text/html": [
       "<div>\n",
       "<style scoped>\n",
       "    .dataframe tbody tr th:only-of-type {\n",
       "        vertical-align: middle;\n",
       "    }\n",
       "\n",
       "    .dataframe tbody tr th {\n",
       "        vertical-align: top;\n",
       "    }\n",
       "\n",
       "    .dataframe thead th {\n",
       "        text-align: right;\n",
       "    }\n",
       "</style>\n",
       "<table border=\"1\" class=\"dataframe\">\n",
       "  <thead>\n",
       "    <tr style=\"text-align: right;\">\n",
       "      <th></th>\n",
       "      <th></th>\n",
       "      <th></th>\n",
       "      <th>sent_str</th>\n",
       "    </tr>\n",
       "    <tr>\n",
       "      <th>chap_num</th>\n",
       "      <th>para_num</th>\n",
       "      <th>sent_num</th>\n",
       "      <th></th>\n",
       "    </tr>\n",
       "  </thead>\n",
       "  <tbody>\n",
       "    <tr>\n",
       "      <th>22</th>\n",
       "      <th>15</th>\n",
       "      <th>0</th>\n",
       "      <td>\"I consent to your demand, on your solemn oath...</td>\n",
       "    </tr>\n",
       "    <tr>\n",
       "      <th>25</th>\n",
       "      <th>8</th>\n",
       "      <th>4</th>\n",
       "      <td>I left Switzerland with you</td>\n",
       "    </tr>\n",
       "    <tr>\n",
       "      <th>7</th>\n",
       "      <th>13</th>\n",
       "      <th>8</th>\n",
       "      <td>and entertained the greatest disdain for a wou...</td>\n",
       "    </tr>\n",
       "  </tbody>\n",
       "</table>\n",
       "</div>"
      ],
      "text/plain": [
       "                                                                     sent_str\n",
       "chap_num para_num sent_num                                                   \n",
       "22       15       0         \"I consent to your demand, on your solemn oath...\n",
       "25       8        4                               I left Switzerland with you\n",
       "7        13       8         and entertained the greatest disdain for a wou..."
      ]
     },
     "execution_count": 123,
     "metadata": {},
     "output_type": "execute_result"
    }
   ],
   "source": [
    "SENTS.sample(3)"
   ]
  },
  {
   "cell_type": "code",
   "execution_count": 125,
   "id": "908f6c1e-85a0-48da-8ce3-8b7fa4b6b3d9",
   "metadata": {},
   "outputs": [],
   "source": [
    "## Split sentences into tokens\n",
    "\n",
    "token_pat = r\"[\\s',-]+\"\n",
    "TOKENS = SENTS['sent_str'].str.split(token_pat, expand=True).stack()\\\n",
    "    .to_frame('token_str')"
   ]
  },
  {
   "cell_type": "code",
   "execution_count": 127,
   "id": "099142d8-427b-4da0-ae00-bbc0419ed41a",
   "metadata": {},
   "outputs": [],
   "source": [
    "TOKENS.index.names = OHCO[:4]"
   ]
  },
  {
   "cell_type": "code",
   "execution_count": 131,
   "id": "76e3e990-defb-4f25-9df7-9a2e455f8a1b",
   "metadata": {},
   "outputs": [
    {
     "data": {
      "text/html": [
       "<div>\n",
       "<style scoped>\n",
       "    .dataframe tbody tr th:only-of-type {\n",
       "        vertical-align: middle;\n",
       "    }\n",
       "\n",
       "    .dataframe tbody tr th {\n",
       "        vertical-align: top;\n",
       "    }\n",
       "\n",
       "    .dataframe thead th {\n",
       "        text-align: right;\n",
       "    }\n",
       "</style>\n",
       "<table border=\"1\" class=\"dataframe\">\n",
       "  <thead>\n",
       "    <tr style=\"text-align: right;\">\n",
       "      <th></th>\n",
       "      <th></th>\n",
       "      <th></th>\n",
       "      <th></th>\n",
       "      <th>token_str</th>\n",
       "    </tr>\n",
       "    <tr>\n",
       "      <th>chap_num</th>\n",
       "      <th>para_num</th>\n",
       "      <th>sent_num</th>\n",
       "      <th>token_num</th>\n",
       "      <th></th>\n",
       "    </tr>\n",
       "  </thead>\n",
       "  <tbody>\n",
       "    <tr>\n",
       "      <th>25</th>\n",
       "      <th>34</th>\n",
       "      <th>3</th>\n",
       "      <th>8</th>\n",
       "      <td>the</td>\n",
       "    </tr>\n",
       "    <tr>\n",
       "      <th>22</th>\n",
       "      <th>18</th>\n",
       "      <th>13</th>\n",
       "      <th>2</th>\n",
       "      <td>become</td>\n",
       "    </tr>\n",
       "    <tr>\n",
       "      <th>14</th>\n",
       "      <th>10</th>\n",
       "      <th>2</th>\n",
       "      <th>5</th>\n",
       "      <td>cloud</td>\n",
       "    </tr>\n",
       "  </tbody>\n",
       "</table>\n",
       "</div>"
      ],
      "text/plain": [
       "                                     token_str\n",
       "chap_num para_num sent_num token_num          \n",
       "25       34       3        8               the\n",
       "22       18       13       2            become\n",
       "14       10       2        5             cloud"
      ]
     },
     "execution_count": 131,
     "metadata": {},
     "output_type": "execute_result"
    }
   ],
   "source": [
    "TOKENS.sample(3)"
   ]
  },
  {
   "cell_type": "code",
   "execution_count": 133,
   "id": "c9281444-4895-4738-aa38-2eb1e8b17fab",
   "metadata": {},
   "outputs": [],
   "source": [
    "## Generate VOCAB table\n",
    "\n",
    "TOKENS['term_str'] = TOKENS.token_str.replace(r'[\\W_]+', '', regex=True).str.lower()\n",
    "VOCAB = TOKENS.term_str.value_counts().to_frame('n').reset_index().rename(columns={'index':'term_str'})\n",
    "VOCAB.index.name = 'term_id'"
   ]
  },
  {
   "cell_type": "code",
   "execution_count": 141,
   "id": "75f40c9b-3973-479d-b9e5-9b97614b3d9a",
   "metadata": {},
   "outputs": [],
   "source": [
    "VOCAB['length'] = VOCAB['term_str'].str.len()\n",
    "VOCAB = VOCAB.set_index('term_str')"
   ]
  },
  {
   "cell_type": "code",
   "execution_count": 143,
   "id": "2efe1165-10da-4c08-ba81-b128471a230a",
   "metadata": {},
   "outputs": [
    {
     "data": {
      "text/html": [
       "<div>\n",
       "<style scoped>\n",
       "    .dataframe tbody tr th:only-of-type {\n",
       "        vertical-align: middle;\n",
       "    }\n",
       "\n",
       "    .dataframe tbody tr th {\n",
       "        vertical-align: top;\n",
       "    }\n",
       "\n",
       "    .dataframe thead th {\n",
       "        text-align: right;\n",
       "    }\n",
       "</style>\n",
       "<table border=\"1\" class=\"dataframe\">\n",
       "  <thead>\n",
       "    <tr style=\"text-align: right;\">\n",
       "      <th></th>\n",
       "      <th>n</th>\n",
       "      <th>length</th>\n",
       "    </tr>\n",
       "    <tr>\n",
       "      <th>term_str</th>\n",
       "      <th></th>\n",
       "      <th></th>\n",
       "    </tr>\n",
       "  </thead>\n",
       "  <tbody>\n",
       "    <tr>\n",
       "      <th>catastrophe</th>\n",
       "      <td>3</td>\n",
       "      <td>11</td>\n",
       "    </tr>\n",
       "    <tr>\n",
       "      <th>chimney</th>\n",
       "      <td>2</td>\n",
       "      <td>7</td>\n",
       "    </tr>\n",
       "    <tr>\n",
       "      <th>semblance</th>\n",
       "      <td>1</td>\n",
       "      <td>9</td>\n",
       "    </tr>\n",
       "  </tbody>\n",
       "</table>\n",
       "</div>"
      ],
      "text/plain": [
       "             n  length\n",
       "term_str              \n",
       "catastrophe  3      11\n",
       "chimney      2       7\n",
       "semblance    1       9"
      ]
     },
     "execution_count": 143,
     "metadata": {},
     "output_type": "execute_result"
    }
   ],
   "source": [
    "VOCAB.sample(3)"
   ]
  },
  {
   "cell_type": "markdown",
   "id": "9aafa1f9-2be2-4822-8675-600fa8a53b94",
   "metadata": {},
   "source": [
    "## Create a list of sentences from the TOKENS table and a list of terms from the VOCAB table.\n",
    "\n",
    "#### I don't understand what this is asking for?"
   ]
  },
  {
   "cell_type": "code",
   "execution_count": 153,
   "id": "1bad6416-b8f2-4fe2-ab92-8c087e7ebcbd",
   "metadata": {},
   "outputs": [
    {
     "data": {
      "text/html": [
       "<div>\n",
       "<style scoped>\n",
       "    .dataframe tbody tr th:only-of-type {\n",
       "        vertical-align: middle;\n",
       "    }\n",
       "\n",
       "    .dataframe tbody tr th {\n",
       "        vertical-align: top;\n",
       "    }\n",
       "\n",
       "    .dataframe thead th {\n",
       "        text-align: right;\n",
       "    }\n",
       "</style>\n",
       "<table border=\"1\" class=\"dataframe\">\n",
       "  <thead>\n",
       "    <tr style=\"text-align: right;\">\n",
       "      <th></th>\n",
       "      <th></th>\n",
       "      <th></th>\n",
       "      <th></th>\n",
       "      <th>token_str</th>\n",
       "      <th>term_str</th>\n",
       "    </tr>\n",
       "    <tr>\n",
       "      <th>chap_num</th>\n",
       "      <th>para_num</th>\n",
       "      <th>sent_num</th>\n",
       "      <th>token_num</th>\n",
       "      <th></th>\n",
       "      <th></th>\n",
       "    </tr>\n",
       "  </thead>\n",
       "  <tbody>\n",
       "    <tr>\n",
       "      <th rowspan=\"5\" valign=\"top\">1</th>\n",
       "      <th rowspan=\"5\" valign=\"top\">0</th>\n",
       "      <th rowspan=\"5\" valign=\"top\">0</th>\n",
       "      <th>0</th>\n",
       "      <td>The</td>\n",
       "      <td>the</td>\n",
       "    </tr>\n",
       "    <tr>\n",
       "      <th>1</th>\n",
       "      <td>event</td>\n",
       "      <td>event</td>\n",
       "    </tr>\n",
       "    <tr>\n",
       "      <th>2</th>\n",
       "      <td>on</td>\n",
       "      <td>on</td>\n",
       "    </tr>\n",
       "    <tr>\n",
       "      <th>3</th>\n",
       "      <td>which</td>\n",
       "      <td>which</td>\n",
       "    </tr>\n",
       "    <tr>\n",
       "      <th>4</th>\n",
       "      <td>this</td>\n",
       "      <td>this</td>\n",
       "    </tr>\n",
       "  </tbody>\n",
       "</table>\n",
       "</div>"
      ],
      "text/plain": [
       "                                     token_str term_str\n",
       "chap_num para_num sent_num token_num                   \n",
       "1        0        0        0               The      the\n",
       "                           1             event    event\n",
       "                           2                on       on\n",
       "                           3             which    which\n",
       "                           4              this     this"
      ]
     },
     "execution_count": 153,
     "metadata": {},
     "output_type": "execute_result"
    }
   ],
   "source": [
    "TOKENS.head()"
   ]
  },
  {
   "cell_type": "code",
   "execution_count": 155,
   "id": "2cbb4b87-4884-41b6-b57d-7c527854ea35",
   "metadata": {},
   "outputs": [
    {
     "data": {
      "text/html": [
       "<div>\n",
       "<style scoped>\n",
       "    .dataframe tbody tr th:only-of-type {\n",
       "        vertical-align: middle;\n",
       "    }\n",
       "\n",
       "    .dataframe tbody tr th {\n",
       "        vertical-align: top;\n",
       "    }\n",
       "\n",
       "    .dataframe thead th {\n",
       "        text-align: right;\n",
       "    }\n",
       "</style>\n",
       "<table border=\"1\" class=\"dataframe\">\n",
       "  <thead>\n",
       "    <tr style=\"text-align: right;\">\n",
       "      <th></th>\n",
       "      <th>n</th>\n",
       "      <th>length</th>\n",
       "    </tr>\n",
       "    <tr>\n",
       "      <th>term_str</th>\n",
       "      <th></th>\n",
       "      <th></th>\n",
       "    </tr>\n",
       "  </thead>\n",
       "  <tbody>\n",
       "    <tr>\n",
       "      <th>the</th>\n",
       "      <td>4250</td>\n",
       "      <td>3</td>\n",
       "    </tr>\n",
       "    <tr>\n",
       "      <th>and</th>\n",
       "      <td>2993</td>\n",
       "      <td>3</td>\n",
       "    </tr>\n",
       "    <tr>\n",
       "      <th>i</th>\n",
       "      <td>2859</td>\n",
       "      <td>1</td>\n",
       "    </tr>\n",
       "    <tr>\n",
       "      <th>of</th>\n",
       "      <td>2684</td>\n",
       "      <td>2</td>\n",
       "    </tr>\n",
       "    <tr>\n",
       "      <th>to</th>\n",
       "      <td>2119</td>\n",
       "      <td>2</td>\n",
       "    </tr>\n",
       "  </tbody>\n",
       "</table>\n",
       "</div>"
      ],
      "text/plain": [
       "             n  length\n",
       "term_str              \n",
       "the       4250       3\n",
       "and       2993       3\n",
       "i         2859       1\n",
       "of        2684       2\n",
       "to        2119       2"
      ]
     },
     "execution_count": 155,
     "metadata": {},
     "output_type": "execute_result"
    }
   ],
   "source": [
    "VOCAB.head()"
   ]
  },
  {
   "cell_type": "code",
   "execution_count": 157,
   "id": "b6c6aa60-1b79-4706-a5c7-209b85b08959",
   "metadata": {},
   "outputs": [],
   "source": [
    "def token_to_padded(token, grouper=['sent_num'], term_str='term_str'):\n",
    "    ohco = token.index.names # We preserve these since they get lost in the shuffle\n",
    "    padded = token.groupby(grouper)\\\n",
    "        .apply(lambda x: '<s> ' + ' '.join(x[term_str]) + ' </s>')\\\n",
    "        .apply(lambda x: pd.Series(x.split()))\\\n",
    "        .stack().to_frame('term_str')\n",
    "    padded.index.names = ohco\n",
    "    return padded"
   ]
  },
  {
   "cell_type": "code",
   "execution_count": 171,
   "id": "5bf9d839-e1a5-4b4f-9321-8a05582d46b9",
   "metadata": {},
   "outputs": [],
   "source": [
    "PADDED = token_to_padded(TOKENS, grouper=OHCO[:3], term_str='term_str')"
   ]
  },
  {
   "cell_type": "code",
   "execution_count": 179,
   "id": "c9e9b053-c1af-4d37-ade9-617894099fa2",
   "metadata": {},
   "outputs": [
    {
     "data": {
      "text/html": [
       "<div>\n",
       "<style scoped>\n",
       "    .dataframe tbody tr th:only-of-type {\n",
       "        vertical-align: middle;\n",
       "    }\n",
       "\n",
       "    .dataframe tbody tr th {\n",
       "        vertical-align: top;\n",
       "    }\n",
       "\n",
       "    .dataframe thead th {\n",
       "        text-align: right;\n",
       "    }\n",
       "</style>\n",
       "<table border=\"1\" class=\"dataframe\">\n",
       "  <thead>\n",
       "    <tr style=\"text-align: right;\">\n",
       "      <th></th>\n",
       "      <th></th>\n",
       "      <th></th>\n",
       "      <th></th>\n",
       "      <th>term_str</th>\n",
       "    </tr>\n",
       "    <tr>\n",
       "      <th>chap_num</th>\n",
       "      <th>para_num</th>\n",
       "      <th>sent_num</th>\n",
       "      <th>token_num</th>\n",
       "      <th></th>\n",
       "    </tr>\n",
       "  </thead>\n",
       "  <tbody>\n",
       "    <tr>\n",
       "      <th rowspan=\"5\" valign=\"top\">1</th>\n",
       "      <th rowspan=\"5\" valign=\"top\">0</th>\n",
       "      <th rowspan=\"5\" valign=\"top\">0</th>\n",
       "      <th>0</th>\n",
       "      <td>&lt;s&gt;</td>\n",
       "    </tr>\n",
       "    <tr>\n",
       "      <th>1</th>\n",
       "      <td>the</td>\n",
       "    </tr>\n",
       "    <tr>\n",
       "      <th>2</th>\n",
       "      <td>event</td>\n",
       "    </tr>\n",
       "    <tr>\n",
       "      <th>3</th>\n",
       "      <td>on</td>\n",
       "    </tr>\n",
       "    <tr>\n",
       "      <th>4</th>\n",
       "      <td>which</td>\n",
       "    </tr>\n",
       "  </tbody>\n",
       "</table>\n",
       "</div>"
      ],
      "text/plain": [
       "                                     term_str\n",
       "chap_num para_num sent_num token_num         \n",
       "1        0        0        0              <s>\n",
       "                           1              the\n",
       "                           2            event\n",
       "                           3               on\n",
       "                           4            which"
      ]
     },
     "execution_count": 179,
     "metadata": {},
     "output_type": "execute_result"
    }
   ],
   "source": [
    "PADDED.head()"
   ]
  },
  {
   "cell_type": "markdown",
   "id": "dece6aa8-0686-4ad4-969c-29532ddb948f",
   "metadata": {},
   "source": [
    "## Generate ngram type tables and models, going up to the trigram level."
   ]
  },
  {
   "cell_type": "code",
   "execution_count": 188,
   "id": "8e32b73b-a744-405a-8724-b44ca1f77592",
   "metadata": {},
   "outputs": [],
   "source": [
    "ngrams = 3\n",
    "widx = [f\"w{i}\" for i in range(ngrams)]"
   ]
  },
  {
   "cell_type": "code",
   "execution_count": 184,
   "id": "058fd6c5-070b-4b5f-9529-59c308aecc91",
   "metadata": {},
   "outputs": [],
   "source": [
    "def padded_to_ngrams(padded, grouper=['sent_num'], n=2):\n",
    "    \n",
    "    ohco = padded.index.names\n",
    "    ngrams = padded.groupby(grouper)\\\n",
    "        .apply(lambda x: pd.concat([x.shift(0-i) for i in range(n)], axis=1))\\\n",
    "        .reset_index(drop=True)\n",
    "    ngrams.index = padded.index\n",
    "    ngrams.columns = widx\n",
    "\n",
    "    # ngrams = pd.concat([padded.shift(0-i) for i in range(n)], axis=1)\n",
    "    # ngrams.index.name = 'ngram_num'\n",
    "    # ngrams.columns = widx\n",
    "    # ngrams = ngrams.fillna('<EOF>')\n",
    "    \n",
    "    return ngrams"
   ]
  },
  {
   "cell_type": "code",
   "execution_count": 190,
   "id": "96b04151-0808-4430-8bbf-f86df0f1ab1a",
   "metadata": {},
   "outputs": [],
   "source": [
    "NGRAMS = padded_to_ngrams(PADDED, OHCO[:3], n=ngrams)"
   ]
  },
  {
   "cell_type": "code",
   "execution_count": 208,
   "id": "e6d22a5f-407d-4cdf-8f6d-b0092ead646d",
   "metadata": {},
   "outputs": [
    {
     "data": {
      "text/html": [
       "<div>\n",
       "<style scoped>\n",
       "    .dataframe tbody tr th:only-of-type {\n",
       "        vertical-align: middle;\n",
       "    }\n",
       "\n",
       "    .dataframe tbody tr th {\n",
       "        vertical-align: top;\n",
       "    }\n",
       "\n",
       "    .dataframe thead th {\n",
       "        text-align: right;\n",
       "    }\n",
       "</style>\n",
       "<table border=\"1\" class=\"dataframe\">\n",
       "  <thead>\n",
       "    <tr style=\"text-align: right;\">\n",
       "      <th></th>\n",
       "      <th></th>\n",
       "      <th></th>\n",
       "      <th></th>\n",
       "      <th>w0</th>\n",
       "      <th>w1</th>\n",
       "      <th>w2</th>\n",
       "    </tr>\n",
       "    <tr>\n",
       "      <th>chap_num</th>\n",
       "      <th>para_num</th>\n",
       "      <th>sent_num</th>\n",
       "      <th>token_num</th>\n",
       "      <th></th>\n",
       "      <th></th>\n",
       "      <th></th>\n",
       "    </tr>\n",
       "  </thead>\n",
       "  <tbody>\n",
       "    <tr>\n",
       "      <th rowspan=\"5\" valign=\"top\">1</th>\n",
       "      <th rowspan=\"5\" valign=\"top\">0</th>\n",
       "      <th rowspan=\"5\" valign=\"top\">0</th>\n",
       "      <th>0</th>\n",
       "      <td>&lt;s&gt;</td>\n",
       "      <td>the</td>\n",
       "      <td>event</td>\n",
       "    </tr>\n",
       "    <tr>\n",
       "      <th>1</th>\n",
       "      <td>the</td>\n",
       "      <td>event</td>\n",
       "      <td>on</td>\n",
       "    </tr>\n",
       "    <tr>\n",
       "      <th>2</th>\n",
       "      <td>event</td>\n",
       "      <td>on</td>\n",
       "      <td>which</td>\n",
       "    </tr>\n",
       "    <tr>\n",
       "      <th>3</th>\n",
       "      <td>on</td>\n",
       "      <td>which</td>\n",
       "      <td>this</td>\n",
       "    </tr>\n",
       "    <tr>\n",
       "      <th>4</th>\n",
       "      <td>which</td>\n",
       "      <td>this</td>\n",
       "      <td>fiction</td>\n",
       "    </tr>\n",
       "  </tbody>\n",
       "</table>\n",
       "</div>"
      ],
      "text/plain": [
       "                                         w0     w1       w2\n",
       "chap_num para_num sent_num token_num                       \n",
       "1        0        0        0            <s>    the    event\n",
       "                           1            the  event       on\n",
       "                           2          event     on    which\n",
       "                           3             on  which     this\n",
       "                           4          which   this  fiction"
      ]
     },
     "execution_count": 208,
     "metadata": {},
     "output_type": "execute_result"
    }
   ],
   "source": [
    "NGRAMS.head()"
   ]
  },
  {
   "cell_type": "code",
   "execution_count": 194,
   "id": "279ecbb5-5216-41eb-8831-efada46a6a7b",
   "metadata": {},
   "outputs": [],
   "source": [
    "def ngrams_to_models(ngrams):\n",
    "    global widx\n",
    "    n = len(ngrams.columns)\n",
    "    model = [None for i in range(n)]\n",
    "    for i in range(n):\n",
    "        if i == 0:\n",
    "            model[i] = ngrams.value_counts('w0').to_frame('n')\n",
    "            model[i]['p'] = model[i].n / model[i].n.sum()\n",
    "            model[i]['i'] = np.log2(1/model[i].p)\n",
    "        else:\n",
    "            model[i] = ngrams.value_counts(widx[:i+1]).to_frame('n')    \n",
    "            model[i]['cp'] = model[i].n / model[i-1].n\n",
    "            model[i]['i'] = np.log2(1/model[i].cp)\n",
    "        model[i] = model[i].sort_index()\n",
    "    return model"
   ]
  },
  {
   "cell_type": "code",
   "execution_count": 196,
   "id": "e93b4788-5479-43a8-80d0-6dfba4da0e1e",
   "metadata": {},
   "outputs": [],
   "source": [
    "M = ngrams_to_models(NGRAMS)"
   ]
  },
  {
   "cell_type": "code",
   "execution_count": 206,
   "id": "92228b70-3f19-4182-9842-b966c459a6ef",
   "metadata": {},
   "outputs": [
    {
     "data": {
      "text/html": [
       "<div>\n",
       "<style scoped>\n",
       "    .dataframe tbody tr th:only-of-type {\n",
       "        vertical-align: middle;\n",
       "    }\n",
       "\n",
       "    .dataframe tbody tr th {\n",
       "        vertical-align: top;\n",
       "    }\n",
       "\n",
       "    .dataframe thead th {\n",
       "        text-align: right;\n",
       "    }\n",
       "</style>\n",
       "<table border=\"1\" class=\"dataframe\">\n",
       "  <thead>\n",
       "    <tr style=\"text-align: right;\">\n",
       "      <th></th>\n",
       "      <th></th>\n",
       "      <th></th>\n",
       "      <th>n</th>\n",
       "      <th>cp</th>\n",
       "      <th>i</th>\n",
       "    </tr>\n",
       "    <tr>\n",
       "      <th>w0</th>\n",
       "      <th>w1</th>\n",
       "      <th>w2</th>\n",
       "      <th></th>\n",
       "      <th></th>\n",
       "      <th></th>\n",
       "    </tr>\n",
       "  </thead>\n",
       "  <tbody>\n",
       "    <tr>\n",
       "      <th rowspan=\"2\" valign=\"top\">11th</th>\n",
       "      <th>17</th>\n",
       "      <th>&lt;/s&gt;</th>\n",
       "      <td>1</td>\n",
       "      <td>1.0</td>\n",
       "      <td>0.0</td>\n",
       "    </tr>\n",
       "    <tr>\n",
       "      <th>the</th>\n",
       "      <th>passage</th>\n",
       "      <td>1</td>\n",
       "      <td>1.0</td>\n",
       "      <td>0.0</td>\n",
       "    </tr>\n",
       "    <tr>\n",
       "      <th>12th</th>\n",
       "      <th>17</th>\n",
       "      <th>&lt;/s&gt;</th>\n",
       "      <td>1</td>\n",
       "      <td>1.0</td>\n",
       "      <td>0.0</td>\n",
       "    </tr>\n",
       "    <tr>\n",
       "      <th>13th</th>\n",
       "      <th>17</th>\n",
       "      <th>&lt;/s&gt;</th>\n",
       "      <td>1</td>\n",
       "      <td>1.0</td>\n",
       "      <td>0.0</td>\n",
       "    </tr>\n",
       "    <tr>\n",
       "      <th>1816</th>\n",
       "      <th>in</th>\n",
       "      <th>the</th>\n",
       "      <td>1</td>\n",
       "      <td>1.0</td>\n",
       "      <td>0.0</td>\n",
       "    </tr>\n",
       "  </tbody>\n",
       "</table>\n",
       "</div>"
      ],
      "text/plain": [
       "                  n   cp    i\n",
       "w0   w1  w2                  \n",
       "11th 17  </s>     1  1.0  0.0\n",
       "     the passage  1  1.0  0.0\n",
       "12th 17  </s>     1  1.0  0.0\n",
       "13th 17  </s>     1  1.0  0.0\n",
       "1816 in  the      1  1.0  0.0"
      ]
     },
     "execution_count": 206,
     "metadata": {},
     "output_type": "execute_result"
    }
   ],
   "source": [
    "M[2].head()"
   ]
  },
  {
   "cell_type": "markdown",
   "id": "0fb90365-fc1d-40d3-b102-7f76ac080cd3",
   "metadata": {},
   "source": [
    "## Questions:"
   ]
  },
  {
   "cell_type": "markdown",
   "id": "1fee0289-b422-45a8-974f-87709323c7a0",
   "metadata": {},
   "source": [
    "#### 1. List six words that precede the word \"monster,\" excluding stop words (and sentence boundary markers). Stop words include 'a', 'an', 'the', 'this', 'that', etc. Hint: use the df.query() method."
   ]
  },
  {
   "cell_type": "code",
   "execution_count": 224,
   "id": "016fff7f-12e5-4ffb-9827-d2fb23862bc7",
   "metadata": {},
   "outputs": [],
   "source": [
    "stop_words = {'a', 'an', 'the', 'this', 'that', 'is', 'of', 'in', 'to', 'and', 'on', 'for', 'with', 'as', 'by'}\n",
    "\n",
    "# Extract preceding words from bigrams\n",
    "preceding_words = NGRAMS.query('w2 == \"monster\"')['w1']\n",
    "\n",
    "filtered_words = [word for word in preceding_words if word.lower() not in stop_words]"
   ]
  },
  {
   "cell_type": "code",
   "execution_count": 226,
   "id": "9ce986f2-46cb-4a05-a1fb-b1d3ee511b3b",
   "metadata": {},
   "outputs": [
    {
     "data": {
      "text/plain": [
       "['miserable', 'abhorred', 'detestable', 'hideous', 'hellish', 'gigantic']"
      ]
     },
     "execution_count": 226,
     "metadata": {},
     "output_type": "execute_result"
    }
   ],
   "source": [
    "filtered_words"
   ]
  },
  {
   "cell_type": "markdown",
   "id": "dd0fa6a7-4283-481d-acd6-84d1c3816d3f",
   "metadata": {},
   "source": [
    "#### 2. List the following sentences in ascending order of bigram perplexity according to the language model generated from the text:\n",
    "\n",
    "- The monster is on the ice.\n",
    "- Flowers are happy things.\n",
    "- I have never seen the aurora borealis.\n",
    "- He never knew the love of a family."
   ]
  },
  {
   "cell_type": "code",
   "execution_count": 248,
   "id": "7166a8eb-df73-40de-aa81-d7db3c37fb26",
   "metadata": {},
   "outputs": [],
   "source": [
    "test_sents = ['the monster is on the ice',\n",
    "             'flowers are happy things',\n",
    "             'i have never seen the aurora borealis',\n",
    "             'he never knew the love of a family']\n",
    "test_sents = pd.DataFrame(test_sents)\n",
    "test_sents.index.name = 'sent_num'\n",
    "test_sents.columns = ['sent_str']"
   ]
  },
  {
   "cell_type": "code",
   "execution_count": 250,
   "id": "1131ae3d-c98d-4257-b99f-5dcf2715ed55",
   "metadata": {},
   "outputs": [
    {
     "data": {
      "text/html": [
       "<div>\n",
       "<style scoped>\n",
       "    .dataframe tbody tr th:only-of-type {\n",
       "        vertical-align: middle;\n",
       "    }\n",
       "\n",
       "    .dataframe tbody tr th {\n",
       "        vertical-align: top;\n",
       "    }\n",
       "\n",
       "    .dataframe thead th {\n",
       "        text-align: right;\n",
       "    }\n",
       "</style>\n",
       "<table border=\"1\" class=\"dataframe\">\n",
       "  <thead>\n",
       "    <tr style=\"text-align: right;\">\n",
       "      <th></th>\n",
       "      <th>sent_str</th>\n",
       "    </tr>\n",
       "    <tr>\n",
       "      <th>sent_num</th>\n",
       "      <th></th>\n",
       "    </tr>\n",
       "  </thead>\n",
       "  <tbody>\n",
       "    <tr>\n",
       "      <th>0</th>\n",
       "      <td>the monster is on the ice</td>\n",
       "    </tr>\n",
       "    <tr>\n",
       "      <th>1</th>\n",
       "      <td>flowers are happy things</td>\n",
       "    </tr>\n",
       "    <tr>\n",
       "      <th>2</th>\n",
       "      <td>i have never seen the aurora borealis</td>\n",
       "    </tr>\n",
       "    <tr>\n",
       "      <th>3</th>\n",
       "      <td>he never knew the love of a family</td>\n",
       "    </tr>\n",
       "  </tbody>\n",
       "</table>\n",
       "</div>"
      ],
      "text/plain": [
       "                                       sent_str\n",
       "sent_num                                       \n",
       "0                     the monster is on the ice\n",
       "1                      flowers are happy things\n",
       "2         i have never seen the aurora borealis\n",
       "3            he never knew the love of a family"
      ]
     },
     "execution_count": 250,
     "metadata": {},
     "output_type": "execute_result"
    }
   ],
   "source": [
    "test_sents"
   ]
  },
  {
   "cell_type": "code",
   "execution_count": 252,
   "id": "3eee40eb-349d-455f-aa2a-de5f17954677",
   "metadata": {},
   "outputs": [],
   "source": [
    "def test_model(model, ngrams, sents):\n",
    "    \n",
    "    global widx\n",
    "    \n",
    "    assert len(model) == len(ngrams.columns)\n",
    "    \n",
    "    n = len(model)\n",
    "    ohco = ngrams.index.names\n",
    "    \n",
    "    R = []\n",
    "    for i in range(n):\n",
    "        T = ngrams.merge(M[i], on=widx[:i+1], how='left')\n",
    "        T.index = ngrams.index\n",
    "        T = T.reset_index().set_index(ohco + widx).i #.to_frame(f\"i{i}\")\n",
    "        \n",
    "        # This how we handle unseen combos\n",
    "        T[T.isna()] = T.max()\n",
    "        R.append(T.to_frame(f\"i{i}\"))\n",
    "                \n",
    "    return pd.concat(R, axis=1)"
   ]
  },
  {
   "cell_type": "code",
   "execution_count": 258,
   "id": "73822f8b-6f96-4527-91c4-54737c4cd91a",
   "metadata": {},
   "outputs": [],
   "source": [
    "R = test_model(M, NGRAMS, test_sents)"
   ]
  },
  {
   "cell_type": "code",
   "execution_count": 260,
   "id": "87a68824-8a1f-425c-af8c-4cbc4c8f3358",
   "metadata": {},
   "outputs": [],
   "source": [
    "def compute_perplexity(results, test_sents, n=3):\n",
    "    for i in range(n):\n",
    "        test_sents[f\"pp{i}\"] = np.exp2(results.groupby('sent_num')[f\"i{i}\"].mean())\n",
    "    return test_sents"
   ]
  },
  {
   "cell_type": "code",
   "execution_count": 262,
   "id": "49df5b13-6043-48fc-9b71-f6baea6c0b3b",
   "metadata": {},
   "outputs": [],
   "source": [
    "PP = compute_perplexity(R, test_sents)"
   ]
  },
  {
   "cell_type": "code",
   "execution_count": 264,
   "id": "b418c185-dbe7-40b4-943d-d6ebdb2c5dc6",
   "metadata": {},
   "outputs": [
    {
     "data": {
      "text/html": [
       "<div>\n",
       "<style scoped>\n",
       "    .dataframe tbody tr th:only-of-type {\n",
       "        vertical-align: middle;\n",
       "    }\n",
       "\n",
       "    .dataframe tbody tr th {\n",
       "        vertical-align: top;\n",
       "    }\n",
       "\n",
       "    .dataframe thead th {\n",
       "        text-align: right;\n",
       "    }\n",
       "</style>\n",
       "<table border=\"1\" class=\"dataframe\">\n",
       "  <thead>\n",
       "    <tr style=\"text-align: right;\">\n",
       "      <th></th>\n",
       "      <th>sent_str</th>\n",
       "      <th>pp0</th>\n",
       "      <th>pp1</th>\n",
       "      <th>pp2</th>\n",
       "    </tr>\n",
       "    <tr>\n",
       "      <th>sent_num</th>\n",
       "      <th></th>\n",
       "      <th></th>\n",
       "      <th></th>\n",
       "      <th></th>\n",
       "    </tr>\n",
       "  </thead>\n",
       "  <tbody>\n",
       "    <tr>\n",
       "      <th>0</th>\n",
       "      <td>the monster is on the ice</td>\n",
       "      <td>440.981155</td>\n",
       "      <td>46.227546</td>\n",
       "      <td>6.924685</td>\n",
       "    </tr>\n",
       "    <tr>\n",
       "      <th>1</th>\n",
       "      <td>flowers are happy things</td>\n",
       "      <td>450.465890</td>\n",
       "      <td>45.964740</td>\n",
       "      <td>6.555687</td>\n",
       "    </tr>\n",
       "    <tr>\n",
       "      <th>2</th>\n",
       "      <td>i have never seen the aurora borealis</td>\n",
       "      <td>450.926586</td>\n",
       "      <td>45.953661</td>\n",
       "      <td>6.451554</td>\n",
       "    </tr>\n",
       "    <tr>\n",
       "      <th>3</th>\n",
       "      <td>he never knew the love of a family</td>\n",
       "      <td>442.846258</td>\n",
       "      <td>46.221218</td>\n",
       "      <td>6.643836</td>\n",
       "    </tr>\n",
       "  </tbody>\n",
       "</table>\n",
       "</div>"
      ],
      "text/plain": [
       "                                       sent_str         pp0        pp1  \\\n",
       "sent_num                                                                 \n",
       "0                     the monster is on the ice  440.981155  46.227546   \n",
       "1                      flowers are happy things  450.465890  45.964740   \n",
       "2         i have never seen the aurora borealis  450.926586  45.953661   \n",
       "3            he never knew the love of a family  442.846258  46.221218   \n",
       "\n",
       "               pp2  \n",
       "sent_num            \n",
       "0         6.924685  \n",
       "1         6.555687  \n",
       "2         6.451554  \n",
       "3         6.643836  "
      ]
     },
     "execution_count": 264,
     "metadata": {},
     "output_type": "execute_result"
    }
   ],
   "source": [
    "PP"
   ]
  },
  {
   "cell_type": "markdown",
   "id": "9bb66c3f-a03e-4547-996d-7f64834a66ed",
   "metadata": {},
   "source": [
    "In ascending order:\n",
    "\n",
    "- i have never seen the aurora borealis\n",
    "- flowers are happy things\n",
    "- he never knew the love of a family\n",
    "- the monster is on the ice"
   ]
  },
  {
   "cell_type": "markdown",
   "id": "8361e591-bd6f-4fa6-9370-d7c90f5111dd",
   "metadata": {},
   "source": [
    "#### 3. Using the bigram model represented as a matrix, explore the relationship between bigram pairs using the following lists. Hint: use the .unstack() method on the feature n and then use .loc[] to select the first list from the index, and the second list from the columns.\n",
    "\n",
    "- ['he','she'] to select the indices.\n",
    "- ['said','heard'] to select the columns"
   ]
  },
  {
   "cell_type": "code",
   "execution_count": 310,
   "id": "848b6126-cc6d-4808-b51d-2e7199138237",
   "metadata": {},
   "outputs": [
    {
     "data": {
      "text/html": [
       "<div>\n",
       "<style scoped>\n",
       "    .dataframe tbody tr th:only-of-type {\n",
       "        vertical-align: middle;\n",
       "    }\n",
       "\n",
       "    .dataframe tbody tr th {\n",
       "        vertical-align: top;\n",
       "    }\n",
       "\n",
       "    .dataframe thead th {\n",
       "        text-align: right;\n",
       "    }\n",
       "</style>\n",
       "<table border=\"1\" class=\"dataframe\">\n",
       "  <thead>\n",
       "    <tr style=\"text-align: right;\">\n",
       "      <th>w1</th>\n",
       "      <th>said</th>\n",
       "      <th>heard</th>\n",
       "    </tr>\n",
       "    <tr>\n",
       "      <th>w0</th>\n",
       "      <th></th>\n",
       "      <th></th>\n",
       "    </tr>\n",
       "  </thead>\n",
       "  <tbody>\n",
       "    <tr>\n",
       "      <th>he</th>\n",
       "      <td>21.0</td>\n",
       "      <td>5.0</td>\n",
       "    </tr>\n",
       "    <tr>\n",
       "      <th>she</th>\n",
       "      <td>3.0</td>\n",
       "      <td>3.0</td>\n",
       "    </tr>\n",
       "  </tbody>\n",
       "</table>\n",
       "</div>"
      ],
      "text/plain": [
       "w1   said  heard\n",
       "w0              \n",
       "he   21.0    5.0\n",
       "she   3.0    3.0"
      ]
     },
     "execution_count": 310,
     "metadata": {},
     "output_type": "execute_result"
    }
   ],
   "source": [
    "M[1].n.unstack().loc[['he','she'],['said','heard']]"
   ]
  },
  {
   "cell_type": "markdown",
   "id": "9059d903-e101-40a3-ad53-367dbe115b4b",
   "metadata": {},
   "source": [
    "It looks like 'he said' is a common bigram pair. "
   ]
  },
  {
   "cell_type": "markdown",
   "id": "64e3f4c3-fd8d-4178-bf75-07d2a8610e3c",
   "metadata": {},
   "source": [
    "#### 4. Generate 20 sentences using the generate_text() function. Display the results."
   ]
  },
  {
   "cell_type": "code",
   "execution_count": 278,
   "id": "bc9372e5-6b63-4382-9bac-9e6f364814d3",
   "metadata": {},
   "outputs": [],
   "source": [
    "def generate_text(M, n=250):\n",
    "    \n",
    "    if len(M) < 3:\n",
    "        raise ValueError(\"Must have trigram model generated.\")\n",
    "    \n",
    "    # Start list of words\n",
    "    first_word = M[1].loc['<s>'].sample(weights='cp').index[0]\n",
    "    \n",
    "    words = ['<s>', first_word]\n",
    "    \n",
    "    for i in range(n):\n",
    "        \n",
    "        bg = tuple(words[-2:])\n",
    "\n",
    "        # Try trigram model\n",
    "        try:\n",
    "            next_word = M[2].loc[bg].sample(weights='cp').index[0]\n",
    "\n",
    "        # If not found in model, back off ...\n",
    "        except KeyError as e1:\n",
    "            try:\n",
    "                # Get the last word in the bigram\n",
    "                ug = bg[1]\n",
    "                next_word = M[1].loc[ug].sample(weights='cp').index[0]\n",
    "            \n",
    "            except KeyError as e2:\n",
    "                next_word = M[0].sample(weights='p').index[0]\n",
    "                \n",
    "        words.append(next_word)\n",
    "    \n",
    "    \n",
    "    text = ' '.join(words[2:])\n",
    "    print('\\n\\n'.join([str(i+1) + ' ' + line.replace('<s>','')\\\n",
    "        .strip().upper() for i, line in enumerate(text.split('</s>'))]))"
   ]
  },
  {
   "cell_type": "code",
   "execution_count": 292,
   "id": "df8db310-cb01-4a3f-9ce2-1c8d7e07fcae",
   "metadata": {},
   "outputs": [
    {
     "name": "stdout",
     "output_type": "stream",
     "text": [
      "1 RESOLVED NOT TO JOIN HIM\n",
      "\n",
      "2 JUSTINE WERE ASSASSINATED AND THE YOUTH JOINED HER WHO SUFFERED THROUGH ME\n",
      "\n",
      "3 \n",
      "\n",
      "4 EVERY CONVERSATION OF THE UNEASINESS OF THIS OPINION\n",
      "\n",
      "5 TREMBLE\n",
      "\n",
      "6 LABOUR WAS ALREADY ONE IN MY MEMORY AND I WILL RELATE HER HISTORY THEREFORE IN THIS MANNER\n",
      "\n",
      "7 BELONGED TO HER ON THE SHOULDER AND I WAS BENEVOLENT\n",
      "\n",
      "8 \n",
      "\n",
      "9 I HAD WALKED WITH CAUTION\n",
      "\n",
      "10 THIS SACRIFICE\n",
      "\n",
      "11 UNSATISFACTORY\n",
      "\n",
      "12 GREECE SHAKSPEARE IN THE HALL OF OUR COUNTRY HAVE PRODUCED IT YET THE TALE WAS QUICKLY RESTORED BY THE COFFIN HIS FACE WAS CONCEALED BY LONG LOCKS OF RAGGED HAIR\n",
      "\n",
      "13 CREATURES WERE MISERABLE IT WAS IMPOSSIBLE TO COMMUNICATE TO YOU THE AGONY OF MY HEART SINK WITHIN ME DIED IN HER HIDING PLACES TO SEEK FOR KNOWLEDGE AND WISDOM AS I SAID LITTLE\n",
      "\n",
      "14 FROM THE OUT HOUSE WHERE TO HIS SISTER ESPECIALLY WHEN HE SPOKE I READ\n",
      "\n",
      "15 SPIRITS BECAME UNEQUAL\n",
      "\n",
      "16 THAT I WAS AT ONCE\n",
      "\n",
      "17 LITTLE CHANCE OF MEETING\n",
      "\n",
      "18 THEY WERE NOT THE WITNESS OF HIS CHILDREN I COULD GIVE ME ON ALL THAT AFFECTION WHICH A PRISON CANNOT BE CONCEIVED AS EXISTING ALWAYS IN MY NECK AND BOWING ME TO LEAN ON A COMMON AND READ NOTHING BUT LET US CHANGE THE SUBJECT IN WHICH I DID NOT DARE RETURN TO THE SOUL BOTH OF HOPE AND ANTICIPATIONS OF JOY\n",
      "\n",
      "19 SEVERAL ACCIDENTS WINTER AND THE MONSTER THAT HE FOUND THE FATHER OF SAFIE WHO SICKENED AT THE VERY RESEMBLANCE\n",
      "\n",
      "20 RENDER ME THE GREATEST AFFABILITY AND KINDNESS\n",
      "\n",
      "21 BY DWELLING ON THESE DESERT SEAS I HAVE BEEN THE CAUSE OF HIS MARRIAGE ILLUSTRATE HIS CHARACTER CONTAINED NO PRETENSION BUT IT WAS YOUR JOURNAL OF WHAT USE WOULD BE MY LIBERTY EXCEPT THAT IN DOING THIS I WAS PERFECTLY UNACQUAINTED WITH\n"
     ]
    }
   ],
   "source": [
    "generate_text(M, 300)"
   ]
  },
  {
   "cell_type": "markdown",
   "id": "e11ee407-6fb7-48cb-9ca2-813cfbf44205",
   "metadata": {},
   "source": [
    "#### 5."
   ]
  },
  {
   "cell_type": "code",
   "execution_count": 333,
   "id": "f60a04b2-111c-4ac1-a18e-154734ba50eb",
   "metadata": {},
   "outputs": [],
   "source": [
    "M[1]['p'] = M[1].n /  M[1].n.sum()\n",
    "M[2]['p'] = M[2].n /  M[2].n.sum()"
   ]
  },
  {
   "cell_type": "code",
   "execution_count": 364,
   "id": "706d3424-1a62-4a7a-85d0-d13261020215",
   "metadata": {},
   "outputs": [
    {
     "data": {
      "text/plain": [
       "0.3089912730771178"
      ]
     },
     "execution_count": 364,
     "metadata": {},
     "output_type": "execute_result"
    }
   ],
   "source": [
    "## Unigram model\n",
    "\n",
    "H = sum(M[0].p * np.log2(1 / M[0].p))\n",
    "Hmax = np.log2(len(M[0].index)**1)\n",
    "R = 1 - (H / Hmax)\n",
    "R"
   ]
  },
  {
   "cell_type": "code",
   "execution_count": 368,
   "id": "f5fc6bd3-52ee-454f-8f15-9481bbb35ef2",
   "metadata": {},
   "outputs": [
    {
     "data": {
      "text/plain": [
       "0.5388229906327178"
      ]
     },
     "execution_count": 368,
     "metadata": {},
     "output_type": "execute_result"
    }
   ],
   "source": [
    "## Bigram model\n",
    "\n",
    "H = sum(M[1].p * np.log2(1 / M[1].p))\n",
    "Hmax = np.log2(len(M[1].index)**2)\n",
    "R = 1 - (H / Hmax)\n",
    "R"
   ]
  },
  {
   "cell_type": "code",
   "execution_count": 370,
   "id": "17ccb97d-528c-4844-ae4a-d0a93df2e7a3",
   "metadata": {},
   "outputs": [
    {
     "data": {
      "text/plain": [
       "0.6705947570115205"
      ]
     },
     "execution_count": 370,
     "metadata": {},
     "output_type": "execute_result"
    }
   ],
   "source": [
    "## Trigram model\n",
    "\n",
    "H = sum(M[2].p * np.log2(1 / M[2].p))\n",
    "Hmax = np.log2(len(M[2].index)**3)\n",
    "R = 1 - (H / Hmax)\n",
    "R"
   ]
  },
  {
   "cell_type": "markdown",
   "id": "c2734413-5723-441d-afa4-4938b6ce6b7c",
   "metadata": {},
   "source": [
    "R increases as the choice of n-gram increases in length. "
   ]
  }
 ],
 "metadata": {
  "kernelspec": {
   "display_name": "Python 3 (ipykernel)",
   "language": "python",
   "name": "python3"
  },
  "language_info": {
   "codemirror_mode": {
    "name": "ipython",
    "version": 3
   },
   "file_extension": ".py",
   "mimetype": "text/x-python",
   "name": "python",
   "nbconvert_exporter": "python",
   "pygments_lexer": "ipython3",
   "version": "3.11.7"
  }
 },
 "nbformat": 4,
 "nbformat_minor": 5
}
