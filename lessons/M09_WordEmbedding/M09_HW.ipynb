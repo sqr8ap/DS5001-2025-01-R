{
 "cells": [
  {
   "cell_type": "markdown",
   "id": "3d4c234b-16e5-4005-9754-61f598067fc6",
   "metadata": {},
   "source": [
    "# M09 Homework\n",
    "- Name: Sam Remmey\n",
    "- Net ID: sqr8ap\n",
    "- URL of this file in GitHub: "
   ]
  },
  {
   "cell_type": "code",
   "execution_count": 8,
   "id": "0dac3ded-4aa9-42d0-85f1-de6233e1a0d0",
   "metadata": {},
   "outputs": [],
   "source": [
    "import pandas as pd\n",
    "import numpy as np\n",
    "from gensim.models import word2vec\n",
    "from gensim.corpora import Dictionary\n",
    "from sklearn.manifold import TSNE as tsne\n",
    "import plotly_express as px"
   ]
  },
  {
   "cell_type": "code",
   "execution_count": 10,
   "id": "8b9be1ca-9a92-41a4-9d56-a635feac489a",
   "metadata": {},
   "outputs": [
    {
     "data": {
      "text/plain": [
       "'4.3.0'"
      ]
     },
     "execution_count": 10,
     "metadata": {},
     "output_type": "execute_result"
    }
   ],
   "source": [
    "import gensim\n",
    "gensim.__version__"
   ]
  },
  {
   "cell_type": "code",
   "execution_count": 2,
   "id": "00554af2-d503-4372-b901-ef5a4b30292e",
   "metadata": {},
   "outputs": [],
   "source": [
    "import configparser\n",
    "config = configparser.ConfigParser()\n",
    "config.read(\"../../../env.ini\")\n",
    "data_home = config['DEFAULT']['data_home']\n",
    "output_dir = config['DEFAULT']['output_dir']\n",
    "local_lib = config['DEFAULT']['local_lib']"
   ]
  },
  {
   "cell_type": "code",
   "execution_count": 18,
   "id": "0933a85f-5596-4ceb-bd2b-9f4b28afc0ab",
   "metadata": {},
   "outputs": [],
   "source": [
    "data_prefix = 'austen-melville'\n",
    "table_dir =  f'{output_dir}'\n",
    "OHCO = ['book_id', 'chap_id', 'para_num', 'sent_num', 'token_num']\n",
    "PARA = OHCO[:4] # Paragraphs\n",
    "SENT = OHCO[:5] # Sentences\n",
    "BAG = PARA"
   ]
  },
  {
   "cell_type": "code",
   "execution_count": 6,
   "id": "68a868f6-0533-442e-9568-8af6236b05b8",
   "metadata": {},
   "outputs": [],
   "source": [
    "# word2vec parameters\n",
    "w2v_params = dict(\n",
    "    window = 5,\n",
    "    vector_size = 246,\n",
    "    min_count = 50, # THIS LIMITS OUR VOCAB\n",
    "    workers = 4\n",
    ")"
   ]
  },
  {
   "cell_type": "code",
   "execution_count": 44,
   "id": "98a39a25-2e5e-4a0b-8bd8-e46eccaf0df0",
   "metadata": {},
   "outputs": [],
   "source": [
    "TOKENS = pd.read_csv(f'{table_dir}/{data_prefix}-CORPUS.csv').set_index(OHCO)\n",
    "TOKENS = TOKENS[TOKENS['pos'].isin(['NNS','NN','VB','VBD','VBN','VBG','VBP','VBZ'])]\n",
    "\n",
    "LIB = pd.read_csv(f'{table_dir}/{data_prefix}-LIB.csv')"
   ]
  },
  {
   "cell_type": "code",
   "execution_count": 36,
   "id": "d386ac91-cc7d-4026-8c1d-6662a5d03bef",
   "metadata": {},
   "outputs": [
    {
     "data": {
      "text/html": [
       "<div>\n",
       "<style scoped>\n",
       "    .dataframe tbody tr th:only-of-type {\n",
       "        vertical-align: middle;\n",
       "    }\n",
       "\n",
       "    .dataframe tbody tr th {\n",
       "        vertical-align: top;\n",
       "    }\n",
       "\n",
       "    .dataframe thead th {\n",
       "        text-align: right;\n",
       "    }\n",
       "</style>\n",
       "<table border=\"1\" class=\"dataframe\">\n",
       "  <thead>\n",
       "    <tr style=\"text-align: right;\">\n",
       "      <th></th>\n",
       "      <th></th>\n",
       "      <th></th>\n",
       "      <th></th>\n",
       "      <th></th>\n",
       "      <th>pos_tuple</th>\n",
       "      <th>pos</th>\n",
       "      <th>token_str</th>\n",
       "      <th>term_str</th>\n",
       "      <th>pos_group</th>\n",
       "    </tr>\n",
       "    <tr>\n",
       "      <th>book_id</th>\n",
       "      <th>chap_id</th>\n",
       "      <th>para_num</th>\n",
       "      <th>sent_num</th>\n",
       "      <th>token_num</th>\n",
       "      <th></th>\n",
       "      <th></th>\n",
       "      <th></th>\n",
       "      <th></th>\n",
       "      <th></th>\n",
       "    </tr>\n",
       "  </thead>\n",
       "  <tbody>\n",
       "    <tr>\n",
       "      <th>946</th>\n",
       "      <th>25</th>\n",
       "      <th>3</th>\n",
       "      <th>24</th>\n",
       "      <th>15</th>\n",
       "      <td>('am', 'VBP')</td>\n",
       "      <td>VBP</td>\n",
       "      <td>am</td>\n",
       "      <td>am</td>\n",
       "      <td>VB</td>\n",
       "    </tr>\n",
       "  </tbody>\n",
       "</table>\n",
       "</div>"
      ],
      "text/plain": [
       "                                                 pos_tuple  pos token_str  \\\n",
       "book_id chap_id para_num sent_num token_num                                 \n",
       "946     25      3        24       15         ('am', 'VBP')  VBP        am   \n",
       "\n",
       "                                            term_str pos_group  \n",
       "book_id chap_id para_num sent_num token_num                     \n",
       "946     25      3        24       15              am        VB  "
      ]
     },
     "execution_count": 36,
     "metadata": {},
     "output_type": "execute_result"
    }
   ],
   "source": [
    "TOKENS.sample()"
   ]
  },
  {
   "cell_type": "code",
   "execution_count": 38,
   "id": "24c6547b-dc25-4952-a8d7-63c044a305b3",
   "metadata": {},
   "outputs": [
    {
     "data": {
      "text/html": [
       "<div>\n",
       "<style scoped>\n",
       "    .dataframe tbody tr th:only-of-type {\n",
       "        vertical-align: middle;\n",
       "    }\n",
       "\n",
       "    .dataframe tbody tr th {\n",
       "        vertical-align: top;\n",
       "    }\n",
       "\n",
       "    .dataframe thead th {\n",
       "        text-align: right;\n",
       "    }\n",
       "</style>\n",
       "<table border=\"1\" class=\"dataframe\">\n",
       "  <thead>\n",
       "    <tr style=\"text-align: right;\">\n",
       "      <th></th>\n",
       "      <th>source_file_path</th>\n",
       "      <th>author</th>\n",
       "      <th>title</th>\n",
       "      <th>chap_regex</th>\n",
       "      <th>book_len</th>\n",
       "      <th>n_chaps</th>\n",
       "    </tr>\n",
       "    <tr>\n",
       "      <th>book_id</th>\n",
       "      <th></th>\n",
       "      <th></th>\n",
       "      <th></th>\n",
       "      <th></th>\n",
       "      <th></th>\n",
       "      <th></th>\n",
       "    </tr>\n",
       "  </thead>\n",
       "  <tbody>\n",
       "    <tr>\n",
       "      <th>1342</th>\n",
       "      <td>/Users/Samantha/Desktop/MSDS/DS5001/data/guten...</td>\n",
       "      <td>AUSTEN, JANE</td>\n",
       "      <td>PRIDE AND PREJUDICE</td>\n",
       "      <td>^Chapter\\s+\\d+$</td>\n",
       "      <td>122126</td>\n",
       "      <td>61</td>\n",
       "    </tr>\n",
       "  </tbody>\n",
       "</table>\n",
       "</div>"
      ],
      "text/plain": [
       "                                          source_file_path        author  \\\n",
       "book_id                                                                    \n",
       "1342     /Users/Samantha/Desktop/MSDS/DS5001/data/guten...  AUSTEN, JANE   \n",
       "\n",
       "                       title       chap_regex  book_len  n_chaps  \n",
       "book_id                                                           \n",
       "1342     PRIDE AND PREJUDICE  ^Chapter\\s+\\d+$    122126       61  "
      ]
     },
     "execution_count": 38,
     "metadata": {},
     "output_type": "execute_result"
    }
   ],
   "source": [
    "LIB.sample()"
   ]
  },
  {
   "cell_type": "code",
   "execution_count": 50,
   "id": "560602b4-d760-4024-8ba3-d2f68d796b4a",
   "metadata": {},
   "outputs": [],
   "source": [
    "# Join TOKENS to LIB on book_id, then separate by author\n",
    "\n",
    "both = TOKENS.reset_index().merge(LIB[['book_id','author']], on='book_id').set_index(TOKENS.index.names)\n",
    "\n",
    "TOKENS_austen = both[both['author'] == 'AUSTEN, JANE']\n",
    "TOKENS_melville = both[both['author'] == 'MELVILLE, HERMAN']"
   ]
  },
  {
   "cell_type": "code",
   "execution_count": 56,
   "id": "7cf443ae-0a50-49e1-a81b-1ee5899481bc",
   "metadata": {},
   "outputs": [
    {
     "data": {
      "text/plain": [
       "True"
      ]
     },
     "execution_count": 56,
     "metadata": {},
     "output_type": "execute_result"
    }
   ],
   "source": [
    "len(both) == len(TOKENS_austen) + len(TOKENS_melville)"
   ]
  },
  {
   "cell_type": "code",
   "execution_count": 60,
   "id": "9f807455-e60a-4ad7-98c2-c69fcf26ff1e",
   "metadata": {},
   "outputs": [],
   "source": [
    "# Convert to gensim corpora\n",
    "\n",
    "docs_austen = TOKENS_austen.dropna(subset=['term_str'])\\\n",
    "    .groupby(BAG)\\\n",
    "    .term_str.apply(lambda  x:  x.tolist())\\\n",
    "    .reset_index()['term_str'].tolist()\n",
    "docs_austen = [doc for doc in docs_austen if len(doc) > 1]\n",
    "\n",
    "docs_melville = TOKENS_melville.dropna(subset=['term_str'])\\\n",
    "    .groupby(BAG)\\\n",
    "    .term_str.apply(lambda  x:  x.tolist())\\\n",
    "    .reset_index()['term_str'].tolist()\n",
    "docs_melville = [doc for doc in docs_melville if len(doc) > 1]"
   ]
  },
  {
   "cell_type": "code",
   "execution_count": 66,
   "id": "279cdf80-292f-48be-915b-dec6b370ff90",
   "metadata": {},
   "outputs": [],
   "source": [
    "# Extract vocab tables\n",
    "\n"
   ]
  }
 ],
 "metadata": {
  "kernelspec": {
   "display_name": "Python 3 (ipykernel)",
   "language": "python",
   "name": "python3"
  },
  "language_info": {
   "codemirror_mode": {
    "name": "ipython",
    "version": 3
   },
   "file_extension": ".py",
   "mimetype": "text/x-python",
   "name": "python",
   "nbconvert_exporter": "python",
   "pygments_lexer": "ipython3",
   "version": "3.11.7"
  }
 },
 "nbformat": 4,
 "nbformat_minor": 5
}
