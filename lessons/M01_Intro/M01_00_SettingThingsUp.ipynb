{
 "cells": [
  {
   "cell_type": "markdown",
   "id": "a564cc95-b5f7-4c95-80d4-4cc706004696",
   "metadata": {
    "tags": []
   },
   "source": [
    "# Setting Things Up\n",
    "\n",
    "```yaml\n",
    "Course:   DS 5001 Exploratory Text Analytics\n",
    "Module:   01 Getting Started\n",
    "Topic:    Setting up your environment\n",
    "Author:   R.C. Alvarado\n",
    "Date:     18 January 2024\n",
    "```\n",
    "\n",
    "**Purpose**\n",
    "\n",
    "This notebook describes how to set up the working environmentrequired to perform the work in this course. \n",
    "\n",
    "It includes how to access the course materials and set up your local workspace."
   ]
  },
  {
   "cell_type": "markdown",
   "id": "fe5a5ab9-b013-4c97-ab8d-cd64201af84b",
   "metadata": {
    "jp-MarkdownHeadingCollapsed": true,
    "tags": []
   },
   "source": [
    "## Your Local Workspace\n",
    "\n",
    "1. Create a directory for your coursework on your local machine (or wherever you are doing your work). \\\n",
    "You should call it `DS5001`. This directory is your workspace for this course.\n",
    "\n",
    "2. Within this directory, create the following subdirectories: `data` and `output`."
   ]
  },
  {
   "cell_type": "markdown",
   "id": "c5c937f6-995a-454e-97ba-135ea83ea152",
   "metadata": {
    "jp-MarkdownHeadingCollapsed": true,
    "tags": []
   },
   "source": [
    "## Forking the Course Repo\n",
    "\n",
    "1. Fork the course repo to your personal GitHub account.\n",
    "\n",
    "2. Clone the forked repo to your local workspace, i.e. within the directory you just created, e.g. `DS5001`. \\\n",
    "You may want to alias the repo as below for a cleaner directory structure:\n",
    "\n",
    "```bash\n",
    "git clone git@github.com:ontoligent/DS5001-2024-01-R.git repo\n",
    "```"
   ]
  },
  {
   "cell_type": "markdown",
   "id": "af448778-796c-4e7d-ac81-302a4cf6d7e9",
   "metadata": {},
   "source": [
    "## Adding Your Environment File\n",
    "\n",
    "1. Look inside the `/lessons` folder of the locally cloned repo and copy the file `env-sample.ini` to some place outside of your repo, such as directly within the course workspace. \\\n",
    "Name the copied file `env.ini`. \\\n",
    "Your directory should look something like this now:\n",
    "\n",
    "```bash\n",
    "/DS5001\n",
    "    /code\n",
    "    /output\n",
    "    /repo\n",
    "    env.ini\n",
    "```\n",
    "\n",
    "2. Look inside the file and update the values to reflect your environment. \\\n",
    "Here's what mine looks like:\n",
    "\n",
    "```ini\n",
    "[DEFAULT]\n",
    "course_id = DS5100\n",
    "course_term = Spring 2024\n",
    "course_delivery = Residential\n",
    "user_name = Rafael C. Alvarado\n",
    "user_email = rca2t@virginia.edu\n",
    "base_path = /Users/rca2t1/Dropbox/Courses/DS/DS5001/DS5001_2024_01_R\n",
    "local_lib = %(base_path)s/repo/lessons/lib\n",
    "data_home = %(base_path)s/data\n",
    "output_dir = %(base_path)s/output\n",
    "```\n",
    "\n",
    "3. This file will be called from within your notebooks using Pythons <tt>configparser</tt> module. \\\n",
    "Here is sample cell block that will appear in most of your notebooks:\n",
    "\n",
    "```python\n",
    "import configparser\n",
    "config = configparser.ConfigParser()\n",
    "config.read(\"../../../env.ini\")\n",
    "data_home = config['DEFAULT']['data_home']\n",
    "output_dir = config['DEFAULT']['output_dir']\n",
    "```\n",
    "\n",
    "4. You may add more values to your `env.ini` file, such as credential information or the location of other resources on your system."
   ]
  },
  {
   "cell_type": "markdown",
   "id": "e5702774-f269-4ec9-9cfb-e3c4b8eae733",
   "metadata": {
    "tags": []
   },
   "source": [
    "## The Workflow\n",
    "\n",
    "1. Each time you want to update the forked repo (on GitHub), such as when you are working on a new module, press the \"Sync Fork\" button. This will update the contents of your forked repo with any new materials added by the professor. By the way, make sure you have the <tt>main</tt> branch selected when you do this.\n",
    "\n",
    "2. From within the <tt>main</tt> branch in your local repo, do a `git pull origin main`. Make sure you are in the <tt>main</tt> branch when you do this. To find out which branch you are in, do `git branch`; this will show you all of your branches with an asterisk by the one you are in. To get into the <tt>main</tt> repo, do `git checkout main`.\n",
    "\n",
    "2. To work on the notebooks in the repo without altering the state of the main branch, you will create new branches wherein you may do your work. To create a new branch for your work do this `git checkout -b m01`, assuming you are working on Module 1. You can follow this pattern for all of your work.\n",
    "\n",
    "4. You can commit changes from within your branch and push it to your forked repo.\n",
    "\n",
    "5. Note you don't need to merge the main branch with your working branch.\n",
    "\n",
    "**Note that there are other ways to do this:**\n",
    "\n",
    "* Just copy the files locally from the course repo.\n",
    "* Create one branch for your work and do a merge each time the content is updated.\n",
    "    \n",
    "    "
   ]
  },
  {
   "cell_type": "markdown",
   "id": "5bea5603-9e4f-45d8-96cd-2ffc34351a79",
   "metadata": {
    "tags": []
   },
   "source": [
    "## Getting the Data\n",
    "\n",
    "1. Very often the notebooks you work on will use data that have been curated for this course. The URL to the Dropbox folder is here:\n",
    "\n",
    "> https://www.dropbox.com/scl/fo/0k07nufmrurva2nv8m4vn/h?rlkey=s1ethf3moqagc33d9upomwoa7&dl=0\n",
    "\n",
    "2. Copy folders and files as needed to your local workspace."
   ]
  },
  {
   "cell_type": "markdown",
   "id": "753e77bf-1422-4271-a138-2c5c33cca1d0",
   "metadata": {},
   "source": [
    "Testing git branch stuff"
   ]
  }
 ],
 "metadata": {
  "kernelspec": {
   "display_name": "Python 3 (ipykernel)",
   "language": "python",
   "name": "python3"
  },
  "language_info": {
   "codemirror_mode": {
    "name": "ipython",
    "version": 3
   },
   "file_extension": ".py",
   "mimetype": "text/x-python",
   "name": "python",
   "nbconvert_exporter": "python",
   "pygments_lexer": "ipython3",
   "version": "3.11.7"
  }
 },
 "nbformat": 4,
 "nbformat_minor": 5
}
