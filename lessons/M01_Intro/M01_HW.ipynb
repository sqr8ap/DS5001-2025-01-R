{
 "cells": [
  {
   "cell_type": "markdown",
   "id": "3778601f-aaa4-4d1d-9d44-51b62891d179",
   "metadata": {},
   "source": [
    "# M01 Homework\n",
    " - Name: Sam Remmey\n",
    " - Net ID: sqr8ap\n",
    " - URL of this file in GitHub: https://github.com/sqr8ap/DS5001-2025-01-R/blob/m01/lessons/M01_Intro/M01_HW.ipynb"
   ]
  },
  {
   "cell_type": "code",
   "execution_count": 1,
   "id": "f8c8a11d-a063-4717-b198-9c96f01c9360",
   "metadata": {},
   "outputs": [],
   "source": [
    "import numpy as np\n",
    "import pandas as pd\n",
    "import configparser\n",
    "config = configparser.ConfigParser()"
   ]
  },
  {
   "cell_type": "code",
   "execution_count": 3,
   "id": "f0ceade1-0f99-4484-9b7b-9d2d9c8b89f7",
   "metadata": {},
   "outputs": [],
   "source": [
    "config.read(\"../../../env.ini\")\n",
    "data_home = config['DEFAULT']['data_home']\n",
    "output_dir = config['DEFAULT']['output_dir']"
   ]
  },
  {
   "cell_type": "code",
   "execution_count": 5,
   "id": "39d2a415-48e0-4ea4-8f00-c2602c10f36c",
   "metadata": {},
   "outputs": [
    {
     "name": "stdout",
     "output_type": "stream",
     "text": [
      "total 912\n",
      "drwxr-xr-x@ 8 Samantha  staff     256 Jan 16 08:52 \u001b[34mgutenberg\u001b[m\u001b[m\n",
      "-rw-r--r--@ 1 Samantha  staff  465627 Jan 20 15:27 pg42324.txt\n"
     ]
    }
   ],
   "source": [
    "!ls -l {data_home}"
   ]
  },
  {
   "cell_type": "markdown",
   "id": "a86c5535-4689-4ee5-a6f7-cafdf0e2588c",
   "metadata": {},
   "source": [
    "### Load in text file"
   ]
  },
  {
   "cell_type": "code",
   "execution_count": 7,
   "id": "e09d6451-8515-41ab-a3be-11cd43f1f3de",
   "metadata": {},
   "outputs": [],
   "source": [
    "my_file = f\"{data_home}/pg42324.txt\""
   ]
  },
  {
   "cell_type": "code",
   "execution_count": 9,
   "id": "455ef683-6384-4ccb-9012-503b93c4023b",
   "metadata": {},
   "outputs": [],
   "source": [
    "lines = open(my_file, 'r').readlines()"
   ]
  },
  {
   "cell_type": "code",
   "execution_count": 11,
   "id": "c305fc2c-1c69-4a63-9f4f-420084e850bf",
   "metadata": {},
   "outputs": [
    {
     "data": {
      "text/plain": [
       "['\\ufeffThe Project Gutenberg EBook of Frankenstein, by Mary W. Shelley\\n',\n",
       " '\\n',\n",
       " 'This eBook is for the use of anyone anywhere at no cost and with\\n',\n",
       " 'almost no restrictions whatsoever.  You may copy it, give it away or\\n',\n",
       " 're-use it under the terms of the Project Gutenberg License included\\n']"
      ]
     },
     "execution_count": 11,
     "metadata": {},
     "output_type": "execute_result"
    }
   ],
   "source": [
    "lines[:5]"
   ]
  },
  {
   "cell_type": "markdown",
   "id": "7d74f175-7181-4015-b45c-10e65469abcf",
   "metadata": {},
   "source": [
    "### Convert to a dataframe"
   ]
  },
  {
   "cell_type": "code",
   "execution_count": 13,
   "id": "aebec95c-de87-4a4b-852a-95bc711cb028",
   "metadata": {},
   "outputs": [
    {
     "data": {
      "text/html": [
       "<div>\n",
       "<style scoped>\n",
       "    .dataframe tbody tr th:only-of-type {\n",
       "        vertical-align: middle;\n",
       "    }\n",
       "\n",
       "    .dataframe tbody tr th {\n",
       "        vertical-align: top;\n",
       "    }\n",
       "\n",
       "    .dataframe thead th {\n",
       "        text-align: right;\n",
       "    }\n",
       "</style>\n",
       "<table border=\"1\" class=\"dataframe\">\n",
       "  <thead>\n",
       "    <tr style=\"text-align: right;\">\n",
       "      <th></th>\n",
       "      <th>line_str</th>\n",
       "    </tr>\n",
       "    <tr>\n",
       "      <th>line_num</th>\n",
       "      <th></th>\n",
       "    </tr>\n",
       "  </thead>\n",
       "  <tbody>\n",
       "    <tr>\n",
       "      <th>0</th>\n",
       "      <td>﻿The Project Gutenberg EBook of Frankenstein, ...</td>\n",
       "    </tr>\n",
       "    <tr>\n",
       "      <th>1</th>\n",
       "      <td>\\n</td>\n",
       "    </tr>\n",
       "    <tr>\n",
       "      <th>2</th>\n",
       "      <td>This eBook is for the use of anyone anywhere a...</td>\n",
       "    </tr>\n",
       "    <tr>\n",
       "      <th>3</th>\n",
       "      <td>almost no restrictions whatsoever.  You may co...</td>\n",
       "    </tr>\n",
       "    <tr>\n",
       "      <th>4</th>\n",
       "      <td>re-use it under the terms of the Project Guten...</td>\n",
       "    </tr>\n",
       "  </tbody>\n",
       "</table>\n",
       "</div>"
      ],
      "text/plain": [
       "                                                   line_str\n",
       "line_num                                                   \n",
       "0         ﻿The Project Gutenberg EBook of Frankenstein, ...\n",
       "1                                                        \\n\n",
       "2         This eBook is for the use of anyone anywhere a...\n",
       "3         almost no restrictions whatsoever.  You may co...\n",
       "4         re-use it under the terms of the Project Guten..."
      ]
     },
     "execution_count": 13,
     "metadata": {},
     "output_type": "execute_result"
    }
   ],
   "source": [
    "text = pd.DataFrame(lines)\n",
    "text.columns = ['line_str']\n",
    "text.index.name = 'line_num'\n",
    "\n",
    "text.head()"
   ]
  },
  {
   "cell_type": "markdown",
   "id": "ae39e3e0-3508-4487-a042-5e619cfa5352",
   "metadata": {},
   "source": [
    "## Question 1.\n",
    "How many tokens does the raw text have? By raw text, we mean the text as-is, without all of the Gutenberg boilerplate removed."
   ]
  },
  {
   "cell_type": "code",
   "execution_count": 15,
   "id": "ee199a08-6492-4c61-b7ce-2dac796f87bb",
   "metadata": {},
   "outputs": [],
   "source": [
    "# Convert lines to tokens\n",
    "\n",
    "K = text.line_str.str.split(expand=True).stack().to_frame('token_str')\n",
    "K.index.names = ['line_num','token_num']"
   ]
  },
  {
   "cell_type": "code",
   "execution_count": 17,
   "id": "1ae55af2-f92d-4aa0-9467-a4ba8082f5b7",
   "metadata": {},
   "outputs": [
    {
     "data": {
      "text/plain": [
       "80985"
      ]
     },
     "execution_count": 17,
     "metadata": {},
     "output_type": "execute_result"
    }
   ],
   "source": [
    "len(K)"
   ]
  },
  {
   "cell_type": "markdown",
   "id": "ece9691d-757b-483e-86ba-ed097474747f",
   "metadata": {},
   "source": [
    "There are 80985 tokens, or symbol instances.  "
   ]
  },
  {
   "cell_type": "markdown",
   "id": "baa8fb3a-eae3-4bd1-819d-5ae34a223d99",
   "metadata": {},
   "source": [
    "## Question 2.\n",
    "What is the most frequent pronoun in the text?"
   ]
  },
  {
   "cell_type": "code",
   "execution_count": 19,
   "id": "b30be16c-8935-4a5b-bc6b-4d0367c4a9bb",
   "metadata": {},
   "outputs": [
    {
     "data": {
      "text/html": [
       "<div>\n",
       "<style scoped>\n",
       "    .dataframe tbody tr th:only-of-type {\n",
       "        vertical-align: middle;\n",
       "    }\n",
       "\n",
       "    .dataframe tbody tr th {\n",
       "        vertical-align: top;\n",
       "    }\n",
       "\n",
       "    .dataframe thead th {\n",
       "        text-align: right;\n",
       "    }\n",
       "</style>\n",
       "<table border=\"1\" class=\"dataframe\">\n",
       "  <thead>\n",
       "    <tr style=\"text-align: right;\">\n",
       "      <th></th>\n",
       "      <th></th>\n",
       "      <th>token_str</th>\n",
       "      <th>term_str</th>\n",
       "    </tr>\n",
       "    <tr>\n",
       "      <th>line_num</th>\n",
       "      <th>token_num</th>\n",
       "      <th></th>\n",
       "      <th></th>\n",
       "    </tr>\n",
       "  </thead>\n",
       "  <tbody>\n",
       "    <tr>\n",
       "      <th>5261</th>\n",
       "      <th>9</th>\n",
       "      <td>a</td>\n",
       "      <td>a</td>\n",
       "    </tr>\n",
       "    <tr>\n",
       "      <th>6723</th>\n",
       "      <th>2</th>\n",
       "      <td>me</td>\n",
       "      <td>me</td>\n",
       "    </tr>\n",
       "    <tr>\n",
       "      <th>148</th>\n",
       "      <th>11</th>\n",
       "      <td>began</td>\n",
       "      <td>began</td>\n",
       "    </tr>\n",
       "    <tr>\n",
       "      <th>1057</th>\n",
       "      <th>1</th>\n",
       "      <td>our</td>\n",
       "      <td>our</td>\n",
       "    </tr>\n",
       "    <tr>\n",
       "      <th>5053</th>\n",
       "      <th>6</th>\n",
       "      <td>several</td>\n",
       "      <td>several</td>\n",
       "    </tr>\n",
       "    <tr>\n",
       "      <th>6800</th>\n",
       "      <th>7</th>\n",
       "      <td>to</td>\n",
       "      <td>to</td>\n",
       "    </tr>\n",
       "    <tr>\n",
       "      <th>7750</th>\n",
       "      <th>1</th>\n",
       "      <td>mission</td>\n",
       "      <td>mission</td>\n",
       "    </tr>\n",
       "    <tr>\n",
       "      <th>5445</th>\n",
       "      <th>7</th>\n",
       "      <td>which</td>\n",
       "      <td>which</td>\n",
       "    </tr>\n",
       "    <tr>\n",
       "      <th>2819</th>\n",
       "      <th>4</th>\n",
       "      <td>\"it</td>\n",
       "      <td>it</td>\n",
       "    </tr>\n",
       "    <tr>\n",
       "      <th>6016</th>\n",
       "      <th>7</th>\n",
       "      <td>when</td>\n",
       "      <td>when</td>\n",
       "    </tr>\n",
       "  </tbody>\n",
       "</table>\n",
       "</div>"
      ],
      "text/plain": [
       "                   token_str term_str\n",
       "line_num token_num                   \n",
       "5261     9                 a        a\n",
       "6723     2                me       me\n",
       "148      11            began    began\n",
       "1057     1               our      our\n",
       "5053     6           several  several\n",
       "6800     7                to       to\n",
       "7750     1           mission  mission\n",
       "5445     7             which    which\n",
       "2819     4               \"it       it\n",
       "6016     7              when     when"
      ]
     },
     "execution_count": 19,
     "metadata": {},
     "output_type": "execute_result"
    }
   ],
   "source": [
    "# To determine the most frequent pronoun, I'll extract a vocabulary of terms\n",
    "\n",
    "K['term_str'] = K.token_str.str.replace(r'\\W+', '', regex=True).str.lower()\n",
    "K.sample(10)"
   ]
  },
  {
   "cell_type": "code",
   "execution_count": 43,
   "id": "0b127094-0fda-4dfe-a1c5-5c0e43e76e7a",
   "metadata": {},
   "outputs": [
    {
     "data": {
      "text/html": [
       "<div>\n",
       "<style scoped>\n",
       "    .dataframe tbody tr th:only-of-type {\n",
       "        vertical-align: middle;\n",
       "    }\n",
       "\n",
       "    .dataframe tbody tr th {\n",
       "        vertical-align: top;\n",
       "    }\n",
       "\n",
       "    .dataframe thead th {\n",
       "        text-align: right;\n",
       "    }\n",
       "</style>\n",
       "<table border=\"1\" class=\"dataframe\">\n",
       "  <thead>\n",
       "    <tr style=\"text-align: right;\">\n",
       "      <th></th>\n",
       "      <th>n</th>\n",
       "    </tr>\n",
       "    <tr>\n",
       "      <th>term_str</th>\n",
       "      <th></th>\n",
       "    </tr>\n",
       "  </thead>\n",
       "  <tbody>\n",
       "    <tr>\n",
       "      <th>the</th>\n",
       "      <td>4575</td>\n",
       "    </tr>\n",
       "    <tr>\n",
       "      <th>and</th>\n",
       "      <td>3120</td>\n",
       "    </tr>\n",
       "    <tr>\n",
       "      <th>of</th>\n",
       "      <td>2918</td>\n",
       "    </tr>\n",
       "    <tr>\n",
       "      <th>i</th>\n",
       "      <td>2918</td>\n",
       "    </tr>\n",
       "    <tr>\n",
       "      <th>to</th>\n",
       "      <td>2257</td>\n",
       "    </tr>\n",
       "    <tr>\n",
       "      <th>my</th>\n",
       "      <td>1819</td>\n",
       "    </tr>\n",
       "    <tr>\n",
       "      <th>a</th>\n",
       "      <td>1497</td>\n",
       "    </tr>\n",
       "    <tr>\n",
       "      <th>in</th>\n",
       "      <td>1232</td>\n",
       "    </tr>\n",
       "    <tr>\n",
       "      <th>was</th>\n",
       "      <td>1064</td>\n",
       "    </tr>\n",
       "    <tr>\n",
       "      <th>that</th>\n",
       "      <td>1060</td>\n",
       "    </tr>\n",
       "    <tr>\n",
       "      <th>me</th>\n",
       "      <td>876</td>\n",
       "    </tr>\n",
       "    <tr>\n",
       "      <th>with</th>\n",
       "      <td>736</td>\n",
       "    </tr>\n",
       "    <tr>\n",
       "      <th>but</th>\n",
       "      <td>711</td>\n",
       "    </tr>\n",
       "    <tr>\n",
       "      <th>had</th>\n",
       "      <td>704</td>\n",
       "    </tr>\n",
       "    <tr>\n",
       "      <th>you</th>\n",
       "      <td>638</td>\n",
       "    </tr>\n",
       "    <tr>\n",
       "      <th>he</th>\n",
       "      <td>625</td>\n",
       "    </tr>\n",
       "    <tr>\n",
       "      <th>which</th>\n",
       "      <td>593</td>\n",
       "    </tr>\n",
       "    <tr>\n",
       "      <th>it</th>\n",
       "      <td>589</td>\n",
       "    </tr>\n",
       "    <tr>\n",
       "      <th>as</th>\n",
       "      <td>573</td>\n",
       "    </tr>\n",
       "    <tr>\n",
       "      <th>not</th>\n",
       "      <td>552</td>\n",
       "    </tr>\n",
       "  </tbody>\n",
       "</table>\n",
       "</div>"
      ],
      "text/plain": [
       "             n\n",
       "term_str      \n",
       "the       4575\n",
       "and       3120\n",
       "of        2918\n",
       "i         2918\n",
       "to        2257\n",
       "my        1819\n",
       "a         1497\n",
       "in        1232\n",
       "was       1064\n",
       "that      1060\n",
       "me         876\n",
       "with       736\n",
       "but        711\n",
       "had        704\n",
       "you        638\n",
       "he         625\n",
       "which      593\n",
       "it         589\n",
       "as         573\n",
       "not        552"
      ]
     },
     "execution_count": 43,
     "metadata": {},
     "output_type": "execute_result"
    }
   ],
   "source": [
    "V = K.term_str.value_counts().to_frame('n')\n",
    "V.index.name = 'term_str'\n",
    "V.head(20)"
   ]
  },
  {
   "cell_type": "markdown",
   "id": "24f72111-c312-47df-bac8-f57e23e2b7b4",
   "metadata": {},
   "source": [
    "The most frequent pronoun in this text is 'i.'"
   ]
  },
  {
   "cell_type": "markdown",
   "id": "a1e4fea2-083c-4f6a-bf38-c40b4fc31287",
   "metadata": {},
   "source": [
    "## Question 3.\n",
    "Which subject pronoun is most frequent in the text we imported in class? "
   ]
  },
  {
   "cell_type": "markdown",
   "id": "7537dd00-c9d0-46cc-a109-24c5950921eb",
   "metadata": {},
   "source": [
    "'She' was the most frequent subject pronoun in the text we imported in class. "
   ]
  },
  {
   "cell_type": "markdown",
   "id": "9ae62fef-1d7a-423a-bec0-eef79b3b38f6",
   "metadata": {},
   "source": [
    "## Question 4.\n",
    "Provide a brief explanation for this difference, based on what you may know about the two novels."
   ]
  },
  {
   "cell_type": "markdown",
   "id": "61592f9b-cfea-49b1-a934-54e0ddfd41ab",
   "metadata": {},
   "source": [
    "This difference makes sense given a background on the subjects of these two novels. Persuasion centers around a female protagonist and is told from the third person POV, whereas Frankenstein centers around a male protagonist and is told from the first person POV. Thus, one might expect 'she' to be the most frequent pronoun in Persuasion, and 'I' to be the most frequent pronoun in Frankenstein. Also, on the list of terms from Frankenstein, 'he' shows up before 'she,' which also makes sense given the context. "
   ]
  }
 ],
 "metadata": {
  "kernelspec": {
   "display_name": "Python 3 (ipykernel)",
   "language": "python",
   "name": "python3"
  },
  "language_info": {
   "codemirror_mode": {
    "name": "ipython",
    "version": 3
   },
   "file_extension": ".py",
   "mimetype": "text/x-python",
   "name": "python",
   "nbconvert_exporter": "python",
   "pygments_lexer": "ipython3",
   "version": "3.11.7"
  }
 },
 "nbformat": 4,
 "nbformat_minor": 5
}
