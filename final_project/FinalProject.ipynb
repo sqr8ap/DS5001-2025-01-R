{
 "cells": [
  {
   "cell_type": "markdown",
   "id": "979923b5-0493-4768-ad1a-06db54f0bc7a",
   "metadata": {},
   "source": [
    "# Final Project Notebook\n",
    "\n",
    "DS 5001 Text as Data | Spring 2025"
   ]
  },
  {
   "cell_type": "markdown",
   "id": "7046f57f-12ed-4259-be3d-60cb67b8d044",
   "metadata": {},
   "source": [
    "# Metadata\n",
    "\n",
    "- Full Name: Samantha Remmey\n",
    "- Userid: sqr8ap\n",
    "- GitHub Repo URL: https://github.com/sqr8ap/DS5001-2025-01-R/tree/fp/final_project \n",
    "- UVA Box URL: https://virginia.app.box.com/folder/315707723818"
   ]
  },
  {
   "cell_type": "markdown",
   "id": "57acd11d-eb04-4bcc-b115-f205f367de49",
   "metadata": {},
   "source": [
    "# Overview\n",
    "\n",
    "The goal of the final project is for you to create a **digital analytical edition** of a corpus using the tools, practices, and perspectives you’ve learning in this course. You will select a corpus that has already been digitized and transcribed, parse that into an F-compliant set of tables, and then generate and visualize the results of a series of fitted models. You will also draw some tentative conclusions regarding the linguistic, cultural, psychological, or historical features represented by your corpus. The point of the exercise is to have you work with a corpus through the entire pipeline from ingestion to interpretation. \n",
    "\n",
    "Specifically, you will acquire a collection of long-form texts and perform the following operations:\n",
    "\n",
    "- **Convert** the collection from their source formats (F0) into a set of tables that conform to the Standard Text Analytic Data Model (F2).\n",
    "- **Annotate** these tables with statistical and linguistic features using NLP libraries such as NLTK (F3).\n",
    "- **Produce** a vector representation of the corpus to generate TFIDF values to add to the TOKEN (aka CORPUS) and VOCAB tables (F4).\n",
    "- **Model** the annotated and vectorized model with tables and features derived from the application of unsupervised methods, including PCA, LDA, and word2vec (F5).\n",
    "- **Explore** your results using statistical and visual methods.\n",
    "- **Present** conclusions about patterns observed in the corpus by means of these operations.\n",
    "\n",
    "When you are finished, you will make the results of your work available in GitHub (for code) and UVA Box (for data). You will submit to Gradescope (via Canvas) a PDF version of a Jupyter notebook that contains the information listed below.\n",
    "\n",
    "# Some Details\n",
    "\n",
    "- Please fill out your answers in each task below by editing the markdown cell. \n",
    "- Replace text that asks you to insert something with the thing, i.e. replace `(INSERT IMAGE HERE)` with an image element, e.g. `![](image.png)`.\n",
    "- For URLs, just paste the raw URL directly into the text area. Don't worry about providing link labels using `[label](link)`.\n",
    "- Please do not alter the structure of the document or cell, i.e. the bulleted lists. \n",
    "- You may add explanatory paragraphs below the bulleted lists.\n",
    "- Please name your tables as they are named in each task below.\n",
    "- Tasks are indicated by headers with point values in parentheses."
   ]
  },
  {
   "cell_type": "markdown",
   "id": "568b6d68-e039-4612-858b-29510eeb5365",
   "metadata": {},
   "source": [
    "# Raw Data"
   ]
  },
  {
   "cell_type": "markdown",
   "id": "cb0889de-cd53-4aa5-80b2-a2a39060776a",
   "metadata": {},
   "source": [
    "## Source Description (1)"
   ]
  },
  {
   "cell_type": "markdown",
   "id": "aa9e395a-4b0b-4ba3-9112-80c733998dbe",
   "metadata": {},
   "source": [
    "Provide a brief description of your source material, including its provenance and content. Tell us where you found it and what kind of content it contains.\n",
    "\n",
    "I will be conducting analyses on a subset of Virginia Woolf's novels, sourced from Project Gutenberg. The novels are contained in plaintext files, and three of the four novels are broken down by chapter. One novel is broken down into sections separated by line breaks, represented as asterisks in the text file. The novels include Mrs. Dalloway, The Voyage Out, Night and Day, and Jacob's Room. Virginia Woolf is known for themes of identity, social structures & gender, time & memory, and the mind & consciousness. "
   ]
  },
  {
   "cell_type": "markdown",
   "id": "89b507c1-6dc2-44f7-b74c-790d84a48e8c",
   "metadata": {
    "tags": []
   },
   "source": [
    "## Source Features (1)\n",
    "\n",
    "Add values for the following items. (Do this for all following bulleted lists.)\n",
    "\n",
    "- Source URL: https://www.gutenberg.org/ebooks/author/89 \n",
    "- UVA Box URL: https://virginia.box.com/s/a50wn3g3o25hsa9anxt88f9soulr0cmz\n",
    "- Number of raw documents: 4\n",
    "- Total size of raw documents (e.g. in MB): 2.547 MB\n",
    "- File format(s), e.g. XML, plaintext, etc.: plaintext"
   ]
  },
  {
   "cell_type": "markdown",
   "id": "590e81b1-9f70-47b5-bb25-49be4e76b98b",
   "metadata": {
    "tags": []
   },
   "source": [
    "## Source Document Structure (1)\n",
    "\n",
    "Provide a brief description of the internal structure of each document. That, describe the typical elements found in document and their relation to each other. For example, a corpus of letters might be described as having a date, an addressee, a salutation, a set of content paragraphs, and closing. If they are various structures, state that.\n",
    "\n",
    "The corpus consists of novels broken down into chapters or sections. Each plaintext file contains metadata regarding the book itself and its source, Project Gutenberg. The beginning and end of each novel is clearly marked and can be easily parsed. All files are consistent in their structures. "
   ]
  },
  {
   "cell_type": "markdown",
   "id": "10ec4c9f-e101-46fe-ac59-a35a1b148a4b",
   "metadata": {},
   "source": [
    "# Parsed and Annotated Data\n",
    "\n",
    "Parse the raw data into the three core tables of your addition: the `LIB`, `CORPUS`, and `VOCAB` tables.\n",
    "\n",
    "These tables will be stored as CSV files with header rows.\n",
    "\n",
    "You may consider using `|` as a delimitter.\n",
    "\n",
    "Provide the following information for each."
   ]
  },
  {
   "cell_type": "markdown",
   "id": "e9d05ce4-ac5c-43ea-a07b-c4626338f80e",
   "metadata": {},
   "source": [
    "## LIB (2)\n",
    "\n",
    "The source documents the corpus comprises. These may be books, plays, newspaper articles, abstracts, blog posts, etc. \n",
    "\n",
    "Note that these are *not* documents in the sense used to describe a bag-of-words representation of a text, e.g. chapter.\n",
    "\n",
    "- UVA Box URL: https://virginia.box.com/s/x5eyxhuhmuv857qhh08ar1fbrgdg7fis \n",
    "- GitHub URL for notebook used to create: https://github.com/sqr8ap/DS5001-2025-01-R/blob/fp/final_project/Parse.ipynb \n",
    "- Delimitter: ,\n",
    "- Number of observations: 4\n",
    "- List of features, including at least three that may be used for model summarization (e.g. date, author, etc.): source_file_path, raw_title, book_len, n_chaps, date, n_chars, woolf_age, prot_sex (sex of protagonist)\n",
    "- Average length of each document in characters: 477816.5"
   ]
  },
  {
   "cell_type": "markdown",
   "id": "304204a5-00be-46ad-b98b-0d10a9c8ca4b",
   "metadata": {},
   "source": [
    "## CORPUS (2)\n",
    "\n",
    "The sequence of word tokens in the corpus, indexed by their location in the corpus and document structures.\n",
    "\n",
    "- UVA Box URL: https://virginia.box.com/s/c0s20zzarrs0qmwngwz9qjjew25xboj3 \n",
    "- GitHub URL for notebook used to create: https://github.com/sqr8ap/DS5001-2025-01-R/blob/fp/final_project/Parse.ipynb \n",
    "- Delimitter: ,\n",
    "- Number of observations Between (should be >= 500,000 and <= 2,000,000 observations.): 427340\n",
    "- OHCO Structure (as delimitted column names): book_id | chap_num | para_num | sent_num | token_num\n",
    "- Columns (as delimitted column names, including `token_str`, `term_str`, `pos`, and `pos_group`): token_str | term_str | pos | pos_group | n_chars"
   ]
  },
  {
   "cell_type": "markdown",
   "id": "5ae3214e-e6dd-42d6-842f-555d0058986e",
   "metadata": {},
   "source": [
    "## VOCAB (2)\n",
    "\n",
    "The unique word types (terms) in the corpus.\n",
    "\n",
    "- UVA Box URL: https://virginia.box.com/s/idukv7yfch2lklqpa3p1wofp6gm76s3h \n",
    "- GitHub URL for notebook used to create: https://github.com/sqr8ap/DS5001-2025-01-R/blob/fp/final_project/Parse.ipynb\n",
    "- Delimitter: ,\n",
    "- Number of observations: 18495\n",
    "- Columns (as delimitted names, including `n`, `p`', `i`, `dfidf`, `porter_stem`, `max_pos` and `max_pos_group`, `stop`): n | n_chars | p | i | stop | stem_porter | max_pos | max_pos_group | n_pos_group | cat_pos_group | n_pos | cat_pos | df | idf | dfidf\n",
    "- Note: Your VOCAB may contain ngrams. If so, add a feature for `ngram_length`.\n",
    "- List the top 20 significant words in the corpus by DFIDF.\n",
    "\n",
    "'pages', 'wants', 'considerable', 'god', 'happiness', 'save', 'pink', 'single', 'john', 'bedroom', 'agree', 'gentlemen', 'interrupted', 'burst', 'explained', 'comes', 'compared', 'hat', 'anyhow', 'force'"
   ]
  },
  {
   "cell_type": "markdown",
   "id": "b40dabdc-baae-4408-95bc-2f735824d59b",
   "metadata": {},
   "source": [
    "# Derived Tables"
   ]
  },
  {
   "cell_type": "markdown",
   "id": "49f2ef9c-1cb5-41e8-a5ee-1e37428b4539",
   "metadata": {},
   "source": [
    "## BOW (3)\n",
    "\n",
    "A bag-of-words representation of the CORPUS.\n",
    "\n",
    "- UVA Box URL: https://virginia.box.com/s/msaj7297vn5ervmqsukn68mnj6omgleb \n",
    "- GitHub URL for notebook used to create: https://github.com/sqr8ap/DS5001-2025-01-R/blob/fp/final_project/Parse.ipynb \n",
    "- Delimitter: ,\n",
    "- Bag (expressed in terms of OHCO levels): ['book_id', 'chap_num']\n",
    "- Number of observations: 113953\n",
    "- Columns (as delimitted names, including `n`, `tfidf`): n | tf | tfidf"
   ]
  },
  {
   "cell_type": "markdown",
   "id": "29890d2f-bf96-43ad-8d08-792393830163",
   "metadata": {
    "tags": []
   },
   "source": [
    "## DTM (3)\n",
    "\n",
    "A represenation of the BOW as a sparse count matrix.\n",
    "\n",
    "- UVA Box URL: https://virginia.box.com/s/lypsnaqz4hu13kf0qzvv8nr9y0n41m8l\n",
    "- UVA Box URL of BOW used to generate (if applicable): https://virginia.box.com/s/msaj7297vn5ervmqsukn68mnj6omgleb \n",
    "- GitHub URL for notebook used to create: https://github.com/sqr8ap/DS5001-2025-01-R/blob/fp/final_project/Parse.ipynb \n",
    "- Delimitter: ,\n",
    "- Bag (expressed in terms of OHCO levels): ['book_id', 'chap_num']"
   ]
  },
  {
   "cell_type": "markdown",
   "id": "8b4b4774-7c76-401d-a9de-2704f28a0821",
   "metadata": {},
   "source": [
    "## TFIDF (3)\n",
    "\n",
    "A Document-Term matrix with TFIDF values.\n",
    "\n",
    "- UVA Box URL: https://virginia.box.com/s/fcp2fi6sde0xtslzwrzf7m12bipukcxl \n",
    "- UVA Box URL of DTM or BOW used to create: https://virginia.box.com/s/lypsnaqz4hu13kf0qzvv8nr9y0n41m8l \n",
    "- GitHub URL for notebook used to create: https://github.com/sqr8ap/DS5001-2025-01-R/blob/fp/final_project/Parse.ipynb \n",
    "- Delimitter: ,\n",
    "- Description of TFIDIF formula ($\\LaTeX$ OK): max tfidf -> $\\left( \\frac{\\text{DTCM}^T}{\\max(\\text{DTCM}^T)} \\right)^T$"
   ]
  },
  {
   "cell_type": "markdown",
   "id": "fd34f5ca-5361-4701-b9dd-9da66859b40b",
   "metadata": {
    "tags": []
   },
   "source": [
    "## Reduced and Normalized TFIDF_L2 (3)"
   ]
  },
  {
   "cell_type": "markdown",
   "id": "5c548dd2-f692-4365-936c-39c84df79b90",
   "metadata": {
    "tags": []
   },
   "source": [
    "A Document-Term matrix with L2 normalized TFIDF values.\n",
    "\n",
    "- UVA Box URL: https://virginia.box.com/s/5nryqu5g20rbjclguyhgn5t0zc1sdj0c \n",
    "- UVA Box URL of source TFIDF table: https://virginia.box.com/s/fcp2fi6sde0xtslzwrzf7m12bipukcxl \n",
    "- GitHub URL for notebook used to create: https://github.com/sqr8ap/DS5001-2025-01-R/blob/fp/final_project/Parse.ipynb \n",
    "- Delimitter: ,\n",
    "- Number of features (i.e. significant words): 2000\n",
    "- Principle of significant word selection: top 2000 terms with highest mean tfidf"
   ]
  },
  {
   "cell_type": "markdown",
   "id": "7c50da94-af36-4e8d-b1a7-24dbcf431880",
   "metadata": {},
   "source": [
    "# Models"
   ]
  },
  {
   "cell_type": "markdown",
   "id": "9df79264-dd93-4199-be38-db31579b7ce8",
   "metadata": {},
   "source": [
    "## PCA Components (4)\n",
    "\n",
    "- UVA Box URL: https://virginia.box.com/s/wbqtfqcrrdcitvt7kitlam2id6dklucn \n",
    "- UVA Box URL of the source TFIDF_L2 table: https://virginia.box.com/s/5nryqu5g20rbjclguyhgn5t0zc1sdj0c \n",
    "- GitHub URL for notebook used to create: https://github.com/sqr8ap/DS5001-2025-01-R/blob/fp/final_project/Models.ipynb \n",
    "- Delimitter: ,\n",
    "- Number of components: 10\n",
    "- Library used to generate: none; I used my own function from hw7 to apply PCA from scratch\n",
    "- Top 5 positive terms for first component: that but not was had\n",
    "- Top 5 negative terms for second component: rachel women really like villa"
   ]
  },
  {
   "cell_type": "markdown",
   "id": "73adc882-cbce-4d24-9923-5d36ac609f43",
   "metadata": {
    "tags": []
   },
   "source": [
    "## PCA DCM (4)\n",
    "\n",
    "The document-component matrix generated.\n",
    "\n",
    "- UVA Box URL: https://virginia.box.com/s/22beso4gh69h4m8pgpsw6jmg4cagjenf \n",
    "- GitHub URL for notebook used to create: https://github.com/sqr8ap/DS5001-2025-01-R/blob/fp/final_project/Models.ipynb \n",
    "- Delimitter: ,"
   ]
  },
  {
   "cell_type": "markdown",
   "id": "b3fd2a4a-7f2f-4259-a5c4-063168cb1b14",
   "metadata": {
    "tags": []
   },
   "source": [
    "## PCA Loadings (4)\n",
    "\n",
    "The component-term matrix generated.\n",
    "\n",
    "- UVA Box URL: https://virginia.box.com/s/zqr18gesf75ikj3veamn7u61bqfd29sn \n",
    "- GitHub URL for notebook used to create: https://github.com/sqr8ap/DS5001-2025-01-R/blob/fp/final_project/Models.ipynb \n",
    "- Delimitter: ,"
   ]
  },
  {
   "cell_type": "markdown",
   "id": "84fff42f-6665-4941-ba3d-034627dc0124",
   "metadata": {},
   "source": [
    "## PCA Visualization 1 (4)\n",
    "\n",
    "Include a scatterplot of documents in the space created by the first two components.\n",
    "\n",
    "Color the points based on a metadata feature associated with the documents.\n",
    "\n",
    "Also include a scatterplot of the loadings for the same two components. (This does not need a feature mapped onto color.)\n",
    "\n",
    "![](pca_vis_1a.png)\n",
    "\n",
    "![](pca_vis_1b.png)\n",
    "\n",
    "Briefly describe the nature of the polarity you see in the first component:\n",
    "\n",
    "Based on the plot of documents in PC0 vs PC1 space, there's a notable separation along the first component (PC0) between documents with a male protagonist and documents with a female protagonist. Documents with a male protagonist also appear to be tightly clustered along PC1 as well. Documents with a female protagonist are a bit more variable in terms of both components. The plot of the loadings for these two components depicts a cloud of points spanning all directions, though most points map to the positive pole of PC0. "
   ]
  },
  {
   "cell_type": "markdown",
   "id": "2eb54565-7669-4a2f-90b2-a4c283277c02",
   "metadata": {},
   "source": [
    "## PCA Visualization 2 (4)\n",
    "\n",
    "Include a scatterplot of documents in the space created by the second two components.\n",
    "\n",
    "Color the points based on a metadata feature associated with the documents.\n",
    "\n",
    "Also include a scatterplot of the loadings for the same two components. (This does not need a feature mapped onto color.)\n",
    "\n",
    "![](pca_vis_2a.png)\n",
    "\n",
    "![](pca_vis_2b.png)\n",
    "\n",
    "Briefly describe the nature of the polarity you see in the second component:\n",
    "\n",
    "The plot of documents in PC2/PC3 space depicts a tighter cluster that lacks clear separation based on protagonist sex. Points are largely centered around 0 along each component. The plot of the term loadings for these components depicts a wide cloud centered at (0,0). "
   ]
  },
  {
   "cell_type": "markdown",
   "id": "d3ee23b2-25d1-4226-bf31-1607e5ed4677",
   "metadata": {
    "tags": []
   },
   "source": [
    "## LDA TOPIC (4)\n",
    "\n",
    "- UVA Box URL: https://virginia.box.com/s/hgg21jrdhaoe3zt9h95l240ujcdy1hro \n",
    "- UVA Box URL of count matrix used to create: https://virginia.box.com/s/c8g5xsqz9img34lgzu1hz98i21m6lskq \n",
    "- GitHub URL for notebook used to create: https://github.com/sqr8ap/DS5001-2025-01-R/blob/fp/final_project/Models.ipynb \n",
    "- Delimitter: ,\n",
    "- Libary used to compute: sklearn\n",
    "- A description of any filtering, e.g. POS (Nouns and Verbs only): common nouns only (filtered out proper)\n",
    "- Number of components: 20\n",
    "- Any other parameters used: bag = chapter = ['book_id', 'chap_num'], max_features = 4000, stop_words = 'english', n_components = 20, max_iter = 5, learning_offset = 50, random_state = 0, n_words = 7\n",
    "- Top 5 words and best-guess labels for top five topics by mean document weight:\n",
    "  - T00: harsh aback pride prime primeval; PRIMAL\n",
    "  - T01: mother life time book people; FAMILY\n",
    "  - T02: people time room things eyes; HOME\n",
    "  - T03: harsh aback pride prime primeval; PRIMAL\n",
    "  - T04: harsh aback pride prime primeval; PRIMAL\n",
    "\n",
    "Note: my topics seem to have some repeats, so here's two other topics with top words and best guess labels:\n",
    "\n",
    "T19: wind waves eyes ship sea; SEA/VOYAGE\n",
    "\n",
    "T06: trees river boat bank deck; NATURE"
   ]
  },
  {
   "cell_type": "markdown",
   "id": "a518d520-4a5c-48fa-836d-f8ea3e3c2f06",
   "metadata": {
    "tags": []
   },
   "source": [
    "## LDA THETA (4)\n",
    "\n",
    "- UVA Box URL: https://virginia.box.com/s/eupjoex3v491i7o2tvef9i2ychucvnwx \n",
    "- GitHub URL for notebook used to create: https://github.com/sqr8ap/DS5001-2025-01-R/blob/fp/final_project/Models.ipynb \n",
    "- Delimitter: ,"
   ]
  },
  {
   "cell_type": "markdown",
   "id": "f8808b30-64f4-4249-95d5-d7c0925ce432",
   "metadata": {
    "tags": []
   },
   "source": [
    "## LDA PHI (4)\n",
    "\n",
    "- UVA Box URL: https://virginia.box.com/s/ien5kmrnktewrkkf9jtnh1g6tt4ywxhd \n",
    "- GitHub URL for notebook used to create: https://github.com/sqr8ap/DS5001-2025-01-R/blob/fp/final_project/Models.ipynb \n",
    "- Delimitter: ,"
   ]
  },
  {
   "cell_type": "markdown",
   "id": "18e404bf-8a2a-4eb4-ba89-0c708c8f359d",
   "metadata": {},
   "source": [
    "## LDA + PCA Visualization (4)\n",
    "\n",
    "Apply PCA to the THETA table and plot the topics in the space opened by the first two components.\n",
    "\n",
    "Size the points based on the mean document weight of each topic (using the THETA table).\n",
    "\n",
    "Color the points basd on a metadata feature from the LIB table.\n",
    "\n",
    "Provide a brief interpretation of what you see.\n",
    "\n",
    "![](lda_pca.png)\n",
    "\n",
    "Although I'm not seeing any major trends here, I can see that all points where Woolf's age is 33 (the first book published in my corpus) fall towards the negative pole of PC0, and almost all points where Woolf's age is 43 (the last book published in my corpus) fall towards the positive pole of PC0. Perhaps PC0 is capturing some thematic element that changed over the course of Woolf's works. "
   ]
  },
  {
   "cell_type": "markdown",
   "id": "a7e1f327-a386-476a-8d94-2ab7a63afa7a",
   "metadata": {},
   "source": [
    "## Sentiment VOCAB_SENT (4)\n",
    "\n",
    "Sentiment values associated with a subset of the VOCAB from a curated sentiment lexicon.\n",
    "\n",
    "- UVA Box URL: https://virginia.box.com/s/2s00r3jldmoiyvknrbrax0y2jkf4v3vs \n",
    "- UVA Box URL for source lexicon:  https://virginia.box.com/s/o4vone8dd46l4bshltzipnorxy681rwk \n",
    "- GitHub URL for notebook used to create: https://github.com/sqr8ap/DS5001-2025-01-R/blob/fp/final_project/Models2.ipynb \n",
    "- Delimitter: ,"
   ]
  },
  {
   "cell_type": "markdown",
   "id": "fa8a9d67-1560-4be9-b82a-b99a60b5c93e",
   "metadata": {
    "tags": []
   },
   "source": [
    "## Sentiment BOW_SENT (4)\n",
    "\n",
    "Sentiment values from VOCAB_SENT mapped onto BOW.\n",
    "\n",
    "- UVA Box URL: https://virginia.box.com/s/abr11n2d2g3rus6d5usre30fnphc1vwn\n",
    "- GitHub URL for notebook used to create: https://github.com/sqr8ap/DS5001-2025-01-R/blob/fp/final_project/Models2.ipynb \n",
    "- Delimitter: ,"
   ]
  },
  {
   "cell_type": "markdown",
   "id": "d6ee6837-b12e-453d-96c1-59eaa4b28883",
   "metadata": {},
   "source": [
    "## Sentiment DOC_SENT (4)\n",
    "\n",
    "Computed sentiment per bag computed from BOW_SENT.\n",
    "\n",
    "- UVA Box URL: https://virginia.box.com/s/h3vs21ro8ck464kex3pio2x9tm8jhh68 \n",
    "- GitHub URL for notebook used to create: https://github.com/sqr8ap/DS5001-2025-01-R/blob/fp/final_project/Models2.ipynb \n",
    "- Delimitter: ,\n",
    "- Document bag expressed in terms of OHCO levels: ['book_id', 'chap_num']"
   ]
  },
  {
   "cell_type": "markdown",
   "id": "7e4cba13-e60a-4940-a06d-02479f002c3c",
   "metadata": {},
   "source": [
    "## Sentiment Plot (4)\n",
    "\n",
    "Plot sentiment over some metric space, such as time.\n",
    "\n",
    "If you don't have a metric metadata features, plot sentiment over a feature of your choice.\n",
    "\n",
    "You may use a bar chart or a line graph.\n",
    "\n",
    "![](sent_time.png)"
   ]
  },
  {
   "cell_type": "markdown",
   "id": "4f5d2316-317b-4d95-a804-aff98242e411",
   "metadata": {},
   "source": [
    "## VOCAB_W2V (4)\n",
    "\n",
    "A table of word2vec features associated with terms in the VOCAB table.\n",
    "\n",
    "- UVA Box URL: https://virginia.box.com/s/alv7j90c87o4ty8be5d5mg30zaw758s7 \n",
    "- GitHub URL for notebook used to create: https://github.com/sqr8ap/DS5001-2025-01-R/blob/fp/final_project/Models3.ipynb \n",
    "- Delimitter: ,\n",
    "- Document bag expressed in terms of OHCO levels: Paragraph - ['book_id', 'chap_num', 'para_num', 'sent_num']\n",
    "- Number of features generated: 256\n",
    "- The library used to generate the embeddings: Gensim"
   ]
  },
  {
   "cell_type": "markdown",
   "id": "833c1974-047b-4285-9f4d-7f3314f39542",
   "metadata": {},
   "source": [
    "## Word2vec tSNE Plot (4)\n",
    "\n",
    "Plot word embedding featues in two-dimensions using t-SNE.\n",
    "\n",
    "Describe a cluster in the plot that captures your attention.\n",
    "\n",
    "![](tsne.png)\n",
    "\n",
    "This cluster contains words like 'degenerate,' 'culprit,' 'inmates' and 'jaded,' suggesting this region in space may be capturing some element/theme related to crime or moral corruption."
   ]
  },
  {
   "cell_type": "markdown",
   "id": "75878341-7fe8-4e22-b908-36029f9818e8",
   "metadata": {},
   "source": [
    "# Riffs\n",
    "\n",
    "Provde at least three visualizations that combine the preceding model data in interesting ways.\n",
    "\n",
    "These should provide insight into how features in the LIB table are related. \n",
    "\n",
    "The nature of this relationship is left open to you -- it may be correlation, or mutual information, or something less well defined. \n",
    "\n",
    "In doing so, consider the following visualization types:\n",
    "\n",
    "- Hierarchical cluster diagrams\n",
    "- Heatmaps\n",
    "- Scatter plots\n",
    "- KDE plots\n",
    "- Dispersion plots\n",
    "- t-SNE plots\n",
    "- etc."
   ]
  },
  {
   "cell_type": "markdown",
   "id": "1c62acf1-6bb0-45d0-aed2-863b285f8cad",
   "metadata": {
    "tags": []
   },
   "source": [
    "## Riff 1 (5)\n",
    "\n",
    "![](sent_chap.png)\n",
    "\n",
    "Here I've plotted average overall sentiment throughout the chapters of each book. We can see a steep decline in sentiment at the end of book 3, which is Jacob's Room. This notable drop-off makes sense, as Jacob's Room has a very sad ending with the death of Jacob. We can also see some notable dips in sentiment towards the end of books 1 and 2, which are The Voyage Out and Night and Day, respectively. The Voyage Out also ends in the death of a major character, so this decline also makes sense. "
   ]
  },
  {
   "cell_type": "markdown",
   "id": "2155a072-02b3-4aa8-b9f1-e43a59e9a85d",
   "metadata": {
    "tags": []
   },
   "source": [
    "## Riff 2 (5)\n",
    "\n",
    "![](tsne_topic_models.png)\n",
    "\n",
    "Here I've plotted the tsne projection of topic model vectors. I mapped protagonist sex and sadness score to color and size, respectively. Interestingly, most points with protagonist sex of male fall on the positive side of the first tsne dimension and the negative side of the second tsne dimension, with all other points spanning both positive and negative poles of each tsne dimension more equally. I'm not seeing any notable trends in terms of sadness scores. "
   ]
  },
  {
   "cell_type": "markdown",
   "id": "5067c59b-8983-4acc-972a-1ecd852ded57",
   "metadata": {
    "tags": []
   },
   "source": [
    "## Riff 3 (5)\n",
    "\n",
    "![](pca_lda_corr.png)\n",
    "\n",
    "Here I've generated a heatmap correlating topic weights and PCA components. It appears that PC2 and T09 are moderately correlated, as well as PC3 and T01. \n",
    "\n",
    "The top terms associated with T09 are night, eyes, arm, moment, light, door and time; the top terms associated with the negative pole of PC2 are region, darkness, globe, swam and recollection. There seems to be a shared theme of darkness or liminality here. Woolf is known for themes of consciousness and the mind, so this topic/component correlation makes a lot of sense. \n",
    "\n",
    "The top terms associated with T01 are mother, life, time, book, people, men and poet; the top terms associated with the positive pole of PC3 are poet, among, mothers, poets, task and books. There's definitely a shared theme of poetry and/or motherhood here, which also makes sense in the context of Woolf's characteristic themes. "
   ]
  },
  {
   "cell_type": "markdown",
   "id": "68e25c6e-2624-4899-829e-e7d60c878685",
   "metadata": {},
   "source": [
    "# Interpretation (4)\n",
    "\n",
    "Describe something interesting about your corpus that you discovered during the process of completing this assignment.\n",
    "\n",
    "At a minumum, use 250 words, but you may use more. You may also add images if you'd like.\n",
    "\n",
    "(INSERT INTERPRETATION HERE)"
   ]
  },
  {
   "cell_type": "code",
   "execution_count": null,
   "id": "800d056b-2bca-4724-be9c-91ea640b8129",
   "metadata": {},
   "outputs": [],
   "source": []
  }
 ],
 "metadata": {
  "kernelspec": {
   "display_name": "Python 3 (ipykernel)",
   "language": "python",
   "name": "python3"
  },
  "language_info": {
   "codemirror_mode": {
    "name": "ipython",
    "version": 3
   },
   "file_extension": ".py",
   "mimetype": "text/x-python",
   "name": "python",
   "nbconvert_exporter": "python",
   "pygments_lexer": "ipython3",
   "version": "3.11.7"
  },
  "toc-autonumbering": true,
  "toc-showmarkdowntxt": false
 },
 "nbformat": 4,
 "nbformat_minor": 5
}
