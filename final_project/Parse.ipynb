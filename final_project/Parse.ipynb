{
 "cells": [
  {
   "cell_type": "markdown",
   "id": "b6dab9d5-10ae-44c7-b5f0-56367a88d4a9",
   "metadata": {},
   "source": [
    "## Parse & Annotate"
   ]
  },
  {
   "cell_type": "code",
   "execution_count": 3,
   "id": "f16f4386-b215-48dc-9637-fbd315384546",
   "metadata": {},
   "outputs": [],
   "source": [
    "import numpy as np\n",
    "import pandas as pd\n",
    "import configparser\n",
    "config = configparser.ConfigParser()"
   ]
  },
  {
   "cell_type": "code",
   "execution_count": 8,
   "id": "82fd5f83-e7e4-4163-bbcd-2c5ac42b0a33",
   "metadata": {},
   "outputs": [],
   "source": [
    "config.read(\"../../env.ini\")\n",
    "data_home = config['DEFAULT']['data_home']\n",
    "output_dir = config['DEFAULT']['output_dir']"
   ]
  },
  {
   "cell_type": "code",
   "execution_count": 10,
   "id": "9eef9206-fe02-435b-8999-aa9b6e8d1031",
   "metadata": {},
   "outputs": [
    {
     "name": "stdout",
     "output_type": "stream",
     "text": [
      "total 89664\n",
      "-rw-r--r--@ 1 Samantha  staff   1752309 Jan 27 17:42 austen-persuasion.csv\n",
      "drwxr-xr-x@ 9 Samantha  staff       288 Jan 16 08:52 \u001b[34mgutenberg\u001b[m\u001b[m\n",
      "-rw-r--r--@ 1 Samantha  staff  43681675 Feb 28 14:01 novels-CORPUS.csv\n",
      "-rw-r--r--@ 1 Samantha  staff       421 Feb 28 14:00 novels-LIB.csv\n",
      "-rw-r--r--@ 1 Samantha  staff    465627 Jan 20 15:27 pg42324.txt\n",
      "drwxr-xr-x@ 6 Samantha  staff       192 Apr  7 20:49 \u001b[34mwoolf\u001b[m\u001b[m\n"
     ]
    }
   ],
   "source": [
    "!ls -l {data_home}"
   ]
  },
  {
   "cell_type": "code",
   "execution_count": 22,
   "id": "d4efc6e8-93ce-4091-a0b8-6386b152eaa1",
   "metadata": {},
   "outputs": [],
   "source": [
    "data_directory = f\"{data_home}/woolf\"\n",
    "OHCO = ['chap_num', 'para_num', 'sent_num', 'token_num']"
   ]
  },
  {
   "cell_type": "code",
   "execution_count": 78,
   "id": "a5039efe-698e-43bd-a95d-dd439040b2f3",
   "metadata": {},
   "outputs": [],
   "source": [
    "## Get lines\n",
    "\n",
    "# The Voyage Out\n",
    "voyage = f\"{data_directory}/voyage.txt\"\n",
    "LINES_voyage = pd.DataFrame(open(voyage, 'r', encoding='utf-8-sig').readlines(), columns=['line_str'])\n",
    "LINES_voyage.index.name = 'line_num'\n",
    "LINES_voyage.line_str = LINES_voyage.line_str.str.replace(r'\\n+', ' ', regex=True).str.strip()\n",
    "\n",
    "# Night and Day\n",
    "nightday = f\"{data_directory}/nightday.txt\"\n",
    "LINES_nightday = pd.DataFrame(open(nightday, 'r', encoding='utf-8-sig').readlines(), columns=['line_str'])\n",
    "LINES_nightday.index.name = 'line_num'\n",
    "LINES_nightday.line_str = LINES_nightday.line_str.str.replace(r'\\n+', ' ', regex=True).str.strip()\n",
    "\n",
    "# Jacob's Room\n",
    "jacob = f\"{data_directory}/jacobsroom.txt\"\n",
    "LINES_jacob = pd.DataFrame(open(jacob, 'r', encoding='utf-8-sig').readlines(), columns=['line_str'])\n",
    "LINES_jacob.index.name = 'line_num'\n",
    "LINES_jacob.line_str = LINES_jacob.line_str.str.replace(r'\\n+', ' ', regex=True).str.strip()\n",
    "\n",
    "# Mrs. Dalloway\n",
    "dalloway = f\"{data_directory}/dalloway.txt\"\n",
    "LINES_dalloway = pd.DataFrame(open(dalloway, 'r', encoding='utf-8-sig').readlines(), columns=['line_str'])\n",
    "LINES_dalloway.index.name = 'line_num'\n",
    "LINES_dalloway.line_str = LINES_dalloway.line_str.str.replace(r'\\n+', ' ', regex=True).str.strip()"
   ]
  },
  {
   "cell_type": "code",
   "execution_count": 80,
   "id": "50ca1840-bcd2-4785-b7e7-59f190854bed",
   "metadata": {},
   "outputs": [],
   "source": [
    "## Clean up\n",
    "\n",
    "books = [LINES_voyage, LINES_nightday, LINES_jacob, LINES_dalloway]\n",
    "\n",
    "def clip(book):\n",
    "    clip_pats = [\n",
    "        r\"\\*\\*\\*\\s*START OF (?:THE|THIS) PROJECT\",\n",
    "        r\"\\*\\*\\*\\s*END OF (?:THE|THIS) PROJECT\"\n",
    "    ]\n",
    "    \n",
    "    pat_a = book.line_str.str.match(clip_pats[0])\n",
    "    pat_b = book.line_str.str.match(clip_pats[1])\n",
    "\n",
    "    line_a = book.loc[pat_a].index[0] + 1\n",
    "    line_b = book.loc[pat_b].index[0] - 1\n",
    "\n",
    "    return book.loc[line_a : line_b]\n",
    "\n",
    "LINES_voyage = clip(LINES_voyage)\n",
    "LINES_nightday = clip(LINES_nightday)\n",
    "LINES_jacob = clip(LINES_jacob)\n",
    "LINES_dalloway = clip(LINES_dalloway)"
   ]
  },
  {
   "cell_type": "code",
   "execution_count": null,
   "id": "d94cb250-42e5-4108-823e-1d55e57bd61a",
   "metadata": {},
   "outputs": [],
   "source": []
  }
 ],
 "metadata": {
  "kernelspec": {
   "display_name": "Python 3 (ipykernel)",
   "language": "python",
   "name": "python3"
  },
  "language_info": {
   "codemirror_mode": {
    "name": "ipython",
    "version": 3
   },
   "file_extension": ".py",
   "mimetype": "text/x-python",
   "name": "python",
   "nbconvert_exporter": "python",
   "pygments_lexer": "ipython3",
   "version": "3.11.7"
  }
 },
 "nbformat": 4,
 "nbformat_minor": 5
}
