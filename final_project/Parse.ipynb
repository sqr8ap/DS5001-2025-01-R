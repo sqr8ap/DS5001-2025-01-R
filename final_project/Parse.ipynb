{
 "cells": [
  {
   "cell_type": "markdown",
   "id": "b6dab9d5-10ae-44c7-b5f0-56367a88d4a9",
   "metadata": {},
   "source": [
    "## Parse & Annotate"
   ]
  },
  {
   "cell_type": "code",
   "execution_count": 3,
   "id": "f16f4386-b215-48dc-9637-fbd315384546",
   "metadata": {},
   "outputs": [],
   "source": [
    "import numpy as np\n",
    "import pandas as pd\n",
    "import configparser\n",
    "config = configparser.ConfigParser()"
   ]
  },
  {
   "cell_type": "code",
   "execution_count": 8,
   "id": "82fd5f83-e7e4-4163-bbcd-2c5ac42b0a33",
   "metadata": {},
   "outputs": [],
   "source": [
    "config.read(\"../../env.ini\")\n",
    "data_home = config['DEFAULT']['data_home']\n",
    "output_dir = config['DEFAULT']['output_dir']"
   ]
  },
  {
   "cell_type": "code",
   "execution_count": 10,
   "id": "9eef9206-fe02-435b-8999-aa9b6e8d1031",
   "metadata": {},
   "outputs": [
    {
     "name": "stdout",
     "output_type": "stream",
     "text": [
      "total 89664\n",
      "-rw-r--r--@ 1 Samantha  staff   1752309 Jan 27 17:42 austen-persuasion.csv\n",
      "drwxr-xr-x@ 9 Samantha  staff       288 Jan 16 08:52 \u001b[34mgutenberg\u001b[m\u001b[m\n",
      "-rw-r--r--@ 1 Samantha  staff  43681675 Feb 28 14:01 novels-CORPUS.csv\n",
      "-rw-r--r--@ 1 Samantha  staff       421 Feb 28 14:00 novels-LIB.csv\n",
      "-rw-r--r--@ 1 Samantha  staff    465627 Jan 20 15:27 pg42324.txt\n",
      "drwxr-xr-x@ 6 Samantha  staff       192 Apr  7 20:49 \u001b[34mwoolf\u001b[m\u001b[m\n"
     ]
    }
   ],
   "source": [
    "!ls -l {data_home}"
   ]
  },
  {
   "cell_type": "code",
   "execution_count": 16,
   "id": "d4efc6e8-93ce-4091-a0b8-6386b152eaa1",
   "metadata": {},
   "outputs": [],
   "source": [
    "data_directory = '/Users/Samantha/Desktop/MSDS/DS5001/data/woolf'\n",
    "OHCO = ['chap_num', 'para_num', 'sent_num', 'token_num']"
   ]
  },
  {
   "cell_type": "code",
   "execution_count": 18,
   "id": "a5039efe-698e-43bd-a95d-dd439040b2f3",
   "metadata": {},
   "outputs": [
    {
     "ename": "NameError",
     "evalue": "name 'text_file' is not defined",
     "output_type": "error",
     "traceback": [
      "\u001b[0;31m---------------------------------------------------------------------------\u001b[0m",
      "\u001b[0;31mNameError\u001b[0m                                 Traceback (most recent call last)",
      "Cell \u001b[0;32mIn[18], line 3\u001b[0m\n\u001b[1;32m      1\u001b[0m \u001b[38;5;66;03m# Get lines\u001b[39;00m\n\u001b[0;32m----> 3\u001b[0m LINES \u001b[38;5;241m=\u001b[39m pd\u001b[38;5;241m.\u001b[39mDataFrame(\u001b[38;5;28mopen\u001b[39m(text_file, \u001b[38;5;124m'\u001b[39m\u001b[38;5;124mr\u001b[39m\u001b[38;5;124m'\u001b[39m, encoding\u001b[38;5;241m=\u001b[39m\u001b[38;5;124m'\u001b[39m\u001b[38;5;124mutf-8-sig\u001b[39m\u001b[38;5;124m'\u001b[39m)\u001b[38;5;241m.\u001b[39mreadlines(), columns\u001b[38;5;241m=\u001b[39m[\u001b[38;5;124m'\u001b[39m\u001b[38;5;124mline_str\u001b[39m\u001b[38;5;124m'\u001b[39m])\n\u001b[1;32m      4\u001b[0m LINES\u001b[38;5;241m.\u001b[39mindex\u001b[38;5;241m.\u001b[39mname \u001b[38;5;241m=\u001b[39m \u001b[38;5;124m'\u001b[39m\u001b[38;5;124mline_num\u001b[39m\u001b[38;5;124m'\u001b[39m\n\u001b[1;32m      5\u001b[0m LINES\u001b[38;5;241m.\u001b[39mline_str \u001b[38;5;241m=\u001b[39m LINES\u001b[38;5;241m.\u001b[39mline_str\u001b[38;5;241m.\u001b[39mstr\u001b[38;5;241m.\u001b[39mreplace(\u001b[38;5;124mr\u001b[39m\u001b[38;5;124m'\u001b[39m\u001b[38;5;124m\\\u001b[39m\u001b[38;5;124mn+\u001b[39m\u001b[38;5;124m'\u001b[39m, \u001b[38;5;124m'\u001b[39m\u001b[38;5;124m \u001b[39m\u001b[38;5;124m'\u001b[39m, regex\u001b[38;5;241m=\u001b[39m\u001b[38;5;28;01mTrue\u001b[39;00m)\u001b[38;5;241m.\u001b[39mstr\u001b[38;5;241m.\u001b[39mstrip()\n",
      "\u001b[0;31mNameError\u001b[0m: name 'text_file' is not defined"
     ]
    }
   ],
   "source": [
    "# Get lines\n",
    "\n",
    "LINES = pd.DataFrame(open(text_file, 'r', encoding='utf-8-sig').readlines(), columns=['line_str'])\n",
    "LINES.index.name = 'line_num'\n",
    "LINES.line_str = LINES.line_str.str.replace(r'\\n+', ' ', regex=True).str.strip()"
   ]
  }
 ],
 "metadata": {
  "kernelspec": {
   "display_name": "Python 3 (ipykernel)",
   "language": "python",
   "name": "python3"
  },
  "language_info": {
   "codemirror_mode": {
    "name": "ipython",
    "version": 3
   },
   "file_extension": ".py",
   "mimetype": "text/x-python",
   "name": "python",
   "nbconvert_exporter": "python",
   "pygments_lexer": "ipython3",
   "version": "3.11.7"
  }
 },
 "nbformat": 4,
 "nbformat_minor": 5
}
