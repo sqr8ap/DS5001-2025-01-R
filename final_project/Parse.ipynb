{
 "cells": [
  {
   "cell_type": "markdown",
   "id": "b6dab9d5-10ae-44c7-b5f0-56367a88d4a9",
   "metadata": {},
   "source": [
    "## Parse & Annotate"
   ]
  },
  {
   "cell_type": "code",
   "execution_count": 174,
   "id": "32d04b29-a17d-4d18-9211-ba336b5da101",
   "metadata": {},
   "outputs": [],
   "source": [
    "import warnings\n",
    "warnings.filterwarnings(\"ignore\", category=pd.errors.SettingWithCopyWarning)"
   ]
  },
  {
   "cell_type": "code",
   "execution_count": 4,
   "id": "f16f4386-b215-48dc-9637-fbd315384546",
   "metadata": {},
   "outputs": [],
   "source": [
    "import numpy as np\n",
    "import pandas as pd\n",
    "import configparser\n",
    "config = configparser.ConfigParser()"
   ]
  },
  {
   "cell_type": "code",
   "execution_count": 6,
   "id": "82fd5f83-e7e4-4163-bbcd-2c5ac42b0a33",
   "metadata": {},
   "outputs": [],
   "source": [
    "config.read(\"../../env.ini\")\n",
    "data_home = config['DEFAULT']['data_home']\n",
    "output_dir = config['DEFAULT']['output_dir']"
   ]
  },
  {
   "cell_type": "code",
   "execution_count": 8,
   "id": "9eef9206-fe02-435b-8999-aa9b6e8d1031",
   "metadata": {},
   "outputs": [
    {
     "name": "stdout",
     "output_type": "stream",
     "text": [
      "total 89664\n",
      "-rw-r--r--@ 1 Samantha  staff   1752309 Jan 27 17:42 austen-persuasion.csv\n",
      "drwxr-xr-x@ 9 Samantha  staff       288 Jan 16 08:52 \u001b[34mgutenberg\u001b[m\u001b[m\n",
      "-rw-r--r--@ 1 Samantha  staff  43681675 Feb 28 14:01 novels-CORPUS.csv\n",
      "-rw-r--r--@ 1 Samantha  staff       421 Feb 28 14:00 novels-LIB.csv\n",
      "-rw-r--r--@ 1 Samantha  staff    465627 Jan 20 15:27 pg42324.txt\n",
      "drwxr-xr-x@ 6 Samantha  staff       192 Apr  7 20:49 \u001b[34mwoolf\u001b[m\u001b[m\n"
     ]
    }
   ],
   "source": [
    "!ls -l {data_home}"
   ]
  },
  {
   "cell_type": "code",
   "execution_count": 81,
   "id": "d4efc6e8-93ce-4091-a0b8-6386b152eaa1",
   "metadata": {},
   "outputs": [],
   "source": [
    "data_directory = f\"{data_home}/woolf\"\n",
    "OHCO = ['chap_num', 'para_num', 'sent_num', 'token_num']"
   ]
  },
  {
   "cell_type": "markdown",
   "id": "1652c9f1-d325-4f2d-987c-696bc4cd9071",
   "metadata": {},
   "source": [
    "#### Get lines"
   ]
  },
  {
   "cell_type": "code",
   "execution_count": 95,
   "id": "a5039efe-698e-43bd-a95d-dd439040b2f3",
   "metadata": {},
   "outputs": [],
   "source": [
    "# The Voyage Out\n",
    "voyage = f\"{data_directory}/voyage.txt\"\n",
    "LINES_voyage = pd.DataFrame(open(voyage, 'r', encoding='utf-8-sig').readlines(), columns=['line_str'])\n",
    "LINES_voyage.index.name = 'line_num'\n",
    "LINES_voyage.line_str = LINES_voyage.line_str.str.replace(r'\\n+', ' ', regex=True).str.strip()\n",
    "\n",
    "# Night and Day\n",
    "nightday = f\"{data_directory}/nightday.txt\"\n",
    "LINES_nightday = pd.DataFrame(open(nightday, 'r', encoding='utf-8-sig').readlines(), columns=['line_str'])\n",
    "LINES_nightday.index.name = 'line_num'\n",
    "LINES_nightday.line_str = LINES_nightday.line_str.str.replace(r'\\n+', ' ', regex=True).str.strip()\n",
    "\n",
    "# Jacob's Room\n",
    "jacob = f\"{data_directory}/jacobsroom.txt\"\n",
    "LINES_jacob = pd.DataFrame(open(jacob, 'r', encoding='utf-8-sig').readlines(), columns=['line_str'])\n",
    "LINES_jacob.index.name = 'line_num'\n",
    "LINES_jacob.line_str = LINES_jacob.line_str.str.replace(r'\\n+', ' ', regex=True).str.strip()\n",
    "\n",
    "# Mrs. Dalloway\n",
    "dalloway = f\"{data_directory}/dalloway.txt\"\n",
    "LINES_dalloway = pd.DataFrame(open(dalloway, 'r', encoding='utf-8-sig').readlines(), columns=['line_str'])\n",
    "LINES_dalloway.index.name = 'line_num'\n",
    "LINES_dalloway.line_str = LINES_dalloway.line_str.str.replace(r'\\n+', ' ', regex=True).str.strip()"
   ]
  },
  {
   "cell_type": "markdown",
   "id": "baafd2eb-5bd1-4644-bfc1-4e64f5199a3b",
   "metadata": {},
   "source": [
    "#### Clean up"
   ]
  },
  {
   "cell_type": "code",
   "execution_count": 97,
   "id": "50ca1840-bcd2-4785-b7e7-59f190854bed",
   "metadata": {},
   "outputs": [],
   "source": [
    "books = [LINES_voyage, LINES_nightday, LINES_jacob, LINES_dalloway]\n",
    "\n",
    "def clip(book):\n",
    "    clip_pats = [\n",
    "        r\"\\*\\*\\*\\s*START OF (?:THE|THIS) PROJECT\",\n",
    "        r\"\\*\\*\\*\\s*END OF (?:THE|THIS) PROJECT\"\n",
    "    ]\n",
    "    \n",
    "    pat_a = book.line_str.str.match(clip_pats[0])\n",
    "    pat_b = book.line_str.str.match(clip_pats[1])\n",
    "\n",
    "    line_a = book.loc[pat_a].index[0] + 1\n",
    "    line_b = book.loc[pat_b].index[0] - 1\n",
    "\n",
    "    return book.loc[line_a : line_b]\n",
    "\n",
    "LINES_voyage = clip(LINES_voyage)\n",
    "LINES_nightday = clip(LINES_nightday)\n",
    "LINES_jacob = clip(LINES_jacob)\n",
    "LINES_dalloway = clip(LINES_dalloway)"
   ]
  },
  {
   "cell_type": "markdown",
   "id": "7f684109-9bc0-4e30-b6ec-a3430ea3bffa",
   "metadata": {},
   "source": [
    "#### Chunk by chapter (sections for Mrs. Dalloway)"
   ]
  },
  {
   "cell_type": "markdown",
   "id": "16c648f0-aade-4725-a3eb-46223eecfb51",
   "metadata": {},
   "source": [
    "voyage:"
   ]
  },
  {
   "cell_type": "code",
   "execution_count": 99,
   "id": "d94cb250-42e5-4108-823e-1d55e57bd61a",
   "metadata": {},
   "outputs": [],
   "source": [
    "# First get rid of table of contents\n",
    "LINES_voyage = LINES_voyage.iloc[38:]\n",
    "\n",
    "chap_pat = r\"^\\s*CHAPTER\\s+[IVXLCDM]+\\s*$\"\n",
    "chap_lines_voyage = LINES_voyage.line_str.str.match(chap_pat, case=False)"
   ]
  },
  {
   "cell_type": "code",
   "execution_count": 105,
   "id": "c04eadf6-7b74-41d7-ba64-f62e7e695cec",
   "metadata": {},
   "outputs": [],
   "source": [
    "LINES_voyage.loc[chap_lines_voyage, 'chap_num'] = [i+1 for i in range(LINES_voyage.loc[chap_lines_voyage].shape[0])]"
   ]
  },
  {
   "cell_type": "code",
   "execution_count": 111,
   "id": "fd62ee90-d593-4ded-8c14-dd17c1795e23",
   "metadata": {},
   "outputs": [],
   "source": [
    "LINES_voyage.chap_num = LINES_voyage.chap_num.ffill()"
   ]
  },
  {
   "cell_type": "code",
   "execution_count": 119,
   "id": "ee2861bc-7ac0-4e4e-9e95-3a05cbd6f20d",
   "metadata": {},
   "outputs": [],
   "source": [
    "LINES_voyage = LINES_voyage.dropna(subset=['chap_num']) # Remove everything before Chapter 1\n",
    "LINES_voyage = LINES_voyage.loc[~chap_lines_voyage] # Remove chapter heading lines; their work is done\n",
    "LINES_voyage.chap_num = LINES_voyage.chap_num.astype('int') # Convert chap_num from float to int"
   ]
  },
  {
   "cell_type": "code",
   "execution_count": 141,
   "id": "bd1982b5-33e4-49d8-a4ba-0abd861bbf24",
   "metadata": {},
   "outputs": [
    {
     "data": {
      "text/html": [
       "<div>\n",
       "<style scoped>\n",
       "    .dataframe tbody tr th:only-of-type {\n",
       "        vertical-align: middle;\n",
       "    }\n",
       "\n",
       "    .dataframe tbody tr th {\n",
       "        vertical-align: top;\n",
       "    }\n",
       "\n",
       "    .dataframe thead th {\n",
       "        text-align: right;\n",
       "    }\n",
       "</style>\n",
       "<table border=\"1\" class=\"dataframe\">\n",
       "  <thead>\n",
       "    <tr style=\"text-align: right;\">\n",
       "      <th></th>\n",
       "      <th>line_str</th>\n",
       "      <th>chap_num</th>\n",
       "    </tr>\n",
       "    <tr>\n",
       "      <th>line_num</th>\n",
       "      <th></th>\n",
       "      <th></th>\n",
       "    </tr>\n",
       "  </thead>\n",
       "  <tbody>\n",
       "    <tr>\n",
       "      <th>8851</th>\n",
       "      <td>going to describe the kind of parties I once w...</td>\n",
       "      <td>16</td>\n",
       "    </tr>\n",
       "    <tr>\n",
       "      <th>4795</th>\n",
       "      <td>or absolutely terrifying. I don’t know which a...</td>\n",
       "      <td>9</td>\n",
       "    </tr>\n",
       "    <tr>\n",
       "      <th>204</th>\n",
       "      <td>for Night Schools.</td>\n",
       "      <td>1</td>\n",
       "    </tr>\n",
       "  </tbody>\n",
       "</table>\n",
       "</div>"
      ],
      "text/plain": [
       "                                                   line_str  chap_num\n",
       "line_num                                                             \n",
       "8851      going to describe the kind of parties I once w...        16\n",
       "4795      or absolutely terrifying. I don’t know which a...         9\n",
       "204                                      for Night Schools.         1"
      ]
     },
     "execution_count": 141,
     "metadata": {},
     "output_type": "execute_result"
    }
   ],
   "source": [
    "LINES_voyage.sample(3)"
   ]
  },
  {
   "cell_type": "code",
   "execution_count": 143,
   "id": "a5ad600d-b22c-4d8a-a9ff-5dedc44179d1",
   "metadata": {},
   "outputs": [],
   "source": [
    "# Make CHAPS table\n",
    "CHAPS_voyage = LINES_voyage.groupby(OHCO[:1])\\\n",
    "    .line_str.apply(lambda x: '\\n'.join(x))\\\n",
    "    .to_frame('chap_str')\n",
    "\n",
    "CHAPS_voyage['chap_str'] = CHAPS_voyage.chap_str.str.strip()"
   ]
  },
  {
   "cell_type": "markdown",
   "id": "57ded226-b8e1-4688-aa1f-f849a4782099",
   "metadata": {},
   "source": [
    "nightday:"
   ]
  },
  {
   "cell_type": "code",
   "execution_count": 160,
   "id": "1cbc00eb-23a1-46ec-98d3-cf90fca0f4da",
   "metadata": {},
   "outputs": [],
   "source": [
    "LINES_nightday = LINES_nightday.iloc[56:]"
   ]
  },
  {
   "cell_type": "code",
   "execution_count": 164,
   "id": "1da49d3a-68f5-4175-ab95-101a02c20db3",
   "metadata": {},
   "outputs": [],
   "source": [
    "chap_pat = r\"^\\s*CHAPTER\\s+[IVXLCDM]+\\s*$\"\n",
    "chap_lines_nightday = LINES_nightday.line_str.str.match(chap_pat, case=False)"
   ]
  },
  {
   "cell_type": "code",
   "execution_count": 168,
   "id": "a9f2b6f6-f906-42a7-9406-ff354d2f659c",
   "metadata": {},
   "outputs": [],
   "source": [
    "LINES_nightday.loc[chap_lines_nightday, 'chap_num'] = [i+1 for i in range(LINES_nightday.loc[chap_lines_nightday].shape[0])]"
   ]
  },
  {
   "cell_type": "code",
   "execution_count": 176,
   "id": "531b8a10-e863-4863-bac1-9697d8eedd85",
   "metadata": {},
   "outputs": [],
   "source": [
    "LINES_nightday.chap_num = LINES_nightday.chap_num.ffill()"
   ]
  },
  {
   "cell_type": "code",
   "execution_count": 180,
   "id": "f016bc6e-060c-4d31-9dd0-fbb657d0bc94",
   "metadata": {},
   "outputs": [],
   "source": [
    "LINES_nightday = LINES_nightday.dropna(subset=['chap_num']) # Remove everything before Chapter 1\n",
    "LINES_nightday = LINES_nightday.loc[~chap_lines_nightday] # Remove chapter heading lines\n",
    "LINES_nightday.chap_num = LINES_nightday.chap_num.astype('int') # Convert chap_num from float to int"
   ]
  },
  {
   "cell_type": "code",
   "execution_count": 184,
   "id": "58c60229-5308-4cd8-a559-3876fe3bb54b",
   "metadata": {},
   "outputs": [
    {
     "data": {
      "text/html": [
       "<div>\n",
       "<style scoped>\n",
       "    .dataframe tbody tr th:only-of-type {\n",
       "        vertical-align: middle;\n",
       "    }\n",
       "\n",
       "    .dataframe tbody tr th {\n",
       "        vertical-align: top;\n",
       "    }\n",
       "\n",
       "    .dataframe thead th {\n",
       "        text-align: right;\n",
       "    }\n",
       "</style>\n",
       "<table border=\"1\" class=\"dataframe\">\n",
       "  <thead>\n",
       "    <tr style=\"text-align: right;\">\n",
       "      <th></th>\n",
       "      <th>line_str</th>\n",
       "      <th>chap_num</th>\n",
       "    </tr>\n",
       "    <tr>\n",
       "      <th>line_num</th>\n",
       "      <th></th>\n",
       "      <th></th>\n",
       "    </tr>\n",
       "  </thead>\n",
       "  <tbody>\n",
       "    <tr>\n",
       "      <th>12194</th>\n",
       "      <td>that Katharine was outside the community in so...</td>\n",
       "      <td>26</td>\n",
       "    </tr>\n",
       "    <tr>\n",
       "      <th>9427</th>\n",
       "      <td>Katharine, who spoke sincerely, could envy her.</td>\n",
       "      <td>21</td>\n",
       "    </tr>\n",
       "    <tr>\n",
       "      <th>18040</th>\n",
       "      <td>unfinished, the unfulfilled, the unwritten, th...</td>\n",
       "      <td>34</td>\n",
       "    </tr>\n",
       "  </tbody>\n",
       "</table>\n",
       "</div>"
      ],
      "text/plain": [
       "                                                   line_str  chap_num\n",
       "line_num                                                             \n",
       "12194     that Katharine was outside the community in so...        26\n",
       "9427        Katharine, who spoke sincerely, could envy her.        21\n",
       "18040     unfinished, the unfulfilled, the unwritten, th...        34"
      ]
     },
     "execution_count": 184,
     "metadata": {},
     "output_type": "execute_result"
    }
   ],
   "source": [
    "LINES_nightday.sample(3)"
   ]
  },
  {
   "cell_type": "code",
   "execution_count": 186,
   "id": "4700b62a-6f15-42b2-a879-36885e18a06f",
   "metadata": {},
   "outputs": [],
   "source": [
    "# Make CHAPS table\n",
    "CHAPS_nightday = LINES_nightday.groupby(OHCO[:1])\\\n",
    "    .line_str.apply(lambda x: '\\n'.join(x))\\\n",
    "    .to_frame('chap_str')\n",
    "\n",
    "CHAPS_nightday['chap_str'] = CHAPS_nightday.chap_str.str.strip()"
   ]
  },
  {
   "cell_type": "markdown",
   "id": "7c5e4946-7424-4b4a-b498-06600e397d30",
   "metadata": {},
   "source": [
    "jacob:"
   ]
  },
  {
   "cell_type": "code",
   "execution_count": 199,
   "id": "67fa51b0-8dd2-42e6-a6bb-7a665e05283c",
   "metadata": {},
   "outputs": [],
   "source": [
    "LINES_jacob = LINES_jacob.iloc[20:]"
   ]
  },
  {
   "cell_type": "code",
   "execution_count": 201,
   "id": "78166eed-7bc2-4326-9f4c-14ee66d952c2",
   "metadata": {},
   "outputs": [],
   "source": [
    "chap_pat = r\"^\\s*CHAPTER\\s+[A-Z]+\\s*$\"\n",
    "chap_lines_jacob = LINES_jacob.line_str.str.match(chap_pat, case=False)"
   ]
  },
  {
   "cell_type": "code",
   "execution_count": 203,
   "id": "6b175fb8-d652-4c6b-8247-3166327fc172",
   "metadata": {},
   "outputs": [],
   "source": [
    "LINES_jacob.loc[chap_lines_jacob, 'chap_num'] = [i+1 for i in range(LINES_jacob.loc[chap_lines_jacob].shape[0])]"
   ]
  },
  {
   "cell_type": "code",
   "execution_count": 205,
   "id": "63096fb2-7584-483f-b05e-1f37a1e79f50",
   "metadata": {},
   "outputs": [],
   "source": [
    "LINES_jacob.chap_num = LINES_jacob.chap_num.ffill()"
   ]
  },
  {
   "cell_type": "code",
   "execution_count": 209,
   "id": "0c5fe81d-6c88-4a2a-bf6b-09e19238863f",
   "metadata": {},
   "outputs": [],
   "source": [
    "LINES_jacob = LINES_jacob.dropna(subset=['chap_num']) # Remove everything before Chapter 1\n",
    "LINES_jacob = LINES_jacob.loc[~chap_lines_jacob] # Remove chapter heading lines\n",
    "LINES_jacob.chap_num = LINES_jacob.chap_num.astype('int') # Convert chap_num from float to int"
   ]
  },
  {
   "cell_type": "code",
   "execution_count": 215,
   "id": "11704201-0253-4ce5-9b29-84641ce4549c",
   "metadata": {},
   "outputs": [
    {
     "data": {
      "text/html": [
       "<div>\n",
       "<style scoped>\n",
       "    .dataframe tbody tr th:only-of-type {\n",
       "        vertical-align: middle;\n",
       "    }\n",
       "\n",
       "    .dataframe tbody tr th {\n",
       "        vertical-align: top;\n",
       "    }\n",
       "\n",
       "    .dataframe thead th {\n",
       "        text-align: right;\n",
       "    }\n",
       "</style>\n",
       "<table border=\"1\" class=\"dataframe\">\n",
       "  <thead>\n",
       "    <tr style=\"text-align: right;\">\n",
       "      <th></th>\n",
       "      <th>line_str</th>\n",
       "      <th>chap_num</th>\n",
       "    </tr>\n",
       "    <tr>\n",
       "      <th>line_num</th>\n",
       "      <th></th>\n",
       "      <th></th>\n",
       "    </tr>\n",
       "  </thead>\n",
       "  <tbody>\n",
       "    <tr>\n",
       "      <th>2251</th>\n",
       "      <td>by the industrious pen. Innumerable overcoats ...</td>\n",
       "      <td>5</td>\n",
       "    </tr>\n",
       "    <tr>\n",
       "      <th>4047</th>\n",
       "      <td>barked down in the hollow. The liquid shadows ...</td>\n",
       "      <td>10</td>\n",
       "    </tr>\n",
       "    <tr>\n",
       "      <th>2866</th>\n",
       "      <td>Messrs. Mackie's dye-works, suffering in winte...</td>\n",
       "      <td>7</td>\n",
       "    </tr>\n",
       "  </tbody>\n",
       "</table>\n",
       "</div>"
      ],
      "text/plain": [
       "                                                   line_str  chap_num\n",
       "line_num                                                             \n",
       "2251      by the industrious pen. Innumerable overcoats ...         5\n",
       "4047      barked down in the hollow. The liquid shadows ...        10\n",
       "2866      Messrs. Mackie's dye-works, suffering in winte...         7"
      ]
     },
     "execution_count": 215,
     "metadata": {},
     "output_type": "execute_result"
    }
   ],
   "source": [
    "LINES_jacob.sample(3)"
   ]
  },
  {
   "cell_type": "code",
   "execution_count": 217,
   "id": "08bf4aec-7044-4b61-819c-1697efb416b5",
   "metadata": {},
   "outputs": [],
   "source": [
    "# Make CHAPS table\n",
    "CHAPS_jacob = LINES_jacob.groupby(OHCO[:1])\\\n",
    "    .line_str.apply(lambda x: '\\n'.join(x))\\\n",
    "    .to_frame('chap_str')\n",
    "\n",
    "CHAPS_jacob['chap_str'] = CHAPS_jacob.chap_str.str.strip()"
   ]
  },
  {
   "cell_type": "markdown",
   "id": "ad5aaf43-75cb-4c49-b4d5-3d5d9b7f1fbf",
   "metadata": {},
   "source": [
    "dalloway:"
   ]
  },
  {
   "cell_type": "code",
   "execution_count": null,
   "id": "e17a206e-c52a-4584-beae-1ce54645d6d8",
   "metadata": {},
   "outputs": [],
   "source": []
  }
 ],
 "metadata": {
  "kernelspec": {
   "display_name": "Python 3 (ipykernel)",
   "language": "python",
   "name": "python3"
  },
  "language_info": {
   "codemirror_mode": {
    "name": "ipython",
    "version": 3
   },
   "file_extension": ".py",
   "mimetype": "text/x-python",
   "name": "python",
   "nbconvert_exporter": "python",
   "pygments_lexer": "ipython3",
   "version": "3.11.7"
  }
 },
 "nbformat": 4,
 "nbformat_minor": 5
}
